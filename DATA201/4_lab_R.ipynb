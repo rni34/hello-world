{
 "cells": [
  {
   "cell_type": "markdown",
   "metadata": {},
   "source": [
    "# Comma police"
   ]
  },
  {
   "cell_type": "markdown",
   "metadata": {},
   "source": [
    "One of the most widespread data storage format is the _comma separated value_ (csv) format.  \n",
    "The csv are tabular data: they are made of rows and columns. For the csv files to be good csv files, every rows must have the same number of columns; and conversely every column must have the same number of rows (yes, just as a good dataframe).  \n",
    "In general, though, there's nothing more than that: rows can be variable or observations, depending on who wrote the file.  \n",
    "The name _csv_ is given by the fact that each _value_ in a row is separated by a comma. And rows of value are separated by a break line.\n",
    "\n",
    "Comma separated value files are _plain text_ files: that means that you can open them with a simple text editor and see (and eventually, but don't do it!, edit) what's inside.\n",
    "\n",
    "In this lab we have one example here named \"addresses.csv\". You can open it in Jupyter Lab by double clicking on it. **Try that!**"
   ]
  },
  {
   "cell_type": "markdown",
   "metadata": {},
   "source": [
    "#### Question: what does it happen if you pick (in the Jupyter Lab viewer) a different delimeter?"
   ]
  },
  {
   "cell_type": "markdown",
   "metadata": {},
   "source": [
    "> your answer here."
   ]
  },
  {
   "cell_type": "markdown",
   "metadata": {},
   "source": [
    "Indeed, csv files are a particular example of a wider class of files, where values are separated by _some_ delimiter. Common ones are tab delimited files, often shortened to _.tsv_."
   ]
  },
  {
   "cell_type": "markdown",
   "metadata": {},
   "source": [
    "## Before we start"
   ]
  },
  {
   "cell_type": "markdown",
   "metadata": {},
   "source": [
    "If you want to read more about tidy data, and wide and long data, Hadley's book _Advanced R_ is THE place (he wrote the original paper). The relevant chapter is this one: http://r4ds.had.co.nz/tidy-data.html. Before the next lecture, to refresh about join operators, see this chapter: http://r4ds.had.co.nz/relational-data.html."
   ]
  },
  {
   "cell_type": "markdown",
   "metadata": {},
   "source": [
    "### Into R"
   ]
  },
  {
   "cell_type": "markdown",
   "metadata": {},
   "source": [
    "As almost always in this course, we are going to use the tidyverse!"
   ]
  },
  {
   "cell_type": "code",
   "execution_count": 7,
   "metadata": {},
   "outputs": [
    {
     "name": "stderr",
     "output_type": "stream",
     "text": [
      "── \u001b[1mAttaching packages\u001b[22m ─────────────────────────────────────── tidyverse 1.2.1 ──\n",
      "\u001b[32m✔\u001b[39m \u001b[34mggplot2\u001b[39m 3.2.0     \u001b[32m✔\u001b[39m \u001b[34mpurrr  \u001b[39m 0.3.2\n",
      "\u001b[32m✔\u001b[39m \u001b[34mtibble \u001b[39m 2.1.3     \u001b[32m✔\u001b[39m \u001b[34mdplyr  \u001b[39m 0.8.3\n",
      "\u001b[32m✔\u001b[39m \u001b[34mtidyr  \u001b[39m 0.8.3     \u001b[32m✔\u001b[39m \u001b[34mstringr\u001b[39m 1.4.0\n",
      "\u001b[32m✔\u001b[39m \u001b[34mreadr  \u001b[39m 1.3.1     \u001b[32m✔\u001b[39m \u001b[34mforcats\u001b[39m 0.4.0\n",
      "── \u001b[1mConflicts\u001b[22m ────────────────────────────────────────── tidyverse_conflicts() ──\n",
      "\u001b[31m✖\u001b[39m \u001b[34mdplyr\u001b[39m::\u001b[32mfilter()\u001b[39m masks \u001b[34mstats\u001b[39m::filter()\n",
      "\u001b[31m✖\u001b[39m \u001b[34mdplyr\u001b[39m::\u001b[32mlag()\u001b[39m    masks \u001b[34mstats\u001b[39m::lag()\n"
     ]
    }
   ],
   "source": [
    "library(tidyverse)"
   ]
  },
  {
   "cell_type": "markdown",
   "metadata": {},
   "source": [
    "To read in a csv file, there's a dedicated function: `read_csv()`. Its output is a dataframe. Let's see, and **do read the red messages**.\n",
    "\n",
    "### NOTICE we are using read_csv, not read.csv, that is underscore (\"\\_\") not dot (\"\\.\")."
   ]
  },
  {
   "cell_type": "code",
   "execution_count": null,
   "metadata": {},
   "outputs": [],
   "source": [
    "addresses <- read_csv(file = \"addresses.csv\") \n",
    "\n",
    "addresses"
   ]
  },
  {
   "cell_type": "markdown",
   "metadata": {},
   "source": [
    "Well, it looks quite the same thing we have seen opening the file with Jupyter Lab.  \n",
    "So, what about that first row? It does not really look it's the name of variable, the _header_, rather just on row in the dataframe.  \n",
    "We can tell `read_csv()` that the first row is just like the other setting the argument `col_names` to false."
   ]
  },
  {
   "cell_type": "code",
   "execution_count": null,
   "metadata": {},
   "outputs": [],
   "source": [
    "addresses <- \"addresses.csv\" %>%\n",
    "              read_csv(col_names = FALSE) \n",
    "\n",
    "addresses"
   ]
  },
  {
   "cell_type": "markdown",
   "metadata": {},
   "source": [
    "That's better: all the rows of data are in the dataframe. But the name of the variable are really not informative.\n",
    "\n",
    "Sometimes you can read the names from a _data dictionary_ (a text file where the authors present the data, the way it is collected, the meaning of each variable). Sometimes you need to \"invent\" them for yourself."
   ]
  },
  {
   "cell_type": "code",
   "execution_count": null,
   "metadata": {},
   "outputs": [],
   "source": [
    "names_variables <- c(\"first_name\", \"family_name\", \"street_address\", \"town\", \"state\", \"zip_code\")\n",
    "\n",
    "addresses <-  \"addresses.csv\" %>%\n",
    "               read_csv(col_names = names_variables) \n",
    "\n",
    "addresses"
   ]
  },
  {
   "cell_type": "markdown",
   "metadata": {},
   "source": [
    "Try again giving different names."
   ]
  },
  {
   "cell_type": "code",
   "execution_count": null,
   "metadata": {},
   "outputs": [],
   "source": [
    "# your code here."
   ]
  },
  {
   "cell_type": "markdown",
   "metadata": {},
   "source": [
    "### Col types\n",
    "\n",
    "Not all columns are the same stuff. Just by looking at the code, what do you expect the type of the data for each column to be?"
   ]
  },
  {
   "cell_type": "markdown",
   "metadata": {},
   "source": [
    "> your answer here."
   ]
  },
  {
   "cell_type": "markdown",
   "metadata": {},
   "source": [
    "Now compare your previous answer with the type of the data in the columns that you can discover using, for example, `glimpse()`."
   ]
  },
  {
   "cell_type": "code",
   "execution_count": null,
   "metadata": {},
   "outputs": [],
   "source": [
    "# your code here."
   ]
  },
  {
   "cell_type": "markdown",
   "metadata": {},
   "source": [
    "Is it the same?"
   ]
  },
  {
   "cell_type": "markdown",
   "metadata": {},
   "source": [
    "> your answer here."
   ]
  },
  {
   "cell_type": "markdown",
   "metadata": {},
   "source": [
    "Well, there was one column which may have confused you: the zip code. Those looks like numbers, integers to be specific.  \n",
    "\n",
    "Yet some of them have zeros in front of the other digits. For an integer, that should not be a big problem, we can understand how to read the following number:"
   ]
  },
  {
   "cell_type": "code",
   "execution_count": null,
   "metadata": {},
   "outputs": [],
   "source": [
    "0019"
   ]
  },
  {
   "cell_type": "markdown",
   "metadata": {},
   "source": [
    "Yet, `readr` is more careful. Instead of risking an error forcing stuff to be a number when it was not, it parses `0019` as _characters_:"
   ]
  },
  {
   "cell_type": "code",
   "execution_count": null,
   "metadata": {},
   "outputs": [],
   "source": [
    "\"0019\""
   ]
  },
  {
   "cell_type": "markdown",
   "metadata": {},
   "source": [
    "We can have a preview of what kind of object `read_csv()` will produce by using `guess_parser()`. Consider the following examples."
   ]
  },
  {
   "cell_type": "code",
   "execution_count": 8,
   "metadata": {},
   "outputs": [
    {
     "data": {
      "text/html": [
       "'character'"
      ],
      "text/latex": [
       "'character'"
      ],
      "text/markdown": [
       "'character'"
      ],
      "text/plain": [
       "[1] \"character\""
      ]
     },
     "metadata": {},
     "output_type": "display_data"
    },
    {
     "data": {
      "text/html": [
       "'double'"
      ],
      "text/latex": [
       "'double'"
      ],
      "text/markdown": [
       "'double'"
      ],
      "text/plain": [
       "[1] \"double\""
      ]
     },
     "metadata": {},
     "output_type": "display_data"
    },
    {
     "data": {
      "text/html": [
       "'double'"
      ],
      "text/latex": [
       "'double'"
      ],
      "text/markdown": [
       "'double'"
      ],
      "text/plain": [
       "[1] \"double\""
      ]
     },
     "metadata": {},
     "output_type": "display_data"
    },
    {
     "data": {
      "text/html": [
       "'number'"
      ],
      "text/latex": [
       "'number'"
      ],
      "text/markdown": [
       "'number'"
      ],
      "text/plain": [
       "[1] \"number\""
      ]
     },
     "metadata": {},
     "output_type": "display_data"
    },
    {
     "data": {
      "text/html": [
       "'date'"
      ],
      "text/latex": [
       "'date'"
      ],
      "text/markdown": [
       "'date'"
      ],
      "text/plain": [
       "[1] \"date\""
      ]
     },
     "metadata": {},
     "output_type": "display_data"
    },
    {
     "data": {
      "text/html": [
       "'date'"
      ],
      "text/latex": [
       "'date'"
      ],
      "text/markdown": [
       "'date'"
      ],
      "text/plain": [
       "[1] \"date\""
      ]
     },
     "metadata": {},
     "output_type": "display_data"
    }
   ],
   "source": [
    "\"0019\" %>% guess_parser()\n",
    "\"19\" %>% guess_parser()\n",
    "\"1.9\" %>% guess_parser()\n",
    "\"1,9\" %>% guess_parser()\n",
    "\"1900-03-01\" %>% guess_parser()\n",
    "\"1900-33-33\" %>% guess_parser()"
   ]
  },
  {
   "cell_type": "markdown",
   "metadata": {},
   "source": [
    "`readr` tries to guess the type of the values it reads in a file, but he does not ALWAYS get it right. Moreover, it does not guess after having read _all_ the rows (that would be inefficient). It reads only a certain number of them, and then guesses and reads the other rows hoping that they are of the same type.\n",
    "\n",
    "To be rigorous: it guesses the _schema_ (do you remember from the first lecture?) and then uses it to read efficiently the csv. `read_csv()` can read stuff from a file on your hard drive or from the web. It can even read compressed (zipped) files without any trouble (if they are in good shape). In general, if something is not *surely* of some other kind, it gets parsed as character."
   ]
  },
  {
   "cell_type": "code",
   "execution_count": 9,
   "metadata": {},
   "outputs": [
    {
     "name": "stderr",
     "output_type": "stream",
     "text": [
      "Parsed with column specification:\n",
      "cols(\n",
      "  Year = \u001b[32mcol_double()\u001b[39m,\n",
      "  Industry_aggregation_NZSIOC = \u001b[31mcol_character()\u001b[39m,\n",
      "  Industry_code_NZSIOC = \u001b[31mcol_character()\u001b[39m,\n",
      "  Industry_name_NZSIOC = \u001b[31mcol_character()\u001b[39m,\n",
      "  Units = \u001b[31mcol_character()\u001b[39m,\n",
      "  Variable_code = \u001b[31mcol_character()\u001b[39m,\n",
      "  Variable_name = \u001b[31mcol_character()\u001b[39m,\n",
      "  Variable_category = \u001b[31mcol_character()\u001b[39m,\n",
      "  Value = \u001b[31mcol_character()\u001b[39m,\n",
      "  Industry_code_ANZSIC06 = \u001b[31mcol_character()\u001b[39m\n",
      ")\n"
     ]
    }
   ],
   "source": [
    "url_enterprise_survey <- \"https://www.stats.govt.nz/assets/Uploads/Annual-enterprise-survey/Annual-enterprise-survey-2017-financial-year-provisional/Download-data/annual-enterprise-survey-2017-financial-year-provisional-csv.csv\"\n",
    "\n",
    "enterprise_survey <- read_csv(url_enterprise_survey)"
   ]
  },
  {
   "cell_type": "code",
   "execution_count": 10,
   "metadata": {},
   "outputs": [
    {
     "data": {
      "text/html": [
       "<table>\n",
       "<caption>A spec_tbl_df: 5 × 10</caption>\n",
       "<thead>\n",
       "\t<tr><th scope=col>Year</th><th scope=col>Industry_aggregation_NZSIOC</th><th scope=col>Industry_code_NZSIOC</th><th scope=col>Industry_name_NZSIOC</th><th scope=col>Units</th><th scope=col>Variable_code</th><th scope=col>Variable_name</th><th scope=col>Variable_category</th><th scope=col>Value</th><th scope=col>Industry_code_ANZSIC06</th></tr>\n",
       "\t<tr><th scope=col>&lt;dbl&gt;</th><th scope=col>&lt;chr&gt;</th><th scope=col>&lt;chr&gt;</th><th scope=col>&lt;chr&gt;</th><th scope=col>&lt;chr&gt;</th><th scope=col>&lt;chr&gt;</th><th scope=col>&lt;chr&gt;</th><th scope=col>&lt;chr&gt;</th><th scope=col>&lt;chr&gt;</th><th scope=col>&lt;chr&gt;</th></tr>\n",
       "</thead>\n",
       "<tbody>\n",
       "\t<tr><td>2013</td><td>Level 4</td><td>CC531</td><td>Polymer Product and Rubber Product Manufacturing</td><td>Dollars (millions)</td><td>H21</td><td>Opening stocks                   </td><td>Financial performance</td><td>509   </td><td>ANZSIC06 groups C191 and C192             </td></tr>\n",
       "\t<tr><td>2017</td><td>Level 3</td><td>AA21 </td><td>Forestry and Logging                            </td><td>Dollars (millions)</td><td>H11</td><td>Depreciation                     </td><td>Financial performance</td><td>156   </td><td>ANZSIC06 group A030                       </td></tr>\n",
       "\t<tr><td>2013</td><td>Level 3</td><td>CC71 </td><td>Primary Metal and Metal Product Manufacturing   </td><td>Dollars (millions)</td><td>H24</td><td>Total assets                     </td><td>Financial position   </td><td>2940  </td><td>ANZSIC06 groups C211, C212, C213, and C214</td></tr>\n",
       "\t<tr><td>2017</td><td>Level 4</td><td>FF115</td><td>Other Goods Wholesaling                         </td><td>Dollars           </td><td>H34</td><td>Total income per employee count  </td><td>Financial ratios     </td><td>633900</td><td>ANZSIC06 groups F371, F372, and F373      </td></tr>\n",
       "\t<tr><td>2013</td><td>Level 3</td><td>II11 </td><td>Road Transport                                  </td><td>Dollars (millions)</td><td>H05</td><td>Interest, dividends and donations</td><td>Financial performance</td><td>71    </td><td>ANZSIC06 groups I461 and I462             </td></tr>\n",
       "</tbody>\n",
       "</table>\n"
      ],
      "text/latex": [
       "A spec_tbl_df: 5 × 10\n",
       "\\begin{tabular}{r|llllllllll}\n",
       " Year & Industry\\_aggregation\\_NZSIOC & Industry\\_code\\_NZSIOC & Industry\\_name\\_NZSIOC & Units & Variable\\_code & Variable\\_name & Variable\\_category & Value & Industry\\_code\\_ANZSIC06\\\\\n",
       " <dbl> & <chr> & <chr> & <chr> & <chr> & <chr> & <chr> & <chr> & <chr> & <chr>\\\\\n",
       "\\hline\n",
       "\t 2013 & Level 4 & CC531 & Polymer Product and Rubber Product Manufacturing & Dollars (millions) & H21 & Opening stocks                    & Financial performance & 509    & ANZSIC06 groups C191 and C192             \\\\\n",
       "\t 2017 & Level 3 & AA21  & Forestry and Logging                             & Dollars (millions) & H11 & Depreciation                      & Financial performance & 156    & ANZSIC06 group A030                       \\\\\n",
       "\t 2013 & Level 3 & CC71  & Primary Metal and Metal Product Manufacturing    & Dollars (millions) & H24 & Total assets                      & Financial position    & 2940   & ANZSIC06 groups C211, C212, C213, and C214\\\\\n",
       "\t 2017 & Level 4 & FF115 & Other Goods Wholesaling                          & Dollars            & H34 & Total income per employee count   & Financial ratios      & 633900 & ANZSIC06 groups F371, F372, and F373      \\\\\n",
       "\t 2013 & Level 3 & II11  & Road Transport                                   & Dollars (millions) & H05 & Interest, dividends and donations & Financial performance & 71     & ANZSIC06 groups I461 and I462             \\\\\n",
       "\\end{tabular}\n"
      ],
      "text/markdown": [
       "\n",
       "A spec_tbl_df: 5 × 10\n",
       "\n",
       "| Year &lt;dbl&gt; | Industry_aggregation_NZSIOC &lt;chr&gt; | Industry_code_NZSIOC &lt;chr&gt; | Industry_name_NZSIOC &lt;chr&gt; | Units &lt;chr&gt; | Variable_code &lt;chr&gt; | Variable_name &lt;chr&gt; | Variable_category &lt;chr&gt; | Value &lt;chr&gt; | Industry_code_ANZSIC06 &lt;chr&gt; |\n",
       "|---|---|---|---|---|---|---|---|---|---|\n",
       "| 2013 | Level 4 | CC531 | Polymer Product and Rubber Product Manufacturing | Dollars (millions) | H21 | Opening stocks                    | Financial performance | 509    | ANZSIC06 groups C191 and C192              |\n",
       "| 2017 | Level 3 | AA21  | Forestry and Logging                             | Dollars (millions) | H11 | Depreciation                      | Financial performance | 156    | ANZSIC06 group A030                        |\n",
       "| 2013 | Level 3 | CC71  | Primary Metal and Metal Product Manufacturing    | Dollars (millions) | H24 | Total assets                      | Financial position    | 2940   | ANZSIC06 groups C211, C212, C213, and C214 |\n",
       "| 2017 | Level 4 | FF115 | Other Goods Wholesaling                          | Dollars            | H34 | Total income per employee count   | Financial ratios      | 633900 | ANZSIC06 groups F371, F372, and F373       |\n",
       "| 2013 | Level 3 | II11  | Road Transport                                   | Dollars (millions) | H05 | Interest, dividends and donations | Financial performance | 71     | ANZSIC06 groups I461 and I462              |\n",
       "\n"
      ],
      "text/plain": [
       "  Year Industry_aggregation_NZSIOC Industry_code_NZSIOC\n",
       "1 2013 Level 4                     CC531               \n",
       "2 2017 Level 3                     AA21                \n",
       "3 2013 Level 3                     CC71                \n",
       "4 2017 Level 4                     FF115               \n",
       "5 2013 Level 3                     II11                \n",
       "  Industry_name_NZSIOC                             Units             \n",
       "1 Polymer Product and Rubber Product Manufacturing Dollars (millions)\n",
       "2 Forestry and Logging                             Dollars (millions)\n",
       "3 Primary Metal and Metal Product Manufacturing    Dollars (millions)\n",
       "4 Other Goods Wholesaling                          Dollars           \n",
       "5 Road Transport                                   Dollars (millions)\n",
       "  Variable_code Variable_name                     Variable_category     Value \n",
       "1 H21           Opening stocks                    Financial performance 509   \n",
       "2 H11           Depreciation                      Financial performance 156   \n",
       "3 H24           Total assets                      Financial position    2940  \n",
       "4 H34           Total income per employee count   Financial ratios      633900\n",
       "5 H05           Interest, dividends and donations Financial performance 71    \n",
       "  Industry_code_ANZSIC06                    \n",
       "1 ANZSIC06 groups C191 and C192             \n",
       "2 ANZSIC06 group A030                       \n",
       "3 ANZSIC06 groups C211, C212, C213, and C214\n",
       "4 ANZSIC06 groups F371, F372, and F373      \n",
       "5 ANZSIC06 groups I461 and I462             "
      ]
     },
     "metadata": {},
     "output_type": "display_data"
    }
   ],
   "source": [
    "enterprise_survey %>% sample_n(5)"
   ]
  },
  {
   "cell_type": "markdown",
   "metadata": {},
   "source": [
    "### Your turn\n",
    "\n",
    "Read something from the stats nz website:  https://www.stats.govt.nz/large-datasets/csv-files-for-download"
   ]
  },
  {
   "cell_type": "code",
   "execution_count": null,
   "metadata": {},
   "outputs": [],
   "source": [
    "# your code here."
   ]
  },
  {
   "cell_type": "markdown",
   "metadata": {},
   "source": [
    "## When things go bad"
   ]
  },
  {
   "cell_type": "markdown",
   "metadata": {},
   "source": [
    "Yet, this can go wrong sometimes. In the two following examples we will encouter some issue and work out if we can safely ignore them or we need to correct them. Remember, the decision depends on what data you are working on and for what purpose.  \n",
    "Somebody else working on our examples may come to a different conclusion."
   ]
  },
  {
   "cell_type": "markdown",
   "metadata": {},
   "source": [
    "### Example 1\n",
    "\n",
    "Let's try with a big and wild csv from https://www.stats.govt.nz/large-datasets/csv-files-for-download/:\n",
    "\n",
    "`Overseas trade index: March 2019 quarter (provisional) – CSV.`\n",
    "\n",
    "Refer to the website to discover the meaning of the variables!"
   ]
  },
  {
   "cell_type": "code",
   "execution_count": 11,
   "metadata": {},
   "outputs": [
    {
     "name": "stderr",
     "output_type": "stream",
     "text": [
      "Parsed with column specification:\n",
      "cols(\n",
      "  Series_reference = \u001b[31mcol_character()\u001b[39m,\n",
      "  Period = \u001b[32mcol_double()\u001b[39m,\n",
      "  Data_value = \u001b[32mcol_double()\u001b[39m,\n",
      "  STATUS = \u001b[31mcol_character()\u001b[39m,\n",
      "  UNITS = \u001b[31mcol_character()\u001b[39m,\n",
      "  MAGNTUDE = \u001b[32mcol_double()\u001b[39m,\n",
      "  Subject = \u001b[31mcol_character()\u001b[39m,\n",
      "  Group = \u001b[31mcol_character()\u001b[39m,\n",
      "  Series_title_1 = \u001b[31mcol_character()\u001b[39m,\n",
      "  Series_title_2 = \u001b[31mcol_character()\u001b[39m,\n",
      "  Series_title_3 = \u001b[31mcol_character()\u001b[39m,\n",
      "  Series_title_4 = \u001b[33mcol_logical()\u001b[39m,\n",
      "  Series_title_5 = \u001b[33mcol_logical()\u001b[39m\n",
      ")\n",
      "Warning message:\n",
      "“15866 parsing failures.\n",
      "  row            col           expected              actual                                                                                                                                                                                                                                    file\n",
      "29956 Series_title_4 1/0/T/F/TRUE/FALSE Seasonally adjusted 'https://www.stats.govt.nz/assets/Uploads/Overseas-trade-indexes-prices-and-volumes/Overseas-trade-indexes-prices-and-volumes-March-2019-quarter-provisional/Download-data/overseas-trade-index-march-2019-quarter-provisional-csv.csv'\n",
      "29957 Series_title_4 1/0/T/F/TRUE/FALSE Seasonally adjusted 'https://www.stats.govt.nz/assets/Uploads/Overseas-trade-indexes-prices-and-volumes/Overseas-trade-indexes-prices-and-volumes-March-2019-quarter-provisional/Download-data/overseas-trade-index-march-2019-quarter-provisional-csv.csv'\n",
      "29958 Series_title_4 1/0/T/F/TRUE/FALSE Seasonally adjusted 'https://www.stats.govt.nz/assets/Uploads/Overseas-trade-indexes-prices-and-volumes/Overseas-trade-indexes-prices-and-volumes-March-2019-quarter-provisional/Download-data/overseas-trade-index-march-2019-quarter-provisional-csv.csv'\n",
      "29959 Series_title_4 1/0/T/F/TRUE/FALSE Seasonally adjusted 'https://www.stats.govt.nz/assets/Uploads/Overseas-trade-indexes-prices-and-volumes/Overseas-trade-indexes-prices-and-volumes-March-2019-quarter-provisional/Download-data/overseas-trade-index-march-2019-quarter-provisional-csv.csv'\n",
      "29960 Series_title_4 1/0/T/F/TRUE/FALSE Seasonally adjusted 'https://www.stats.govt.nz/assets/Uploads/Overseas-trade-indexes-prices-and-volumes/Overseas-trade-indexes-prices-and-volumes-March-2019-quarter-provisional/Download-data/overseas-trade-index-march-2019-quarter-provisional-csv.csv'\n",
      "..... .............. .................. ................... .......................................................................................................................................................................................................................................\n",
      "See problems(...) for more details.\n",
      "”"
     ]
    }
   ],
   "source": [
    "Overseas_ti <- \"https://www.stats.govt.nz/assets/Uploads/Overseas-trade-indexes-prices-and-volumes/Overseas-trade-indexes-prices-and-volumes-March-2019-quarter-provisional/Download-data/overseas-trade-index-march-2019-quarter-provisional-csv.csv\"\n",
    "\n",
    "Overseas_ti <- Overseas_ti %>% read_csv()"
   ]
  },
  {
   "cell_type": "markdown",
   "metadata": {},
   "source": [
    "That's a lot of red in the screen!  \n",
    "We have 158666 parsing failures.  Not bad.  \n",
    "Let's try to understand what's going on. We are suggested us to use `problems()` for more details. Let's do it."
   ]
  },
  {
   "cell_type": "code",
   "execution_count": 12,
   "metadata": {},
   "outputs": [
    {
     "data": {
      "text/html": [
       "<table>\n",
       "<caption>A tibble: 10 × 5</caption>\n",
       "<thead>\n",
       "\t<tr><th scope=col>row</th><th scope=col>col</th><th scope=col>expected</th><th scope=col>actual</th><th scope=col>file</th></tr>\n",
       "\t<tr><th scope=col>&lt;int&gt;</th><th scope=col>&lt;chr&gt;</th><th scope=col>&lt;chr&gt;</th><th scope=col>&lt;chr&gt;</th><th scope=col>&lt;chr&gt;</th></tr>\n",
       "</thead>\n",
       "<tbody>\n",
       "\t<tr><td>29956</td><td>Series_title_4</td><td>1/0/T/F/TRUE/FALSE</td><td>Seasonally adjusted</td><td>'https://www.stats.govt.nz/assets/Uploads/Overseas-trade-indexes-prices-and-volumes/Overseas-trade-indexes-prices-and-volumes-March-2019-quarter-provisional/Download-data/overseas-trade-index-march-2019-quarter-provisional-csv.csv'</td></tr>\n",
       "\t<tr><td>29957</td><td>Series_title_4</td><td>1/0/T/F/TRUE/FALSE</td><td>Seasonally adjusted</td><td>'https://www.stats.govt.nz/assets/Uploads/Overseas-trade-indexes-prices-and-volumes/Overseas-trade-indexes-prices-and-volumes-March-2019-quarter-provisional/Download-data/overseas-trade-index-march-2019-quarter-provisional-csv.csv'</td></tr>\n",
       "\t<tr><td>29958</td><td>Series_title_4</td><td>1/0/T/F/TRUE/FALSE</td><td>Seasonally adjusted</td><td>'https://www.stats.govt.nz/assets/Uploads/Overseas-trade-indexes-prices-and-volumes/Overseas-trade-indexes-prices-and-volumes-March-2019-quarter-provisional/Download-data/overseas-trade-index-march-2019-quarter-provisional-csv.csv'</td></tr>\n",
       "\t<tr><td>29959</td><td>Series_title_4</td><td>1/0/T/F/TRUE/FALSE</td><td>Seasonally adjusted</td><td>'https://www.stats.govt.nz/assets/Uploads/Overseas-trade-indexes-prices-and-volumes/Overseas-trade-indexes-prices-and-volumes-March-2019-quarter-provisional/Download-data/overseas-trade-index-march-2019-quarter-provisional-csv.csv'</td></tr>\n",
       "\t<tr><td>29960</td><td>Series_title_4</td><td>1/0/T/F/TRUE/FALSE</td><td>Seasonally adjusted</td><td>'https://www.stats.govt.nz/assets/Uploads/Overseas-trade-indexes-prices-and-volumes/Overseas-trade-indexes-prices-and-volumes-March-2019-quarter-provisional/Download-data/overseas-trade-index-march-2019-quarter-provisional-csv.csv'</td></tr>\n",
       "\t<tr><td>29961</td><td>Series_title_4</td><td>1/0/T/F/TRUE/FALSE</td><td>Seasonally adjusted</td><td>'https://www.stats.govt.nz/assets/Uploads/Overseas-trade-indexes-prices-and-volumes/Overseas-trade-indexes-prices-and-volumes-March-2019-quarter-provisional/Download-data/overseas-trade-index-march-2019-quarter-provisional-csv.csv'</td></tr>\n",
       "\t<tr><td>29962</td><td>Series_title_4</td><td>1/0/T/F/TRUE/FALSE</td><td>Seasonally adjusted</td><td>'https://www.stats.govt.nz/assets/Uploads/Overseas-trade-indexes-prices-and-volumes/Overseas-trade-indexes-prices-and-volumes-March-2019-quarter-provisional/Download-data/overseas-trade-index-march-2019-quarter-provisional-csv.csv'</td></tr>\n",
       "\t<tr><td>29963</td><td>Series_title_4</td><td>1/0/T/F/TRUE/FALSE</td><td>Seasonally adjusted</td><td>'https://www.stats.govt.nz/assets/Uploads/Overseas-trade-indexes-prices-and-volumes/Overseas-trade-indexes-prices-and-volumes-March-2019-quarter-provisional/Download-data/overseas-trade-index-march-2019-quarter-provisional-csv.csv'</td></tr>\n",
       "\t<tr><td>29964</td><td>Series_title_4</td><td>1/0/T/F/TRUE/FALSE</td><td>Seasonally adjusted</td><td>'https://www.stats.govt.nz/assets/Uploads/Overseas-trade-indexes-prices-and-volumes/Overseas-trade-indexes-prices-and-volumes-March-2019-quarter-provisional/Download-data/overseas-trade-index-march-2019-quarter-provisional-csv.csv'</td></tr>\n",
       "\t<tr><td>29965</td><td>Series_title_4</td><td>1/0/T/F/TRUE/FALSE</td><td>Seasonally adjusted</td><td>'https://www.stats.govt.nz/assets/Uploads/Overseas-trade-indexes-prices-and-volumes/Overseas-trade-indexes-prices-and-volumes-March-2019-quarter-provisional/Download-data/overseas-trade-index-march-2019-quarter-provisional-csv.csv'</td></tr>\n",
       "</tbody>\n",
       "</table>\n"
      ],
      "text/latex": [
       "A tibble: 10 × 5\n",
       "\\begin{tabular}{r|lllll}\n",
       " row & col & expected & actual & file\\\\\n",
       " <int> & <chr> & <chr> & <chr> & <chr>\\\\\n",
       "\\hline\n",
       "\t 29956 & Series\\_title\\_4 & 1/0/T/F/TRUE/FALSE & Seasonally adjusted & 'https://www.stats.govt.nz/assets/Uploads/Overseas-trade-indexes-prices-and-volumes/Overseas-trade-indexes-prices-and-volumes-March-2019-quarter-provisional/Download-data/overseas-trade-index-march-2019-quarter-provisional-csv.csv'\\\\\n",
       "\t 29957 & Series\\_title\\_4 & 1/0/T/F/TRUE/FALSE & Seasonally adjusted & 'https://www.stats.govt.nz/assets/Uploads/Overseas-trade-indexes-prices-and-volumes/Overseas-trade-indexes-prices-and-volumes-March-2019-quarter-provisional/Download-data/overseas-trade-index-march-2019-quarter-provisional-csv.csv'\\\\\n",
       "\t 29958 & Series\\_title\\_4 & 1/0/T/F/TRUE/FALSE & Seasonally adjusted & 'https://www.stats.govt.nz/assets/Uploads/Overseas-trade-indexes-prices-and-volumes/Overseas-trade-indexes-prices-and-volumes-March-2019-quarter-provisional/Download-data/overseas-trade-index-march-2019-quarter-provisional-csv.csv'\\\\\n",
       "\t 29959 & Series\\_title\\_4 & 1/0/T/F/TRUE/FALSE & Seasonally adjusted & 'https://www.stats.govt.nz/assets/Uploads/Overseas-trade-indexes-prices-and-volumes/Overseas-trade-indexes-prices-and-volumes-March-2019-quarter-provisional/Download-data/overseas-trade-index-march-2019-quarter-provisional-csv.csv'\\\\\n",
       "\t 29960 & Series\\_title\\_4 & 1/0/T/F/TRUE/FALSE & Seasonally adjusted & 'https://www.stats.govt.nz/assets/Uploads/Overseas-trade-indexes-prices-and-volumes/Overseas-trade-indexes-prices-and-volumes-March-2019-quarter-provisional/Download-data/overseas-trade-index-march-2019-quarter-provisional-csv.csv'\\\\\n",
       "\t 29961 & Series\\_title\\_4 & 1/0/T/F/TRUE/FALSE & Seasonally adjusted & 'https://www.stats.govt.nz/assets/Uploads/Overseas-trade-indexes-prices-and-volumes/Overseas-trade-indexes-prices-and-volumes-March-2019-quarter-provisional/Download-data/overseas-trade-index-march-2019-quarter-provisional-csv.csv'\\\\\n",
       "\t 29962 & Series\\_title\\_4 & 1/0/T/F/TRUE/FALSE & Seasonally adjusted & 'https://www.stats.govt.nz/assets/Uploads/Overseas-trade-indexes-prices-and-volumes/Overseas-trade-indexes-prices-and-volumes-March-2019-quarter-provisional/Download-data/overseas-trade-index-march-2019-quarter-provisional-csv.csv'\\\\\n",
       "\t 29963 & Series\\_title\\_4 & 1/0/T/F/TRUE/FALSE & Seasonally adjusted & 'https://www.stats.govt.nz/assets/Uploads/Overseas-trade-indexes-prices-and-volumes/Overseas-trade-indexes-prices-and-volumes-March-2019-quarter-provisional/Download-data/overseas-trade-index-march-2019-quarter-provisional-csv.csv'\\\\\n",
       "\t 29964 & Series\\_title\\_4 & 1/0/T/F/TRUE/FALSE & Seasonally adjusted & 'https://www.stats.govt.nz/assets/Uploads/Overseas-trade-indexes-prices-and-volumes/Overseas-trade-indexes-prices-and-volumes-March-2019-quarter-provisional/Download-data/overseas-trade-index-march-2019-quarter-provisional-csv.csv'\\\\\n",
       "\t 29965 & Series\\_title\\_4 & 1/0/T/F/TRUE/FALSE & Seasonally adjusted & 'https://www.stats.govt.nz/assets/Uploads/Overseas-trade-indexes-prices-and-volumes/Overseas-trade-indexes-prices-and-volumes-March-2019-quarter-provisional/Download-data/overseas-trade-index-march-2019-quarter-provisional-csv.csv'\\\\\n",
       "\\end{tabular}\n"
      ],
      "text/markdown": [
       "\n",
       "A tibble: 10 × 5\n",
       "\n",
       "| row &lt;int&gt; | col &lt;chr&gt; | expected &lt;chr&gt; | actual &lt;chr&gt; | file &lt;chr&gt; |\n",
       "|---|---|---|---|---|\n",
       "| 29956 | Series_title_4 | 1/0/T/F/TRUE/FALSE | Seasonally adjusted | 'https://www.stats.govt.nz/assets/Uploads/Overseas-trade-indexes-prices-and-volumes/Overseas-trade-indexes-prices-and-volumes-March-2019-quarter-provisional/Download-data/overseas-trade-index-march-2019-quarter-provisional-csv.csv' |\n",
       "| 29957 | Series_title_4 | 1/0/T/F/TRUE/FALSE | Seasonally adjusted | 'https://www.stats.govt.nz/assets/Uploads/Overseas-trade-indexes-prices-and-volumes/Overseas-trade-indexes-prices-and-volumes-March-2019-quarter-provisional/Download-data/overseas-trade-index-march-2019-quarter-provisional-csv.csv' |\n",
       "| 29958 | Series_title_4 | 1/0/T/F/TRUE/FALSE | Seasonally adjusted | 'https://www.stats.govt.nz/assets/Uploads/Overseas-trade-indexes-prices-and-volumes/Overseas-trade-indexes-prices-and-volumes-March-2019-quarter-provisional/Download-data/overseas-trade-index-march-2019-quarter-provisional-csv.csv' |\n",
       "| 29959 | Series_title_4 | 1/0/T/F/TRUE/FALSE | Seasonally adjusted | 'https://www.stats.govt.nz/assets/Uploads/Overseas-trade-indexes-prices-and-volumes/Overseas-trade-indexes-prices-and-volumes-March-2019-quarter-provisional/Download-data/overseas-trade-index-march-2019-quarter-provisional-csv.csv' |\n",
       "| 29960 | Series_title_4 | 1/0/T/F/TRUE/FALSE | Seasonally adjusted | 'https://www.stats.govt.nz/assets/Uploads/Overseas-trade-indexes-prices-and-volumes/Overseas-trade-indexes-prices-and-volumes-March-2019-quarter-provisional/Download-data/overseas-trade-index-march-2019-quarter-provisional-csv.csv' |\n",
       "| 29961 | Series_title_4 | 1/0/T/F/TRUE/FALSE | Seasonally adjusted | 'https://www.stats.govt.nz/assets/Uploads/Overseas-trade-indexes-prices-and-volumes/Overseas-trade-indexes-prices-and-volumes-March-2019-quarter-provisional/Download-data/overseas-trade-index-march-2019-quarter-provisional-csv.csv' |\n",
       "| 29962 | Series_title_4 | 1/0/T/F/TRUE/FALSE | Seasonally adjusted | 'https://www.stats.govt.nz/assets/Uploads/Overseas-trade-indexes-prices-and-volumes/Overseas-trade-indexes-prices-and-volumes-March-2019-quarter-provisional/Download-data/overseas-trade-index-march-2019-quarter-provisional-csv.csv' |\n",
       "| 29963 | Series_title_4 | 1/0/T/F/TRUE/FALSE | Seasonally adjusted | 'https://www.stats.govt.nz/assets/Uploads/Overseas-trade-indexes-prices-and-volumes/Overseas-trade-indexes-prices-and-volumes-March-2019-quarter-provisional/Download-data/overseas-trade-index-march-2019-quarter-provisional-csv.csv' |\n",
       "| 29964 | Series_title_4 | 1/0/T/F/TRUE/FALSE | Seasonally adjusted | 'https://www.stats.govt.nz/assets/Uploads/Overseas-trade-indexes-prices-and-volumes/Overseas-trade-indexes-prices-and-volumes-March-2019-quarter-provisional/Download-data/overseas-trade-index-march-2019-quarter-provisional-csv.csv' |\n",
       "| 29965 | Series_title_4 | 1/0/T/F/TRUE/FALSE | Seasonally adjusted | 'https://www.stats.govt.nz/assets/Uploads/Overseas-trade-indexes-prices-and-volumes/Overseas-trade-indexes-prices-and-volumes-March-2019-quarter-provisional/Download-data/overseas-trade-index-march-2019-quarter-provisional-csv.csv' |\n",
       "\n"
      ],
      "text/plain": [
       "   row   col            expected           actual             \n",
       "1  29956 Series_title_4 1/0/T/F/TRUE/FALSE Seasonally adjusted\n",
       "2  29957 Series_title_4 1/0/T/F/TRUE/FALSE Seasonally adjusted\n",
       "3  29958 Series_title_4 1/0/T/F/TRUE/FALSE Seasonally adjusted\n",
       "4  29959 Series_title_4 1/0/T/F/TRUE/FALSE Seasonally adjusted\n",
       "5  29960 Series_title_4 1/0/T/F/TRUE/FALSE Seasonally adjusted\n",
       "6  29961 Series_title_4 1/0/T/F/TRUE/FALSE Seasonally adjusted\n",
       "7  29962 Series_title_4 1/0/T/F/TRUE/FALSE Seasonally adjusted\n",
       "8  29963 Series_title_4 1/0/T/F/TRUE/FALSE Seasonally adjusted\n",
       "9  29964 Series_title_4 1/0/T/F/TRUE/FALSE Seasonally adjusted\n",
       "10 29965 Series_title_4 1/0/T/F/TRUE/FALSE Seasonally adjusted\n",
       "   file                                                                                                                                                                                                                                   \n",
       "1  'https://www.stats.govt.nz/assets/Uploads/Overseas-trade-indexes-prices-and-volumes/Overseas-trade-indexes-prices-and-volumes-March-2019-quarter-provisional/Download-data/overseas-trade-index-march-2019-quarter-provisional-csv.csv'\n",
       "2  'https://www.stats.govt.nz/assets/Uploads/Overseas-trade-indexes-prices-and-volumes/Overseas-trade-indexes-prices-and-volumes-March-2019-quarter-provisional/Download-data/overseas-trade-index-march-2019-quarter-provisional-csv.csv'\n",
       "3  'https://www.stats.govt.nz/assets/Uploads/Overseas-trade-indexes-prices-and-volumes/Overseas-trade-indexes-prices-and-volumes-March-2019-quarter-provisional/Download-data/overseas-trade-index-march-2019-quarter-provisional-csv.csv'\n",
       "4  'https://www.stats.govt.nz/assets/Uploads/Overseas-trade-indexes-prices-and-volumes/Overseas-trade-indexes-prices-and-volumes-March-2019-quarter-provisional/Download-data/overseas-trade-index-march-2019-quarter-provisional-csv.csv'\n",
       "5  'https://www.stats.govt.nz/assets/Uploads/Overseas-trade-indexes-prices-and-volumes/Overseas-trade-indexes-prices-and-volumes-March-2019-quarter-provisional/Download-data/overseas-trade-index-march-2019-quarter-provisional-csv.csv'\n",
       "6  'https://www.stats.govt.nz/assets/Uploads/Overseas-trade-indexes-prices-and-volumes/Overseas-trade-indexes-prices-and-volumes-March-2019-quarter-provisional/Download-data/overseas-trade-index-march-2019-quarter-provisional-csv.csv'\n",
       "7  'https://www.stats.govt.nz/assets/Uploads/Overseas-trade-indexes-prices-and-volumes/Overseas-trade-indexes-prices-and-volumes-March-2019-quarter-provisional/Download-data/overseas-trade-index-march-2019-quarter-provisional-csv.csv'\n",
       "8  'https://www.stats.govt.nz/assets/Uploads/Overseas-trade-indexes-prices-and-volumes/Overseas-trade-indexes-prices-and-volumes-March-2019-quarter-provisional/Download-data/overseas-trade-index-march-2019-quarter-provisional-csv.csv'\n",
       "9  'https://www.stats.govt.nz/assets/Uploads/Overseas-trade-indexes-prices-and-volumes/Overseas-trade-indexes-prices-and-volumes-March-2019-quarter-provisional/Download-data/overseas-trade-index-march-2019-quarter-provisional-csv.csv'\n",
       "10 'https://www.stats.govt.nz/assets/Uploads/Overseas-trade-indexes-prices-and-volumes/Overseas-trade-indexes-prices-and-volumes-March-2019-quarter-provisional/Download-data/overseas-trade-index-march-2019-quarter-provisional-csv.csv'"
      ]
     },
     "metadata": {},
     "output_type": "display_data"
    }
   ],
   "source": [
    "Overseas_ti %>%\n",
    "  problems() %>%\n",
    "  head(10)"
   ]
  },
  {
   "cell_type": "markdown",
   "metadata": {},
   "source": [
    "At row 29956 and following `read_csv()` was expecting `1/0/T/F/TRUE/FALSE`, and if we look at the parsing information when we read, the last two columns are parsed as `Logical`. But what has it got? That look like a character?\n",
    "\n",
    "Notice, at this point we may want to observe some value around the problem. However, if you did take a look at the two suspected columns, they are empty. We would need to look at the original file! You can do that in different way, one is by going back to the terminal and use `cat` `head` and `tail`."
   ]
  },
  {
   "cell_type": "markdown",
   "metadata": {},
   "source": [
    "Two columns are completely empty. Area all the errors the same kind?"
   ]
  },
  {
   "cell_type": "code",
   "execution_count": 13,
   "metadata": {},
   "outputs": [
    {
     "data": {
      "text/html": [
       "<table>\n",
       "<caption>A grouped_df: 5 × 4</caption>\n",
       "<thead>\n",
       "\t<tr><th scope=col>col</th><th scope=col>expected</th><th scope=col>actual</th><th scope=col>n</th></tr>\n",
       "\t<tr><th scope=col>&lt;chr&gt;</th><th scope=col>&lt;chr&gt;</th><th scope=col>&lt;chr&gt;</th><th scope=col>&lt;int&gt;</th></tr>\n",
       "</thead>\n",
       "<tbody>\n",
       "\t<tr><td>Series_title_4</td><td>1/0/T/F/TRUE/FALSE</td><td>Percentage change from previous period          </td><td> 496</td></tr>\n",
       "\t<tr><td>Series_title_4</td><td>1/0/T/F/TRUE/FALSE</td><td>Percentage change from same period previous year</td><td> 490</td></tr>\n",
       "\t<tr><td>Series_title_4</td><td>1/0/T/F/TRUE/FALSE</td><td>Seasonally adjusted                             </td><td>7280</td></tr>\n",
       "\t<tr><td>Series_title_4</td><td>1/0/T/F/TRUE/FALSE</td><td>Trend                                           </td><td>7368</td></tr>\n",
       "\t<tr><td>Series_title_5</td><td>1/0/T/F/TRUE/FALSE</td><td>Percentage change from previous period          </td><td> 232</td></tr>\n",
       "</tbody>\n",
       "</table>\n"
      ],
      "text/latex": [
       "A grouped_df: 5 × 4\n",
       "\\begin{tabular}{r|llll}\n",
       " col & expected & actual & n\\\\\n",
       " <chr> & <chr> & <chr> & <int>\\\\\n",
       "\\hline\n",
       "\t Series\\_title\\_4 & 1/0/T/F/TRUE/FALSE & Percentage change from previous period           &  496\\\\\n",
       "\t Series\\_title\\_4 & 1/0/T/F/TRUE/FALSE & Percentage change from same period previous year &  490\\\\\n",
       "\t Series\\_title\\_4 & 1/0/T/F/TRUE/FALSE & Seasonally adjusted                              & 7280\\\\\n",
       "\t Series\\_title\\_4 & 1/0/T/F/TRUE/FALSE & Trend                                            & 7368\\\\\n",
       "\t Series\\_title\\_5 & 1/0/T/F/TRUE/FALSE & Percentage change from previous period           &  232\\\\\n",
       "\\end{tabular}\n"
      ],
      "text/markdown": [
       "\n",
       "A grouped_df: 5 × 4\n",
       "\n",
       "| col &lt;chr&gt; | expected &lt;chr&gt; | actual &lt;chr&gt; | n &lt;int&gt; |\n",
       "|---|---|---|---|\n",
       "| Series_title_4 | 1/0/T/F/TRUE/FALSE | Percentage change from previous period           |  496 |\n",
       "| Series_title_4 | 1/0/T/F/TRUE/FALSE | Percentage change from same period previous year |  490 |\n",
       "| Series_title_4 | 1/0/T/F/TRUE/FALSE | Seasonally adjusted                              | 7280 |\n",
       "| Series_title_4 | 1/0/T/F/TRUE/FALSE | Trend                                            | 7368 |\n",
       "| Series_title_5 | 1/0/T/F/TRUE/FALSE | Percentage change from previous period           |  232 |\n",
       "\n"
      ],
      "text/plain": [
       "  col            expected          \n",
       "1 Series_title_4 1/0/T/F/TRUE/FALSE\n",
       "2 Series_title_4 1/0/T/F/TRUE/FALSE\n",
       "3 Series_title_4 1/0/T/F/TRUE/FALSE\n",
       "4 Series_title_4 1/0/T/F/TRUE/FALSE\n",
       "5 Series_title_5 1/0/T/F/TRUE/FALSE\n",
       "  actual                                           n   \n",
       "1 Percentage change from previous period            496\n",
       "2 Percentage change from same period previous year  490\n",
       "3 Seasonally adjusted                              7280\n",
       "4 Trend                                            7368\n",
       "5 Percentage change from previous period            232"
      ]
     },
     "metadata": {},
     "output_type": "display_data"
    }
   ],
   "source": [
    "Overseas_ti %>% \n",
    "  problems() %>%\n",
    "  group_by(col,expected,actual) %>%\n",
    "  tally()"
   ]
  },
  {
   "cell_type": "markdown",
   "metadata": {},
   "source": [
    "The involved column is always the same, the actual value is 58 times \"e3\" and one time \"e4\". You can use `vis_miss()` from `vis_dat` to get a grip of how the missings are distributed. (or you can install the package `nianar` and use one of its functions to plot the distribution of the missing values."
   ]
  },
  {
   "cell_type": "code",
   "execution_count": null,
   "metadata": {},
   "outputs": [],
   "source": [
    "# your code here"
   ]
  },
  {
   "cell_type": "markdown",
   "metadata": {},
   "source": [
    "#### Hard Time Reflection\n",
    "\n",
    "You have (at least) three choices. Which one would you pick? Discuss and implement. \n",
    "1. drop the columns completely\n",
    "2. use them with NAs inside\n",
    "3. change the parsing of the column"
   ]
  },
  {
   "cell_type": "code",
   "execution_count": null,
   "metadata": {},
   "outputs": [],
   "source": [
    "# your code here"
   ]
  },
  {
   "cell_type": "markdown",
   "metadata": {},
   "source": [
    "### Example 2\n",
    "\n",
    "Some other time you need to specify the type of the column by your self! We see that with an example from `readr`.\n",
    "\n",
    "We are going to use the csv \"challenge.csv\", that is in this folder. First, open it with Jupyter Lab and give it a look. Then, we read it in R."
   ]
  },
  {
   "cell_type": "code",
   "execution_count": 16,
   "metadata": {},
   "outputs": [
    {
     "name": "stderr",
     "output_type": "stream",
     "text": [
      "Parsed with column specification:\n",
      "cols(\n",
      "  x = \u001b[32mcol_double()\u001b[39m,\n",
      "  y = \u001b[33mcol_logical()\u001b[39m\n",
      ")\n",
      "Warning message:\n",
      "“1000 parsing failures.\n",
      " row col           expected     actual            file\n",
      "1001   y 1/0/T/F/TRUE/FALSE 2015-01-16 'challenge.csv'\n",
      "1002   y 1/0/T/F/TRUE/FALSE 2018-05-18 'challenge.csv'\n",
      "1003   y 1/0/T/F/TRUE/FALSE 2015-09-05 'challenge.csv'\n",
      "1004   y 1/0/T/F/TRUE/FALSE 2012-11-28 'challenge.csv'\n",
      "1005   y 1/0/T/F/TRUE/FALSE 2020-01-13 'challenge.csv'\n",
      ".... ... .................. .......... ...............\n",
      "See problems(...) for more details.\n",
      "”"
     ]
    }
   ],
   "source": [
    "challenge <- \"challenge.csv\" %>%\n",
    "              read_csv()"
   ]
  },
  {
   "cell_type": "markdown",
   "metadata": {},
   "source": [
    "A lot of read. And a familiar error. Let's give a look to the problems."
   ]
  },
  {
   "cell_type": "code",
   "execution_count": 15,
   "metadata": {},
   "outputs": [
    {
     "data": {
      "text/html": [
       "<table>\n",
       "<caption>A tibble: 6 × 5</caption>\n",
       "<thead>\n",
       "\t<tr><th scope=col>row</th><th scope=col>col</th><th scope=col>expected</th><th scope=col>actual</th><th scope=col>file</th></tr>\n",
       "\t<tr><th scope=col>&lt;int&gt;</th><th scope=col>&lt;chr&gt;</th><th scope=col>&lt;chr&gt;</th><th scope=col>&lt;chr&gt;</th><th scope=col>&lt;chr&gt;</th></tr>\n",
       "</thead>\n",
       "<tbody>\n",
       "\t<tr><td>1001</td><td>y</td><td>1/0/T/F/TRUE/FALSE</td><td>2015-01-16</td><td>'challenge.csv'</td></tr>\n",
       "\t<tr><td>1002</td><td>y</td><td>1/0/T/F/TRUE/FALSE</td><td>2018-05-18</td><td>'challenge.csv'</td></tr>\n",
       "\t<tr><td>1003</td><td>y</td><td>1/0/T/F/TRUE/FALSE</td><td>2015-09-05</td><td>'challenge.csv'</td></tr>\n",
       "\t<tr><td>1004</td><td>y</td><td>1/0/T/F/TRUE/FALSE</td><td>2012-11-28</td><td>'challenge.csv'</td></tr>\n",
       "\t<tr><td>1005</td><td>y</td><td>1/0/T/F/TRUE/FALSE</td><td>2020-01-13</td><td>'challenge.csv'</td></tr>\n",
       "\t<tr><td>1006</td><td>y</td><td>1/0/T/F/TRUE/FALSE</td><td>2016-04-17</td><td>'challenge.csv'</td></tr>\n",
       "</tbody>\n",
       "</table>\n"
      ],
      "text/latex": [
       "A tibble: 6 × 5\n",
       "\\begin{tabular}{r|lllll}\n",
       " row & col & expected & actual & file\\\\\n",
       " <int> & <chr> & <chr> & <chr> & <chr>\\\\\n",
       "\\hline\n",
       "\t 1001 & y & 1/0/T/F/TRUE/FALSE & 2015-01-16 & 'challenge.csv'\\\\\n",
       "\t 1002 & y & 1/0/T/F/TRUE/FALSE & 2018-05-18 & 'challenge.csv'\\\\\n",
       "\t 1003 & y & 1/0/T/F/TRUE/FALSE & 2015-09-05 & 'challenge.csv'\\\\\n",
       "\t 1004 & y & 1/0/T/F/TRUE/FALSE & 2012-11-28 & 'challenge.csv'\\\\\n",
       "\t 1005 & y & 1/0/T/F/TRUE/FALSE & 2020-01-13 & 'challenge.csv'\\\\\n",
       "\t 1006 & y & 1/0/T/F/TRUE/FALSE & 2016-04-17 & 'challenge.csv'\\\\\n",
       "\\end{tabular}\n"
      ],
      "text/markdown": [
       "\n",
       "A tibble: 6 × 5\n",
       "\n",
       "| row &lt;int&gt; | col &lt;chr&gt; | expected &lt;chr&gt; | actual &lt;chr&gt; | file &lt;chr&gt; |\n",
       "|---|---|---|---|---|\n",
       "| 1001 | y | 1/0/T/F/TRUE/FALSE | 2015-01-16 | 'challenge.csv' |\n",
       "| 1002 | y | 1/0/T/F/TRUE/FALSE | 2018-05-18 | 'challenge.csv' |\n",
       "| 1003 | y | 1/0/T/F/TRUE/FALSE | 2015-09-05 | 'challenge.csv' |\n",
       "| 1004 | y | 1/0/T/F/TRUE/FALSE | 2012-11-28 | 'challenge.csv' |\n",
       "| 1005 | y | 1/0/T/F/TRUE/FALSE | 2020-01-13 | 'challenge.csv' |\n",
       "| 1006 | y | 1/0/T/F/TRUE/FALSE | 2016-04-17 | 'challenge.csv' |\n",
       "\n"
      ],
      "text/plain": [
       "  row  col expected           actual     file           \n",
       "1 1001 y   1/0/T/F/TRUE/FALSE 2015-01-16 'challenge.csv'\n",
       "2 1002 y   1/0/T/F/TRUE/FALSE 2018-05-18 'challenge.csv'\n",
       "3 1003 y   1/0/T/F/TRUE/FALSE 2015-09-05 'challenge.csv'\n",
       "4 1004 y   1/0/T/F/TRUE/FALSE 2012-11-28 'challenge.csv'\n",
       "5 1005 y   1/0/T/F/TRUE/FALSE 2020-01-13 'challenge.csv'\n",
       "6 1006 y   1/0/T/F/TRUE/FALSE 2016-04-17 'challenge.csv'"
      ]
     },
     "metadata": {},
     "output_type": "display_data"
    }
   ],
   "source": [
    "challenge %>%\n",
    "  problems() %>%\n",
    "  head()"
   ]
  },
  {
   "cell_type": "markdown",
   "metadata": {},
   "source": [
    "Trouble seems to start at row 1001. We can ask `read_csv()` to read only a bunch of lines, not all of them, and see how it goes."
   ]
  },
  {
   "cell_type": "code",
   "execution_count": 17,
   "metadata": {},
   "outputs": [
    {
     "name": "stderr",
     "output_type": "stream",
     "text": [
      "Parsed with column specification:\n",
      "cols(\n",
      "  x = \u001b[32mcol_double()\u001b[39m,\n",
      "  y = \u001b[33mcol_logical()\u001b[39m\n",
      ")\n"
     ]
    },
    {
     "data": {
      "text/html": [
       "<table>\n",
       "<caption>A spec_tbl_df: 1000 × 2</caption>\n",
       "<thead>\n",
       "\t<tr><th scope=col>x</th><th scope=col>y</th></tr>\n",
       "\t<tr><th scope=col>&lt;dbl&gt;</th><th scope=col>&lt;lgl&gt;</th></tr>\n",
       "</thead>\n",
       "<tbody>\n",
       "\t<tr><td> 404</td><td>NA</td></tr>\n",
       "\t<tr><td>4172</td><td>NA</td></tr>\n",
       "\t<tr><td>3004</td><td>NA</td></tr>\n",
       "\t<tr><td> 787</td><td>NA</td></tr>\n",
       "\t<tr><td>  37</td><td>NA</td></tr>\n",
       "\t<tr><td>2332</td><td>NA</td></tr>\n",
       "\t<tr><td>2489</td><td>NA</td></tr>\n",
       "\t<tr><td>1449</td><td>NA</td></tr>\n",
       "\t<tr><td>3665</td><td>NA</td></tr>\n",
       "\t<tr><td>3863</td><td>NA</td></tr>\n",
       "\t<tr><td>4374</td><td>NA</td></tr>\n",
       "\t<tr><td> 875</td><td>NA</td></tr>\n",
       "\t<tr><td> 172</td><td>NA</td></tr>\n",
       "\t<tr><td>1602</td><td>NA</td></tr>\n",
       "\t<tr><td>2012</td><td>NA</td></tr>\n",
       "\t<tr><td> 979</td><td>NA</td></tr>\n",
       "\t<tr><td>2018</td><td>NA</td></tr>\n",
       "\t<tr><td> 319</td><td>NA</td></tr>\n",
       "\t<tr><td>1944</td><td>NA</td></tr>\n",
       "\t<tr><td>4878</td><td>NA</td></tr>\n",
       "\t<tr><td>1450</td><td>NA</td></tr>\n",
       "\t<tr><td>3392</td><td>NA</td></tr>\n",
       "\t<tr><td>3677</td><td>NA</td></tr>\n",
       "\t<tr><td> 980</td><td>NA</td></tr>\n",
       "\t<tr><td>4903</td><td>NA</td></tr>\n",
       "\t<tr><td>3708</td><td>NA</td></tr>\n",
       "\t<tr><td> 258</td><td>NA</td></tr>\n",
       "\t<tr><td>2652</td><td>NA</td></tr>\n",
       "\t<tr><td>3480</td><td>NA</td></tr>\n",
       "\t<tr><td>3443</td><td>NA</td></tr>\n",
       "\t<tr><td>⋮</td><td>⋮</td></tr>\n",
       "\t<tr><td>1275</td><td>NA</td></tr>\n",
       "\t<tr><td>2388</td><td>NA</td></tr>\n",
       "\t<tr><td>3523</td><td>NA</td></tr>\n",
       "\t<tr><td>  38</td><td>NA</td></tr>\n",
       "\t<tr><td>3863</td><td>NA</td></tr>\n",
       "\t<tr><td>1329</td><td>NA</td></tr>\n",
       "\t<tr><td>4856</td><td>NA</td></tr>\n",
       "\t<tr><td> 953</td><td>NA</td></tr>\n",
       "\t<tr><td>  99</td><td>NA</td></tr>\n",
       "\t<tr><td>3062</td><td>NA</td></tr>\n",
       "\t<tr><td>2629</td><td>NA</td></tr>\n",
       "\t<tr><td>3173</td><td>NA</td></tr>\n",
       "\t<tr><td>1978</td><td>NA</td></tr>\n",
       "\t<tr><td> 875</td><td>NA</td></tr>\n",
       "\t<tr><td>1637</td><td>NA</td></tr>\n",
       "\t<tr><td>3074</td><td>NA</td></tr>\n",
       "\t<tr><td> 396</td><td>NA</td></tr>\n",
       "\t<tr><td>2596</td><td>NA</td></tr>\n",
       "\t<tr><td>1532</td><td>NA</td></tr>\n",
       "\t<tr><td>3357</td><td>NA</td></tr>\n",
       "\t<tr><td>1969</td><td>NA</td></tr>\n",
       "\t<tr><td>3740</td><td>NA</td></tr>\n",
       "\t<tr><td> 695</td><td>NA</td></tr>\n",
       "\t<tr><td>1887</td><td>NA</td></tr>\n",
       "\t<tr><td>3207</td><td>NA</td></tr>\n",
       "\t<tr><td>4971</td><td>NA</td></tr>\n",
       "\t<tr><td>1843</td><td>NA</td></tr>\n",
       "\t<tr><td>1687</td><td>NA</td></tr>\n",
       "\t<tr><td>4569</td><td>NA</td></tr>\n",
       "\t<tr><td>4548</td><td>NA</td></tr>\n",
       "</tbody>\n",
       "</table>\n"
      ],
      "text/latex": [
       "A spec_tbl_df: 1000 × 2\n",
       "\\begin{tabular}{r|ll}\n",
       " x & y\\\\\n",
       " <dbl> & <lgl>\\\\\n",
       "\\hline\n",
       "\t  404 & NA\\\\\n",
       "\t 4172 & NA\\\\\n",
       "\t 3004 & NA\\\\\n",
       "\t  787 & NA\\\\\n",
       "\t   37 & NA\\\\\n",
       "\t 2332 & NA\\\\\n",
       "\t 2489 & NA\\\\\n",
       "\t 1449 & NA\\\\\n",
       "\t 3665 & NA\\\\\n",
       "\t 3863 & NA\\\\\n",
       "\t 4374 & NA\\\\\n",
       "\t  875 & NA\\\\\n",
       "\t  172 & NA\\\\\n",
       "\t 1602 & NA\\\\\n",
       "\t 2012 & NA\\\\\n",
       "\t  979 & NA\\\\\n",
       "\t 2018 & NA\\\\\n",
       "\t  319 & NA\\\\\n",
       "\t 1944 & NA\\\\\n",
       "\t 4878 & NA\\\\\n",
       "\t 1450 & NA\\\\\n",
       "\t 3392 & NA\\\\\n",
       "\t 3677 & NA\\\\\n",
       "\t  980 & NA\\\\\n",
       "\t 4903 & NA\\\\\n",
       "\t 3708 & NA\\\\\n",
       "\t  258 & NA\\\\\n",
       "\t 2652 & NA\\\\\n",
       "\t 3480 & NA\\\\\n",
       "\t 3443 & NA\\\\\n",
       "\t ⋮ & ⋮\\\\\n",
       "\t 1275 & NA\\\\\n",
       "\t 2388 & NA\\\\\n",
       "\t 3523 & NA\\\\\n",
       "\t   38 & NA\\\\\n",
       "\t 3863 & NA\\\\\n",
       "\t 1329 & NA\\\\\n",
       "\t 4856 & NA\\\\\n",
       "\t  953 & NA\\\\\n",
       "\t   99 & NA\\\\\n",
       "\t 3062 & NA\\\\\n",
       "\t 2629 & NA\\\\\n",
       "\t 3173 & NA\\\\\n",
       "\t 1978 & NA\\\\\n",
       "\t  875 & NA\\\\\n",
       "\t 1637 & NA\\\\\n",
       "\t 3074 & NA\\\\\n",
       "\t  396 & NA\\\\\n",
       "\t 2596 & NA\\\\\n",
       "\t 1532 & NA\\\\\n",
       "\t 3357 & NA\\\\\n",
       "\t 1969 & NA\\\\\n",
       "\t 3740 & NA\\\\\n",
       "\t  695 & NA\\\\\n",
       "\t 1887 & NA\\\\\n",
       "\t 3207 & NA\\\\\n",
       "\t 4971 & NA\\\\\n",
       "\t 1843 & NA\\\\\n",
       "\t 1687 & NA\\\\\n",
       "\t 4569 & NA\\\\\n",
       "\t 4548 & NA\\\\\n",
       "\\end{tabular}\n"
      ],
      "text/markdown": [
       "\n",
       "A spec_tbl_df: 1000 × 2\n",
       "\n",
       "| x &lt;dbl&gt; | y &lt;lgl&gt; |\n",
       "|---|---|\n",
       "|  404 | NA |\n",
       "| 4172 | NA |\n",
       "| 3004 | NA |\n",
       "|  787 | NA |\n",
       "|   37 | NA |\n",
       "| 2332 | NA |\n",
       "| 2489 | NA |\n",
       "| 1449 | NA |\n",
       "| 3665 | NA |\n",
       "| 3863 | NA |\n",
       "| 4374 | NA |\n",
       "|  875 | NA |\n",
       "|  172 | NA |\n",
       "| 1602 | NA |\n",
       "| 2012 | NA |\n",
       "|  979 | NA |\n",
       "| 2018 | NA |\n",
       "|  319 | NA |\n",
       "| 1944 | NA |\n",
       "| 4878 | NA |\n",
       "| 1450 | NA |\n",
       "| 3392 | NA |\n",
       "| 3677 | NA |\n",
       "|  980 | NA |\n",
       "| 4903 | NA |\n",
       "| 3708 | NA |\n",
       "|  258 | NA |\n",
       "| 2652 | NA |\n",
       "| 3480 | NA |\n",
       "| 3443 | NA |\n",
       "| ⋮ | ⋮ |\n",
       "| 1275 | NA |\n",
       "| 2388 | NA |\n",
       "| 3523 | NA |\n",
       "|   38 | NA |\n",
       "| 3863 | NA |\n",
       "| 1329 | NA |\n",
       "| 4856 | NA |\n",
       "|  953 | NA |\n",
       "|   99 | NA |\n",
       "| 3062 | NA |\n",
       "| 2629 | NA |\n",
       "| 3173 | NA |\n",
       "| 1978 | NA |\n",
       "|  875 | NA |\n",
       "| 1637 | NA |\n",
       "| 3074 | NA |\n",
       "|  396 | NA |\n",
       "| 2596 | NA |\n",
       "| 1532 | NA |\n",
       "| 3357 | NA |\n",
       "| 1969 | NA |\n",
       "| 3740 | NA |\n",
       "|  695 | NA |\n",
       "| 1887 | NA |\n",
       "| 3207 | NA |\n",
       "| 4971 | NA |\n",
       "| 1843 | NA |\n",
       "| 1687 | NA |\n",
       "| 4569 | NA |\n",
       "| 4548 | NA |\n",
       "\n"
      ],
      "text/plain": [
       "     x    y \n",
       "1     404 NA\n",
       "2    4172 NA\n",
       "3    3004 NA\n",
       "4     787 NA\n",
       "5      37 NA\n",
       "6    2332 NA\n",
       "7    2489 NA\n",
       "8    1449 NA\n",
       "9    3665 NA\n",
       "10   3863 NA\n",
       "11   4374 NA\n",
       "12    875 NA\n",
       "13    172 NA\n",
       "14   1602 NA\n",
       "15   2012 NA\n",
       "16    979 NA\n",
       "17   2018 NA\n",
       "18    319 NA\n",
       "19   1944 NA\n",
       "20   4878 NA\n",
       "21   1450 NA\n",
       "22   3392 NA\n",
       "23   3677 NA\n",
       "24    980 NA\n",
       "25   4903 NA\n",
       "26   3708 NA\n",
       "27    258 NA\n",
       "28   2652 NA\n",
       "29   3480 NA\n",
       "30   3443 NA\n",
       "⋮    ⋮    ⋮ \n",
       "971  1275 NA\n",
       "972  2388 NA\n",
       "973  3523 NA\n",
       "974    38 NA\n",
       "975  3863 NA\n",
       "976  1329 NA\n",
       "977  4856 NA\n",
       "978   953 NA\n",
       "979    99 NA\n",
       "980  3062 NA\n",
       "981  2629 NA\n",
       "982  3173 NA\n",
       "983  1978 NA\n",
       "984   875 NA\n",
       "985  1637 NA\n",
       "986  3074 NA\n",
       "987   396 NA\n",
       "988  2596 NA\n",
       "989  1532 NA\n",
       "990  3357 NA\n",
       "991  1969 NA\n",
       "992  3740 NA\n",
       "993   695 NA\n",
       "994  1887 NA\n",
       "995  3207 NA\n",
       "996  4971 NA\n",
       "997  1843 NA\n",
       "998  1687 NA\n",
       "999  4569 NA\n",
       "1000 4548 NA"
      ]
     },
     "metadata": {},
     "output_type": "display_data"
    }
   ],
   "source": [
    "\"challenge.csv\" %>%\n",
    "  read_csv(n_max = 1000) # we read only the first 1000"
   ]
  },
  {
   "cell_type": "markdown",
   "metadata": {},
   "source": [
    "Similarly, we can skip the first 1000 rows and read from the rest:"
   ]
  },
  {
   "cell_type": "code",
   "execution_count": 18,
   "metadata": {},
   "outputs": [
    {
     "name": "stderr",
     "output_type": "stream",
     "text": [
      "Parsed with column specification:\n",
      "cols(\n",
      "  x = \u001b[32mcol_double()\u001b[39m,\n",
      "  y = \u001b[34mcol_date(format = \"\")\u001b[39m\n",
      ")\n"
     ]
    },
    {
     "data": {
      "text/html": [
       "<table>\n",
       "<caption>A spec_tbl_df: 1000 × 2</caption>\n",
       "<thead>\n",
       "\t<tr><th scope=col>x</th><th scope=col>y</th></tr>\n",
       "\t<tr><th scope=col>&lt;dbl&gt;</th><th scope=col>&lt;date&gt;</th></tr>\n",
       "</thead>\n",
       "<tbody>\n",
       "\t<tr><td>0.2383798</td><td>2015-01-16</td></tr>\n",
       "\t<tr><td>0.4116800</td><td>2018-05-18</td></tr>\n",
       "\t<tr><td>0.7460717</td><td>2015-09-05</td></tr>\n",
       "\t<tr><td>0.7234506</td><td>2012-11-28</td></tr>\n",
       "\t<tr><td>0.6145241</td><td>2020-01-13</td></tr>\n",
       "\t<tr><td>0.4739806</td><td>2016-04-17</td></tr>\n",
       "\t<tr><td>0.5784610</td><td>2011-05-14</td></tr>\n",
       "\t<tr><td>0.2415937</td><td>2020-07-18</td></tr>\n",
       "\t<tr><td>0.1143787</td><td>2011-04-30</td></tr>\n",
       "\t<tr><td>0.2983446</td><td>2010-05-11</td></tr>\n",
       "\t<tr><td>0.4841195</td><td>2014-11-02</td></tr>\n",
       "\t<tr><td>0.5674063</td><td>2014-06-23</td></tr>\n",
       "\t<tr><td>0.7539531</td><td>2017-05-31</td></tr>\n",
       "\t<tr><td>0.5454252</td><td>2017-11-18</td></tr>\n",
       "\t<tr><td>0.7596780</td><td>2013-04-20</td></tr>\n",
       "\t<tr><td>0.2129675</td><td>2010-12-11</td></tr>\n",
       "\t<tr><td>0.8392650</td><td>2022-10-10</td></tr>\n",
       "\t<tr><td>0.4066971</td><td>2010-11-11</td></tr>\n",
       "\t<tr><td>0.8737398</td><td>2015-03-22</td></tr>\n",
       "\t<tr><td>0.8821565</td><td>2013-12-25</td></tr>\n",
       "\t<tr><td>0.1076894</td><td>2011-02-27</td></tr>\n",
       "\t<tr><td>0.5745444</td><td>2015-12-14</td></tr>\n",
       "\t<tr><td>0.9960334</td><td>2021-02-10</td></tr>\n",
       "\t<tr><td>0.8505534</td><td>2012-11-28</td></tr>\n",
       "\t<tr><td>0.4376551</td><td>2020-04-04</td></tr>\n",
       "\t<tr><td>0.3264299</td><td>2021-04-08</td></tr>\n",
       "\t<tr><td>0.3359689</td><td>2022-03-13</td></tr>\n",
       "\t<tr><td>0.2392738</td><td>2010-03-28</td></tr>\n",
       "\t<tr><td>0.4213711</td><td>2023-01-04</td></tr>\n",
       "\t<tr><td>0.5121368</td><td>2012-04-02</td></tr>\n",
       "\t<tr><td>⋮</td><td>⋮</td></tr>\n",
       "\t<tr><td>0.14324546</td><td>2020-06-10</td></tr>\n",
       "\t<tr><td>0.42678032</td><td>2013-11-08</td></tr>\n",
       "\t<tr><td>0.56445359</td><td>2017-07-12</td></tr>\n",
       "\t<tr><td>0.18729942</td><td>2016-08-12</td></tr>\n",
       "\t<tr><td>0.60274952</td><td>2022-05-12</td></tr>\n",
       "\t<tr><td>0.73487829</td><td>2020-08-11</td></tr>\n",
       "\t<tr><td>0.06834881</td><td>2011-10-26</td></tr>\n",
       "\t<tr><td>0.78291796</td><td>2015-12-09</td></tr>\n",
       "\t<tr><td>0.92149271</td><td>2012-09-27</td></tr>\n",
       "\t<tr><td>0.04428217</td><td>2013-02-04</td></tr>\n",
       "\t<tr><td>0.71311485</td><td>2010-11-29</td></tr>\n",
       "\t<tr><td>0.90388602</td><td>2013-10-16</td></tr>\n",
       "\t<tr><td>0.73958150</td><td>2015-04-26</td></tr>\n",
       "\t<tr><td>0.17217563</td><td>2011-04-12</td></tr>\n",
       "\t<tr><td>0.18658998</td><td>2017-01-30</td></tr>\n",
       "\t<tr><td>0.38248836</td><td>2014-06-08</td></tr>\n",
       "\t<tr><td>0.45361328</td><td>2016-10-19</td></tr>\n",
       "\t<tr><td>0.45513148</td><td>2023-09-01</td></tr>\n",
       "\t<tr><td>0.17310278</td><td>2010-01-09</td></tr>\n",
       "\t<tr><td>0.30541726</td><td>2020-01-11</td></tr>\n",
       "\t<tr><td>0.86775210</td><td>2016-12-16</td></tr>\n",
       "\t<tr><td>0.26023225</td><td>2010-01-03</td></tr>\n",
       "\t<tr><td>0.68087076</td><td>2016-04-23</td></tr>\n",
       "\t<tr><td>0.85357656</td><td>2016-08-10</td></tr>\n",
       "\t<tr><td>0.80527431</td><td>2019-11-21</td></tr>\n",
       "\t<tr><td>0.16351634</td><td>2018-03-29</td></tr>\n",
       "\t<tr><td>0.47193898</td><td>2014-08-04</td></tr>\n",
       "\t<tr><td>0.71831865</td><td>2015-08-16</td></tr>\n",
       "\t<tr><td>0.26987859</td><td>2020-02-04</td></tr>\n",
       "\t<tr><td>0.60823719</td><td>2019-01-06</td></tr>\n",
       "</tbody>\n",
       "</table>\n"
      ],
      "text/latex": [
       "A spec_tbl_df: 1000 × 2\n",
       "\\begin{tabular}{r|ll}\n",
       " x & y\\\\\n",
       " <dbl> & <date>\\\\\n",
       "\\hline\n",
       "\t 0.2383798 & 2015-01-16\\\\\n",
       "\t 0.4116800 & 2018-05-18\\\\\n",
       "\t 0.7460717 & 2015-09-05\\\\\n",
       "\t 0.7234506 & 2012-11-28\\\\\n",
       "\t 0.6145241 & 2020-01-13\\\\\n",
       "\t 0.4739806 & 2016-04-17\\\\\n",
       "\t 0.5784610 & 2011-05-14\\\\\n",
       "\t 0.2415937 & 2020-07-18\\\\\n",
       "\t 0.1143787 & 2011-04-30\\\\\n",
       "\t 0.2983446 & 2010-05-11\\\\\n",
       "\t 0.4841195 & 2014-11-02\\\\\n",
       "\t 0.5674063 & 2014-06-23\\\\\n",
       "\t 0.7539531 & 2017-05-31\\\\\n",
       "\t 0.5454252 & 2017-11-18\\\\\n",
       "\t 0.7596780 & 2013-04-20\\\\\n",
       "\t 0.2129675 & 2010-12-11\\\\\n",
       "\t 0.8392650 & 2022-10-10\\\\\n",
       "\t 0.4066971 & 2010-11-11\\\\\n",
       "\t 0.8737398 & 2015-03-22\\\\\n",
       "\t 0.8821565 & 2013-12-25\\\\\n",
       "\t 0.1076894 & 2011-02-27\\\\\n",
       "\t 0.5745444 & 2015-12-14\\\\\n",
       "\t 0.9960334 & 2021-02-10\\\\\n",
       "\t 0.8505534 & 2012-11-28\\\\\n",
       "\t 0.4376551 & 2020-04-04\\\\\n",
       "\t 0.3264299 & 2021-04-08\\\\\n",
       "\t 0.3359689 & 2022-03-13\\\\\n",
       "\t 0.2392738 & 2010-03-28\\\\\n",
       "\t 0.4213711 & 2023-01-04\\\\\n",
       "\t 0.5121368 & 2012-04-02\\\\\n",
       "\t ⋮ & ⋮\\\\\n",
       "\t 0.14324546 & 2020-06-10\\\\\n",
       "\t 0.42678032 & 2013-11-08\\\\\n",
       "\t 0.56445359 & 2017-07-12\\\\\n",
       "\t 0.18729942 & 2016-08-12\\\\\n",
       "\t 0.60274952 & 2022-05-12\\\\\n",
       "\t 0.73487829 & 2020-08-11\\\\\n",
       "\t 0.06834881 & 2011-10-26\\\\\n",
       "\t 0.78291796 & 2015-12-09\\\\\n",
       "\t 0.92149271 & 2012-09-27\\\\\n",
       "\t 0.04428217 & 2013-02-04\\\\\n",
       "\t 0.71311485 & 2010-11-29\\\\\n",
       "\t 0.90388602 & 2013-10-16\\\\\n",
       "\t 0.73958150 & 2015-04-26\\\\\n",
       "\t 0.17217563 & 2011-04-12\\\\\n",
       "\t 0.18658998 & 2017-01-30\\\\\n",
       "\t 0.38248836 & 2014-06-08\\\\\n",
       "\t 0.45361328 & 2016-10-19\\\\\n",
       "\t 0.45513148 & 2023-09-01\\\\\n",
       "\t 0.17310278 & 2010-01-09\\\\\n",
       "\t 0.30541726 & 2020-01-11\\\\\n",
       "\t 0.86775210 & 2016-12-16\\\\\n",
       "\t 0.26023225 & 2010-01-03\\\\\n",
       "\t 0.68087076 & 2016-04-23\\\\\n",
       "\t 0.85357656 & 2016-08-10\\\\\n",
       "\t 0.80527431 & 2019-11-21\\\\\n",
       "\t 0.16351634 & 2018-03-29\\\\\n",
       "\t 0.47193898 & 2014-08-04\\\\\n",
       "\t 0.71831865 & 2015-08-16\\\\\n",
       "\t 0.26987859 & 2020-02-04\\\\\n",
       "\t 0.60823719 & 2019-01-06\\\\\n",
       "\\end{tabular}\n"
      ],
      "text/markdown": [
       "\n",
       "A spec_tbl_df: 1000 × 2\n",
       "\n",
       "| x &lt;dbl&gt; | y &lt;date&gt; |\n",
       "|---|---|\n",
       "| 0.2383798 | 2015-01-16 |\n",
       "| 0.4116800 | 2018-05-18 |\n",
       "| 0.7460717 | 2015-09-05 |\n",
       "| 0.7234506 | 2012-11-28 |\n",
       "| 0.6145241 | 2020-01-13 |\n",
       "| 0.4739806 | 2016-04-17 |\n",
       "| 0.5784610 | 2011-05-14 |\n",
       "| 0.2415937 | 2020-07-18 |\n",
       "| 0.1143787 | 2011-04-30 |\n",
       "| 0.2983446 | 2010-05-11 |\n",
       "| 0.4841195 | 2014-11-02 |\n",
       "| 0.5674063 | 2014-06-23 |\n",
       "| 0.7539531 | 2017-05-31 |\n",
       "| 0.5454252 | 2017-11-18 |\n",
       "| 0.7596780 | 2013-04-20 |\n",
       "| 0.2129675 | 2010-12-11 |\n",
       "| 0.8392650 | 2022-10-10 |\n",
       "| 0.4066971 | 2010-11-11 |\n",
       "| 0.8737398 | 2015-03-22 |\n",
       "| 0.8821565 | 2013-12-25 |\n",
       "| 0.1076894 | 2011-02-27 |\n",
       "| 0.5745444 | 2015-12-14 |\n",
       "| 0.9960334 | 2021-02-10 |\n",
       "| 0.8505534 | 2012-11-28 |\n",
       "| 0.4376551 | 2020-04-04 |\n",
       "| 0.3264299 | 2021-04-08 |\n",
       "| 0.3359689 | 2022-03-13 |\n",
       "| 0.2392738 | 2010-03-28 |\n",
       "| 0.4213711 | 2023-01-04 |\n",
       "| 0.5121368 | 2012-04-02 |\n",
       "| ⋮ | ⋮ |\n",
       "| 0.14324546 | 2020-06-10 |\n",
       "| 0.42678032 | 2013-11-08 |\n",
       "| 0.56445359 | 2017-07-12 |\n",
       "| 0.18729942 | 2016-08-12 |\n",
       "| 0.60274952 | 2022-05-12 |\n",
       "| 0.73487829 | 2020-08-11 |\n",
       "| 0.06834881 | 2011-10-26 |\n",
       "| 0.78291796 | 2015-12-09 |\n",
       "| 0.92149271 | 2012-09-27 |\n",
       "| 0.04428217 | 2013-02-04 |\n",
       "| 0.71311485 | 2010-11-29 |\n",
       "| 0.90388602 | 2013-10-16 |\n",
       "| 0.73958150 | 2015-04-26 |\n",
       "| 0.17217563 | 2011-04-12 |\n",
       "| 0.18658998 | 2017-01-30 |\n",
       "| 0.38248836 | 2014-06-08 |\n",
       "| 0.45361328 | 2016-10-19 |\n",
       "| 0.45513148 | 2023-09-01 |\n",
       "| 0.17310278 | 2010-01-09 |\n",
       "| 0.30541726 | 2020-01-11 |\n",
       "| 0.86775210 | 2016-12-16 |\n",
       "| 0.26023225 | 2010-01-03 |\n",
       "| 0.68087076 | 2016-04-23 |\n",
       "| 0.85357656 | 2016-08-10 |\n",
       "| 0.80527431 | 2019-11-21 |\n",
       "| 0.16351634 | 2018-03-29 |\n",
       "| 0.47193898 | 2014-08-04 |\n",
       "| 0.71831865 | 2015-08-16 |\n",
       "| 0.26987859 | 2020-02-04 |\n",
       "| 0.60823719 | 2019-01-06 |\n",
       "\n"
      ],
      "text/plain": [
       "     x          y         \n",
       "1    0.2383798  2015-01-16\n",
       "2    0.4116800  2018-05-18\n",
       "3    0.7460717  2015-09-05\n",
       "4    0.7234506  2012-11-28\n",
       "5    0.6145241  2020-01-13\n",
       "6    0.4739806  2016-04-17\n",
       "7    0.5784610  2011-05-14\n",
       "8    0.2415937  2020-07-18\n",
       "9    0.1143787  2011-04-30\n",
       "10   0.2983446  2010-05-11\n",
       "11   0.4841195  2014-11-02\n",
       "12   0.5674063  2014-06-23\n",
       "13   0.7539531  2017-05-31\n",
       "14   0.5454252  2017-11-18\n",
       "15   0.7596780  2013-04-20\n",
       "16   0.2129675  2010-12-11\n",
       "17   0.8392650  2022-10-10\n",
       "18   0.4066971  2010-11-11\n",
       "19   0.8737398  2015-03-22\n",
       "20   0.8821565  2013-12-25\n",
       "21   0.1076894  2011-02-27\n",
       "22   0.5745444  2015-12-14\n",
       "23   0.9960334  2021-02-10\n",
       "24   0.8505534  2012-11-28\n",
       "25   0.4376551  2020-04-04\n",
       "26   0.3264299  2021-04-08\n",
       "27   0.3359689  2022-03-13\n",
       "28   0.2392738  2010-03-28\n",
       "29   0.4213711  2023-01-04\n",
       "30   0.5121368  2012-04-02\n",
       "⋮    ⋮          ⋮         \n",
       "971  0.14324546 2020-06-10\n",
       "972  0.42678032 2013-11-08\n",
       "973  0.56445359 2017-07-12\n",
       "974  0.18729942 2016-08-12\n",
       "975  0.60274952 2022-05-12\n",
       "976  0.73487829 2020-08-11\n",
       "977  0.06834881 2011-10-26\n",
       "978  0.78291796 2015-12-09\n",
       "979  0.92149271 2012-09-27\n",
       "980  0.04428217 2013-02-04\n",
       "981  0.71311485 2010-11-29\n",
       "982  0.90388602 2013-10-16\n",
       "983  0.73958150 2015-04-26\n",
       "984  0.17217563 2011-04-12\n",
       "985  0.18658998 2017-01-30\n",
       "986  0.38248836 2014-06-08\n",
       "987  0.45361328 2016-10-19\n",
       "988  0.45513148 2023-09-01\n",
       "989  0.17310278 2010-01-09\n",
       "990  0.30541726 2020-01-11\n",
       "991  0.86775210 2016-12-16\n",
       "992  0.26023225 2010-01-03\n",
       "993  0.68087076 2016-04-23\n",
       "994  0.85357656 2016-08-10\n",
       "995  0.80527431 2019-11-21\n",
       "996  0.16351634 2018-03-29\n",
       "997  0.47193898 2014-08-04\n",
       "998  0.71831865 2015-08-16\n",
       "999  0.26987859 2020-02-04\n",
       "1000 0.60823719 2019-01-06"
      ]
     },
     "metadata": {},
     "output_type": "display_data"
    }
   ],
   "source": [
    "\"challenge.csv\" %>%\n",
    "  read_csv(skip = 1001, # we skip the first 1000\n",
    "  col_names = c(\"x\", \"y\")) # now we have to specify the name of the columns as we have skip over the title row"
   ]
  },
  {
   "cell_type": "markdown",
   "metadata": {},
   "source": [
    "The first entries of the variable `x` before row 1001 seem to be integer. But then (see the `actual` column in challenge's problems) it changes. In fact, `read_csv()` reads the first 1000 rows and then guess the type of the columns. In this case, the type changes after that."
   ]
  },
  {
   "cell_type": "markdown",
   "metadata": {},
   "source": [
    "We can solve this in two ways: by specifying the type of the columns or by asking `read_csv()` to read more rows before guessing.\n",
    "\n",
    "We start with the latter. Go back an read the message that you got from `read_csv`, in particular the \"Parsed with column specification\" bit. That's the attempt done by `read_csv()`:\n",
    "\n",
    "```\n",
    "cols(\n",
    "  x = col_integer(),\n",
    "  y = col_character()\n",
    ")\n",
    "```\n",
    "\n",
    "You can copy and tweak it: change integer to double."
   ]
  },
  {
   "cell_type": "code",
   "execution_count": 33,
   "metadata": {},
   "outputs": [],
   "source": [
    "challenge <- \"challenge.csv\" %>%\n",
    "  read_csv(col_types = cols(\n",
    "      x = col_double(), # change this to col_double\n",
    "      y = col_character()\n",
    "      )\n",
    "  )"
   ]
  },
  {
   "cell_type": "markdown",
   "metadata": {},
   "source": [
    "No red messages, yet we are not satisfied. Consider now the variable `y`. In the slice of challenge we saw before, it looks like `y` is actually a date. Read challenge.csv again, this tim specifying that y is a date."
   ]
  },
  {
   "cell_type": "code",
   "execution_count": 20,
   "metadata": {},
   "outputs": [],
   "source": [
    "challenge <- \"challenge.csv\" %>%\n",
    "  read_csv(col_types = cols(\n",
    "      x = col_double(), # change this to col_double\n",
    "      y = col_date()\n",
    "      )\n",
    "  )"
   ]
  },
  {
   "cell_type": "markdown",
   "metadata": {},
   "source": [
    "The other way is to ask read_csv to read more lines. You can do this by changing the `guess_max` argument:"
   ]
  },
  {
   "cell_type": "code",
   "execution_count": 31,
   "metadata": {},
   "outputs": [
    {
     "name": "stderr",
     "output_type": "stream",
     "text": [
      "Parsed with column specification:\n",
      "cols(\n",
      "  x = \u001b[32mcol_double()\u001b[39m,\n",
      "  y = \u001b[34mcol_date(format = \"\")\u001b[39m\n",
      ")\n"
     ]
    }
   ],
   "source": [
    "challenge <- \"challenge.csv\" %>%\n",
    "  read_csv(guess_max = 100000)"
   ]
  },
  {
   "cell_type": "markdown",
   "metadata": {},
   "source": [
    "What are we looking at? I have no idea :-) Let's plot it."
   ]
  },
  {
   "cell_type": "code",
   "execution_count": 32,
   "metadata": {},
   "outputs": [
    {
     "data": {
      "image/png": "[encoded data removed]",
      "text/plain": [
       "plot without title"
      ]
     },
     "metadata": {},
     "output_type": "display_data"
    }
   ],
   "source": [
    "challenge %>%\n",
    "drop_na() %>%\n",
    "  ggplot(aes(x = x, y = y)) +\n",
    "  geom_point()"
   ]
  },
  {
   "cell_type": "markdown",
   "metadata": {},
   "source": [
    "Probably just noise..."
   ]
  },
  {
   "cell_type": "markdown",
   "metadata": {},
   "source": [
    "## Your turn\n",
    "\n",
    "Try to read some other csv file from the stats nz website we used before. Do you find any error? Can you solve it?"
   ]
  },
  {
   "cell_type": "code",
   "execution_count": 37,
   "metadata": {},
   "outputs": [
    {
     "name": "stderr",
     "output_type": "stream",
     "text": [
      "Parsed with column specification:\n",
      "cols(\n",
      "  Year = \u001b[32mcol_double()\u001b[39m,\n",
      "  Industry_aggregation_NZSIOC = \u001b[31mcol_character()\u001b[39m,\n",
      "  Industry_code_NZSIOC = \u001b[31mcol_character()\u001b[39m,\n",
      "  Industry_name_NZSIOC = \u001b[31mcol_character()\u001b[39m,\n",
      "  Units = \u001b[31mcol_character()\u001b[39m,\n",
      "  Variable_code = \u001b[31mcol_character()\u001b[39m,\n",
      "  Variable_name = \u001b[31mcol_character()\u001b[39m,\n",
      "  Variable_category = \u001b[31mcol_character()\u001b[39m,\n",
      "  Value = \u001b[31mcol_character()\u001b[39m,\n",
      "  Industry_code_ANZSIC06 = \u001b[31mcol_character()\u001b[39m\n",
      ")\n"
     ]
    }
   ],
   "source": [
    "financial_ti <- \"https://www.stats.govt.nz/assets/Uploads/Annual-enterprise-survey/Annual-enterprise-survey-2018-financial-year-provisional/Download-data/annual-enterprise-survey-2018-financial-year-provisional-csv.csv\"\n",
    "finalcial_ti <- financial_ti %>% read_csv()"
   ]
  },
  {
   "cell_type": "markdown",
   "metadata": {},
   "source": [
    "## Out of R"
   ]
  },
  {
   "cell_type": "markdown",
   "metadata": {},
   "source": [
    "You can read csvs, but you can also write them! The function is `write_csv()`."
   ]
  },
  {
   "cell_type": "code",
   "execution_count": null,
   "metadata": {},
   "outputs": [],
   "source": [
    "library(singer)\n",
    "\n",
    "singer_locations %>%\n",
    "  write_csv(\"singer_locations.csv\")"
   ]
  },
  {
   "cell_type": "code",
   "execution_count": null,
   "metadata": {},
   "outputs": [],
   "source": [
    "singer_from_file <- read_csv(\"singer_locations.csv\")"
   ]
  },
  {
   "cell_type": "code",
   "execution_count": null,
   "metadata": {},
   "outputs": [],
   "source": [
    "all_equal(singer_locations,singer_from_file)"
   ]
  },
  {
   "cell_type": "markdown",
   "metadata": {},
   "source": [
    "All as expected. Let's try to break things ;-)"
   ]
  },
  {
   "cell_type": "markdown",
   "metadata": {},
   "source": [
    "## CSV and its cousins\n",
    "\n",
    "We mentioned at the beginning that comma separeted value files are part of a large community. `readr` has other functions (which behave very similarly) for the other members of the family: discover them by typing `read_` and then hitting the _tab_ key."
   ]
  },
  {
   "cell_type": "code",
   "execution_count": null,
   "metadata": {},
   "outputs": [],
   "source": [
    "read_"
   ]
  },
  {
   "cell_type": "markdown",
   "metadata": {},
   "source": [
    "Use the syntax `?function` (where _function_ is the function you care about) to see what this other read_... functions are for."
   ]
  },
  {
   "cell_type": "markdown",
   "metadata": {},
   "source": [
    "# Advanced: excel"
   ]
  },
  {
   "cell_type": "markdown",
   "metadata": {},
   "source": [
    "Excel files are not strictly separated files. If you are lucky they are, almost, an XML file: we will speak about them in the web as data labs and lectures. If you are not lucky, they are a mess.\n",
    "\n",
    "Whether you are lucky or not depends on how the person who decided to write the excel file. If they decided to simply use it as a table, with one table per sheet, no fancy fonts, colors, or other embellishments, then you might be lucky. Otherwise, you are not.\n",
    "\n",
    "In both cases, R has a variety of libraries to help you read and write excel files."
   ]
  },
  {
   "cell_type": "markdown",
   "metadata": {},
   "source": [
    "### lucky\n",
    "\n",
    "The first one we see is [**readxl**](https://readxl.tidyverse.org/). It is installed when you install tidyverse, but it is not loaded by default. So you need to load it (in the usual way). We are straight reading from challenge.xslx (the same example as before, so do expect the same error. But more."
   ]
  },
  {
   "cell_type": "code",
   "execution_count": null,
   "metadata": {},
   "outputs": [],
   "source": [
    "library(readxl) # From Jenny Brian et al.\n",
    "\n",
    "\"challenge.xlsx\" %>%\n",
    "  read_excel() %>%\n",
    "  glimpse() # Expect a lot of red!"
   ]
  },
  {
   "cell_type": "markdown",
   "metadata": {},
   "source": [
    "WOW, that's a lot of error. Luckily, we know already how to solve. Don't we? It's again that error in guessing the type of columns."
   ]
  },
  {
   "cell_type": "code",
   "execution_count": null,
   "metadata": {},
   "outputs": [],
   "source": [
    "\"challenge.xlsx\" %>%\n",
    "  read_excel(guess_max = 1001) %>%\n",
    "  glimpse()"
   ]
  },
  {
   "cell_type": "markdown",
   "metadata": {},
   "source": [
    "Much better.\n",
    "\n",
    "`readxl` works well when the data is tabular, i.e. it resemble closely a csv file and you hit lucky."
   ]
  },
  {
   "cell_type": "markdown",
   "metadata": {},
   "source": [
    "### unlucky\n",
    "\n",
    "If the original excel file is a glorious mess of colors, fonts, more than on table per sheet, and so on you may still be able to recover the information using [tidyxl](https://github.com/nacnudus/tidyxl). This one does not come with the tidyverse, and you need to install it."
   ]
  },
  {
   "cell_type": "code",
   "execution_count": null,
   "metadata": {},
   "outputs": [],
   "source": [
    "remotes::install_github(\"nacnudus/tidyxl\")"
   ]
  },
  {
   "cell_type": "markdown",
   "metadata": {},
   "source": [
    "Open the file \"titanic.xlsx\" with excel (or numbers or any other spreadsheet program) and look at its structure. Then open it with tidyxl. Instead of producing a table, every non-empty cell in the excel file is recorded with its address (row number and column letter in excel), the content, the colour, and all its information. Then it is up to you to use that information wisely :-) This is one of the most advanced areas of wrangling, it is so because spreadsheet offer a lot of freedom to users, and users use all that freedom to write data in very creative ways. Your task is often that of taming that creativity and producing a rigidly structured dataframe. It is hard job.\n",
    "\n",
    "A good resource is this online free book by the developers of `tidyxl` (and `unpivotr`): https://nacnudus.github.io/spreadsheet-munging-strategies/"
   ]
  },
  {
   "cell_type": "code",
   "execution_count": null,
   "metadata": {},
   "outputs": [],
   "source": [
    "library(tidyxl)\n",
    "titanic <- xlsx_cells(\"titanic.xlsx\")\n",
    "titanic %>% glimpse()"
   ]
  },
  {
   "cell_type": "markdown",
   "metadata": {},
   "source": [
    "If we want to look at the 1st row and ist content, we can operate on `titanic` (which is dataframe)."
   ]
  },
  {
   "cell_type": "code",
   "execution_count": null,
   "metadata": {},
   "outputs": [],
   "source": [
    "titanic %>%\n",
    "  slice(1) %>%\n",
    "  glimpse()"
   ]
  },
  {
   "cell_type": "markdown",
   "metadata": {},
   "source": [
    "The only non empty cell in the first row is the \"C1\" (row 1, col 3). It contains some characters. Let's extract its text."
   ]
  },
  {
   "cell_type": "code",
   "execution_count": null,
   "metadata": {},
   "outputs": [],
   "source": [
    "titanic %>%\n",
    "  slice(1) %>%\n",
    "  select(address,row,col,character)"
   ]
  },
  {
   "cell_type": "markdown",
   "metadata": {},
   "source": [
    "### Your turn, try with another row and see what it contains."
   ]
  },
  {
   "cell_type": "code",
   "execution_count": null,
   "metadata": {},
   "outputs": [],
   "source": [
    "# your code here"
   ]
  },
  {
   "cell_type": "markdown",
   "metadata": {},
   "source": [
    "If you want to become a excel-to-R ninja (which is quite a good idea, given the amount of valuable data sleeping in companies' excel files) read more. Similar project you may want to look into are [unpivotr](https://nacnudus.github.io/unpivotr/) and [jailbreaker](https://github.com/rsheets/jailbreakr)."
   ]
  },
  {
   "cell_type": "markdown",
   "metadata": {},
   "source": [
    "## Write excel\n",
    "\n",
    "If you ever want to write to an excel (maybe because your colleague do work just using excel and you are trying to bring smoothly them to R), [writexl](https://github.com/ropensci/writexl) is what you are looking for."
   ]
  },
  {
   "cell_type": "code",
   "execution_count": null,
   "metadata": {},
   "outputs": [],
   "source": [
    "remotes::install_github(\"ropensci/writexl\")"
   ]
  },
  {
   "cell_type": "markdown",
   "metadata": {},
   "source": [
    "The behaviour of its main function `write_xlsx()` is similar to `write_csv()`."
   ]
  },
  {
   "cell_type": "code",
   "execution_count": null,
   "metadata": {},
   "outputs": [],
   "source": [
    "library(writexl)\n",
    "challenge %>% write_xlsx(path = \"challenge2.xlsx\")"
   ]
  },
  {
   "cell_type": "code",
   "execution_count": null,
   "metadata": {},
   "outputs": [],
   "source": [
    "read_excel(\"challenge2.xlsx\",\n",
    "          guess_max = 1001) %>%\n",
    "glimpse()"
   ]
  }
 ],
 "metadata": {
  "kernelspec": {
   "display_name": "R",
   "language": "R",
   "name": "ir"
  },
  "language_info": {
   "codemirror_mode": "r",
   "file_extension": ".r",
   "mimetype": "text/x-r-source",
   "name": "R",
   "pygments_lexer": "r",
   "version": "3.4.4"
  }
 },
 "nbformat": 4,
 "nbformat_minor": 4
}
