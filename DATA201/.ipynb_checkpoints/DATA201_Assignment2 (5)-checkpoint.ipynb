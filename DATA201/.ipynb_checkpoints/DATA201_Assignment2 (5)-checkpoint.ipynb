{
 "cells": [
  {
   "cell_type": "markdown",
   "metadata": {},
   "source": [
    "# Data 201\n",
    "\n",
    "Data Wrangling, S2 2019\n",
    "\n",
    "## Assignement 2\n",
    "\n",
    "### 20% of final grade\n",
    "\n",
    "## Due date: 1pm Tuesday 1 October 2019\n",
    "\n",
    "The assignment must be submitted on the DATA 201 and 422 Learn page and should be **your own pair** (or group of three if we are odd) **work**. Avoid plagiarism: if you are not sure what may constitute code plagiarism, read this http://web.science.mq.edu.au/~mtaylor/ponline/index.php?id=source-code-plagiarism. Remember, when in doubt **declare your sources**.  \n",
    "As a general rule, late submission are **highly** unsuggested. The pace of the course is very quick, and you don't want to be working on this too long, as you would have less time for other assignments. I suggest you to submit what you have ready by the time the assignment is due, even if it is not everything we required. For any particular problem, please contact [Thomas Li](thomas.li@canterbury.ac.nz) or [Giulio Dalla Riva](giulio.dallariva@canterbury.ac.nz) or TAs.\n",
    "\n",
    "\n",
    "## Instruction\n",
    "\n",
    "### Total: 20 marks.\n",
    "\n",
    "For this assignment you will work with data from the web. Your goal is to scrape it or request it, wrangle it, produce some plotting, in order to demonstrate that you are able to use the functions, plotting, and markdown format we have been learning.  \n",
    "You shall hand in your work as a jupyter R notebook comprehending the code, the plots and, **very important**, enough comments and explanations for us to understand what you did, how you did it, and why you did it. Remember: better comments, means better marks.  \n",
    "You can either modify this notebook or write a new one from scratch."
   ]
  },
  {
   "cell_type": "markdown",
   "metadata": {},
   "source": [
    "Do use the tidyverse syntax that's introduced in class and labs. If in doubt, refresh the lab material 1 to 7."
   ]
  },
  {
   "cell_type": "code",
   "execution_count": 1,
   "metadata": {},
   "outputs": [
    {
     "name": "stderr",
     "output_type": "stream",
     "text": [
      "── \u001b[1mAttaching packages\u001b[22m ─────────────────────────────────────── tidyverse 1.2.1 ──\n",
      "\u001b[32m✔\u001b[39m \u001b[34mggplot2\u001b[39m 3.2.0     \u001b[32m✔\u001b[39m \u001b[34mpurrr  \u001b[39m 0.3.2\n",
      "\u001b[32m✔\u001b[39m \u001b[34mtibble \u001b[39m 2.1.3     \u001b[32m✔\u001b[39m \u001b[34mdplyr  \u001b[39m 0.8.3\n",
      "\u001b[32m✔\u001b[39m \u001b[34mtidyr  \u001b[39m 0.8.3     \u001b[32m✔\u001b[39m \u001b[34mstringr\u001b[39m 1.4.0\n",
      "\u001b[32m✔\u001b[39m \u001b[34mreadr  \u001b[39m 1.3.1     \u001b[32m✔\u001b[39m \u001b[34mforcats\u001b[39m 0.4.0\n",
      "── \u001b[1mConflicts\u001b[22m ────────────────────────────────────────── tidyverse_conflicts() ──\n",
      "\u001b[31m✖\u001b[39m \u001b[34mdplyr\u001b[39m::\u001b[32mfilter()\u001b[39m masks \u001b[34mstats\u001b[39m::filter()\n",
      "\u001b[31m✖\u001b[39m \u001b[34mdplyr\u001b[39m::\u001b[32mlag()\u001b[39m    masks \u001b[34mstats\u001b[39m::lag()\n",
      "Loading required package: xml2\n",
      "\n",
      "Attaching package: ‘rvest’\n",
      "\n",
      "The following object is masked from ‘package:purrr’:\n",
      "\n",
      "    pluck\n",
      "\n",
      "The following object is masked from ‘package:readr’:\n",
      "\n",
      "    guess_encoding\n",
      "\n",
      "\n",
      "Attaching package: ‘magrittr’\n",
      "\n",
      "The following object is masked from ‘package:purrr’:\n",
      "\n",
      "    set_names\n",
      "\n",
      "The following object is masked from ‘package:tidyr’:\n",
      "\n",
      "    extract\n",
      "\n"
     ]
    }
   ],
   "source": [
    "library(tidyverse)\n",
    "library(rvest)\n",
    "library(polite)\n",
    "library(magrittr) # used for extract2\n",
    "library(stringr) # this is like string.h from C"
   ]
  },
  {
   "cell_type": "markdown",
   "metadata": {},
   "source": [
    "### Task (a): scrape it (5 marks)\n",
    "\n",
    "Identify a website page showing information you find interesting. The information should be presented across more than one page. Select one of this pages (the rest is for later) and using `rvest` (and the suit of `tidyverse` libraries we used so far, plus any other one you may need) get the html into R."
   ]
  },
  {
   "cell_type": "code",
   "execution_count": 48,
   "metadata": {},
   "outputs": [],
   "source": [
    "url <- 'https://www.haagendazs.us/products/spirits/amaretto-black-cherry-almond-non-dairy'"
   ]
  },
  {
   "cell_type": "code",
   "execution_count": 49,
   "metadata": {},
   "outputs": [],
   "source": [
    "mayuko <- url %>% read_html()"
   ]
  },
  {
   "cell_type": "code",
   "execution_count": 50,
   "metadata": {},
   "outputs": [],
   "source": [
    "ice_cream_name <- mayuko %>% html_nodes(\"h1\") %>% html_text()\n",
    "\n",
    "p_all <- mayuko %>% html_nodes(\"span\") %>% extract2(10) %>% html_text()\n",
    "ice_cream_desc <- p_all %>% str_replace_all('\\n', ' ') %>% str_replace_all('  ', '')"
   ]
  },
  {
   "cell_type": "code",
   "execution_count": 51,
   "metadata": {},
   "outputs": [],
   "source": [
    "nutrition_info <- mayuko %>% \n",
    "    html_node(\"table\")"
   ]
  },
  {
   "cell_type": "markdown",
   "metadata": {},
   "source": [
    "### Task (b): wrangle it (5 marks)\n",
    "\n",
    "\n",
    "Working on the page from task (a), transform the data you collected into relational data model (that is, one or more data frames). WARNING: you will need to think and motivate how you are doing this in terms of the **data model** you are trying to build; just throwing everything in a table is not enough."
   ]
  },
  {
   "cell_type": "code",
   "execution_count": 52,
   "metadata": {},
   "outputs": [],
   "source": [
    "nutrition_info_columns <- nutrition_info %>% \n",
    "    html_nodes(\"th\") %>% \n",
    "    html_text()"
   ]
  },
  {
   "cell_type": "code",
   "execution_count": 53,
   "metadata": {},
   "outputs": [],
   "source": [
    "nutrition_info_values <- nutrition_info %>% \n",
    "    html_nodes(\"td.amount\") %>% \n",
    "    html_text() %>% \n",
    "    str_replace_all('\\\\(.*', \"\") %>% \n",
    "    as.numeric()"
   ]
  },
  {
   "cell_type": "code",
   "execution_count": 60,
   "metadata": {},
   "outputs": [
    {
     "data": {
      "text/html": [
       "<table>\n",
       "<caption>A tibble: 1 × 11</caption>\n",
       "<thead>\n",
       "\t<tr><th scope=col>Name</th><th scope=col>Description</th><th scope=col>Cholesterol</th><th scope=col>Dietary fiber</th><th scope=col>Protein</th><th scope=col>Saturated fat</th><th scope=col>Sodium</th><th scope=col>Sugar</th><th scope=col>Total carbohydrate</th><th scope=col>Total fat</th><th scope=col>Trans fat</th></tr>\n",
       "\t<tr><th scope=col>&lt;chr&gt;</th><th scope=col>&lt;chr&gt;</th><th scope=col>&lt;dbl&gt;</th><th scope=col>&lt;dbl&gt;</th><th scope=col>&lt;dbl&gt;</th><th scope=col>&lt;dbl&gt;</th><th scope=col>&lt;dbl&gt;</th><th scope=col>&lt;dbl&gt;</th><th scope=col>&lt;dbl&gt;</th><th scope=col>&lt;dbl&gt;</th><th scope=col>&lt;dbl&gt;</th></tr>\n",
       "</thead>\n",
       "<tbody>\n",
       "\t<tr><td>Amaretto Black Cherry Almond</td><td> Rich black cherry jam and sweet almond toffee pieces are folded into our non-dairy dessert that’s infused with a nutty Amaretto. *Contains Less Than 0.5% Alcohol by Volume. </td><td>0</td><td>2</td><td>3</td><td>2</td><td>210</td><td>32</td><td>49</td><td>12</td><td>0</td></tr>\n",
       "</tbody>\n",
       "</table>\n"
      ],
      "text/latex": [
       "A tibble: 1 × 11\n",
       "\\begin{tabular}{r|lllllllllll}\n",
       " Name & Description & Cholesterol & Dietary fiber & Protein & Saturated fat & Sodium & Sugar & Total carbohydrate & Total fat & Trans fat\\\\\n",
       " <chr> & <chr> & <dbl> & <dbl> & <dbl> & <dbl> & <dbl> & <dbl> & <dbl> & <dbl> & <dbl>\\\\\n",
       "\\hline\n",
       "\t Amaretto Black Cherry Almond &  Rich black cherry jam and sweet almond toffee pieces are folded into our non-dairy dessert that’s infused with a nutty Amaretto. *Contains Less Than 0.5\\% Alcohol by Volume.  & 0 & 2 & 3 & 2 & 210 & 32 & 49 & 12 & 0\\\\\n",
       "\\end{tabular}\n"
      ],
      "text/markdown": [
       "\n",
       "A tibble: 1 × 11\n",
       "\n",
       "| Name &lt;chr&gt; | Description &lt;chr&gt; | Cholesterol &lt;dbl&gt; | Dietary fiber &lt;dbl&gt; | Protein &lt;dbl&gt; | Saturated fat &lt;dbl&gt; | Sodium &lt;dbl&gt; | Sugar &lt;dbl&gt; | Total carbohydrate &lt;dbl&gt; | Total fat &lt;dbl&gt; | Trans fat &lt;dbl&gt; |\n",
       "|---|---|---|---|---|---|---|---|---|---|---|\n",
       "| Amaretto Black Cherry Almond |  Rich black cherry jam and sweet almond toffee pieces are folded into our non-dairy dessert that’s infused with a nutty Amaretto. *Contains Less Than 0.5% Alcohol by Volume.  | 0 | 2 | 3 | 2 | 210 | 32 | 49 | 12 | 0 |\n",
       "\n"
      ],
      "text/plain": [
       "  Name                        \n",
       "1 Amaretto Black Cherry Almond\n",
       "  Description                                                                                                                                                                   \n",
       "1  Rich black cherry jam and sweet almond toffee pieces are folded into our non-dairy dessert that’s infused with a nutty Amaretto. *Contains Less Than 0.5% Alcohol by Volume. \n",
       "  Cholesterol Dietary fiber Protein Saturated fat Sodium Sugar\n",
       "1 0           2             3       2             210    32   \n",
       "  Total carbohydrate Total fat Trans fat\n",
       "1 49                 12        0        "
      ]
     },
     "metadata": {},
     "output_type": "display_data"
    }
   ],
   "source": [
    "tibble( \n",
    "    Name = ice_cream_name,\n",
    "    Description = ice_cream_desc,\n",
    "    x = nutrition_info_columns,\n",
    "    y = nutrition_info_values\n",
    ") %>% \n",
    "    spread(x, y)"
   ]
  },
  {
   "cell_type": "code",
   "execution_count": 69,
   "metadata": {},
   "outputs": [],
   "source": [
    "get_ice_cream_name = function(page) {\n",
    "    page %>% \n",
    "        html_nodes(\"h1\") %>% \n",
    "        html_text() %>%\n",
    "        return()\n",
    "}"
   ]
  },
  {
   "cell_type": "code",
   "execution_count": 68,
   "metadata": {},
   "outputs": [],
   "source": [
    "get_ice_cream_desc = function(page) {\n",
    "    p_all <- page %>% html_nodes(\"span\") %>% extract2(10) %>% html_text()\n",
    "    ice_cream_desc <- p_all %>% str_replace_all('\\n', ' ') %>% str_replace_all('  ', '')\n",
    "    ice_cream_desc %>% return()\n",
    "}"
   ]
  },
  {
   "cell_type": "code",
   "execution_count": 71,
   "metadata": {},
   "outputs": [],
   "source": [
    "get_nutrition_table = function(page) {\n",
    "    page %>% \n",
    "        html_node(\"table\") %>% \n",
    "        return()\n",
    "}"
   ]
  },
  {
   "cell_type": "code",
   "execution_count": 72,
   "metadata": {},
   "outputs": [],
   "source": [
    "get_nutrition_contents = function(nutrition_table) {\n",
    "    nutrition_table %>% \n",
    "        html_nodes(\"th\") %>% \n",
    "        html_text() %>%\n",
    "        return()\n",
    "}"
   ]
  },
  {
   "cell_type": "code",
   "execution_count": 73,
   "metadata": {},
   "outputs": [],
   "source": [
    "get_nutrition_values = function(nutrition_table) {\n",
    "    nutrition_table %>% \n",
    "        html_nodes(\"td.amount\") %>% \n",
    "        html_text() %>% \n",
    "        str_replace_all('\\\\(.*', \"\") %>% \n",
    "        as.numeric() %>%\n",
    "        return()\n",
    "}"
   ]
  },
  {
   "cell_type": "code",
   "execution_count": 74,
   "metadata": {},
   "outputs": [
    {
     "data": {
      "text/html": [
       "<table>\n",
       "<caption>A tibble: 1 × 11</caption>\n",
       "<thead>\n",
       "\t<tr><th scope=col>Name</th><th scope=col>Description</th><th scope=col>Cholesterol</th><th scope=col>Dietary fiber</th><th scope=col>Protein</th><th scope=col>Saturated fat</th><th scope=col>Sodium</th><th scope=col>Sugar</th><th scope=col>Total carbohydrate</th><th scope=col>Total fat</th><th scope=col>Trans fat</th></tr>\n",
       "\t<tr><th scope=col>&lt;chr&gt;</th><th scope=col>&lt;chr&gt;</th><th scope=col>&lt;dbl&gt;</th><th scope=col>&lt;dbl&gt;</th><th scope=col>&lt;dbl&gt;</th><th scope=col>&lt;dbl&gt;</th><th scope=col>&lt;dbl&gt;</th><th scope=col>&lt;dbl&gt;</th><th scope=col>&lt;dbl&gt;</th><th scope=col>&lt;dbl&gt;</th><th scope=col>&lt;dbl&gt;</th></tr>\n",
       "</thead>\n",
       "<tbody>\n",
       "\t<tr><td>Cookies and Cream Ice Cream</td><td> Pieces of rich, chocolaty cookies are dunked in delicious, creamy vanilla ice cream to satisfy the milk-and-cookies kid in all of us.</td><td>0</td><td>2</td><td>3</td><td>2</td><td>210</td><td>32</td><td>49</td><td>12</td><td>0</td></tr>\n",
       "</tbody>\n",
       "</table>\n"
      ],
      "text/latex": [
       "A tibble: 1 × 11\n",
       "\\begin{tabular}{r|lllllllllll}\n",
       " Name & Description & Cholesterol & Dietary fiber & Protein & Saturated fat & Sodium & Sugar & Total carbohydrate & Total fat & Trans fat\\\\\n",
       " <chr> & <chr> & <dbl> & <dbl> & <dbl> & <dbl> & <dbl> & <dbl> & <dbl> & <dbl> & <dbl>\\\\\n",
       "\\hline\n",
       "\t Cookies and Cream Ice Cream &  Pieces of rich, chocolaty cookies are dunked in delicious, creamy vanilla ice cream to satisfy the milk-and-cookies kid in all of us. & 0 & 2 & 3 & 2 & 210 & 32 & 49 & 12 & 0\\\\\n",
       "\\end{tabular}\n"
      ],
      "text/markdown": [
       "\n",
       "A tibble: 1 × 11\n",
       "\n",
       "| Name &lt;chr&gt; | Description &lt;chr&gt; | Cholesterol &lt;dbl&gt; | Dietary fiber &lt;dbl&gt; | Protein &lt;dbl&gt; | Saturated fat &lt;dbl&gt; | Sodium &lt;dbl&gt; | Sugar &lt;dbl&gt; | Total carbohydrate &lt;dbl&gt; | Total fat &lt;dbl&gt; | Trans fat &lt;dbl&gt; |\n",
       "|---|---|---|---|---|---|---|---|---|---|---|\n",
       "| Cookies and Cream Ice Cream |  Pieces of rich, chocolaty cookies are dunked in delicious, creamy vanilla ice cream to satisfy the milk-and-cookies kid in all of us. | 0 | 2 | 3 | 2 | 210 | 32 | 49 | 12 | 0 |\n",
       "\n"
      ],
      "text/plain": [
       "  Name                       \n",
       "1 Cookies and Cream Ice Cream\n",
       "  Description                                                                                                                           \n",
       "1  Pieces of rich, chocolaty cookies are dunked in delicious, creamy vanilla ice cream to satisfy the milk-and-cookies kid in all of us.\n",
       "  Cholesterol Dietary fiber Protein Saturated fat Sodium Sugar\n",
       "1 0           2             3       2             210    32   \n",
       "  Total carbohydrate Total fat Trans fat\n",
       "1 49                 12        0        "
      ]
     },
     "metadata": {},
     "output_type": "display_data"
    }
   ],
   "source": [
    "create_ice_cream_table = function(url) {\n",
    "    page <- url %>% read_html()\n",
    "    ice_cream_name <- get_ice_cream_name(page)\n",
    "    ice_cream_desc <- get_ice_cream_desc(page)\n",
    "    nutrition_table <- get_nutrition_table(page)\n",
    "    nutrition_contents <- get_nutrition_contents(nutrition_table)\n",
    "    nutrition_values <- get_nutrition_values(nutrition_table)\n",
    "    \n",
    "    tibble( \n",
    "        Name = ice_cream_name,\n",
    "        Description = ice_cream_desc,\n",
    "        x = nutrition_info_columns,\n",
    "        y = nutrition_info_values\n",
    "    ) %>% \n",
    "        spread(x, y) %>%\n",
    "        return()\n",
    "}\n",
    "\n",
    "create_ice_cream_table(\"https://www.haagendazs.us/products/ice-cream/cookies-and-cream-ice-cream\")"
   ]
  },
  {
   "cell_type": "markdown",
   "metadata": {},
   "source": [
    "### Task (c): automate it (5 marks)\n",
    "\n",
    "Now it's the time to scrape everything else in the website. Turn your code for tasks (a) and (b) into a function and using `purrr` (and its `map_` functions, possibly in combination with `possibly`) apply that function to all the pages you are interested in (as we have done in lab 6); the output of the task should be a relation dataset (i.e., one or more dataframes, and if more than one, explicit their relationships)."
   ]
  },
  {
   "cell_type": "code",
   "execution_count": 56,
   "metadata": {},
   "outputs": [],
   "source": [
    "url <- \"https://www.haagendazs.us/products/ice-cream\""
   ]
  },
  {
   "cell_type": "code",
   "execution_count": 75,
   "metadata": {},
   "outputs": [],
   "source": [
    "mayuko <- url %>% read_html()"
   ]
  },
  {
   "cell_type": "code",
   "execution_count": 78,
   "metadata": {},
   "outputs": [
    {
     "data": {
      "text/plain": [
       "{xml_nodeset (5)}\n",
       "[1] <a id=\"main-content\"></a>\n",
       "[2] <a href=\"#\" class=\"nutritional-table\"> See nutritional information </a>\n",
       "[3] <a href=\"#\" class=\"close\">X</a>\n",
       "[4] <a href=\"/products/spirits\" rel=\"bookmark\">\\n      <div class=\"content\">\\ ...\n",
       "[5] <a href=\"/products/?c=exotic\">\\n        <div class=\"copy\">\\n          <h3 ..."
      ]
     },
     "metadata": {},
     "output_type": "display_data"
    }
   ],
   "source": [
    "mayuko %>% html_nodes(\"div.main-container\") %>% html_nodes(\"a\")"
   ]
  },
  {
   "cell_type": "markdown",
   "metadata": {},
   "source": [
    "### Task (d): plot it (2 marks)\n",
    "\n",
    "Use graphics (via `ggplot`) to represent the data you collected in a meaningful way."
   ]
  },
  {
   "cell_type": "code",
   "execution_count": 57,
   "metadata": {},
   "outputs": [],
   "source": [
    "# your answer here"
   ]
  },
  {
   "cell_type": "markdown",
   "metadata": {},
   "source": [
    "### Task (e): APIs (2 marks)\n",
    "\n",
    "Identify a web service offering data through an API. Access the API using `httr` and collect the information you care about. Convert the data into a dataframe (or more than one). Represent it graphically in a meaningful way."
   ]
  },
  {
   "cell_type": "code",
   "execution_count": 58,
   "metadata": {},
   "outputs": [],
   "source": [
    "# your answer here"
   ]
  },
  {
   "cell_type": "markdown",
   "metadata": {},
   "source": [
    "### Comment, explain and present the work in a clear way (1 marks)"
   ]
  }
 ],
 "metadata": {
  "kernelspec": {
   "display_name": "R",
   "language": "R",
   "name": "ir"
  },
  "language_info": {
   "codemirror_mode": "r",
   "file_extension": ".r",
   "mimetype": "text/x-r-source",
   "name": "R",
   "pygments_lexer": "r",
   "version": "3.6.1"
  }
 },
 "nbformat": 4,
 "nbformat_minor": 4
}
