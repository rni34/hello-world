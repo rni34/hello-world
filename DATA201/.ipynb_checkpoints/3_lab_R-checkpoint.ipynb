{
 "cells": [
  {
   "cell_type": "markdown",
   "metadata": {},
   "source": [
    "# Grouped Mutation"
   ]
  },
  {
   "cell_type": "markdown",
   "metadata": {},
   "source": [
    "We can use the variables within a dataframe to group together observation and operate on groups.\n",
    "\n",
    "The function we will use are `group_by`, to define the group, `mutate()`, to create new variable (we have already seen this one!), and `summarise()`, to reduce a dataframe compressing each group into one row."
   ]
  },
  {
   "cell_type": "code",
   "execution_count": null,
   "metadata": {},
   "outputs": [],
   "source": [
    "library(tidyverse)\n",
    "library(singer)\n",
    "library(skimr)"
   ]
  },
  {
   "cell_type": "markdown",
   "metadata": {},
   "source": [
    "Consider the usual `singer_locations` example (and let's get rid of the zero years). One of the variable is `year`. We can use it to group the dataframe."
   ]
  },
  {
   "cell_type": "code",
   "execution_count": null,
   "metadata": {},
   "outputs": [],
   "source": [
    "sl <- singer_locations %>%\n",
    "  filter(year != 0)\n",
    "\n",
    "sl %>%\n",
    "  group_by(year) %>%\n",
    "  head()"
   ]
  },
  {
   "cell_type": "markdown",
   "metadata": {},
   "source": [
    "Wait, this is **exactly** the same output we get when we don't group. Well, yes. The grouping is almost invisible. We can notice it if we look at the `class()` of the dataframe"
   ]
  },
  {
   "cell_type": "code",
   "execution_count": null,
   "metadata": {},
   "outputs": [],
   "source": [
    "sl %>% class()\n",
    "sl %>% group_by(year) %>% class()"
   ]
  },
  {
   "cell_type": "markdown",
   "metadata": {},
   "source": [
    "Yet, the grouping makes a lot of difference when we operate on the dataframe!  \n",
    "Let's use the function `summarise()` to see it."
   ]
  },
  {
   "cell_type": "code",
   "execution_count": null,
   "metadata": {},
   "outputs": [],
   "source": [
    "sl %>%\n",
    "  summarise(median_hotttnesss = median(artist_hotttnesss))"
   ]
  },
  {
   "cell_type": "markdown",
   "metadata": {},
   "source": [
    "The function `summarise()` took the full column of `artist_hotttnesss` and computed the mean. One column, on value. However, if we group:"
   ]
  },
  {
   "cell_type": "code",
   "execution_count": null,
   "metadata": {},
   "outputs": [],
   "source": [
    "sl %>%\n",
    "  group_by(year) %>%\n",
    "  summarise(median_hotttnesss = median(artist_hotttnesss)) %>%\n",
    "  head()"
   ]
  },
  {
   "cell_type": "markdown",
   "metadata": {},
   "source": [
    "Now we have one median for each year! Neat! We can use it to do some plotting:"
   ]
  },
  {
   "cell_type": "code",
   "execution_count": null,
   "metadata": {},
   "outputs": [],
   "source": [
    "sl %>%\n",
    "  group_by(year) %>%\n",
    "  summarise(median_hotttnesss = median(artist_hotttnesss)) %>%\n",
    "  ggplot(aes(x = year, y = median_hotttnesss)) +\n",
    "  geom_point() + theme_minimal()"
   ]
  },
  {
   "cell_type": "markdown",
   "metadata": {},
   "source": [
    "Without the grouping, we would have plotted many points for every year (one for each song in that year).\n",
    "\n",
    "Arguably, it is easier to see a possible trend in the previous plot than in the following."
   ]
  },
  {
   "cell_type": "code",
   "execution_count": null,
   "metadata": {},
   "outputs": [],
   "source": [
    "sl %>%\n",
    "  ggplot(aes(x = year, y = artist_hotttnesss)) +\n",
    "  geom_point() + theme_minimal()"
   ]
  },
  {
   "cell_type": "markdown",
   "metadata": {},
   "source": [
    "## Your turn!"
   ]
  },
  {
   "cell_type": "markdown",
   "metadata": {},
   "source": [
    "Compute the median song duration for each city and find the city with shortest and longest songs.  \n",
    "You will need to use `group_by()`, yet you can modify the code we just used."
   ]
  },
  {
   "cell_type": "code",
   "execution_count": null,
   "metadata": {},
   "outputs": [],
   "source": [
    "# your code here."
   ]
  },
  {
   "cell_type": "markdown",
   "metadata": {},
   "source": [
    "## Challenge 1: your turn!\n",
    "\n",
    "- Produce two new variables that are the rounding of latitude and longitude (you decide the rounding).  \n",
    "- Group artists by the new rounded latitude and longitude. \n",
    "- Use `tally()` to count how many rows fall in each group\n",
    "- Arrange by `n`umber of songs in each group"
   ]
  },
  {
   "cell_type": "code",
   "execution_count": null,
   "metadata": {},
   "outputs": [],
   "source": [
    "# your code here.\n",
    "# proposed solution (don't look at them yet!) at the end of the document."
   ]
  },
  {
   "cell_type": "markdown",
   "metadata": {},
   "source": [
    "# Wide, Long, Tidy, Groupy"
   ]
  },
  {
   "cell_type": "markdown",
   "metadata": {},
   "source": [
    "Dataframes can have differen shape: some are longer, some are wider, some are messy, some are tidy.  \n",
    "\n",
    "Consider for examples the two following dataframes."
   ]
  },
  {
   "cell_type": "markdown",
   "metadata": {},
   "source": [
    "The dataframes will contain information about the best band in certain decades for a certain musical style.  \n",
    "The choice is mine ;-)"
   ]
  },
  {
   "cell_type": "code",
   "execution_count": null,
   "metadata": {},
   "outputs": [],
   "source": [
    "long_df <- tibble(\n",
    "  Style = c(\"punk\",\"punk\",\"punk\",\"metal\",\"metal\",\"metal\"),\n",
    "  Decade = c(1980,1990,2000,1980,1990,2000),\n",
    "  Band = c(\"Ramones\",\"Pennywise\",\"Black Flag\",\"Metallica\",\"Sepultura\",\"Gojira\")\n",
    ")\n",
    "wide_df <- tibble(\n",
    "  Style = c(\"punk\",\"metal\"),\n",
    "  `1980` = c(\"Ramones\",\"Metallica\"),\n",
    "  `1990` = c(\"Pennywise\",\"Sepultura\"),\n",
    "  `2000` = c(\"Black Flag\",\"Gojira\")\n",
    ")\n",
    "long_df\n",
    "wide_df"
   ]
  },
  {
   "cell_type": "markdown",
   "metadata": {},
   "source": [
    "## Reflect:\n",
    "Do the two dataframe contain the same information?\n",
    "  \n",
    "    \n",
    "     \n",
    "     \n",
    "     \n",
    "> your answer here"
   ]
  },
  {
   "cell_type": "markdown",
   "metadata": {},
   "source": [
    "In fact, we can go from one shape to the other of that dataframe without loosing information.\n",
    "\n",
    "To go from the long (many rows) to the wide (many columns) format we use `spread()`."
   ]
  },
  {
   "cell_type": "code",
   "execution_count": null,
   "metadata": {},
   "outputs": [],
   "source": [
    "long_df %>%\n",
    "  spread(key = Decade,\n",
    "         value = Band)"
   ]
  },
  {
   "cell_type": "code",
   "execution_count": null,
   "metadata": {},
   "outputs": [],
   "source": [
    "wide_df %>%\n",
    "  gather(key = Decade,\n",
    "         value = Band,\n",
    "         -Style)"
   ]
  },
  {
   "cell_type": "markdown",
   "metadata": {},
   "source": [
    "Yet, consider the following dataframe, where we added one metal band in the 1980s."
   ]
  },
  {
   "cell_type": "code",
   "execution_count": null,
   "metadata": {},
   "outputs": [],
   "source": [
    "long_df_2 <- long_df %>%\n",
    " add_row(\n",
    "   Style = \"metal\", Decade = 1980, Band = \"Megadeth\"\n",
    " )\n",
    "long_df_2"
   ]
  },
  {
   "cell_type": "markdown",
   "metadata": {},
   "source": [
    "If we try to go back to the wide format:"
   ]
  },
  {
   "cell_type": "code",
   "execution_count": null,
   "metadata": {},
   "outputs": [],
   "source": [
    "long_df_2 %>%\n",
    "  spread(key = Decade,\n",
    "         value = Band)"
   ]
  },
  {
   "cell_type": "markdown",
   "metadata": {},
   "source": [
    "We get an error: in the wide format there was space only for 1 band in Metal, 1980.  \n",
    "In the long format, we can have many.\n",
    "\n",
    "Think about the `Style` and `Decade` as the \"address\" of a `band`.  \n",
    "If every band has a unique \"address\", then we can go back and forth between long and wide formats.  \n",
    "\n",
    "In the following example, we will remove part of the \"address\": we will not be able to spread anymore."
   ]
  },
  {
   "cell_type": "code",
   "execution_count": null,
   "metadata": {},
   "outputs": [],
   "source": [
    "long_df %>%\n",
    "  select(-Style) %>%\n",
    "  spread(key = Decade,\n",
    "         value = Band)"
   ]
  },
  {
   "cell_type": "markdown",
   "metadata": {},
   "source": [
    "## Messy data\n",
    "\n",
    "Long and Wide are two position in a more complicated spectru, The following data is arguably more long than wide, but it could also be \"longer\"."
   ]
  },
  {
   "cell_type": "code",
   "execution_count": null,
   "metadata": {},
   "outputs": [],
   "source": [
    "long_df_rank_2 <- long_df_2 %>%\n",
    "  mutate(Albums_in_Decade = c(7,5,1,4,4,4,3))\n",
    "long_df_rank_2\n",
    "\n",
    "long_df_rank <- long_df_rank_2 %>%\n",
    "  filter(Band != \"Megadeth\")\n",
    "long_df_rank"
   ]
  },
  {
   "cell_type": "markdown",
   "metadata": {},
   "source": [
    "Once again, we can not simply go from this long format to the wide format."
   ]
  },
  {
   "cell_type": "code",
   "execution_count": null,
   "metadata": {},
   "outputs": [],
   "source": [
    "long_df_rank %>%\n",
    "  spread(key = Decade,\n",
    "         value = Band)"
   ]
  },
  {
   "cell_type": "markdown",
   "metadata": {},
   "source": [
    "Nope, this is not at all what we wanted.  \n",
    "The information is still there, but we also had to introduce a lot of `NA`s. Moreover, the format is not consistent (some rows have 1 band, 1 row has 4 bands, which happen to have the same number of albums...)\n",
    "\n",
    "To express the same information, we would probably need to use two separate wide dataframes: one for the bands, one for the rankings."
   ]
  },
  {
   "cell_type": "code",
   "execution_count": null,
   "metadata": {},
   "outputs": [],
   "source": [
    "long_df_rank %>%\n",
    "  select(-Albums_in_Decade) %>%\n",
    "  spread(key = Decade,\n",
    "         value = Band)"
   ]
  },
  {
   "cell_type": "code",
   "execution_count": null,
   "metadata": {},
   "outputs": [],
   "source": [
    "long_df_rank %>%\n",
    "  select(-Band) %>%\n",
    "  spread(key = Decade,\n",
    "         value = Albums_in_Decade)"
   ]
  },
  {
   "cell_type": "markdown",
   "metadata": {},
   "source": [
    "Notice that in the above two cells, the roles of `Albums_in_Decade` and `Band` switch.  \n",
    "\n",
    "Dealing with two tables (or dataframes) is more complicated: for one thing, we need to remind what *links* exist between the two tables (in this case: one expresses the name band, the other the associated ranking of that band). **Relational** databases have ways of making those links explicit, but simple tabular data (as dataframes) doesn't. Thus, we need to be more strict about how we represent data in dataframes."
   ]
  },
  {
   "cell_type": "markdown",
   "metadata": {},
   "source": [
    "There's another way data can be messy, and it is by being TOO long:"
   ]
  },
  {
   "cell_type": "code",
   "execution_count": null,
   "metadata": {},
   "outputs": [],
   "source": [
    "messy_df_rank <- data_frame(\n",
    "  Style = rep(c(\"punk\",\"punk\",\"metal\",\"metal\"),3),\n",
    "  Decade = c(rep(1980,4),rep(1990,4),rep(2000,4)),\n",
    "  Information = rep(c(\"Band\",\"Albums_in_Decade\"),6),\n",
    "  Value = c(\"Ramones\",7,\"Metallica\",4,\"Pennywise\",5,\"Sepultura\",4,\"Black Flag\",1,\"Gojira\",4)\n",
    ")\n",
    "messy_df_rank"
   ]
  },
  {
   "cell_type": "markdown",
   "metadata": {},
   "source": [
    "A number of issue are at play in `messy_df_rank`: Most notably, the `typeof()` the `Value` is not uniform. R silently changed the numeric values into characters (and we can't do much math with that!). Moreover, let's consider the next one where we add one \"row\" (actually, two)."
   ]
  },
  {
   "cell_type": "code",
   "execution_count": null,
   "metadata": {},
   "outputs": [],
   "source": [
    "messy_df_rank_2 <- messy_df_rank %>%\n",
    " add_row(\n",
    "   Style = \"metal\", Decade = 1980, Information = \"Band\", Value = \"Megadeth\"\n",
    " ) %>%\n",
    " add_row(\n",
    "   Style = \"metal\", Decade = 1980, Information = \"Albums_in_Decade\", Value = 3\n",
    " )\n",
    "\n",
    "messy_df_rank_2"
   ]
  },
  {
   "cell_type": "markdown",
   "metadata": {},
   "source": [
    "In `long_df_rank` and `long_df_rank_2`, we could always associate a band with its ranking even if the rows where shuffled around or arranged in any other way:"
   ]
  },
  {
   "cell_type": "code",
   "execution_count": null,
   "metadata": {},
   "outputs": [],
   "source": [
    "long_df_rank_2 %>%\n",
    "  sample_frac(1)"
   ]
  },
  {
   "cell_type": "markdown",
   "metadata": {},
   "source": [
    "With a little bit more work, we could do that also for `messy_df_rank`. That is because there was only ONE band for each decade and style."
   ]
  },
  {
   "cell_type": "code",
   "execution_count": null,
   "metadata": {},
   "outputs": [],
   "source": [
    "messy_df_rank %>%\n",
    "  sample_frac(1)"
   ]
  },
  {
   "cell_type": "markdown",
   "metadata": {},
   "source": [
    "Yet, this is not possible anymore for `messy_df_rank_2`:"
   ]
  },
  {
   "cell_type": "code",
   "execution_count": null,
   "metadata": {},
   "outputs": [],
   "source": [
    "messy_df_rank_2 %>%\n",
    "  sample_frac(1)"
   ]
  },
  {
   "cell_type": "markdown",
   "metadata": {},
   "source": [
    "We now have two different MyRanking values (a 7 and a 8), both referring to a 1980 metal observation. Who got the 7 and who the 8?"
   ]
  },
  {
   "cell_type": "markdown",
   "metadata": {},
   "source": [
    "## Wrangling: Your Turn\n",
    "\n",
    "Consider the following dataframe in long format from `singer`"
   ]
  },
  {
   "cell_type": "code",
   "execution_count": null,
   "metadata": {},
   "outputs": [],
   "source": [
    "songs"
   ]
  },
  {
   "cell_type": "markdown",
   "metadata": {},
   "source": [
    "Conver `songs` in a wide format and then back."
   ]
  },
  {
   "cell_type": "markdown",
   "metadata": {},
   "source": [
    "## Tidy data"
   ]
  },
  {
   "cell_type": "markdown",
   "metadata": {},
   "source": [
    "The concept of Tidy Data tries to implements some constraints to prevent common errors.\n",
    "\n",
    "> Tidy data is a standard way of mapping the meaning of a dataset to its structure. A dataset is messy or tidy depending on how rows, columns and tables are matched up with observations, variables and types. In tidy data:\n",
    ">\n",
    ">  -  Each variable forms [one, and only one] column.\n",
    ">  -  Each observation forms a row.\n",
    ">  -  Each type of observation (observational unit) forms a dataframe (table).\n",
    "\n",
    "(from https://tidyr.tidyverse.org/articles/tidy-data.html#tidy-data <- Go and read that chapter!)"
   ]
  },
  {
   "cell_type": "markdown",
   "metadata": {},
   "source": [
    "Thus, the first thing we need to decide in our example is: what is the observational unit.  \n",
    "There's not only one possible answer, but we can provide at least one."
   ]
  },
  {
   "cell_type": "code",
   "execution_count": null,
   "metadata": {},
   "outputs": [],
   "source": [
    "wide_df"
   ]
  },
  {
   "cell_type": "markdown",
   "metadata": {},
   "source": [
    "Every decade we observe, for two different styles, what was my favourite band and what was the my band ranking.  \n",
    "\n",
    "Thus, we can identify the decade as the observational unit.\n",
    "\n",
    "In that case, in the `wide_df` each of the two rows correspond to three different observations. And that's not tidy."
   ]
  },
  {
   "cell_type": "code",
   "execution_count": null,
   "metadata": {},
   "outputs": [],
   "source": [
    "long_df"
   ]
  },
  {
   "cell_type": "markdown",
   "metadata": {},
   "source": [
    "The `long_df` is better. Yet, my taste is to have the variable identifying the main observational unit on the leftmost position."
   ]
  },
  {
   "cell_type": "code",
   "execution_count": null,
   "metadata": {},
   "outputs": [],
   "source": [
    "long_df <- long_df %>%\n",
    "  select(Decade, Style, Band)\n",
    "long_df"
   ]
  },
  {
   "cell_type": "markdown",
   "metadata": {},
   "source": [
    "Notice that `long_df_rank` is still tidy: each row correspond to an observation, each column form on (and only one) column, and we have only one observational unit."
   ]
  },
  {
   "cell_type": "code",
   "execution_count": null,
   "metadata": {},
   "outputs": [],
   "source": [
    "long_df_rank"
   ]
  },
  {
   "cell_type": "markdown",
   "metadata": {},
   "source": [
    "## Reflection\n",
    "\n",
    "Consider the `singer_locations` dataframe. What is the observational unit in that case?"
   ]
  },
  {
   "cell_type": "code",
   "execution_count": null,
   "metadata": {},
   "outputs": [],
   "source": [
    "library(singer)\n",
    "library(skimr)\n",
    "singer_locations %>%\n",
    "  skim() %>% kable()"
   ]
  },
  {
   "cell_type": "markdown",
   "metadata": {},
   "source": [
    "## Avoiding trouble"
   ]
  },
  {
   "cell_type": "markdown",
   "metadata": {},
   "source": [
    "The five most common things that make data messy are:\n",
    "\n",
    "\n",
    "\n",
    " 1.   Column headers are values, not variable names.\n",
    "\n",
    " 2.   Multiple variables are stored in one column.\n",
    "\n",
    " 3.   Variables are stored in both rows and columns.\n",
    "\n",
    " 4.   Multiple types of observational units are stored in the same table.\n",
    "\n",
    " 5.   A single observational unit is stored in multiple tables.\n",
    "\n",
    "(from https://tidyr.tidyverse.org/articles/tidy-data.html#sec:tidying)"
   ]
  },
  {
   "cell_type": "markdown",
   "metadata": {},
   "source": [
    "We saw an violation of `1` in `wide_df`: the years (1980, 1990, 2000) are values, not variable names. We solved it making the dataframe longer.\n",
    "\n",
    "We saw a violation of `1` in `messy_df_rank` and `messy_df_rank_2`: two different variables were stored in the same column. `long_df_rank` and `long_df_rank_2` contain the same information of their messy counterpart but avoid this mistake."
   ]
  },
  {
   "cell_type": "markdown",
   "metadata": {},
   "source": [
    "### Challenge reflection\n",
    "\n",
    "Is singer locations tidy or not? If not, what can you do to make it tidyer?"
   ]
  },
  {
   "cell_type": "markdown",
   "metadata": {},
   "source": [
    "# Join together!"
   ]
  },
  {
   "cell_type": "markdown",
   "metadata": {},
   "source": [
    "As we have seen, a tidy dataframe can not contain all the information we need about our problem.  \n",
    "\n",
    "No worries! We can join two or more dataframes together!\n",
    "\n",
    "In the lab we'll only see a little bit of this, in the next lecture Thomas will go in details."
   ]
  },
  {
   "cell_type": "markdown",
   "metadata": {},
   "source": [
    "Let's go back to one of the tiny examples we saw in lecture 2. The one with John playing the Guitar."
   ]
  },
  {
   "cell_type": "code",
   "execution_count": null,
   "metadata": {},
   "outputs": [],
   "source": [
    "\"instruments\"\n",
    "band_instruments\n",
    "\"members\"\n",
    "band_members"
   ]
  },
  {
   "cell_type": "markdown",
   "metadata": {},
   "source": [
    "We want to know who plays the bass in the Beatles.  \n",
    "We can do it in two different ways:  \n",
    "\n",
    "1) we first look at `band_members`, find who plays in the Beatles, remember those names; then, with those names in mind we look at the `band_instruments` and see what those musicians play.  \n",
    "2) we first look at `band_instruments`, find who plays the bass, remember those names; then, with those names in mind we look at the `band_members` and see in which band those musicians play.\n",
    "\n",
    "In this particular case the second one is easier (why?). But, the important thing is that one column allows us to bridge one table with the other."
   ]
  },
  {
   "cell_type": "markdown",
   "metadata": {},
   "source": [
    "There are many ways of doing this in R. Now we see one based on `join`ing (_glueing_) the tables together.  \n",
    "Observe what `left_join` does:"
   ]
  },
  {
   "cell_type": "code",
   "execution_count": null,
   "metadata": {},
   "outputs": [],
   "source": [
    "band_members %>%\n",
    " left_join(band_instruments, by = \"name\")"
   ]
  },
  {
   "cell_type": "markdown",
   "metadata": {},
   "source": [
    "This is not exactly what we did in 1), but almost. For any of the name in `band_members` we went to the instruments table and look up what they play. One of the band members name is not in the instruments table, so we indicate with `NA` that we don't have that information. Compare it with `right_join()`, where we first look at the band_instruments table (the dataframe which is written on the right of the join function) and then go back to the members table."
   ]
  },
  {
   "cell_type": "code",
   "execution_count": null,
   "metadata": {},
   "outputs": [],
   "source": [
    "band_members %>%\n",
    " full_join(band_instruments, by = \"name\")"
   ]
  },
  {
   "cell_type": "markdown",
   "metadata": {},
   "source": [
    "## Reflection\n",
    "\n",
    "Can you replicate the functioning of `right_join()` with a `left_join()` changing something else?\n",
    "\n",
    "> your answer here."
   ]
  },
  {
   "cell_type": "markdown",
   "metadata": {},
   "source": [
    "There are many other \"versions\" of `_join()`: you can find theme here: https://dplyr.tidyverse.org/reference/join.html\n",
    "\n",
    "Take a look and try them on band_members and instruments."
   ]
  },
  {
   "cell_type": "markdown",
   "metadata": {},
   "source": [
    "## Challenge 2: your turn!"
   ]
  },
  {
   "cell_type": "markdown",
   "metadata": {},
   "source": [
    "Consider the two following dataframes from `singer`."
   ]
  },
  {
   "cell_type": "code",
   "execution_count": null,
   "metadata": {},
   "outputs": [],
   "source": [
    "locations %>%\n",
    "  glimpse()\n",
    "songs %>%\n",
    "  glimpse()"
   ]
  },
  {
   "cell_type": "markdown",
   "metadata": {},
   "source": [
    "They have some variable in common (which ones?) and some not in common (which ones?). Use `anti_join()` to find which songs are not present in the `locations` dataframe."
   ]
  },
  {
   "cell_type": "code",
   "execution_count": null,
   "metadata": {},
   "outputs": [],
   "source": [
    "# your code here"
   ]
  },
  {
   "cell_type": "markdown",
   "metadata": {},
   "source": [
    "Now use one of the join operator and a `top_n()` to find the release with the oldest song."
   ]
  },
  {
   "cell_type": "code",
   "execution_count": null,
   "metadata": {},
   "outputs": [],
   "source": [
    "# your code here"
   ]
  },
  {
   "cell_type": "markdown",
   "metadata": {},
   "source": [
    "#### WARNING\n",
    "\n",
    "If you keep scrolling, you'll find solutions (one example of solutions) for challenges 1 and 2. Try FIRST to solve them by your own, and only after scroll down!\n",
    "\n",
    "- .\n",
    "- .\n",
    "- .\n",
    "- .\n",
    "- .\n",
    "- .\n",
    "- .\n",
    "- .\n",
    "- .\n",
    "- .\n",
    "- .\n",
    "- .\n",
    "- .\n",
    "- .\n",
    "- .\n",
    "- .\n",
    "- .\n",
    "- .\n",
    "- .\n",
    "- .\n",
    "- .\n",
    "- .\n",
    "- .\n",
    "- .\n",
    "- .\n",
    "- .\n",
    "- .\n",
    "- .\n",
    "- .\n",
    "- .\n",
    "- .\n",
    "- .\n",
    "- .\n",
    "- .\n",
    "- .\n",
    "- .\n",
    "- .\n",
    "- .\n",
    "- .\n",
    "- .\n",
    "- .\n",
    "- .\n",
    "- .\n",
    "- .\n",
    "- .\n",
    "- .\n",
    "- .\n",
    "- .\n",
    "- .\n",
    "- .\n",
    "- .\n",
    "- .\n",
    "- .\n",
    "- .\n",
    "- .\n",
    "- .\n",
    "- .\n",
    "- .\n",
    "- .\n",
    "- .\n",
    "- .\n",
    "- .\n",
    "- .\n",
    "- .\n",
    "- .\n",
    "- .\n",
    "- .\n",
    "- .\n",
    "- .\n",
    "- .\n",
    "- .\n",
    "- .\n",
    "- .\n",
    "- .\n",
    "- .\n",
    "- .\n",
    "- .\n",
    "- .\n",
    "- .\n",
    "- .\n",
    "- .\n",
    "- .\n",
    "- .\n",
    "- .\n",
    "- .\n",
    "- .\n",
    "- .\n",
    "- .\n",
    "- .\n",
    "- .\n",
    "- .\n",
    "- .\n",
    "- .\n",
    "- .\n",
    "- .\n",
    "- .\n",
    "- .\n",
    "- .\n",
    "- .\n",
    "- .\n",
    "- .\n",
    "- .\n",
    "- .\n",
    "- .\n",
    "- .\n",
    "- .\n",
    "- .\n",
    "- .\n",
    "- .\n",
    "- .\n",
    "- .\n",
    "- .\n",
    "- .\n",
    "- .\n",
    "- .\n",
    "- .\n",
    "- .\n",
    "- .\n",
    "- .\n",
    "- .\n",
    "- .\n",
    "- .\n",
    "- .\n",
    "- .\n",
    "- .\n",
    "- .\n",
    "- .\n",
    "- .\n",
    "- .\n",
    "- .\n",
    "- .\n",
    "- .\n",
    "- .\n",
    "- .\n",
    "- .\n",
    "- .\n",
    "- .\n",
    "- .\n",
    "- .\n",
    "- .\n",
    "- .\n",
    "- .\n",
    "- .\n",
    "- ."
   ]
  },
  {
   "cell_type": "markdown",
   "metadata": {},
   "source": [
    "## Solution to Challenge 1"
   ]
  },
  {
   "cell_type": "code",
   "execution_count": null,
   "metadata": {},
   "outputs": [],
   "source": [
    "singer_locations %>% \n",
    "  mutate(lat = latitude %>% round(digits = 0), # round latitude\n",
    "         long = longitude %>% round(digits = 0)) %>% # round longitude\n",
    "  group_by(lat,long) %>% # group by lat and long\n",
    "  filter(!is.na(lat), !is.na(long)) %>% # filter out cities with no information about lat and long\n",
    "  tally() %>% # tally up\n",
    "  arrange(desc(n)) # arrange"
   ]
  },
  {
   "cell_type": "markdown",
   "metadata": {},
   "source": [
    "## Solution to Challenge 2"
   ]
  },
  {
   "cell_type": "code",
   "execution_count": null,
   "metadata": {},
   "outputs": [],
   "source": [
    "songs %>%\n",
    "  anti_join(locations, # with anti_join we preserve only those rows wich values ARE NOT present in both datasets\n",
    "            by = c(\"title\",\"artist_name\")) # we use 2 variables (title and artist_name) to ensure to capture unique combinations"
   ]
  },
  {
   "cell_type": "code",
   "execution_count": null,
   "metadata": {},
   "outputs": [],
   "source": [
    "locations %>%\n",
    "  inner_join(songs, # with inner_join we preserve only those rows wich values ARE present in both datasets\n",
    "             by=c(\"title\",\"artist_name\")) %>% # we use 2 variables (title and artist_name) to ensure to capture unique combinations\n",
    "  top_n(1,desc(year)) # we need to specify \"desc()\" to be sure not to get the most recent release"
   ]
  },
  {
   "cell_type": "code",
   "execution_count": null,
   "metadata": {},
   "outputs": [],
   "source": []
  }
 ],
 "metadata": {
  "kernelspec": {
   "display_name": "R",
   "language": "R",
   "name": "ir"
  },
  "language_info": {
   "codemirror_mode": "r",
   "file_extension": ".r",
   "mimetype": "text/x-r-source",
   "name": "R",
   "pygments_lexer": "r",
   "version": "3.6.1"
  }
 },
 "nbformat": 4,
 "nbformat_minor": 4
}
