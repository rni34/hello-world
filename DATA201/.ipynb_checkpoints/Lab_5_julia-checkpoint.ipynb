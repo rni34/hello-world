{
 "cells": [
  {
   "cell_type": "markdown",
   "metadata": {},
   "source": [
    "# Stringing Julia together with Dates and all the rest"
   ]
  },
  {
   "cell_type": "markdown",
   "metadata": {},
   "source": [
    "Most of the operations that R can do on strings, and more, are available for Julia."
   ]
  },
  {
   "cell_type": "markdown",
   "metadata": {},
   "source": [
    "As the R lab is long, here I only suggest you some readings and activities in Julia."
   ]
  },
  {
   "cell_type": "markdown",
   "metadata": {},
   "source": [
    "**Strings** operations are in the base Julia system. You can read more here: https://docs.julialang.org/en/v1/manual/strings/index.html"
   ]
  },
  {
   "cell_type": "markdown",
   "metadata": {},
   "source": [
    "**Mapping** and **iterations** also are in the base system. You can read more here: https://docs.julialang.org/en/v1/base/collections/\n",
    "Moreover, as Julia gets compiled, loops (for, while, ...) are extremely performing. Where in R it is not suggested to write in Loops, in Julia is perfectly fine :-)"
   ]
  }
 ],
 "metadata": {
  "kernelspec": {
   "display_name": "Julia 1.1.1",
   "language": "julia",
   "name": "julia-1.1"
  },
  "language_info": {
   "file_extension": ".jl",
   "mimetype": "application/julia",
   "name": "julia",
   "version": "1.1.1"
  }
 },
 "nbformat": 4,
 "nbformat_minor": 4
}
