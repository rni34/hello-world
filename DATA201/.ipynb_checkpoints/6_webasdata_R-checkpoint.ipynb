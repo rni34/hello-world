{
 "cells": [
  {
   "cell_type": "markdown",
   "metadata": {},
   "source": [
    "![](https://upload.wikimedia.org/wikipedia/commons/thumb/3/33/Parental_Advisory_label.svg/500px-Parental_Advisory_label.svg.png)"
   ]
  },
  {
   "cell_type": "markdown",
   "metadata": {},
   "source": [
    "This is going to be a long lab. You will probably start now and finish at home. The **highly suggested** browser (or, at least, the one that I'll be using) is [Firefox](https://www.mozilla.org/en-US/firefox/developer/), the developer edition (for the console mode).\n",
    "\n",
    "The goal is to build a little collection of songs from our own preferred artist. Let's say, it's _Beastwars_ (they are great!).  \n",
    "First you will work together through a full example, then I will ask you to do something more!  \n",
    "\n",
    "The lab is organised like this:\n",
    "\n",
    "1.  The Scraping\n",
    "2.  The APIs\n",
    "\n",
    "Part 1. regards web as an unwilling source of data (the information is out there, but it is not explicitly designed for you to harvest it);   \n",
    "Part 2. is mostly the web as willing source of data.\n",
    "\n",
    "Part 1. is more guided, in Part 2. you'll need to navigate autonomously.\n",
    "\n",
    "#### The lab is long, so you may want to alternate between the Julia and the R part a little bit in order to get started on both during the lab time."
   ]
  },
  {
   "cell_type": "markdown",
   "metadata": {},
   "source": [
    "# Scraping"
   ]
  },
  {
   "cell_type": "markdown",
   "metadata": {},
   "source": [
    " A little kicker for the day:"
   ]
  },
  {
   "cell_type": "code",
   "execution_count": null,
   "metadata": {},
   "outputs": [],
   "source": [
    "IRdisplay::display_html('<iframe width=\"560\" height=\"315\" src=\"https://www.youtube.com/embed/M-twENDrwkk\" frameborder=\"0\" allow=\"autoplay; encrypted-media\" allowfullscreen></iframe>')"
   ]
  },
  {
   "cell_type": "markdown",
   "metadata": {},
   "source": [
    "We are going to work in the usual tidyverse framework."
   ]
  },
  {
   "cell_type": "code",
   "execution_count": null,
   "metadata": {},
   "outputs": [],
   "source": [
    "library(tidyverse)"
   ]
  },
  {
   "cell_type": "markdown",
   "metadata": {},
   "source": [
    "We also introduce a bunch of additional packages that we will start to use more."
   ]
  },
  {
   "cell_type": "code",
   "execution_count": null,
   "metadata": {},
   "outputs": [],
   "source": [
    "# install.packages(\"magrittr\")\n",
    "# install.packages(\"purrr\")\n",
    "# install.packages(\"glue\")\n",
    "# install.packages(\"stringr\")\n",
    "library(magrittr) # better handling of pipes\n",
    "library(purrr) # to work with lists and map functions\n",
    "library(glue) # to paste strings\n",
    "library(stringr) # to hand strings"
   ]
  },
  {
   "cell_type": "markdown",
   "metadata": {},
   "source": [
    "As well as some web scraping specific libraries: [rvest](https://github.com/hadley/rvest#rvest) and [polite](https://github.com/dmi3kno/polite#polite-). Spend some minutes reading through the README files in their website."
   ]
  },
  {
   "cell_type": "code",
   "execution_count": null,
   "metadata": {},
   "outputs": [],
   "source": [
    "# install.packages(\"rvest\")\n",
    "# remotes::install_github(\"dmi3kno/polite\")(\"politer\")\n",
    "library(rvest) # rvest makes scraping easier\n",
    "library(polite) # polite is the \"polite\" version of rvest"
   ]
  },
  {
   "cell_type": "markdown",
   "metadata": {},
   "source": [
    "### The lyrics\n",
    "\n",
    "We are going to extract the lyrics from here: https://www.musixmatch.com/ . Chose it because it's rather consistent, and it's from Bologna, Italy (yeah!).\n",
    "\n",
    "The webiste offers the first 15 lyrics up front. That will do for the moment (and fixing that is not that easy). Let's take a look [here](https://www.musixmatch.com/artist/Beastwars#).\n",
    "\n",
    "The webpage you see is **not** the webpage the browser reads: it is the \"parsing\" of the original page. If you want to see the original page you can (in Firefox) right click and select \"View Page Source\". It's a mess. It's a lot of mess. But if you scroll enough you may find that there are information about \"track_id\", \"track_name\", ... It is stored under the label \"attributes\"."
   ]
  },
  {
   "cell_type": "markdown",
   "metadata": {},
   "source": [
    "### Titles\n",
    "\n",
    "First thing first, we would like to get a list of those track titles, so then we'll go and scrape them. Let's see how."
   ]
  },
  {
   "cell_type": "code",
   "execution_count": null,
   "metadata": {},
   "outputs": [],
   "source": [
    "url_titles <- \"https://www.musixmatch.com/artist/Beastwars#\" # this is the base url from where the scraping starts\n",
    "\n",
    "page_title <- read_html(url_titles)"
   ]
  },
  {
   "cell_type": "markdown",
   "metadata": {},
   "source": [
    "`read_html()` reads and parses the webpage into R. What kind of object have we there?"
   ]
  },
  {
   "cell_type": "code",
   "execution_count": null,
   "metadata": {},
   "outputs": [],
   "source": [
    "page_title %>% typeof()\n",
    "page_title %>% glimpse()"
   ]
  },
  {
   "cell_type": "markdown",
   "metadata": {},
   "source": [
    "Mmm, a list: this is how R sees the information in the page. Now it's a good moment to read through this quick introduction to R lists and vectors written by Jenny Brian: https://jennybc.github.io/purrr-tutorial/bk00_vectors-and-lists.html"
   ]
  },
  {
   "cell_type": "code",
   "execution_count": null,
   "metadata": {},
   "outputs": [],
   "source": [
    "page_title"
   ]
  },
  {
   "cell_type": "markdown",
   "metadata": {},
   "source": [
    "OK. It's a document. And in particular an XML document. That's sort of html.  \n",
    "We need to parse the xml in a better way than just diving into the text.  \n",
    "The library `xml2` is there excatly for parsing xml into something more humane.  \n",
    "Let's see a bit more of that page: careful, long output coming!"
   ]
  },
  {
   "cell_type": "code",
   "execution_count": null,
   "metadata": {},
   "outputs": [],
   "source": [
    "page_title %>% html_structure()"
   ]
  },
  {
   "cell_type": "markdown",
   "metadata": {},
   "source": [
    "What is that? How will we ever find what we need inside there?  \n",
    "![](https://media.giphy.com/media/ZkEXisGbMawMg/giphy.gif)\n",
    "\n",
    "To the browser!\n",
    "Press control+shift+i, you will fire up the \"inspector mode\" (if you are in Firefox).  \n",
    "Now press on the button on the left of \"Inspector\" (it's this button ![this button](https://i.imgur.com/g00sN2e.png)).\n",
    "Then move your mouse over the title of a song. As you move it around you'll see that different part of the page get highlighted, and differnt part of the source code too! The highlighted source code of the web page is the code responsible for the object your pointing at.\n",
    "\n",
    "Let's look more carefully at the text source. In particolar, the titles are inside a\n",
    "```html\n",
    "<span>Devils of Last Night</span>\n",
    "```\n",
    "block. And that block is inside a larger block:\n",
    "```html\n",
    "<a class=\"title\" href=\"/lyrics/Beastwars/Devils-of-Last-Night\">\n",
    "<span>Devils of Last Night</span>\n",
    "</a>`\n",
    "```\n",
    "and, surely enough, even that block is within a larger block and so on untile the largest block of all: the full page.\n",
    "\n",
    "To get to the title we can use that \"class\" tag: they are called _css selectors_, and we will use them as handles to navigate into the extremely complex list that we get from a web page.\n",
    "\n",
    "Sometimes, we can be lucky. For example, the css selector for the titles are in the class \"title\". Let's see."
   ]
  },
  {
   "cell_type": "code",
   "execution_count": null,
   "metadata": {},
   "outputs": [],
   "source": [
    "page_title %>%\n",
    "  html_nodes(\".title\") # write .title, with the dot, because we want all results with that tag. Try removing it and see what happens."
   ]
  },
  {
   "cell_type": "markdown",
   "metadata": {},
   "source": [
    "That's still quite a mess: we have too much stuff, such as some links (called \"href\") and more text than we need. Let's clean it up with `html_text()`"
   ]
  },
  {
   "cell_type": "code",
   "execution_count": null,
   "metadata": {},
   "outputs": [],
   "source": [
    "page_title %>%\n",
    "  html_nodes(\".title\") %>%\n",
    "  html_text()"
   ]
  },
  {
   "cell_type": "markdown",
   "metadata": {},
   "source": [
    "It looks much better! Now we have 15 song titles. Soon we will have the lyrics!"
   ]
  },
  {
   "cell_type": "code",
   "execution_count": null,
   "metadata": {},
   "outputs": [],
   "source": [
    "SLS_df <- data_frame(Band = \"Beastwars\",\n",
    "                     Title = ---) # build the Title variable using the code we used above\n",
    "SLS_df"
   ]
  },
  {
   "cell_type": "markdown",
   "metadata": {},
   "source": [
    "We want to recover the links. Look again at what we get when we select the `.title` you may see that the _actual_ link is there, coded as `href`. Can we extract that? Yes we can!"
   ]
  },
  {
   "cell_type": "code",
   "execution_count": null,
   "metadata": {},
   "outputs": [],
   "source": [
    "page_title %>%\n",
    "  html_nodes(\".title\") %>%\n",
    "  html_attrs() %>%\n",
    "  glimpse()"
   ]
  },
  {
   "cell_type": "markdown",
   "metadata": {},
   "source": [
    "In particular, we want the element called `href`. Hey, we can get that with (one of) the `map()` function from `purrr`!"
   ]
  },
  {
   "cell_type": "code",
   "execution_count": null,
   "metadata": {},
   "outputs": [],
   "source": [
    "page_title %>%\n",
    "  html_nodes(\".title\") %>%\n",
    "  html_attrs() %>%\n",
    "  map_chr(\"href\") # when we specify map_chr we are telling R that we expect the output to be of character type\n",
    "                  # if it's not, R will complain"
   ]
  },
  {
   "cell_type": "markdown",
   "metadata": {},
   "source": [
    "`purrr` is an extremely powerful library, and we will read and use it more in the next lectures. If in your R experience you have used `apply()` or similar functions (any of the {slvmt}`apply()` or the `XYply()` from `plyr`) read [this](https://jennybc.github.io/purrr-tutorial/bk01_base-functions.html#why_not_base).  \n",
    "\n",
    "If you have no idea what I just spoke about, don't worry.\n",
    "\n",
    "The go to resource to learn about `purrr` and maps is Hadley's [iteration](http://r4ds.had.co.nz/iteration.html) chapter in his R 4 Data Science book. Read especially section 21.5 to 21.8. Another great resource is this tutorial by Rebecca Barter: http://www.rebeccabarter.com/blog/2019-08-19_purrr/\n",
    "\n",
    "We are going to talk more about `purrr` so it's a good investment to read more."
   ]
  },
  {
   "cell_type": "markdown",
   "metadata": {},
   "source": [
    "Yet, we could have let `rvest` do the job for us:"
   ]
  },
  {
   "cell_type": "code",
   "execution_count": null,
   "metadata": {},
   "outputs": [],
   "source": [
    "SLS_df %<>% # the %<>% is from magrittr, it corresponds to SLS_df <- SLS_df %>% ...\n",
    "  mutate(Link = page_title %>%\n",
    "  html_nodes(\".title\") %>%\n",
    "  html_attr(\"href\"))\n",
    "\n",
    "SLS_df"
   ]
  },
  {
   "cell_type": "markdown",
   "metadata": {},
   "source": [
    "\n",
    "Cool, we don't gain much in terms of line of code, but it will be usefull later!"
   ]
  },
  {
   "cell_type": "markdown",
   "metadata": {},
   "source": [
    "### And `purrr`!\n",
    "\n",
    "Cool, now we want to put grab all lyrics. Let's start with one at a time. What is the url we want?"
   ]
  },
  {
   "cell_type": "code",
   "execution_count": null,
   "metadata": {},
   "outputs": [],
   "source": [
    "url_song <- glue(\"https://www.musixmatch.com{SLS_df$Link[1]}\")\n",
    "\n",
    "url_song"
   ]
  },
  {
   "cell_type": "markdown",
   "metadata": {},
   "source": [
    "Hey, ps, `glue()` is basically a much better version of `paste()`. Take a look [here](https://glue.tidyverse.org) if you are curious about it."
   ]
  },
  {
   "cell_type": "markdown",
   "metadata": {},
   "source": [
    "And let's grab the lyrics for that song.  \n",
    "Open that page in you browser, control+shift+i and poit to the lyrics.  \n",
    "The content is marked by a css selector called \"p.mxm-lyrics__content\". That stands for \"p\", an object of class paragraph, plus \"mxm-lyrics__content\", the specific class for the lyrics."
   ]
  },
  {
   "cell_type": "code",
   "execution_count": null,
   "metadata": {},
   "outputs": [],
   "source": [
    "url_song %>%\n",
    "  read_html() %>%\n",
    "  html_nodes(\".mxm-lyrics__content\") %>%\n",
    "  html_text()"
   ]
  },
  {
   "cell_type": "markdown",
   "metadata": {},
   "source": [
    "Ach, notice that it comes in different blocks: one for each section of text (if you look the original page in your browser you'll see the lyrics is split by the advertisment). Well, we can just `glue_collapse()` them together with `glue`. As we are doing this, let's turn that flow into a function:"
   ]
  },
  {
   "cell_type": "code",
   "execution_count": null,
   "metadata": {},
   "outputs": [],
   "source": [
    "get_lyrics <- function(link){\n",
    "  \n",
    "  lyrics_chunks <- glue(\"https://www.musixmatch.com{link}#\") %>%\n",
    "   read_html() %>%\n",
    "   html_nodes(\".mxm-lyrics__content\")\n",
    "  \n",
    "  # we do a sanity check to see that there's something inside the lyrics!\n",
    "  stopifnot(length(lyrics_chunks) > 0)\n",
    "  \n",
    "  lyrics <- lyrics_chunks %>%\n",
    "   html_text() %>%\n",
    "   glue_collapse(sep =  \"\\n\")\n",
    "  \n",
    "  return(lyrics)\n",
    "}"
   ]
  },
  {
   "cell_type": "markdown",
   "metadata": {},
   "source": [
    "Let's test it!\n"
   ]
  },
  {
   "cell_type": "code",
   "execution_count": null,
   "metadata": {},
   "outputs": [],
   "source": [
    "SLS_df$Link[1] %>%\n",
    "  get_lyrics() %>%\n",
    "  print()"
   ]
  },
  {
   "cell_type": "markdown",
   "metadata": {},
   "source": [
    "Now we can use purrr to map that function over our dataframe! Let's do that only for the top 4 tracks in our list."
   ]
  },
  {
   "cell_type": "code",
   "execution_count": null,
   "metadata": {},
   "outputs": [],
   "source": [
    "SLS_df_top <- SLS_df %>%\n",
    "  slice(1:4) %>%\n",
    "  mutate(Lyrics = map_chr(Link, get_lyrics))\n",
    "SLS_df_top"
   ]
  },
  {
   "cell_type": "markdown",
   "metadata": {},
   "source": [
    "Ok, here we were quite lucky, as all the links were right and all the first 4 songs had some lyrics. But that's not always the case. We can see that if we try to run the previous code on the full dataframe."
   ]
  },
  {
   "cell_type": "code",
   "execution_count": null,
   "metadata": {},
   "outputs": [],
   "source": [
    "SLS_df %>%\n",
    "  mutate(Lyrics = map_chr(Link, get_lyrics))"
   ]
  },
  {
   "cell_type": "markdown",
   "metadata": {},
   "source": [
    "In general we may want to play safe. To be safe, we ca use a `possibly` \"wrapper\" (from`purrr`) so not to have to stop everything in case something bad happens."
   ]
  },
  {
   "cell_type": "code",
   "execution_count": null,
   "metadata": {},
   "outputs": [],
   "source": [
    "get_lyrics_safe <- purrr::possibly(.f = get_lyrics, # the function that we want to make safer\n",
    "                                   otherwise = NA_character_) # the value we get back if .f fails"
   ]
  },
  {
   "cell_type": "markdown",
   "metadata": {},
   "source": [
    "Now we can try again, and this time we should handle the issues better."
   ]
  },
  {
   "cell_type": "code",
   "execution_count": null,
   "metadata": {},
   "outputs": [],
   "source": [
    "SLS_df %<>%\n",
    "  mutate(Lyrics = map_chr(Link, get_lyrics_safe))\n",
    "\n",
    "SLS_df"
   ]
  },
  {
   "cell_type": "markdown",
   "metadata": {},
   "source": [
    "### The flow\n",
    "\n",
    "**Explore, try, test, automatize, test.**\n",
    "\n",
    "Scraping data from the web will require a lot of trial and error. In general, I like this flow: I explore the pages that I want to scrape, trying to identify patterns that I can exploit. Then I try, on a smaller subset, and I test if it worked. Then I automatize it, using `purrr` or something similar. And finally some more testing.\n",
    "\n",
    "#### Exercise: Another Artist\n",
    "\n",
    "Let's do this for some other artist, like \"Angel Haze\". Notice that in this case we **must** use the attributes (\"href\") from the web page, as the name of the authors of the lyrics is not always the same (the `glue` approach would fail).\n"
   ]
  },
  {
   "cell_type": "markdown",
   "metadata": {},
   "source": [
    "### Challenge: pack it in a function\n",
    "\n",
    "We have been scraping using a the same flow at least two artists. Our motto is that if we do something twice, we turn it into a function. So... let's turn the flow into a function. You have all the bits already there in the previous cells, and here I give you a boilerplate that you will have to fill in. When you see `----` in the code, that means it's up to you to do the job!"
   ]
  },
  {
   "cell_type": "code",
   "execution_count": null,
   "metadata": {},
   "outputs": [],
   "source": [
    "get_words <- function(band_name){\n",
    "\n",
    "  # remove white space from band name and substitute them with a dash\n",
    "  collapsed_name <- str_replace_all(band_name, \" \", \"-\") # this line uses a function from stringr\n",
    "  # define url to get the title and links\n",
    "  url <- glue(\"https://www.musixmatch.com/artist/{collapsed_name}\")\n",
    "  \n",
    "  # read title page and extract the title chunks \n",
    "  list_of_titles <- url %>%\n",
    "                    ----- #  How do we extract the list of titles from the first page?\n",
    "  \n",
    "  # and we build the dataframe\n",
    "  lyrics <- data_frame(Band = band_name,\n",
    "                       # extract text title\n",
    "                       Titles = list_of_titles %>% ---- # we want only the text of the title, not all the html overhead,\n",
    "                       # extract title link\n",
    "                       Link =  list_of_titles %>% ---- # and we need the link to the page\n",
    "                       # map to get lyrics\n",
    "                       Lyrics = ---- # here is where we do the main job, using get_lyrics_safe()\n",
    "                      ) \n",
    "  \n",
    "  return(lyrics)\n",
    "}"
   ]
  },
  {
   "cell_type": "markdown",
   "metadata": {},
   "source": [
    "Once you a function that you think it's working, test it on a couple of artists and check whether it's working properly."
   ]
  },
  {
   "cell_type": "code",
   "execution_count": null,
   "metadata": {},
   "outputs": [],
   "source": [
    "ATCR_words <- \"A Tribe Called Red\" %>% get_words()"
   ]
  },
  {
   "cell_type": "code",
   "execution_count": null,
   "metadata": {},
   "outputs": [],
   "source": [
    "AW_words <- \"Alien Weaponry\" %>% get_words()"
   ]
  },
  {
   "cell_type": "code",
   "execution_count": null,
   "metadata": {},
   "outputs": [],
   "source": [
    "# your tests here."
   ]
  },
  {
   "cell_type": "markdown",
   "metadata": {},
   "source": [
    "## The words, the soul\n",
    "\n",
    "Now that we have a collection of lyrics, it would be a pity not doing anything with them ;-)\n",
    "\n",
    "So, we will do some quick and dirty sentiment analysis. The idea is to attribute to each word a score, expressing wether it's more negative and positive, and then to sum up all the word values in a song: the result will give us a first approximation to the song general mood. To do this, we are going to use Julia Silge's and David Robinson's great [_Tidytext_](https://github.com/juliasilge/tidytext) library and a _vocabulary_ of words for which we have the scores (there are different options, we are using \"afinn\")."
   ]
  },
  {
   "cell_type": "code",
   "execution_count": null,
   "metadata": {},
   "outputs": [],
   "source": [
    "# install.packages(\"tidytext\")\n",
    "library(tidytext)"
   ]
  },
  {
   "cell_type": "markdown",
   "metadata": {},
   "source": [
    "The positivity/negativity values for the words are in a dictionary called \"afinn\"."
   ]
  },
  {
   "cell_type": "code",
   "execution_count": null,
   "metadata": {},
   "outputs": [],
   "source": [
    "afinn <- get_sentiments(\"afinn\")\n",
    "afinn %>% sample_n(5)"
   ]
  },
  {
   "cell_type": "markdown",
   "metadata": {},
   "source": [
    "Now, a bit of data wrangling: we breaks the lyrics into words, remove the words that are considered not interesting (they are called \"stop words\"), stitch the dataframe to the scoress from afinn, and do the math for each song."
   ]
  },
  {
   "cell_type": "markdown",
   "metadata": {},
   "source": [
    "This workthrough is loosely inspired by Max Humber's [post](https://www.r-bloggers.com/fantasy-hockey-with-rvest-and-purrr/) and my former student David Laing's post [here](https://laingdk.github.io/kendrick-lamar-data-science/). Great things are from them, errors are mine. Read those posts, there is a lot to learn! If you finished too early, try to reproduce David's sentiment analysis on the song lyrics you collected."
   ]
  },
  {
   "cell_type": "markdown",
   "metadata": {},
   "source": [
    "The stop words are words we consider not important for the analysis because they are too common. They are in a dictionary (a dataframe indeed) called `stop_words`. Whether or not to remove them when doing any analysis, is up to the researcher best judgement."
   ]
  },
  {
   "cell_type": "code",
   "execution_count": null,
   "metadata": {},
   "outputs": [],
   "source": [
    "stop_words %>% sample_n(10)"
   ]
  },
  {
   "cell_type": "markdown",
   "metadata": {},
   "source": [
    "### Challenge, fill in the code below"
   ]
  },
  {
   "cell_type": "code",
   "execution_count": null,
   "metadata": {},
   "outputs": [],
   "source": [
    "SLS_df %>%\n",
    "  unnest_tokens(word, Lyrics) %>% #split words\n",
    "# we use a _join function to remove dull words. Which function?\n",
    "  ----(stop_words, by = ---) %>% # which column will we use to do the join?\n",
    "# we use another _join function to stitch the scores from afinn to words in our lyrics.\n",
    "# Which function?\n",
    "  ----(afinn, by = ---) %>% # which column will we use to do the join?\n",
    "#and for each song we do the math\n",
    "  group_by(---) %>% # we group by... by what?\n",
    "  ----(Length = n(), # which functions allows you to reduce the all the rows in a dataframe into a single one?\n",
    "    Score = sum(score)/Length) %>%\n",
    "  arrange(-Score)"
   ]
  },
  {
   "cell_type": "markdown",
   "metadata": {},
   "source": [
    "Once you have done it, try it on a couple of lyrics collections. Then, turn the flow into a reusable flow. Once again, I give you the boilerplate:"
   ]
  },
  {
   "cell_type": "code",
   "execution_count": null,
   "metadata": {},
   "outputs": [],
   "source": [
    "get_soul <- . %>%\n",
    "  unnest_tokens(word, Lyrics) %>% \n",
    "  ----(stop_words, by = ---) %>% \n",
    "  ----(afinn, by = ---) %>% \n",
    "  group_by(---) %>% \n",
    "  ----(Length = n(), \n",
    "    Score = sum(score)/Length) %>%\n",
    "  arrange(-Score)"
   ]
  },
  {
   "cell_type": "markdown",
   "metadata": {},
   "source": [
    "And try that on some artists:"
   ]
  },
  {
   "cell_type": "code",
   "execution_count": null,
   "metadata": {},
   "outputs": [],
   "source": [
    "\"Billie Holiday\" %>% get_words() %>% get_soul()\n",
    "\"Nina Simone\" %>% get_words() %>% get_soul()"
   ]
  },
  {
   "cell_type": "markdown",
   "metadata": {},
   "source": [
    "Try to assess your results: do they seem to make sense?"
   ]
  },
  {
   "cell_type": "markdown",
   "metadata": {},
   "source": [
    "# APIs"
   ]
  },
  {
   "cell_type": "markdown",
   "metadata": {},
   "source": [
    "In the previous lab we saw how you can use the WWW as a source of data, even when the information presented is not there for the purpose of data analysis (i.e., it is there for you as a browser to read it).\n",
    "\n",
    "Sometimes, though, you are lucky and the data source you're after will have an **API** set up so that you don't need to scrape it. An **API** is a detailed and rigorous set of rules that you must use in order to get something from a server.\n",
    "\n",
    "In particular, many APIs in the web gives you back if you write the _right_ url.\n",
    "\n",
    "Consider searching \"something\" on http://www.duckduckgo.com. If you take a look at the result page, you will see that the url is something like:  \n",
    "https://duckduckgo.com/?q=something&t=h_&ia=about\n",
    "\n",
    "The part before the `?` is the _base url_, the human readable name of the _server_ that is giving you the data. what is after the `?` defines the various argument of the duckduckgo API. `q` probably stands for \"query\", and after the `=` is where you put the terms you are looking for; `&` separates various arguments; `t` and `ia` define other aspects of the behaviour of the search engine.\n",
    "\n",
    "You can pass more arguments, and change the behaviour of the server. For example, in duckduckgo we can appen a `format=xml` to get the data in an xml format (instead of the html format with all the fancy visualization stuff). We may do it because the xml format **is** intended for programmatic data extraction and we are trying to get that data. Try to browse to:\n",
    "\n",
    "https://duckduckgo.com/?q=something&t=h_&ia=about&format=xml\n",
    "\n",
    "Try a couple of other websites, you will notice that the `?argument=values` format is very common. Websites offering API for accessing their data often have a lot of information about how to do it.\n",
    "\n",
    "For example, duckduckgo's API is explained here: https://duckduckgo.com/api\n",
    "\n",
    "A great resources to learn about what are APIs is https://zapier.com/learn/apis/."
   ]
  },
  {
   "cell_type": "markdown",
   "metadata": {},
   "source": [
    "### httr\n",
    "\n",
    "The tool of the trade for APIs interaction in R is the library `httr`. Get familiar with it reading the [introduction](http://httr.r-lib.org/articles/quickstart.html). If you are unfamiliar with how HTTP works (the common underlaying network protocol that rules the web) read also the two resources suggested at the start of the introduction. Or maybe ask your peer to explain you a bit."
   ]
  },
  {
   "cell_type": "markdown",
   "metadata": {},
   "source": [
    "### API in the zoo\n",
    "\n",
    "The website [numbersapi](http://www.numbersapi.com) offers a funny example to try and use a RESTful API. (You can use *different* APIs, take a look at [programmableweb](http://programmableweb.com) for a selection of available ones, and I actually encourage you to choose a different example if you are already familiar with the concept.)\n",
    "\n",
    "Using some tool to deal with strings (I like `glue`, but you can do this stuff with the base `paste` if you are more comfy) write some examples of interaction with numbersapi (tl;dr, write some query string and feed it to `httr`'s `GET`: e.g., `GET(\"http://www.colourlovers.com/api/color/6B4106?format=xml\")`).\n",
    "\n",
    "_kudos if you use an APIs that allows you to POST, PUT, DELETE, ... instead of just GETting._"
   ]
  },
  {
   "cell_type": "markdown",
   "metadata": {},
   "source": [
    "### API in the zoo but tamed\n",
    "\n",
    "Dealing with strings is not ideal: you need to tweak theme everytime you want to perform a different query, and that opens the door to errors. Also, our credo is that everytime we have to repeat some task, it's better to write a function for it.\n",
    "\n",
    "Thus, write wrapper functions to perform the queries you wrote in the previous exercise. Try and write both very specific, _atomic_, functions that do just one very specific thing, and some more general function that can do more than one thing combining the more atomic functions together.\n",
    "\n",
    "For example, if you are using the numbersapi, write both something like `get_integer_math()` that only allows you to query `[integer]/math` (e.g., Ramanujan's taxi plate [1729](http://numbersapi.com/1729/math)); and something like `get_number_type()` which allows for different types specifications (trivia, math, date, or year).\n",
    "\n",
    "_kudos if these functions check the inputs (e.g., for `get_integer_math`, the function checks wether the input is indeed an integer and returns an error otherwise) and handles the eventual errors risen by the APIs._\n"
   ]
  },
  {
   "cell_type": "markdown",
   "metadata": {},
   "source": [
    "### API authorized\n",
    "\n",
    "Not all APIs are free and completely open to everybody. Some of them require an autentification/authorization step: the server that is responding to your query wants to know who you are, because certain services are available only to some users.\n",
    "\n",
    "A common method of authentification is called `OAuth` or `OAuth2.0` (if you are very curious, see [here](https://en.wikipedia.org/wiki/OAuth). `httr` has functions to create and handle ouaths. See this [paragraph](http://httr.r-lib.org/articles/api-packages.html#authentication) or read more [here](https://support.rstudio.com/hc/en-us/articles/217952868-Generating-OAuth-tokens-for-a-server-using-httr).\n",
    "\n",
    "Register on https://developer.twitter.com/, obtain the _secrets_, register an app (it does not matter which website you provide) and write the code to connect to it (see [here](https://developer.twitter.com/) for more details)."
   ]
  },
  {
   "cell_type": "markdown",
   "metadata": {},
   "source": [
    "### API in the wild\n",
    "\n",
    "Sometimes you are fortunate enought that the information you are looking for is provided by a website through an API. This is a somewhat open ended exercise. The first one you encounter in this labs, but now you are grown up. We ask you to _pull_ data from an API of your choice, do some simple wrangling (and some super simple analysis if you really want) and visualize your result.\n",
    "\n",
    "The focus of the exercise is on the interaction with the API you chose, not so much the visualization. We would like to see that you did some complex query in a programmatic fashion (that is, not by hand-writing the query but using a function to do that for you).\n",
    "\n",
    "Some possible APIs you can use are (in order of what-Giulio-likes):\n",
    "\n",
    "* digitalnz [API](https://digitalnz.org/developers) get cultural, education and gov data from NZ. It contains many different API. Some of them require authentification and/or subscription (a good one is the DOC [campsites and huts](https://api.doc.govt.nz) api).\n",
    "* [Geonet](https://api.geonet.org.nz/) for geological hazard information\n",
    "* [Trademe](https://developer.trademe.co.nz/) very nice one, but not supereasy to get the autentification done (this [queries](https://developer.trademe.co.nz/api-reference/catalogue-methods/) do not require auth).\n",
    "* all of thise [references](https://www.programmableweb.com/category/reference/api) APIs are (probably, I did not check ALL of them) good examples.\n",
    "* [GDELT](https://blog.gdeltproject.org/gdelt-geo-2-0-api-debuts/) This is a rewarding, yet **tough**, API. Take a look at [leaflet](https://rstudio.github.io/leaflet/json.html) for an idea on how to use what you get back from GDELT. Also, Alex Bresler has started working on an [R wrapper](https://github.com/abresler/gdeltr2) that may get you inspired.\n",
    "* [car2go](https://github.com/car2go/openAPI) (requires [registration](https://github.com/car2go/openAPI/wiki/Access-protected-Functions-via-OAuth-1.0#registration-as-consumer))\n",
    "* [Quandl](https://www.quandl.com/docs/api)\n",
    "* [Lufthansa](https://developer.lufthansa.com/docs) most methods are open, so good one if you don't want to deal with authentification.\n",
    "\n",
    "##### Let's do the JSON dance\n",
    "\n",
    "Many website returns JSON files when you query them. Json is similar to the XML (of which HTML is an example) in that it is a **tree** (not tabular nor relational) data format. Roughly speaking, it is a list of lists of lists of ... `purrr` is very handy when you want to extract information from a JSON file. But do see also the `jsonlite` package, [intro here](https://cran.r-project.org/web/packages/jsonlite/vignettes/json-aaquickstart.html). If you are lost trying to wrangle the results you get from these APIs, consider working through Jenny Brian's [tutorial on purrr](https://jennybc.github.io/purrr-tutorial/ex26_ny-food-market-json.html). Additional material here: https://www.zevross.com/blog/2019/06/11/the-power-of-three-purrr-poseful-iteration-in-r-with-map-pmap-and-imap/"
   ]
  },
  {
   "cell_type": "code",
   "execution_count": null,
   "metadata": {},
   "outputs": [],
   "source": []
  }
 ],
 "metadata": {
  "kernelspec": {
   "display_name": "R",
   "language": "R",
   "name": "ir"
  },
  "language_info": {
   "codemirror_mode": "r",
   "file_extension": ".r",
   "mimetype": "text/x-r-source",
   "name": "R",
   "pygments_lexer": "r",
   "version": "3.6.1"
  }
 },
 "nbformat": 4,
 "nbformat_minor": 4
}
