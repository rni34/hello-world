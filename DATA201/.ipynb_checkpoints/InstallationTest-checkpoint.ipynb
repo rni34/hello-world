{
 "cells": [
  {
   "cell_type": "markdown",
   "metadata": {},
   "source": [
    "# Jupyter for R: crash intro"
   ]
  },
  {
   "cell_type": "markdown",
   "metadata": {},
   "source": [
    "This thingy you are reading is called a _notebook_.\n",
    "\n",
    "**Remember, the goal of this lab and of this notebook is just to install everything you need and to test wether the installation was successfull.  \n",
    "If you don't understand what some of the code is doing, it's all right, we'll get at it together in the next labs.**\n",
    "\n",
    "It can contain text, code, and plots.\n",
    "\n",
    "The code can be run by Julia, Python, or R (as in this case), _kernels_.\n",
    "Look in the top right corner of your notebook: it should say what kernel is running."
   ]
  },
  {
   "cell_type": "markdown",
   "metadata": {},
   "source": [
    "To convince your self that this is more than just a text file, let's see some magic!  \n",
    "Don't worry if you don't get all what is written, we'll go over it during the course.  \n",
    "The goal now is for you to familiarise with the JupyterLab interface for R."
   ]
  },
  {
   "cell_type": "code",
   "execution_count": 4,
   "metadata": {},
   "outputs": [
    {
     "data": {
      "text/html": [
       "2"
      ],
      "text/latex": [
       "2"
      ],
      "text/markdown": [
       "2"
      ],
      "text/plain": [
       "[1] 2"
      ]
     },
     "metadata": {},
     "output_type": "display_data"
    }
   ],
   "source": [
    "1 + 1"
   ]
  },
  {
   "cell_type": "markdown",
   "metadata": {},
   "source": [
    "I didn't have to paste the result, R computed it for me.  \n",
    "What? You didn't need R to do 1 + 1?  "
   ]
  },
  {
   "cell_type": "markdown",
   "metadata": {},
   "source": [
    "Well, we can also flip a coin. Let's see."
   ]
  },
  {
   "cell_type": "code",
   "execution_count": 3,
   "metadata": {},
   "outputs": [
    {
     "data": {
      "text/html": [
       "'head'"
      ],
      "text/latex": [
       "'head'"
      ],
      "text/markdown": [
       "'head'"
      ],
      "text/plain": [
       "[1] \"head\""
      ]
     },
     "metadata": {},
     "output_type": "display_data"
    }
   ],
   "source": [
    "coin <- c(\"head\",\"tail\")\n",
    "sample(coin, size = 1)"
   ]
  },
  {
   "cell_type": "markdown",
   "metadata": {},
   "source": [
    "Still, not impressive. What about... flipping a million coins and counting the heads?"
   ]
  },
  {
   "cell_type": "code",
   "execution_count": 6,
   "metadata": {},
   "outputs": [
    {
     "data": {
      "text/html": [
       "501243"
      ],
      "text/latex": [
       "501243"
      ],
      "text/markdown": [
       "501243"
      ],
      "text/plain": [
       "[1] 501243"
      ]
     },
     "metadata": {},
     "output_type": "display_data"
    }
   ],
   "source": [
    "flippings <- sample(coin, size = 10^6, replace = TRUE)\n",
    "sum(flippings == \"head\")"
   ]
  },
  {
   "cell_type": "markdown",
   "metadata": {},
   "source": [
    "Pretty much half of them, those statistics courses didn't lie after all.  \n",
    "\n",
    "In a notebook, you are not constrained with what's already written.  \n",
    "Double click the following cell and change BLUE with your preferred color (only letters, no white spaces, keep it simple).  \n",
    "Then press Shift+Enter."
   ]
  },
  {
   "cell_type": "code",
   "execution_count": null,
   "metadata": {},
   "outputs": [],
   "source": [
    "my_color <- \"BLUE\"\n",
    "\n",
    "numerology <- strtoi(my_color, base=36)\n",
    "print(paste0(\"The sum of the numerical values of the letters in my name is: \", numerology))"
   ]
  },
  {
   "cell_type": "markdown",
   "metadata": {},
   "source": [
    "Double click the following cell of code, press Shift+Enter. What happens?  \n",
    "Now do the same, but before pressing Shift+Enter delete the # mark (the \"comment\" mark).  \n",
    "You are installing all the packages that constitute the \"Tidyverse\". It will take a while, time for a tea.  \n",
    "We'll talk about it in the following lectures."
   ]
  },
  {
   "cell_type": "code",
   "execution_count": null,
   "metadata": {},
   "outputs": [],
   "source": [
    "# install.packages(\"tidyverse\")"
   ]
  },
  {
   "cell_type": "markdown",
   "metadata": {},
   "source": [
    "Do the same for the Gapminder package below. Change the underscores with gapminder."
   ]
  },
  {
   "cell_type": "code",
   "execution_count": null,
   "metadata": {},
   "outputs": [],
   "source": [
    "# install.packages(\"_____\")"
   ]
  },
  {
   "cell_type": "markdown",
   "metadata": {},
   "source": [
    "For the moment you have only *installed* packages.  \n",
    "To actually use them, you have to load them."
   ]
  },
  {
   "cell_type": "code",
   "execution_count": null,
   "metadata": {},
   "outputs": [],
   "source": [
    "library(tidyverse)\n",
    "library(gapminder)"
   ]
  },
  {
   "cell_type": "markdown",
   "metadata": {},
   "source": [
    "Now that they are linked to this session, the functions and datasets in those libraries are available to you.  \n",
    "\n",
    "Gapminder contains data about various metrics of social and economical development in the world.  \n",
    "Let's see some of it."
   ]
  },
  {
   "cell_type": "code",
   "execution_count": null,
   "metadata": {},
   "outputs": [],
   "source": [
    "gapminder %>% # the name of the dataset is, in this case, the same name of the library\n",
    "  glimpse() # let's have a glimpse at it."
   ]
  },
  {
   "cell_type": "markdown",
   "metadata": {},
   "source": [
    "The keen observer has noticed that we installed a **package** but loaded a **library**.  \n",
    "Why that? Well, think of a package as a collection of libraries.  \n",
    "Some packages, as Tidyverse, contain many libraries. Some contains just one, as gapminder."
   ]
  },
  {
   "cell_type": "markdown",
   "metadata": {},
   "source": [
    "Also, what's up with that `%>%` thingy? Well, that's called a pipe."
   ]
  },
  {
   "cell_type": "markdown",
   "metadata": {},
   "source": [
    "![If it that was good enough for Albert, it's good enough for us](https://upload.wikimedia.org/wikipedia/commons/thumb/5/53/PROF._ALBERT_EINSTEIN_%281879-1955%29%2CJEWISH_SCIENTIST_DEVELOPER_OF_THE_THEORY_OF_RELATIVITY_%281915%29_WINNER_OF_NOBEL_PRIZE_FOR_PHYSICS_AT_INSTITUTE.D472-073.jpg/400px-PROF._ALBERT_EINSTEIN_%281879-1955%29%2CJEWISH_SCIENTIST_DEVELOPER_OF_THE_THEORY_OF_RELATIVITY_%281915%29_WINNER_OF_NOBEL_PRIZE_FOR_PHYSICS_AT_INSTITUTE.D472-073.jpg)"
   ]
  },
  {
   "cell_type": "markdown",
   "metadata": {},
   "source": [
    "What the `%>%` pipe does is taking the stuff on its right and feed it to whatever it's on its left.  \n",
    "So, the two following lines are the same."
   ]
  },
  {
   "cell_type": "code",
   "execution_count": null,
   "metadata": {},
   "outputs": [],
   "source": [
    "gapminder %>%\n",
    "  glimpse()\n",
    "# is the same of\n",
    "glimpse(gapminder)"
   ]
  },
  {
   "cell_type": "markdown",
   "metadata": {},
   "source": [
    "## Plotting is cool"
   ]
  },
  {
   "cell_type": "markdown",
   "metadata": {},
   "source": [
    "Run the follow cell of code. If you get a beautiful plot, you are done!  \n",
    "The primary purpose of this is to test that your installation is complete.  "
   ]
  },
  {
   "cell_type": "code",
   "execution_count": null,
   "metadata": {},
   "outputs": [],
   "source": [
    "gapminder %>%\n",
    "  filter(continent == \"Europe\") %>%\n",
    "  ggplot(aes(x = year, y = lifeExp, colour = country)) +\n",
    "    geom_line()"
   ]
  },
  {
   "cell_type": "markdown",
   "metadata": {},
   "source": [
    "If you want to do something more, try changing the continent that is plotted,   \n",
    "or the variable (try \"pop\" instead of \"lifeExp\"),    \n",
    "or the geometry (try to write \"point\" instead of \"line\").\n",
    "\n",
    "Either modify the code in the previous cell, or write it again in the following cell.\n",
    "\n",
    "When you are satisfied, save (in the up left corner and close all)."
   ]
  },
  {
   "cell_type": "code",
   "execution_count": null,
   "metadata": {},
   "outputs": [],
   "source": []
  }
 ],
 "metadata": {
  "kernelspec": {
   "display_name": "R",
   "language": "R",
   "name": "ir"
  },
  "language_info": {
   "codemirror_mode": "r",
   "file_extension": ".r",
   "mimetype": "text/x-r-source",
   "name": "R",
   "pygments_lexer": "r",
   "version": "3.5.1"
  }
 },
 "nbformat": 4,
 "nbformat_minor": 2
}
