{
 "cells": [
  {
   "cell_type": "markdown",
   "metadata": {},
   "source": [
    "# Lab 2: The Data Frame"
   ]
  },
  {
   "cell_type": "markdown",
   "metadata": {},
   "source": [
    "# PART 0: Meetings\n",
    "\n",
    "In this lab we will work with a (subset) of the [Million Songs Dataset](https://labrosa.ee.columbia.edu/millionsong/).\n",
    "\n",
    "The dataset contains information about many songs, artists, and their locations.  \n",
    "It is composed of three different data containers.  \n",
    "Each one of this containers is a **dataframe**, a particular way of storing and structuring data.  \n",
    "In R, dataframes are conveniently handled using the functions provided by the _tiyverse_ libraries, hence let's load them."
   ]
  },
  {
   "cell_type": "code",
   "execution_count": 45,
   "metadata": {},
   "outputs": [],
   "source": [
    "library(tidyverse)"
   ]
  },
  {
   "cell_type": "markdown",
   "metadata": {},
   "source": [
    "What information are we getting here?\n",
    "\n",
    "The packages attached are the ones that tidyverse is loading for us, and whose functions we can call directly.\n",
    "\n",
    "There are, however, some \"conflicts\": we loaded some packages (in this case \"dplyr\" and \"stats\", which is there always when you start R) that define functions with the same name (`filter()` and `lag()`). As for R specifications, if we call a function loaded by two packages, and do not explicitly say which one to use, the one defined in the latter loaded package will be used. In this case, as we loaded dplyr (through tidyverse) after stats, if we use `filter()` we are going to use dplyr's filter.\n",
    "\n",
    "What if we wanted to use another same named function? Well, in that case we would need to specify the package. We can do it by prepending `name_of_wanted_package::` to the function. In this case, if we wanted stats' version of `filter()`, we would need to write `stats::filter()` (see also the package [conflicted](https://github.com/r-lib/conflicted) for a different way of handling this problem)\n",
    "\n",
    "#### Now we have to get the data.  \n",
    "The dataset is convienently stored in a _github repository_, which is publicly accessible online, and is presented as a R package, so we don't need to worry about how to read it in R.  \n",
    "\n",
    "To get it, we can use the `install_github()` function, available throught the `devtools` library."
   ]
  },
  {
   "cell_type": "code",
   "execution_count": 46,
   "metadata": {},
   "outputs": [],
   "source": [
    "#remotes::install_github(\"JoeyBernhardt/singer\")"
   ]
  },
  {
   "cell_type": "markdown",
   "metadata": {},
   "source": [
    "Now use the `library()` function to load it."
   ]
  },
  {
   "cell_type": "code",
   "execution_count": 47,
   "metadata": {},
   "outputs": [],
   "source": [
    "library(singer)"
   ]
  },
  {
   "cell_type": "markdown",
   "metadata": {},
   "source": [
    "We can obtain a quick overview of what dataset are now available via `singer` using the `data()` function.  "
   ]
  },
  {
   "cell_type": "code",
   "execution_count": 48,
   "metadata": {},
   "outputs": [
    {
     "data": {
      "text/html": [
       "<h3>Data sets</h3>\n",
       "<table>\n",
       "<caption>A data.frame: 3 × 3</caption>\n",
       "<thead>\n",
       "\t<tr><th scope=col>Package</th><th scope=col>Item</th><th scope=col>Title</th></tr>\n",
       "\t<tr><th scope=col>&lt;chr&gt;</th><th scope=col>&lt;chr&gt;</th><th scope=col>&lt;chr&gt;</th></tr>\n",
       "</thead>\n",
       "<tbody>\n",
       "\t<tr><td>singer</td><td>locations       </td><td>locations       </td></tr>\n",
       "\t<tr><td>singer</td><td>singer_locations</td><td>singer locations</td></tr>\n",
       "\t<tr><td>singer</td><td>songs           </td><td>songs           </td></tr>\n",
       "</tbody>\n",
       "</table>\n",
       "\n"
      ],
      "text/plain": [
       "Data sets in package ‘singer’:\n",
       "\n",
       "locations               locations\n",
       "singer_locations        singer locations\n",
       "songs                   songs"
      ]
     },
     "metadata": {},
     "output_type": "display_data"
    }
   ],
   "source": [
    "data(package = \"singer\")"
   ]
  },
  {
   "cell_type": "markdown",
   "metadata": {},
   "source": [
    "These are the dataset available, but to use them we need to load them in the memory.  \n",
    "We use `data()` to load in memory one of those datasets.  "
   ]
  },
  {
   "cell_type": "code",
   "execution_count": 49,
   "metadata": {},
   "outputs": [],
   "source": [
    "data(singer_locations)"
   ]
  },
  {
   "cell_type": "markdown",
   "metadata": {},
   "source": [
    "# PART 1: introductions"
   ]
  },
  {
   "cell_type": "markdown",
   "metadata": {},
   "source": [
    "Let's have a look at what's in the dataset. But let's play safe: we don't know how big it is and we don't want to print to screen too much stuff.  \n",
    "So, how many rows of data we have?"
   ]
  },
  {
   "cell_type": "code",
   "execution_count": 50,
   "metadata": {},
   "outputs": [
    {
     "data": {
      "text/html": [
       "10100"
      ],
      "text/latex": [
       "10100"
      ],
      "text/markdown": [
       "10100"
      ],
      "text/plain": [
       "[1] 10100"
      ]
     },
     "metadata": {},
     "output_type": "display_data"
    }
   ],
   "source": [
    "singer_locations %>%\n",
    "  nrow()"
   ]
  },
  {
   "cell_type": "markdown",
   "metadata": {},
   "source": [
    "And how many columns?  \n",
    "The function we are going to use is `ncol()` (_**n**umber of **col**umns_).  \n",
    "Use the pipe (`%>%`) and `ncol()` to discover how many columns are there in `singer_locations`"
   ]
  },
  {
   "cell_type": "code",
   "execution_count": 51,
   "metadata": {},
   "outputs": [
    {
     "data": {
      "text/html": [
       "14"
      ],
      "text/latex": [
       "14"
      ],
      "text/markdown": [
       "14"
      ],
      "text/plain": [
       "[1] 14"
      ]
     },
     "metadata": {},
     "output_type": "display_data"
    }
   ],
   "source": [
    "singer_locations %>%\n",
    "    ncol()"
   ]
  },
  {
   "cell_type": "markdown",
   "metadata": {},
   "source": [
    "We can use `head()`, `tail()` or the beautiful `glimpse()` to peek at the dataset."
   ]
  },
  {
   "cell_type": "code",
   "execution_count": 52,
   "metadata": {},
   "outputs": [
    {
     "data": {
      "text/html": [
       "<table>\n",
       "<caption>A tibble: 6 × 14</caption>\n",
       "<thead>\n",
       "\t<tr><th scope=col>track_id</th><th scope=col>title</th><th scope=col>song_id</th><th scope=col>release</th><th scope=col>artist_id</th><th scope=col>artist_name</th><th scope=col>year</th><th scope=col>duration</th><th scope=col>artist_hotttnesss</th><th scope=col>artist_familiarity</th><th scope=col>latitude</th><th scope=col>longitude</th><th scope=col>name</th><th scope=col>city</th></tr>\n",
       "\t<tr><th scope=col>&lt;chr&gt;</th><th scope=col>&lt;chr&gt;</th><th scope=col>&lt;chr&gt;</th><th scope=col>&lt;chr&gt;</th><th scope=col>&lt;chr&gt;</th><th scope=col>&lt;chr&gt;</th><th scope=col>&lt;int&gt;</th><th scope=col>&lt;dbl&gt;</th><th scope=col>&lt;dbl&gt;</th><th scope=col>&lt;dbl&gt;</th><th scope=col>&lt;dbl&gt;</th><th scope=col>&lt;dbl&gt;</th><th scope=col>&lt;chr&gt;</th><th scope=col>&lt;chr&gt;</th></tr>\n",
       "</thead>\n",
       "<tbody>\n",
       "\t<tr><td>TRWICRA128F42368DB</td><td>The Conversation (Cd)</td><td>SOSURTI12A81C22FB8</td><td>Even If It Kills Me</td><td>ARACDPV1187FB58DF4</td><td>Motion City Soundtrack        </td><td>2007</td><td>170.4485</td><td>0.6410183</td><td>0.8230522</td><td>      NA</td><td>       NA</td><td>NA           </td><td>NA          </td></tr>\n",
       "\t<tr><td>TRXJANY128F42246FC</td><td>Lonely Island        </td><td>SODESQP12A6D4F98EF</td><td>The Duke Of Earl   </td><td>ARYBUAO1187FB3F4EB</td><td>Gene Chandler                 </td><td>2004</td><td>106.5530</td><td>0.3937627</td><td>0.5700167</td><td>41.88415</td><td>-87.63241</td><td>Gene Chandler</td><td>Chicago, IL </td></tr>\n",
       "\t<tr><td>TRIKPCA128F424A553</td><td>Here's That Rainy Day</td><td>SOQUYQD12A8C131619</td><td>Imprompture        </td><td>AR4111G1187B9B58AB</td><td>Paul Horn                     </td><td>1998</td><td>527.5947</td><td>0.4306226</td><td>0.5039940</td><td>40.71455</td><td>-74.00712</td><td>Paul Horn    </td><td>New York, NY</td></tr>\n",
       "\t<tr><td>TRYEATD128F92F87C9</td><td><span style=white-space:pre-wrap>Rego Park Blues      </span></td><td>SOEZGRC12AB017F1AC</td><td><span style=white-space:pre-wrap>Still River        </span></td><td>ARQDZP31187B98D623</td><td>Ronnie Earl &amp; the Broadcasters</td><td>1995</td><td>695.1179</td><td>0.3622792</td><td>0.4773099</td><td><span style=white-space:pre-wrap>      NA</span></td><td><span style=white-space:pre-wrap>       NA</span></td><td><span style=white-space:pre-wrap>NA           </span></td><td><span style=white-space:pre-wrap>NA          </span></td></tr>\n",
       "\t<tr><td>TRBYYXH128F4264585</td><td>Games                </td><td>SOPIOCP12A8C13A322</td><td>Afro-Harping       </td><td>AR75GYU1187B9AE47A</td><td>Dorothy Ashby                 </td><td>1968</td><td>237.3220</td><td>0.4107520</td><td>0.5303468</td><td>42.33168</td><td>-83.04792</td><td>Dorothy Ashby</td><td>Detroit, MI </td></tr>\n",
       "\t<tr><td>TRKFFKR128F9303AE3</td><td>More Pipes           </td><td>SOHQSPY12AB0181325</td><td>Six Yanks          </td><td>ARCENE01187B9AF929</td><td>Barleyjuice                   </td><td>2006</td><td>192.9400</td><td>0.3762635</td><td>0.5412950</td><td>40.99471</td><td>-77.60454</td><td>Barleyjuice  </td><td>Pennsylvania</td></tr>\n",
       "</tbody>\n",
       "</table>\n"
      ],
      "text/latex": [
       "A tibble: 6 × 14\n",
       "\\begin{tabular}{r|llllllllllllll}\n",
       " track\\_id & title & song\\_id & release & artist\\_id & artist\\_name & year & duration & artist\\_hotttnesss & artist\\_familiarity & latitude & longitude & name & city\\\\\n",
       " <chr> & <chr> & <chr> & <chr> & <chr> & <chr> & <int> & <dbl> & <dbl> & <dbl> & <dbl> & <dbl> & <chr> & <chr>\\\\\n",
       "\\hline\n",
       "\t TRWICRA128F42368DB & The Conversation (Cd) & SOSURTI12A81C22FB8 & Even If It Kills Me & ARACDPV1187FB58DF4 & Motion City Soundtrack         & 2007 & 170.4485 & 0.6410183 & 0.8230522 &       NA &        NA & NA            & NA          \\\\\n",
       "\t TRXJANY128F42246FC & Lonely Island         & SODESQP12A6D4F98EF & The Duke Of Earl    & ARYBUAO1187FB3F4EB & Gene Chandler                  & 2004 & 106.5530 & 0.3937627 & 0.5700167 & 41.88415 & -87.63241 & Gene Chandler & Chicago, IL \\\\\n",
       "\t TRIKPCA128F424A553 & Here's That Rainy Day & SOQUYQD12A8C131619 & Imprompture         & AR4111G1187B9B58AB & Paul Horn                      & 1998 & 527.5947 & 0.4306226 & 0.5039940 & 40.71455 & -74.00712 & Paul Horn     & New York, NY\\\\\n",
       "\t TRYEATD128F92F87C9 & Rego Park Blues       & SOEZGRC12AB017F1AC & Still River         & ARQDZP31187B98D623 & Ronnie Earl \\& the Broadcasters & 1995 & 695.1179 & 0.3622792 & 0.4773099 &       NA &        NA & NA            & NA          \\\\\n",
       "\t TRBYYXH128F4264585 & Games                 & SOPIOCP12A8C13A322 & Afro-Harping        & AR75GYU1187B9AE47A & Dorothy Ashby                  & 1968 & 237.3220 & 0.4107520 & 0.5303468 & 42.33168 & -83.04792 & Dorothy Ashby & Detroit, MI \\\\\n",
       "\t TRKFFKR128F9303AE3 & More Pipes            & SOHQSPY12AB0181325 & Six Yanks           & ARCENE01187B9AF929 & Barleyjuice                    & 2006 & 192.9400 & 0.3762635 & 0.5412950 & 40.99471 & -77.60454 & Barleyjuice   & Pennsylvania\\\\\n",
       "\\end{tabular}\n"
      ],
      "text/markdown": [
       "\n",
       "A tibble: 6 × 14\n",
       "\n",
       "| track_id &lt;chr&gt; | title &lt;chr&gt; | song_id &lt;chr&gt; | release &lt;chr&gt; | artist_id &lt;chr&gt; | artist_name &lt;chr&gt; | year &lt;int&gt; | duration &lt;dbl&gt; | artist_hotttnesss &lt;dbl&gt; | artist_familiarity &lt;dbl&gt; | latitude &lt;dbl&gt; | longitude &lt;dbl&gt; | name &lt;chr&gt; | city &lt;chr&gt; |\n",
       "|---|---|---|---|---|---|---|---|---|---|---|---|---|---|\n",
       "| TRWICRA128F42368DB | The Conversation (Cd) | SOSURTI12A81C22FB8 | Even If It Kills Me | ARACDPV1187FB58DF4 | Motion City Soundtrack         | 2007 | 170.4485 | 0.6410183 | 0.8230522 |       NA |        NA | NA            | NA           |\n",
       "| TRXJANY128F42246FC | Lonely Island         | SODESQP12A6D4F98EF | The Duke Of Earl    | ARYBUAO1187FB3F4EB | Gene Chandler                  | 2004 | 106.5530 | 0.3937627 | 0.5700167 | 41.88415 | -87.63241 | Gene Chandler | Chicago, IL  |\n",
       "| TRIKPCA128F424A553 | Here's That Rainy Day | SOQUYQD12A8C131619 | Imprompture         | AR4111G1187B9B58AB | Paul Horn                      | 1998 | 527.5947 | 0.4306226 | 0.5039940 | 40.71455 | -74.00712 | Paul Horn     | New York, NY |\n",
       "| TRYEATD128F92F87C9 | Rego Park Blues       | SOEZGRC12AB017F1AC | Still River         | ARQDZP31187B98D623 | Ronnie Earl &amp; the Broadcasters | 1995 | 695.1179 | 0.3622792 | 0.4773099 |       NA |        NA | NA            | NA           |\n",
       "| TRBYYXH128F4264585 | Games                 | SOPIOCP12A8C13A322 | Afro-Harping        | AR75GYU1187B9AE47A | Dorothy Ashby                  | 1968 | 237.3220 | 0.4107520 | 0.5303468 | 42.33168 | -83.04792 | Dorothy Ashby | Detroit, MI  |\n",
       "| TRKFFKR128F9303AE3 | More Pipes            | SOHQSPY12AB0181325 | Six Yanks           | ARCENE01187B9AF929 | Barleyjuice                    | 2006 | 192.9400 | 0.3762635 | 0.5412950 | 40.99471 | -77.60454 | Barleyjuice   | Pennsylvania |\n",
       "\n"
      ],
      "text/plain": [
       "  track_id           title                 song_id           \n",
       "1 TRWICRA128F42368DB The Conversation (Cd) SOSURTI12A81C22FB8\n",
       "2 TRXJANY128F42246FC Lonely Island         SODESQP12A6D4F98EF\n",
       "3 TRIKPCA128F424A553 Here's That Rainy Day SOQUYQD12A8C131619\n",
       "4 TRYEATD128F92F87C9 Rego Park Blues       SOEZGRC12AB017F1AC\n",
       "5 TRBYYXH128F4264585 Games                 SOPIOCP12A8C13A322\n",
       "6 TRKFFKR128F9303AE3 More Pipes            SOHQSPY12AB0181325\n",
       "  release             artist_id          artist_name                    year\n",
       "1 Even If It Kills Me ARACDPV1187FB58DF4 Motion City Soundtrack         2007\n",
       "2 The Duke Of Earl    ARYBUAO1187FB3F4EB Gene Chandler                  2004\n",
       "3 Imprompture         AR4111G1187B9B58AB Paul Horn                      1998\n",
       "4 Still River         ARQDZP31187B98D623 Ronnie Earl & the Broadcasters 1995\n",
       "5 Afro-Harping        AR75GYU1187B9AE47A Dorothy Ashby                  1968\n",
       "6 Six Yanks           ARCENE01187B9AF929 Barleyjuice                    2006\n",
       "  duration artist_hotttnesss artist_familiarity latitude longitude\n",
       "1 170.4485 0.6410183         0.8230522                NA        NA\n",
       "2 106.5530 0.3937627         0.5700167          41.88415 -87.63241\n",
       "3 527.5947 0.4306226         0.5039940          40.71455 -74.00712\n",
       "4 695.1179 0.3622792         0.4773099                NA        NA\n",
       "5 237.3220 0.4107520         0.5303468          42.33168 -83.04792\n",
       "6 192.9400 0.3762635         0.5412950          40.99471 -77.60454\n",
       "  name          city        \n",
       "1 NA            NA          \n",
       "2 Gene Chandler Chicago, IL \n",
       "3 Paul Horn     New York, NY\n",
       "4 NA            NA          \n",
       "5 Dorothy Ashby Detroit, MI \n",
       "6 Barleyjuice   Pennsylvania"
      ]
     },
     "metadata": {},
     "output_type": "display_data"
    }
   ],
   "source": [
    "singer_locations %>%\n",
    "  head()"
   ]
  },
  {
   "cell_type": "markdown",
   "metadata": {},
   "source": [
    "Try your hand with `tail()` and `glimpse()`."
   ]
  },
  {
   "cell_type": "code",
   "execution_count": 53,
   "metadata": {},
   "outputs": [
    {
     "name": "stdout",
     "output_type": "stream",
     "text": [
      "Observations: 6\n",
      "Variables: 14\n",
      "$ track_id           \u001b[3m\u001b[38;5;246m<chr>\u001b[39m\u001b[23m \"TRNHZEE128F425DC25\", \"TRNBOMT128F92FF4E0\", \"TRCVR…\n",
      "$ title              \u001b[3m\u001b[38;5;246m<chr>\u001b[39m\u001b[23m \"Pull Up to Da Light\", \"Hideaway\", \"Killing Me Sof…\n",
      "$ song_id            \u001b[3m\u001b[38;5;246m<chr>\u001b[39m\u001b[23m \"SOOFGYD12A8C138041\", \"SOAZFOU12A58A79370\", \"SOFUG…\n",
      "$ release            \u001b[3m\u001b[38;5;246m<chr>\u001b[39m\u001b[23m \"Da Kush\", \"Live at Peppers '68\", \"Eternal Love So…\n",
      "$ artist_id          \u001b[3m\u001b[38;5;246m<chr>\u001b[39m\u001b[23m \"ARRHMNH1187FB46512\", \"ARRR4Y81187FB524CE\", \"AR0XF…\n",
      "$ artist_name        \u001b[3m\u001b[38;5;246m<chr>\u001b[39m\u001b[23m \"T-Rock\", \"Lonnie Brooks\", \"Con & Dec_ The Bachelo…\n",
      "$ year               \u001b[3m\u001b[38;5;246m<int>\u001b[39m\u001b[23m 0, 0, 0, 0, 0, 0\n",
      "$ duration           \u001b[3m\u001b[38;5;246m<dbl>\u001b[39m\u001b[23m 276.0355, 341.3677, 299.1538, 406.0469, 434.3636, …\n",
      "$ artist_hotttnesss  \u001b[3m\u001b[38;5;246m<dbl>\u001b[39m\u001b[23m 0.3809877, 0.3847638, 0.3558477, 0.3532875, 0.4309…\n",
      "$ artist_familiarity \u001b[3m\u001b[38;5;246m<dbl>\u001b[39m\u001b[23m 0.5048331, 0.4421961, 0.4982286, 0.5482772, 0.6163…\n",
      "$ latitude           \u001b[3m\u001b[38;5;246m<dbl>\u001b[39m\u001b[23m 32.67828, 30.76753, 53.34376, NA, NA, NA\n",
      "$ longitude          \u001b[3m\u001b[38;5;246m<dbl>\u001b[39m\u001b[23m -83.22295, -92.11789, -6.24953, NA, NA, NA\n",
      "$ name               \u001b[3m\u001b[38;5;246m<chr>\u001b[39m\u001b[23m \"T-Rock\", \"Lonnie Brooks\", \"The Bachelors\", NA, NA…\n",
      "$ city               \u001b[3m\u001b[38;5;246m<chr>\u001b[39m\u001b[23m \"Georgia\", \"Dubuisson, LA\", \"Dublin, Ireland\", NA,…\n"
     ]
    }
   ],
   "source": [
    "singer_locations %>%\n",
    "    tail() %>%\n",
    "    glimpse()"
   ]
  },
  {
   "cell_type": "markdown",
   "metadata": {},
   "source": [
    "### Reflection time\n",
    "**Q** What information about the _structure_ of `singer_locations` could you grasp from glimpsing?"
   ]
  },
  {
   "cell_type": "markdown",
   "metadata": {},
   "source": [
    "## Selecting"
   ]
  },
  {
   "cell_type": "markdown",
   "metadata": {},
   "source": [
    "Sometimes we don't want to see all the columns of a dataframe, but just a few or one. That is possible using the `select()` function. Let's see how it works."
   ]
  },
  {
   "cell_type": "code",
   "execution_count": 54,
   "metadata": {},
   "outputs": [
    {
     "data": {
      "text/html": [
       "<table>\n",
       "<caption>A tibble: 6 × 1</caption>\n",
       "<thead>\n",
       "\t<tr><th scope=col>title</th></tr>\n",
       "\t<tr><th scope=col>&lt;chr&gt;</th></tr>\n",
       "</thead>\n",
       "<tbody>\n",
       "\t<tr><td>The Conversation (Cd)</td></tr>\n",
       "\t<tr><td>Lonely Island        </td></tr>\n",
       "\t<tr><td>Here's That Rainy Day</td></tr>\n",
       "\t<tr><td>Rego Park Blues      </td></tr>\n",
       "\t<tr><td>Games                </td></tr>\n",
       "\t<tr><td>More Pipes           </td></tr>\n",
       "</tbody>\n",
       "</table>\n"
      ],
      "text/latex": [
       "A tibble: 6 × 1\n",
       "\\begin{tabular}{r|l}\n",
       " title\\\\\n",
       " <chr>\\\\\n",
       "\\hline\n",
       "\t The Conversation (Cd)\\\\\n",
       "\t Lonely Island        \\\\\n",
       "\t Here's That Rainy Day\\\\\n",
       "\t Rego Park Blues      \\\\\n",
       "\t Games                \\\\\n",
       "\t More Pipes           \\\\\n",
       "\\end{tabular}\n"
      ],
      "text/markdown": [
       "\n",
       "A tibble: 6 × 1\n",
       "\n",
       "| title &lt;chr&gt; |\n",
       "|---|\n",
       "| The Conversation (Cd) |\n",
       "| Lonely Island         |\n",
       "| Here's That Rainy Day |\n",
       "| Rego Park Blues       |\n",
       "| Games                 |\n",
       "| More Pipes            |\n",
       "\n"
      ],
      "text/plain": [
       "  title                \n",
       "1 The Conversation (Cd)\n",
       "2 Lonely Island        \n",
       "3 Here's That Rainy Day\n",
       "4 Rego Park Blues      \n",
       "5 Games                \n",
       "6 More Pipes           "
      ]
     },
     "metadata": {},
     "output_type": "display_data"
    }
   ],
   "source": [
    "singer_locations %>%\n",
    "  select(title) %>% # let's see only the title column\n",
    "  head() # and just a few rows"
   ]
  },
  {
   "cell_type": "markdown",
   "metadata": {},
   "source": [
    "fill in the following code to show only a coupld of `artist_name`:"
   ]
  },
  {
   "cell_type": "code",
   "execution_count": 55,
   "metadata": {},
   "outputs": [
    {
     "data": {
      "text/html": [
       "<table>\n",
       "<caption>A tibble: 6 × 1</caption>\n",
       "<thead>\n",
       "\t<tr><th scope=col>artist_name</th></tr>\n",
       "\t<tr><th scope=col>&lt;chr&gt;</th></tr>\n",
       "</thead>\n",
       "<tbody>\n",
       "\t<tr><td>Motion City Soundtrack        </td></tr>\n",
       "\t<tr><td>Gene Chandler                 </td></tr>\n",
       "\t<tr><td>Paul Horn                     </td></tr>\n",
       "\t<tr><td>Ronnie Earl &amp; the Broadcasters</td></tr>\n",
       "\t<tr><td>Dorothy Ashby                 </td></tr>\n",
       "\t<tr><td>Barleyjuice                   </td></tr>\n",
       "</tbody>\n",
       "</table>\n"
      ],
      "text/latex": [
       "A tibble: 6 × 1\n",
       "\\begin{tabular}{r|l}\n",
       " artist\\_name\\\\\n",
       " <chr>\\\\\n",
       "\\hline\n",
       "\t Motion City Soundtrack        \\\\\n",
       "\t Gene Chandler                 \\\\\n",
       "\t Paul Horn                     \\\\\n",
       "\t Ronnie Earl \\& the Broadcasters\\\\\n",
       "\t Dorothy Ashby                 \\\\\n",
       "\t Barleyjuice                   \\\\\n",
       "\\end{tabular}\n"
      ],
      "text/markdown": [
       "\n",
       "A tibble: 6 × 1\n",
       "\n",
       "| artist_name &lt;chr&gt; |\n",
       "|---|\n",
       "| Motion City Soundtrack         |\n",
       "| Gene Chandler                  |\n",
       "| Paul Horn                      |\n",
       "| Ronnie Earl &amp; the Broadcasters |\n",
       "| Dorothy Ashby                  |\n",
       "| Barleyjuice                    |\n",
       "\n"
      ],
      "text/plain": [
       "  artist_name                   \n",
       "1 Motion City Soundtrack        \n",
       "2 Gene Chandler                 \n",
       "3 Paul Horn                     \n",
       "4 Ronnie Earl & the Broadcasters\n",
       "5 Dorothy Ashby                 \n",
       "6 Barleyjuice                   "
      ]
     },
     "metadata": {},
     "output_type": "display_data"
    }
   ],
   "source": [
    "singer_locations %>%\n",
    "  select(artist_name) %>%\n",
    "  head()"
   ]
  },
  {
   "cell_type": "markdown",
   "metadata": {},
   "source": [
    "Moreover, tidyverse (specifically, dplyr) offers you helper functions to select some column, for example:"
   ]
  },
  {
   "cell_type": "code",
   "execution_count": 56,
   "metadata": {},
   "outputs": [
    {
     "data": {
      "text/html": [
       "<table>\n",
       "<caption>A tibble: 6 × 3</caption>\n",
       "<thead>\n",
       "\t<tr><th scope=col>track_id</th><th scope=col>song_id</th><th scope=col>artist_id</th></tr>\n",
       "\t<tr><th scope=col>&lt;chr&gt;</th><th scope=col>&lt;chr&gt;</th><th scope=col>&lt;chr&gt;</th></tr>\n",
       "</thead>\n",
       "<tbody>\n",
       "\t<tr><td>TRWICRA128F42368DB</td><td>SOSURTI12A81C22FB8</td><td>ARACDPV1187FB58DF4</td></tr>\n",
       "\t<tr><td>TRXJANY128F42246FC</td><td>SODESQP12A6D4F98EF</td><td>ARYBUAO1187FB3F4EB</td></tr>\n",
       "\t<tr><td>TRIKPCA128F424A553</td><td>SOQUYQD12A8C131619</td><td>AR4111G1187B9B58AB</td></tr>\n",
       "\t<tr><td>TRYEATD128F92F87C9</td><td>SOEZGRC12AB017F1AC</td><td>ARQDZP31187B98D623</td></tr>\n",
       "\t<tr><td>TRBYYXH128F4264585</td><td>SOPIOCP12A8C13A322</td><td>AR75GYU1187B9AE47A</td></tr>\n",
       "\t<tr><td>TRKFFKR128F9303AE3</td><td>SOHQSPY12AB0181325</td><td>ARCENE01187B9AF929</td></tr>\n",
       "</tbody>\n",
       "</table>\n"
      ],
      "text/latex": [
       "A tibble: 6 × 3\n",
       "\\begin{tabular}{r|lll}\n",
       " track\\_id & song\\_id & artist\\_id\\\\\n",
       " <chr> & <chr> & <chr>\\\\\n",
       "\\hline\n",
       "\t TRWICRA128F42368DB & SOSURTI12A81C22FB8 & ARACDPV1187FB58DF4\\\\\n",
       "\t TRXJANY128F42246FC & SODESQP12A6D4F98EF & ARYBUAO1187FB3F4EB\\\\\n",
       "\t TRIKPCA128F424A553 & SOQUYQD12A8C131619 & AR4111G1187B9B58AB\\\\\n",
       "\t TRYEATD128F92F87C9 & SOEZGRC12AB017F1AC & ARQDZP31187B98D623\\\\\n",
       "\t TRBYYXH128F4264585 & SOPIOCP12A8C13A322 & AR75GYU1187B9AE47A\\\\\n",
       "\t TRKFFKR128F9303AE3 & SOHQSPY12AB0181325 & ARCENE01187B9AF929\\\\\n",
       "\\end{tabular}\n"
      ],
      "text/markdown": [
       "\n",
       "A tibble: 6 × 3\n",
       "\n",
       "| track_id &lt;chr&gt; | song_id &lt;chr&gt; | artist_id &lt;chr&gt; |\n",
       "|---|---|---|\n",
       "| TRWICRA128F42368DB | SOSURTI12A81C22FB8 | ARACDPV1187FB58DF4 |\n",
       "| TRXJANY128F42246FC | SODESQP12A6D4F98EF | ARYBUAO1187FB3F4EB |\n",
       "| TRIKPCA128F424A553 | SOQUYQD12A8C131619 | AR4111G1187B9B58AB |\n",
       "| TRYEATD128F92F87C9 | SOEZGRC12AB017F1AC | ARQDZP31187B98D623 |\n",
       "| TRBYYXH128F4264585 | SOPIOCP12A8C13A322 | AR75GYU1187B9AE47A |\n",
       "| TRKFFKR128F9303AE3 | SOHQSPY12AB0181325 | ARCENE01187B9AF929 |\n",
       "\n"
      ],
      "text/plain": [
       "  track_id           song_id            artist_id         \n",
       "1 TRWICRA128F42368DB SOSURTI12A81C22FB8 ARACDPV1187FB58DF4\n",
       "2 TRXJANY128F42246FC SODESQP12A6D4F98EF ARYBUAO1187FB3F4EB\n",
       "3 TRIKPCA128F424A553 SOQUYQD12A8C131619 AR4111G1187B9B58AB\n",
       "4 TRYEATD128F92F87C9 SOEZGRC12AB017F1AC ARQDZP31187B98D623\n",
       "5 TRBYYXH128F4264585 SOPIOCP12A8C13A322 AR75GYU1187B9AE47A\n",
       "6 TRKFFKR128F9303AE3 SOHQSPY12AB0181325 ARCENE01187B9AF929"
      ]
     },
     "metadata": {},
     "output_type": "display_data"
    }
   ],
   "source": [
    "singer_locations %>%\n",
    "  select(ends_with(\"id\")) %>% # let's see only the columns which names ends with \"id\"\n",
    "  head()"
   ]
  },
  {
   "cell_type": "code",
   "execution_count": 57,
   "metadata": {},
   "outputs": [
    {
     "data": {
      "text/html": [
       "<table>\n",
       "<caption>A tibble: 6 × 5</caption>\n",
       "<thead>\n",
       "\t<tr><th scope=col>track_id</th><th scope=col>title</th><th scope=col>song_id</th><th scope=col>release</th><th scope=col>artist_id</th></tr>\n",
       "\t<tr><th scope=col>&lt;chr&gt;</th><th scope=col>&lt;chr&gt;</th><th scope=col>&lt;chr&gt;</th><th scope=col>&lt;chr&gt;</th><th scope=col>&lt;chr&gt;</th></tr>\n",
       "</thead>\n",
       "<tbody>\n",
       "\t<tr><td>TRWICRA128F42368DB</td><td>The Conversation (Cd)</td><td>SOSURTI12A81C22FB8</td><td>Even If It Kills Me</td><td>ARACDPV1187FB58DF4</td></tr>\n",
       "\t<tr><td>TRXJANY128F42246FC</td><td>Lonely Island        </td><td>SODESQP12A6D4F98EF</td><td>The Duke Of Earl   </td><td>ARYBUAO1187FB3F4EB</td></tr>\n",
       "\t<tr><td>TRIKPCA128F424A553</td><td>Here's That Rainy Day</td><td>SOQUYQD12A8C131619</td><td>Imprompture        </td><td>AR4111G1187B9B58AB</td></tr>\n",
       "\t<tr><td>TRYEATD128F92F87C9</td><td>Rego Park Blues      </td><td>SOEZGRC12AB017F1AC</td><td>Still River        </td><td>ARQDZP31187B98D623</td></tr>\n",
       "\t<tr><td>TRBYYXH128F4264585</td><td>Games                </td><td>SOPIOCP12A8C13A322</td><td>Afro-Harping       </td><td>AR75GYU1187B9AE47A</td></tr>\n",
       "\t<tr><td>TRKFFKR128F9303AE3</td><td>More Pipes           </td><td>SOHQSPY12AB0181325</td><td>Six Yanks          </td><td>ARCENE01187B9AF929</td></tr>\n",
       "</tbody>\n",
       "</table>\n"
      ],
      "text/latex": [
       "A tibble: 6 × 5\n",
       "\\begin{tabular}{r|lllll}\n",
       " track\\_id & title & song\\_id & release & artist\\_id\\\\\n",
       " <chr> & <chr> & <chr> & <chr> & <chr>\\\\\n",
       "\\hline\n",
       "\t TRWICRA128F42368DB & The Conversation (Cd) & SOSURTI12A81C22FB8 & Even If It Kills Me & ARACDPV1187FB58DF4\\\\\n",
       "\t TRXJANY128F42246FC & Lonely Island         & SODESQP12A6D4F98EF & The Duke Of Earl    & ARYBUAO1187FB3F4EB\\\\\n",
       "\t TRIKPCA128F424A553 & Here's That Rainy Day & SOQUYQD12A8C131619 & Imprompture         & AR4111G1187B9B58AB\\\\\n",
       "\t TRYEATD128F92F87C9 & Rego Park Blues       & SOEZGRC12AB017F1AC & Still River         & ARQDZP31187B98D623\\\\\n",
       "\t TRBYYXH128F4264585 & Games                 & SOPIOCP12A8C13A322 & Afro-Harping        & AR75GYU1187B9AE47A\\\\\n",
       "\t TRKFFKR128F9303AE3 & More Pipes            & SOHQSPY12AB0181325 & Six Yanks           & ARCENE01187B9AF929\\\\\n",
       "\\end{tabular}\n"
      ],
      "text/markdown": [
       "\n",
       "A tibble: 6 × 5\n",
       "\n",
       "| track_id &lt;chr&gt; | title &lt;chr&gt; | song_id &lt;chr&gt; | release &lt;chr&gt; | artist_id &lt;chr&gt; |\n",
       "|---|---|---|---|---|\n",
       "| TRWICRA128F42368DB | The Conversation (Cd) | SOSURTI12A81C22FB8 | Even If It Kills Me | ARACDPV1187FB58DF4 |\n",
       "| TRXJANY128F42246FC | Lonely Island         | SODESQP12A6D4F98EF | The Duke Of Earl    | ARYBUAO1187FB3F4EB |\n",
       "| TRIKPCA128F424A553 | Here's That Rainy Day | SOQUYQD12A8C131619 | Imprompture         | AR4111G1187B9B58AB |\n",
       "| TRYEATD128F92F87C9 | Rego Park Blues       | SOEZGRC12AB017F1AC | Still River         | ARQDZP31187B98D623 |\n",
       "| TRBYYXH128F4264585 | Games                 | SOPIOCP12A8C13A322 | Afro-Harping        | AR75GYU1187B9AE47A |\n",
       "| TRKFFKR128F9303AE3 | More Pipes            | SOHQSPY12AB0181325 | Six Yanks           | ARCENE01187B9AF929 |\n",
       "\n"
      ],
      "text/plain": [
       "  track_id           title                 song_id           \n",
       "1 TRWICRA128F42368DB The Conversation (Cd) SOSURTI12A81C22FB8\n",
       "2 TRXJANY128F42246FC Lonely Island         SODESQP12A6D4F98EF\n",
       "3 TRIKPCA128F424A553 Here's That Rainy Day SOQUYQD12A8C131619\n",
       "4 TRYEATD128F92F87C9 Rego Park Blues       SOEZGRC12AB017F1AC\n",
       "5 TRBYYXH128F4264585 Games                 SOPIOCP12A8C13A322\n",
       "6 TRKFFKR128F9303AE3 More Pipes            SOHQSPY12AB0181325\n",
       "  release             artist_id         \n",
       "1 Even If It Kills Me ARACDPV1187FB58DF4\n",
       "2 The Duke Of Earl    ARYBUAO1187FB3F4EB\n",
       "3 Imprompture         AR4111G1187B9B58AB\n",
       "4 Still River         ARQDZP31187B98D623\n",
       "5 Afro-Harping        AR75GYU1187B9AE47A\n",
       "6 Six Yanks           ARCENE01187B9AF929"
      ]
     },
     "metadata": {},
     "output_type": "display_data"
    }
   ],
   "source": [
    "singer_locations %>%\n",
    "  select(track_id : artist_id) %>% # let's see only the columns between track_id and artist_id\n",
    "  head()"
   ]
  },
  {
   "cell_type": "markdown",
   "metadata": {},
   "source": [
    "And we can also decide which columns NOT to have:"
   ]
  },
  {
   "cell_type": "code",
   "execution_count": 58,
   "metadata": {},
   "outputs": [
    {
     "data": {
      "text/html": [
       "<table>\n",
       "<caption>A tibble: 6 × 11</caption>\n",
       "<thead>\n",
       "\t<tr><th scope=col>title</th><th scope=col>release</th><th scope=col>artist_name</th><th scope=col>year</th><th scope=col>duration</th><th scope=col>artist_hotttnesss</th><th scope=col>artist_familiarity</th><th scope=col>latitude</th><th scope=col>longitude</th><th scope=col>name</th><th scope=col>city</th></tr>\n",
       "\t<tr><th scope=col>&lt;chr&gt;</th><th scope=col>&lt;chr&gt;</th><th scope=col>&lt;chr&gt;</th><th scope=col>&lt;int&gt;</th><th scope=col>&lt;dbl&gt;</th><th scope=col>&lt;dbl&gt;</th><th scope=col>&lt;dbl&gt;</th><th scope=col>&lt;dbl&gt;</th><th scope=col>&lt;dbl&gt;</th><th scope=col>&lt;chr&gt;</th><th scope=col>&lt;chr&gt;</th></tr>\n",
       "</thead>\n",
       "<tbody>\n",
       "\t<tr><td>The Conversation (Cd)</td><td>Even If It Kills Me</td><td>Motion City Soundtrack        </td><td>2007</td><td>170.4485</td><td>0.6410183</td><td>0.8230522</td><td>      NA</td><td>       NA</td><td>NA           </td><td>NA          </td></tr>\n",
       "\t<tr><td>Lonely Island        </td><td>The Duke Of Earl   </td><td>Gene Chandler                 </td><td>2004</td><td>106.5530</td><td>0.3937627</td><td>0.5700167</td><td>41.88415</td><td>-87.63241</td><td>Gene Chandler</td><td>Chicago, IL </td></tr>\n",
       "\t<tr><td>Here's That Rainy Day</td><td>Imprompture        </td><td>Paul Horn                     </td><td>1998</td><td>527.5947</td><td>0.4306226</td><td>0.5039940</td><td>40.71455</td><td>-74.00712</td><td>Paul Horn    </td><td>New York, NY</td></tr>\n",
       "\t<tr><td><span style=white-space:pre-wrap>Rego Park Blues      </span></td><td><span style=white-space:pre-wrap>Still River        </span></td><td>Ronnie Earl &amp; the Broadcasters</td><td>1995</td><td>695.1179</td><td>0.3622792</td><td>0.4773099</td><td><span style=white-space:pre-wrap>      NA</span></td><td><span style=white-space:pre-wrap>       NA</span></td><td><span style=white-space:pre-wrap>NA           </span></td><td><span style=white-space:pre-wrap>NA          </span></td></tr>\n",
       "\t<tr><td>Games                </td><td>Afro-Harping       </td><td>Dorothy Ashby                 </td><td>1968</td><td>237.3220</td><td>0.4107520</td><td>0.5303468</td><td>42.33168</td><td>-83.04792</td><td>Dorothy Ashby</td><td>Detroit, MI </td></tr>\n",
       "\t<tr><td>More Pipes           </td><td>Six Yanks          </td><td>Barleyjuice                   </td><td>2006</td><td>192.9400</td><td>0.3762635</td><td>0.5412950</td><td>40.99471</td><td>-77.60454</td><td>Barleyjuice  </td><td>Pennsylvania</td></tr>\n",
       "</tbody>\n",
       "</table>\n"
      ],
      "text/latex": [
       "A tibble: 6 × 11\n",
       "\\begin{tabular}{r|lllllllllll}\n",
       " title & release & artist\\_name & year & duration & artist\\_hotttnesss & artist\\_familiarity & latitude & longitude & name & city\\\\\n",
       " <chr> & <chr> & <chr> & <int> & <dbl> & <dbl> & <dbl> & <dbl> & <dbl> & <chr> & <chr>\\\\\n",
       "\\hline\n",
       "\t The Conversation (Cd) & Even If It Kills Me & Motion City Soundtrack         & 2007 & 170.4485 & 0.6410183 & 0.8230522 &       NA &        NA & NA            & NA          \\\\\n",
       "\t Lonely Island         & The Duke Of Earl    & Gene Chandler                  & 2004 & 106.5530 & 0.3937627 & 0.5700167 & 41.88415 & -87.63241 & Gene Chandler & Chicago, IL \\\\\n",
       "\t Here's That Rainy Day & Imprompture         & Paul Horn                      & 1998 & 527.5947 & 0.4306226 & 0.5039940 & 40.71455 & -74.00712 & Paul Horn     & New York, NY\\\\\n",
       "\t Rego Park Blues       & Still River         & Ronnie Earl \\& the Broadcasters & 1995 & 695.1179 & 0.3622792 & 0.4773099 &       NA &        NA & NA            & NA          \\\\\n",
       "\t Games                 & Afro-Harping        & Dorothy Ashby                  & 1968 & 237.3220 & 0.4107520 & 0.5303468 & 42.33168 & -83.04792 & Dorothy Ashby & Detroit, MI \\\\\n",
       "\t More Pipes            & Six Yanks           & Barleyjuice                    & 2006 & 192.9400 & 0.3762635 & 0.5412950 & 40.99471 & -77.60454 & Barleyjuice   & Pennsylvania\\\\\n",
       "\\end{tabular}\n"
      ],
      "text/markdown": [
       "\n",
       "A tibble: 6 × 11\n",
       "\n",
       "| title &lt;chr&gt; | release &lt;chr&gt; | artist_name &lt;chr&gt; | year &lt;int&gt; | duration &lt;dbl&gt; | artist_hotttnesss &lt;dbl&gt; | artist_familiarity &lt;dbl&gt; | latitude &lt;dbl&gt; | longitude &lt;dbl&gt; | name &lt;chr&gt; | city &lt;chr&gt; |\n",
       "|---|---|---|---|---|---|---|---|---|---|---|\n",
       "| The Conversation (Cd) | Even If It Kills Me | Motion City Soundtrack         | 2007 | 170.4485 | 0.6410183 | 0.8230522 |       NA |        NA | NA            | NA           |\n",
       "| Lonely Island         | The Duke Of Earl    | Gene Chandler                  | 2004 | 106.5530 | 0.3937627 | 0.5700167 | 41.88415 | -87.63241 | Gene Chandler | Chicago, IL  |\n",
       "| Here's That Rainy Day | Imprompture         | Paul Horn                      | 1998 | 527.5947 | 0.4306226 | 0.5039940 | 40.71455 | -74.00712 | Paul Horn     | New York, NY |\n",
       "| Rego Park Blues       | Still River         | Ronnie Earl &amp; the Broadcasters | 1995 | 695.1179 | 0.3622792 | 0.4773099 |       NA |        NA | NA            | NA           |\n",
       "| Games                 | Afro-Harping        | Dorothy Ashby                  | 1968 | 237.3220 | 0.4107520 | 0.5303468 | 42.33168 | -83.04792 | Dorothy Ashby | Detroit, MI  |\n",
       "| More Pipes            | Six Yanks           | Barleyjuice                    | 2006 | 192.9400 | 0.3762635 | 0.5412950 | 40.99471 | -77.60454 | Barleyjuice   | Pennsylvania |\n",
       "\n"
      ],
      "text/plain": [
       "  title                 release             artist_name                    year\n",
       "1 The Conversation (Cd) Even If It Kills Me Motion City Soundtrack         2007\n",
       "2 Lonely Island         The Duke Of Earl    Gene Chandler                  2004\n",
       "3 Here's That Rainy Day Imprompture         Paul Horn                      1998\n",
       "4 Rego Park Blues       Still River         Ronnie Earl & the Broadcasters 1995\n",
       "5 Games                 Afro-Harping        Dorothy Ashby                  1968\n",
       "6 More Pipes            Six Yanks           Barleyjuice                    2006\n",
       "  duration artist_hotttnesss artist_familiarity latitude longitude\n",
       "1 170.4485 0.6410183         0.8230522                NA        NA\n",
       "2 106.5530 0.3937627         0.5700167          41.88415 -87.63241\n",
       "3 527.5947 0.4306226         0.5039940          40.71455 -74.00712\n",
       "4 695.1179 0.3622792         0.4773099                NA        NA\n",
       "5 237.3220 0.4107520         0.5303468          42.33168 -83.04792\n",
       "6 192.9400 0.3762635         0.5412950          40.99471 -77.60454\n",
       "  name          city        \n",
       "1 NA            NA          \n",
       "2 Gene Chandler Chicago, IL \n",
       "3 Paul Horn     New York, NY\n",
       "4 NA            NA          \n",
       "5 Dorothy Ashby Detroit, MI \n",
       "6 Barleyjuice   Pennsylvania"
      ]
     },
     "metadata": {},
     "output_type": "display_data"
    }
   ],
   "source": [
    "singer_locations %>%\n",
    "  select(-ends_with(\"id\")) %>% # let's drop the \"id\" columns\n",
    "  head()"
   ]
  },
  {
   "cell_type": "markdown",
   "metadata": {},
   "source": [
    "## Plot, listen, 3D print, ...\n",
    "\n",
    "Identifying the presence of regularities or irregularities in the data by simply reading the values in a dataset is difficult. Not impossible, and sometime you need to do it.   Visual, audio, ..., representations of data leverage on the human ability to parse information. Thus, let's use those representations as often as we can.\n",
    "\n",
    "(Unfortunately) visual representations are much more supported than any other expressive means (at least in R and many other programming language).  \n",
    "So, let's get artistic. Here I will focus on plotting data, but if visual is not for you come talk with me and we can find a solution."
   ]
  },
  {
   "cell_type": "markdown",
   "metadata": {},
   "source": [
    "One of the first packages we see is called `skimr` (more infor [here](https://github.com/ropensci/skimr) )"
   ]
  },
  {
   "cell_type": "code",
   "execution_count": 59,
   "metadata": {},
   "outputs": [],
   "source": [
    "#remotes::install_github(\"ropenscilabs/skimr\")"
   ]
  },
  {
   "cell_type": "code",
   "execution_count": 60,
   "metadata": {},
   "outputs": [],
   "source": [
    "library(skimr)"
   ]
  },
  {
   "cell_type": "markdown",
   "metadata": {},
   "source": [
    "The main function is called `skim()`.  \n",
    "Warning: it will spit out a lot of text, especially if your dataset has many columns..."
   ]
  },
  {
   "cell_type": "code",
   "execution_count": 61,
   "metadata": {},
   "outputs": [
    {
     "data": {
      "text/html": [
       "<table>\n",
       "<caption>A skim_df: 122 × 6</caption>\n",
       "<thead>\n",
       "\t<tr><th scope=col>variable</th><th scope=col>type</th><th scope=col>stat</th><th scope=col>level</th><th scope=col>value</th><th scope=col>formatted</th></tr>\n",
       "\t<tr><th scope=col>&lt;chr&gt;</th><th scope=col>&lt;chr&gt;</th><th scope=col>&lt;chr&gt;</th><th scope=col>&lt;chr&gt;</th><th scope=col>&lt;dbl&gt;</th><th scope=col>&lt;chr&gt;</th></tr>\n",
       "</thead>\n",
       "<tbody>\n",
       "\t<tr><td>track_id </td><td>character</td><td>missing </td><td>.all</td><td>    0</td><td>0    </td></tr>\n",
       "\t<tr><td>track_id </td><td>character</td><td>complete</td><td>.all</td><td>10100</td><td>10100</td></tr>\n",
       "\t<tr><td>track_id </td><td>character</td><td>n       </td><td>.all</td><td>10100</td><td>10100</td></tr>\n",
       "\t<tr><td>track_id </td><td>character</td><td>min     </td><td>.all</td><td>   18</td><td>18   </td></tr>\n",
       "\t<tr><td>track_id </td><td>character</td><td>max     </td><td>.all</td><td>   18</td><td>18   </td></tr>\n",
       "\t<tr><td>track_id </td><td>character</td><td>empty   </td><td>.all</td><td>    0</td><td>0    </td></tr>\n",
       "\t<tr><td>track_id </td><td>character</td><td>n_unique</td><td>.all</td><td>10100</td><td>10100</td></tr>\n",
       "\t<tr><td>title    </td><td>character</td><td>missing </td><td>.all</td><td>    0</td><td>0    </td></tr>\n",
       "\t<tr><td>title    </td><td>character</td><td>complete</td><td>.all</td><td>10100</td><td>10100</td></tr>\n",
       "\t<tr><td>title    </td><td>character</td><td>n       </td><td>.all</td><td>10100</td><td>10100</td></tr>\n",
       "\t<tr><td>title    </td><td>character</td><td>min     </td><td>.all</td><td>    1</td><td>1    </td></tr>\n",
       "\t<tr><td>title    </td><td>character</td><td>max     </td><td>.all</td><td>  118</td><td>118  </td></tr>\n",
       "\t<tr><td>title    </td><td>character</td><td>empty   </td><td>.all</td><td>    0</td><td>0    </td></tr>\n",
       "\t<tr><td>title    </td><td>character</td><td>n_unique</td><td>.all</td><td> 9799</td><td>9799 </td></tr>\n",
       "\t<tr><td>song_id  </td><td>character</td><td>missing </td><td>.all</td><td>    0</td><td>0    </td></tr>\n",
       "\t<tr><td>song_id  </td><td>character</td><td>complete</td><td>.all</td><td>10100</td><td>10100</td></tr>\n",
       "\t<tr><td>song_id  </td><td>character</td><td>n       </td><td>.all</td><td>10100</td><td>10100</td></tr>\n",
       "\t<tr><td>song_id  </td><td>character</td><td>min     </td><td>.all</td><td>   18</td><td>18   </td></tr>\n",
       "\t<tr><td>song_id  </td><td>character</td><td>max     </td><td>.all</td><td>   18</td><td>18   </td></tr>\n",
       "\t<tr><td>song_id  </td><td>character</td><td>empty   </td><td>.all</td><td>    0</td><td>0    </td></tr>\n",
       "\t<tr><td>song_id  </td><td>character</td><td>n_unique</td><td>.all</td><td>10100</td><td>10100</td></tr>\n",
       "\t<tr><td>release  </td><td>character</td><td>missing </td><td>.all</td><td>    0</td><td>0    </td></tr>\n",
       "\t<tr><td>release  </td><td>character</td><td>complete</td><td>.all</td><td>10100</td><td>10100</td></tr>\n",
       "\t<tr><td>release  </td><td>character</td><td>n       </td><td>.all</td><td>10100</td><td>10100</td></tr>\n",
       "\t<tr><td>release  </td><td>character</td><td>min     </td><td>.all</td><td>    1</td><td>1    </td></tr>\n",
       "\t<tr><td>release  </td><td>character</td><td>max     </td><td>.all</td><td>  125</td><td>125  </td></tr>\n",
       "\t<tr><td>release  </td><td>character</td><td>empty   </td><td>.all</td><td>    0</td><td>0    </td></tr>\n",
       "\t<tr><td>release  </td><td>character</td><td>n_unique</td><td>.all</td><td> 9049</td><td>9049 </td></tr>\n",
       "\t<tr><td>artist_id</td><td>character</td><td>missing </td><td>.all</td><td>    0</td><td>0    </td></tr>\n",
       "\t<tr><td>artist_id</td><td>character</td><td>complete</td><td>.all</td><td>10100</td><td>10100</td></tr>\n",
       "\t<tr><td>⋮</td><td>⋮</td><td>⋮</td><td>⋮</td><td>⋮</td><td>⋮</td></tr>\n",
       "\t<tr><td>latitude </td><td>numeric  </td><td>p25     </td><td>.all</td><td>   35.14968</td><td>35.15   </td></tr>\n",
       "\t<tr><td>latitude </td><td>numeric  </td><td>p50     </td><td>.all</td><td>   40.71455</td><td>40.71   </td></tr>\n",
       "\t<tr><td>latitude </td><td>numeric  </td><td>p75     </td><td>.all</td><td>   50.88423</td><td>50.88   </td></tr>\n",
       "\t<tr><td>latitude </td><td>numeric  </td><td>p100    </td><td>.all</td><td>   69.65102</td><td>69.65   </td></tr>\n",
       "\t<tr><td>latitude </td><td>numeric  </td><td>hist    </td><td>.all</td><td>         NA</td><td>▁▁▁▁▁▇▇▁</td></tr>\n",
       "\t<tr><td>longitude</td><td>numeric  </td><td>missing </td><td>.all</td><td> 5968.00000</td><td>5968    </td></tr>\n",
       "\t<tr><td>longitude</td><td>numeric  </td><td>complete</td><td>.all</td><td> 4132.00000</td><td>4132    </td></tr>\n",
       "\t<tr><td>longitude</td><td>numeric  </td><td>n       </td><td>.all</td><td>10100.00000</td><td>10100   </td></tr>\n",
       "\t<tr><td>longitude</td><td>numeric  </td><td>mean    </td><td>.all</td><td>  -53.63153</td><td>-53.63  </td></tr>\n",
       "\t<tr><td>longitude</td><td>numeric  </td><td>sd      </td><td>.all</td><td>   56.68652</td><td>56.69   </td></tr>\n",
       "\t<tr><td>longitude</td><td>numeric  </td><td>p0      </td><td>.all</td><td> -155.43414</td><td>-155.43 </td></tr>\n",
       "\t<tr><td>longitude</td><td>numeric  </td><td>p25     </td><td>.all</td><td>  -90.19951</td><td>-90.2   </td></tr>\n",
       "\t<tr><td>longitude</td><td>numeric  </td><td>p50     </td><td>.all</td><td>  -74.72671</td><td>-74.73  </td></tr>\n",
       "\t<tr><td>longitude</td><td>numeric  </td><td>p75     </td><td>.all</td><td>   -1.46454</td><td>-1.46   </td></tr>\n",
       "\t<tr><td>longitude</td><td>numeric  </td><td>p100    </td><td>.all</td><td>  175.47131</td><td>175.47  </td></tr>\n",
       "\t<tr><td>longitude</td><td>numeric  </td><td>hist    </td><td>.all</td><td>         NA</td><td>▂▇▁▅▂▁▁▁</td></tr>\n",
       "\t<tr><td>name     </td><td>character</td><td>missing </td><td>.all</td><td> 5968.00000</td><td>5968    </td></tr>\n",
       "\t<tr><td>name     </td><td>character</td><td>complete</td><td>.all</td><td> 4132.00000</td><td>4132    </td></tr>\n",
       "\t<tr><td>name     </td><td>character</td><td>n       </td><td>.all</td><td>10100.00000</td><td>10100   </td></tr>\n",
       "\t<tr><td>name     </td><td>character</td><td>min     </td><td>.all</td><td>    1.00000</td><td>1       </td></tr>\n",
       "\t<tr><td>name     </td><td>character</td><td>max     </td><td>.all</td><td>  223.00000</td><td>223     </td></tr>\n",
       "\t<tr><td>name     </td><td>character</td><td>empty   </td><td>.all</td><td>    0.00000</td><td>0       </td></tr>\n",
       "\t<tr><td>name     </td><td>character</td><td>n_unique</td><td>.all</td><td> 2912.00000</td><td>2912    </td></tr>\n",
       "\t<tr><td>city     </td><td>character</td><td>missing </td><td>.all</td><td> 5971.00000</td><td>5971    </td></tr>\n",
       "\t<tr><td>city     </td><td>character</td><td>complete</td><td>.all</td><td> 4129.00000</td><td>4129    </td></tr>\n",
       "\t<tr><td>city     </td><td>character</td><td>n       </td><td>.all</td><td>10100.00000</td><td>10100   </td></tr>\n",
       "\t<tr><td>city     </td><td>character</td><td>min     </td><td>.all</td><td>    2.00000</td><td>2       </td></tr>\n",
       "\t<tr><td>city     </td><td>character</td><td>max     </td><td>.all</td><td>   90.00000</td><td>90      </td></tr>\n",
       "\t<tr><td>city     </td><td>character</td><td>empty   </td><td>.all</td><td>    0.00000</td><td>0       </td></tr>\n",
       "\t<tr><td>city     </td><td>character</td><td>n_unique</td><td>.all</td><td> 1316.00000</td><td>1316    </td></tr>\n",
       "</tbody>\n",
       "</table>\n"
      ],
      "text/latex": [
       "A skim_df: 122 × 6\n",
       "\\begin{tabular}{r|llllll}\n",
       " variable & type & stat & level & value & formatted\\\\\n",
       " <chr> & <chr> & <chr> & <chr> & <dbl> & <chr>\\\\\n",
       "\\hline\n",
       "\t track\\_id  & character & missing  & .all &     0 & 0    \\\\\n",
       "\t track\\_id  & character & complete & .all & 10100 & 10100\\\\\n",
       "\t track\\_id  & character & n        & .all & 10100 & 10100\\\\\n",
       "\t track\\_id  & character & min      & .all &    18 & 18   \\\\\n",
       "\t track\\_id  & character & max      & .all &    18 & 18   \\\\\n",
       "\t track\\_id  & character & empty    & .all &     0 & 0    \\\\\n",
       "\t track\\_id  & character & n\\_unique & .all & 10100 & 10100\\\\\n",
       "\t title     & character & missing  & .all &     0 & 0    \\\\\n",
       "\t title     & character & complete & .all & 10100 & 10100\\\\\n",
       "\t title     & character & n        & .all & 10100 & 10100\\\\\n",
       "\t title     & character & min      & .all &     1 & 1    \\\\\n",
       "\t title     & character & max      & .all &   118 & 118  \\\\\n",
       "\t title     & character & empty    & .all &     0 & 0    \\\\\n",
       "\t title     & character & n\\_unique & .all &  9799 & 9799 \\\\\n",
       "\t song\\_id   & character & missing  & .all &     0 & 0    \\\\\n",
       "\t song\\_id   & character & complete & .all & 10100 & 10100\\\\\n",
       "\t song\\_id   & character & n        & .all & 10100 & 10100\\\\\n",
       "\t song\\_id   & character & min      & .all &    18 & 18   \\\\\n",
       "\t song\\_id   & character & max      & .all &    18 & 18   \\\\\n",
       "\t song\\_id   & character & empty    & .all &     0 & 0    \\\\\n",
       "\t song\\_id   & character & n\\_unique & .all & 10100 & 10100\\\\\n",
       "\t release   & character & missing  & .all &     0 & 0    \\\\\n",
       "\t release   & character & complete & .all & 10100 & 10100\\\\\n",
       "\t release   & character & n        & .all & 10100 & 10100\\\\\n",
       "\t release   & character & min      & .all &     1 & 1    \\\\\n",
       "\t release   & character & max      & .all &   125 & 125  \\\\\n",
       "\t release   & character & empty    & .all &     0 & 0    \\\\\n",
       "\t release   & character & n\\_unique & .all &  9049 & 9049 \\\\\n",
       "\t artist\\_id & character & missing  & .all &     0 & 0    \\\\\n",
       "\t artist\\_id & character & complete & .all & 10100 & 10100\\\\\n",
       "\t ⋮ & ⋮ & ⋮ & ⋮ & ⋮ & ⋮\\\\\n",
       "\t latitude  & numeric   & p25      & .all &    35.14968 & 35.15   \\\\\n",
       "\t latitude  & numeric   & p50      & .all &    40.71455 & 40.71   \\\\\n",
       "\t latitude  & numeric   & p75      & .all &    50.88423 & 50.88   \\\\\n",
       "\t latitude  & numeric   & p100     & .all &    69.65102 & 69.65   \\\\\n",
       "\t latitude  & numeric   & hist     & .all &          NA & ▁▁▁▁▁▇▇▁\\\\\n",
       "\t longitude & numeric   & missing  & .all &  5968.00000 & 5968    \\\\\n",
       "\t longitude & numeric   & complete & .all &  4132.00000 & 4132    \\\\\n",
       "\t longitude & numeric   & n        & .all & 10100.00000 & 10100   \\\\\n",
       "\t longitude & numeric   & mean     & .all &   -53.63153 & -53.63  \\\\\n",
       "\t longitude & numeric   & sd       & .all &    56.68652 & 56.69   \\\\\n",
       "\t longitude & numeric   & p0       & .all &  -155.43414 & -155.43 \\\\\n",
       "\t longitude & numeric   & p25      & .all &   -90.19951 & -90.2   \\\\\n",
       "\t longitude & numeric   & p50      & .all &   -74.72671 & -74.73  \\\\\n",
       "\t longitude & numeric   & p75      & .all &    -1.46454 & -1.46   \\\\\n",
       "\t longitude & numeric   & p100     & .all &   175.47131 & 175.47  \\\\\n",
       "\t longitude & numeric   & hist     & .all &          NA & ▂▇▁▅▂▁▁▁\\\\\n",
       "\t name      & character & missing  & .all &  5968.00000 & 5968    \\\\\n",
       "\t name      & character & complete & .all &  4132.00000 & 4132    \\\\\n",
       "\t name      & character & n        & .all & 10100.00000 & 10100   \\\\\n",
       "\t name      & character & min      & .all &     1.00000 & 1       \\\\\n",
       "\t name      & character & max      & .all &   223.00000 & 223     \\\\\n",
       "\t name      & character & empty    & .all &     0.00000 & 0       \\\\\n",
       "\t name      & character & n\\_unique & .all &  2912.00000 & 2912    \\\\\n",
       "\t city      & character & missing  & .all &  5971.00000 & 5971    \\\\\n",
       "\t city      & character & complete & .all &  4129.00000 & 4129    \\\\\n",
       "\t city      & character & n        & .all & 10100.00000 & 10100   \\\\\n",
       "\t city      & character & min      & .all &     2.00000 & 2       \\\\\n",
       "\t city      & character & max      & .all &    90.00000 & 90      \\\\\n",
       "\t city      & character & empty    & .all &     0.00000 & 0       \\\\\n",
       "\t city      & character & n\\_unique & .all &  1316.00000 & 1316    \\\\\n",
       "\\end{tabular}\n"
      ],
      "text/markdown": [
       "\n",
       "A skim_df: 122 × 6\n",
       "\n",
       "| variable &lt;chr&gt; | type &lt;chr&gt; | stat &lt;chr&gt; | level &lt;chr&gt; | value &lt;dbl&gt; | formatted &lt;chr&gt; |\n",
       "|---|---|---|---|---|---|\n",
       "| track_id  | character | missing  | .all |     0 | 0     |\n",
       "| track_id  | character | complete | .all | 10100 | 10100 |\n",
       "| track_id  | character | n        | .all | 10100 | 10100 |\n",
       "| track_id  | character | min      | .all |    18 | 18    |\n",
       "| track_id  | character | max      | .all |    18 | 18    |\n",
       "| track_id  | character | empty    | .all |     0 | 0     |\n",
       "| track_id  | character | n_unique | .all | 10100 | 10100 |\n",
       "| title     | character | missing  | .all |     0 | 0     |\n",
       "| title     | character | complete | .all | 10100 | 10100 |\n",
       "| title     | character | n        | .all | 10100 | 10100 |\n",
       "| title     | character | min      | .all |     1 | 1     |\n",
       "| title     | character | max      | .all |   118 | 118   |\n",
       "| title     | character | empty    | .all |     0 | 0     |\n",
       "| title     | character | n_unique | .all |  9799 | 9799  |\n",
       "| song_id   | character | missing  | .all |     0 | 0     |\n",
       "| song_id   | character | complete | .all | 10100 | 10100 |\n",
       "| song_id   | character | n        | .all | 10100 | 10100 |\n",
       "| song_id   | character | min      | .all |    18 | 18    |\n",
       "| song_id   | character | max      | .all |    18 | 18    |\n",
       "| song_id   | character | empty    | .all |     0 | 0     |\n",
       "| song_id   | character | n_unique | .all | 10100 | 10100 |\n",
       "| release   | character | missing  | .all |     0 | 0     |\n",
       "| release   | character | complete | .all | 10100 | 10100 |\n",
       "| release   | character | n        | .all | 10100 | 10100 |\n",
       "| release   | character | min      | .all |     1 | 1     |\n",
       "| release   | character | max      | .all |   125 | 125   |\n",
       "| release   | character | empty    | .all |     0 | 0     |\n",
       "| release   | character | n_unique | .all |  9049 | 9049  |\n",
       "| artist_id | character | missing  | .all |     0 | 0     |\n",
       "| artist_id | character | complete | .all | 10100 | 10100 |\n",
       "| ⋮ | ⋮ | ⋮ | ⋮ | ⋮ | ⋮ |\n",
       "| latitude  | numeric   | p25      | .all |    35.14968 | 35.15    |\n",
       "| latitude  | numeric   | p50      | .all |    40.71455 | 40.71    |\n",
       "| latitude  | numeric   | p75      | .all |    50.88423 | 50.88    |\n",
       "| latitude  | numeric   | p100     | .all |    69.65102 | 69.65    |\n",
       "| latitude  | numeric   | hist     | .all |          NA | ▁▁▁▁▁▇▇▁ |\n",
       "| longitude | numeric   | missing  | .all |  5968.00000 | 5968     |\n",
       "| longitude | numeric   | complete | .all |  4132.00000 | 4132     |\n",
       "| longitude | numeric   | n        | .all | 10100.00000 | 10100    |\n",
       "| longitude | numeric   | mean     | .all |   -53.63153 | -53.63   |\n",
       "| longitude | numeric   | sd       | .all |    56.68652 | 56.69    |\n",
       "| longitude | numeric   | p0       | .all |  -155.43414 | -155.43  |\n",
       "| longitude | numeric   | p25      | .all |   -90.19951 | -90.2    |\n",
       "| longitude | numeric   | p50      | .all |   -74.72671 | -74.73   |\n",
       "| longitude | numeric   | p75      | .all |    -1.46454 | -1.46    |\n",
       "| longitude | numeric   | p100     | .all |   175.47131 | 175.47   |\n",
       "| longitude | numeric   | hist     | .all |          NA | ▂▇▁▅▂▁▁▁ |\n",
       "| name      | character | missing  | .all |  5968.00000 | 5968     |\n",
       "| name      | character | complete | .all |  4132.00000 | 4132     |\n",
       "| name      | character | n        | .all | 10100.00000 | 10100    |\n",
       "| name      | character | min      | .all |     1.00000 | 1        |\n",
       "| name      | character | max      | .all |   223.00000 | 223      |\n",
       "| name      | character | empty    | .all |     0.00000 | 0        |\n",
       "| name      | character | n_unique | .all |  2912.00000 | 2912     |\n",
       "| city      | character | missing  | .all |  5971.00000 | 5971     |\n",
       "| city      | character | complete | .all |  4129.00000 | 4129     |\n",
       "| city      | character | n        | .all | 10100.00000 | 10100    |\n",
       "| city      | character | min      | .all |     2.00000 | 2        |\n",
       "| city      | character | max      | .all |    90.00000 | 90       |\n",
       "| city      | character | empty    | .all |     0.00000 | 0        |\n",
       "| city      | character | n_unique | .all |  1316.00000 | 1316     |\n",
       "\n"
      ],
      "text/plain": [
       "    variable  type      stat     level value       formatted\n",
       "1   track_id  character missing  .all      0       0        \n",
       "2   track_id  character complete .all  10100       10100    \n",
       "3   track_id  character n        .all  10100       10100    \n",
       "4   track_id  character min      .all     18       18       \n",
       "5   track_id  character max      .all     18       18       \n",
       "6   track_id  character empty    .all      0       0        \n",
       "7   track_id  character n_unique .all  10100       10100    \n",
       "8   title     character missing  .all      0       0        \n",
       "9   title     character complete .all  10100       10100    \n",
       "10  title     character n        .all  10100       10100    \n",
       "11  title     character min      .all      1       1        \n",
       "12  title     character max      .all    118       118      \n",
       "13  title     character empty    .all      0       0        \n",
       "14  title     character n_unique .all   9799       9799     \n",
       "15  song_id   character missing  .all      0       0        \n",
       "16  song_id   character complete .all  10100       10100    \n",
       "17  song_id   character n        .all  10100       10100    \n",
       "18  song_id   character min      .all     18       18       \n",
       "19  song_id   character max      .all     18       18       \n",
       "20  song_id   character empty    .all      0       0        \n",
       "21  song_id   character n_unique .all  10100       10100    \n",
       "22  release   character missing  .all      0       0        \n",
       "23  release   character complete .all  10100       10100    \n",
       "24  release   character n        .all  10100       10100    \n",
       "25  release   character min      .all      1       1        \n",
       "26  release   character max      .all    125       125      \n",
       "27  release   character empty    .all      0       0        \n",
       "28  release   character n_unique .all   9049       9049     \n",
       "29  artist_id character missing  .all      0       0        \n",
       "30  artist_id character complete .all  10100       10100    \n",
       "⋮   ⋮         ⋮         ⋮        ⋮     ⋮           ⋮        \n",
       "93  latitude  numeric   p25      .all     35.14968 35.15    \n",
       "94  latitude  numeric   p50      .all     40.71455 40.71    \n",
       "95  latitude  numeric   p75      .all     50.88423 50.88    \n",
       "96  latitude  numeric   p100     .all     69.65102 69.65    \n",
       "97  latitude  numeric   hist     .all           NA ▁▁▁▁▁▇▇▁ \n",
       "98  longitude numeric   missing  .all   5968.00000 5968     \n",
       "99  longitude numeric   complete .all   4132.00000 4132     \n",
       "100 longitude numeric   n        .all  10100.00000 10100    \n",
       "101 longitude numeric   mean     .all    -53.63153 -53.63   \n",
       "102 longitude numeric   sd       .all     56.68652 56.69    \n",
       "103 longitude numeric   p0       .all   -155.43414 -155.43  \n",
       "104 longitude numeric   p25      .all    -90.19951 -90.2    \n",
       "105 longitude numeric   p50      .all    -74.72671 -74.73   \n",
       "106 longitude numeric   p75      .all     -1.46454 -1.46    \n",
       "107 longitude numeric   p100     .all    175.47131 175.47   \n",
       "108 longitude numeric   hist     .all           NA ▂▇▁▅▂▁▁▁ \n",
       "109 name      character missing  .all   5968.00000 5968     \n",
       "110 name      character complete .all   4132.00000 4132     \n",
       "111 name      character n        .all  10100.00000 10100    \n",
       "112 name      character min      .all      1.00000 1        \n",
       "113 name      character max      .all    223.00000 223      \n",
       "114 name      character empty    .all      0.00000 0        \n",
       "115 name      character n_unique .all   2912.00000 2912     \n",
       "116 city      character missing  .all   5971.00000 5971     \n",
       "117 city      character complete .all   4129.00000 4129     \n",
       "118 city      character n        .all  10100.00000 10100    \n",
       "119 city      character min      .all      2.00000 2        \n",
       "120 city      character max      .all     90.00000 90       \n",
       "121 city      character empty    .all      0.00000 0        \n",
       "122 city      character n_unique .all   1316.00000 1316     "
      ]
     },
     "metadata": {},
     "output_type": "display_data"
    }
   ],
   "source": [
    "singer_locations %>%\n",
    "  skim()"
   ]
  },
  {
   "cell_type": "markdown",
   "metadata": {},
   "source": [
    "Uuuh, we have a LOT of information there, and it is not very easy to read it.  \n",
    "Luckily, `skimr` has a hand function, `kable()`, that organise that information into a more compact format."
   ]
  },
  {
   "cell_type": "code",
   "execution_count": 62,
   "metadata": {},
   "outputs": [
    {
     "name": "stdout",
     "output_type": "stream",
     "text": [
      "Skim summary statistics  \n",
      " n obs: 10100    \n",
      " n variables: 14    \n",
      "\n",
      "Variable type: character\n",
      "\n",
      "|  variable   | missing | complete |   n   | min | max | empty | n_unique |\n",
      "|-------------|---------|----------|-------|-----|-----|-------|----------|\n",
      "|  artist_id  |    0    |  10100   | 10100 | 18  | 18  |   0   |   7346   |\n",
      "| artist_name |    0    |  10100   | 10100 |  2  | 127 |   0   |   7498   |\n",
      "|    city     |  5971   |   4129   | 10100 |  2  | 90  |   0   |   1316   |\n",
      "|    name     |  5968   |   4132   | 10100 |  1  | 223 |   0   |   2912   |\n",
      "|   release   |    0    |  10100   | 10100 |  1  | 125 |   0   |   9049   |\n",
      "|   song_id   |    0    |  10100   | 10100 | 18  | 18  |   0   |  10100   |\n",
      "|    title    |    0    |  10100   | 10100 |  1  | 118 |   0   |   9799   |\n",
      "|  track_id   |    0    |  10100   | 10100 | 18  | 18  |   0   |  10100   |\n",
      "\n",
      "Variable type: integer\n",
      "\n",
      "| variable | missing | complete |   n   |  mean   |   sd   | p0 | p25  | p50  | p75  | p100 |   hist   |\n",
      "|----------|---------|----------|-------|---------|--------|----|------|------|------|------|----------|\n",
      "|   year   |    0    |  10100   | 10100 | 1978.58 | 198.17 | 0  | 1994 | 2002 | 2006 | 2010 | ▁▁▁▁▁▁▁▇ |\n",
      "\n",
      "Variable type: numeric\n",
      "\n",
      "|      variable      | missing | complete |   n   |  mean  |   sd   |   p0    |  p25   |  p50   |  p75   |  p100   |   hist   |\n",
      "|--------------------|---------|----------|-------|--------|--------|---------|--------|--------|--------|---------|----------|\n",
      "| artist_familiarity |    0    |  10100   | 10100 |  0.6   |  0.13  |    0    |  0.52  |  0.6   |  0.68  |    1    | ▁▁▁▃▇▆▂▁ |\n",
      "| artist_hotttnesss  |    0    |  10100   | 10100 |  0.41  |  0.11  |    0    |  0.36  |  0.41  |  0.47  |  1.02   | ▁▁▅▇▂▁▁▁ |\n",
      "|      duration      |    0    |  10100   | 10100 | 248.4  | 115.37 |   0.6   | 184.05 | 231.38 | 288.46 | 2149.33 | ▇▃▁▁▁▁▁▁ |\n",
      "|      latitude      |  5968   |   4132   | 10100 | 40.05  | 15.26  | -45.87  | 35.15  | 40.71  | 50.88  |  69.65  | ▁▁▁▁▁▇▇▁ |\n",
      "|     longitude      |  5968   |   4132   | 10100 | -53.63 | 56.69  | -155.43 | -90.2  | -74.73 | -1.46  | 175.47  | ▂▇▁▅▂▁▁▁ |\n"
     ]
    }
   ],
   "source": [
    "singer_locations %>%\n",
    "  skim() %>%\n",
    "  kable()"
   ]
  },
  {
   "cell_type": "markdown",
   "metadata": {},
   "source": [
    "Ok, there's a lot to unpack here.\n",
    "\n",
    "Each row in the tables describes a column of the dataframe.\n",
    "\n",
    "Let's see what some of these descriptors mean:\n",
    "\n",
    "- **missing**/**complete**: the amount of rows having values that R recognise as \"missing\" / the amount of rows having non-missing values\n",
    "- **n**: the total amount of rows \n",
    "- **min**/**max**: the minimal and maximal number of characters\n",
    "- **n_unique**: the number of unique values\n",
    "- **mean**, **sd**, **p0**, **p25**, **p50**, **p100**: statistical descriptors of the values distribution\n",
    "- **hist**: an histogram of the values"
   ]
  },
  {
   "cell_type": "markdown",
   "metadata": {},
   "source": [
    "### Quiz Time\n",
    "\n",
    "**warm up**\n",
    "- How many cities are present in the dataframe?\n",
    "- How many different song titles?\n",
    "- How old is the newest song?\n",
    "\n",
    "**handle with care**\n",
    "- How old is the oldest song?\n",
    "- How many artists?"
   ]
  },
  {
   "cell_type": "markdown",
   "metadata": {},
   "source": [
    "> 10100 cities\n",
    "10100 songs\n",
    "2010\n",
    "\n",
    "1994\n",
    "7346\n",
    "\n"
   ]
  },
  {
   "cell_type": "markdown",
   "metadata": {},
   "source": [
    "### Reflection time\n",
    "\n",
    "The 14 columns in `singer_locations` have been organised into three groups:  \n",
    "- **character**: this is stuff containing \"text\", \"words\" and similar\n",
    "- **integer**: this is stuff that is expressed as wholesome integers (42, 1984, 38, -4, ...)\n",
    "- **numeric**: this is stuff that is express by numbers with some amount of digits (3.14, 1.67, 0.33333, ...)\n",
    "\n",
    "**Q** Why do you think `skim()` summarise those differently?"
   ]
  },
  {
   "cell_type": "markdown",
   "metadata": {},
   "source": [
    "> your answer here"
   ]
  },
  {
   "cell_type": "markdown",
   "metadata": {},
   "source": [
    "Well, the visualization here was quite limited (just a tiny histogram), but already we have a deeper understanding of our data source.  \n",
    "Let's get more visual, with `visdat` (see [here](https://github.com/ropensci/visdat) for more details)."
   ]
  },
  {
   "cell_type": "code",
   "execution_count": 63,
   "metadata": {},
   "outputs": [
    {
     "ename": "ERROR",
     "evalue": "Error: Failed to install 'visdat' from GitHub:\n  Could not resolve host: api.github.com\n",
     "output_type": "error",
     "traceback": [
      "Error: Failed to install 'visdat' from GitHub:\n  Could not resolve host: api.github.com\nTraceback:\n",
      "1. remotes::install_github(\"ropensci/visdat\")",
      "2. install_remotes(remotes, auth_token = auth_token, host = host, \n .     dependencies = dependencies, upgrade = upgrade, force = force, \n .     quiet = quiet, build = build, build_opts = build_opts, build_manual = build_manual, \n .     build_vignettes = build_vignettes, repos = repos, type = type, \n .     ...)",
      "3. tryCatch(res[[i]] <- install_remote(remotes[[i]], ...), error = function(e) {\n .     stop(remote_install_error(remotes[[i]], e))\n . })",
      "4. tryCatchList(expr, classes, parentenv, handlers)",
      "5. tryCatchOne(expr, names, parentenv, handlers[[1L]])",
      "6. value[[3L]](cond)"
     ]
    }
   ],
   "source": [
    "#remotes::install_github(\"ropensci/visdat\")"
   ]
  },
  {
   "cell_type": "code",
   "execution_count": 65,
   "metadata": {},
   "outputs": [],
   "source": [
    "library(visdat)"
   ]
  },
  {
   "cell_type": "markdown",
   "metadata": {},
   "source": [
    "The library `visdat` has been developed by Nicholas Tierney and others to give quick access to usefull preliminary visualization of dataframes.  \n",
    "We read that we have some missing values in our dataframe. Let's have a look:"
   ]
  },
  {
   "cell_type": "code",
   "execution_count": 66,
   "metadata": {},
   "outputs": [
    {
     "data": {
      "image/png": "[encoded data removed]",
      "text/plain": [
       "plot without title"
      ]
     },
     "metadata": {},
     "output_type": "display_data"
    }
   ],
   "source": [
    "singer_locations %>%\n",
    "  vis_miss()"
   ]
  },
  {
   "cell_type": "markdown",
   "metadata": {},
   "source": [
    "From the visualisation, it appears that the missing values are all from the same rows. How \"big\" is that blog of missingness?\n",
    "We can set the option (technically an _argument_) `cluster` to `TRUE` to show it."
   ]
  },
  {
   "cell_type": "code",
   "execution_count": 69,
   "metadata": {},
   "outputs": [
    {
     "data": {
      "image/png": "[encoded data removed]",
      "text/plain": [
       "plot without title"
      ]
     },
     "metadata": {},
     "output_type": "display_data"
    }
   ],
   "source": [
    "singer_locations %>%\n",
    "  vis_miss(cluster = TRUE)"
   ]
  },
  {
   "cell_type": "markdown",
   "metadata": {},
   "source": [
    "That's a large chunck, isn't it?"
   ]
  },
  {
   "cell_type": "markdown",
   "metadata": {},
   "source": [
    "# PART 2: verbs"
   ]
  },
  {
   "cell_type": "markdown",
   "metadata": {},
   "source": [
    "Enough preliminaries, we want to plot! And do stuff!\n",
    "\n",
    "Sure enough, there you go!"
   ]
  },
  {
   "cell_type": "code",
   "execution_count": null,
   "metadata": {},
   "outputs": [],
   "source": [
    "singer_locations %>% # this will define where we get the data from\n",
    "  ggplot( # we are using the ggplot2 library (it's been loaded together with tidyverse)\n",
    "  mapping = # the mapping defines how the features of the data frame will be placed on the drawing area\n",
    "      aes( # aes stands for aesthetics: this are the visual properties of the graph\n",
    "      x = artist_hotttnesss, # we want the \"artist_hotttnesss\" on the x\n",
    "      y = artist_familiarity)) + # and the \"artist_familiarity\" on the y\n",
    "  geom_point() # plotted as points"
   ]
  },
  {
   "cell_type": "markdown",
   "metadata": {},
   "source": [
    "We build this plots using what is known as _grammar of graphs_. Let's see a couple more examples.\n",
    "\n",
    "What about a song \"duration\"? Are hot songs more or less long? Let's see.  \n",
    "We can reuse the same code template, and just change the _variables_ we are going to plot on x and y:"
   ]
  },
  {
   "cell_type": "code",
   "execution_count": null,
   "metadata": {},
   "outputs": [],
   "source": [
    "ger_locations %>% # this will define where we get the data from\n",
    "  ggplot(mapping = aes( # aes stands for aesthetics: this are the visual properties of the graph\n",
    "      x = duration, # we want the \"duration\" on the x\n",
    "      y = artist_hotttnesss)) + # and the \"artist_familiarity\" on the y\n",
    "  geom_point() # plotted as points"
   ]
  },
  {
   "cell_type": "markdown",
   "metadata": {},
   "source": [
    "Your turn now. Modify the following code to plot some other variable."
   ]
  },
  {
   "cell_type": "code",
   "execution_count": null,
   "metadata": {},
   "outputs": [],
   "source": [
    "singer_locations %>%\n",
    "  ggplot(mapping = aes(x = , # your x variable\n",
    "      y = )) + # your y variable\n",
    "  geom_point() # plotted as points"
   ]
  },
  {
   "cell_type": "markdown",
   "metadata": {},
   "source": [
    "We are not limited to only x and y, we have many possible aesthetics to play with: colors, groupings, sizes, alpha (transparencies), shapes, ...\n",
    "\n",
    "The world is yours to paint! Let's add some colour!"
   ]
  },
  {
   "cell_type": "code",
   "execution_count": null,
   "metadata": {},
   "outputs": [],
   "source": [
    "singer_locations %>%\n",
    "  ggplot(mapping = aes(x = artist_hotttnesss, # your x variable\n",
    "      y = duration,\n",
    "      colour = artist_familiarity)) + # your y variable\n",
    "  geom_point() # plotted as points"
   ]
  },
  {
   "cell_type": "markdown",
   "metadata": {},
   "source": [
    "We do also have different geometries (points, lines, histograms, ...) that you can start to play with.  \n",
    "We will see them more in details in the next lectures. If you can't wait, the chapter on [Data Visualization](http://r4ds.had.co.nz/data-visualisation.html) in Hadley's R for Data Science is a great resource."
   ]
  },
  {
   "cell_type": "markdown",
   "metadata": {},
   "source": [
    "Now, let's do a good one: did the duration of songs increased or decreased in time? Let's have a look?  \n",
    "Plot the year on the x axis and the duration on the y axis (_hint_: copy the code from the previous cells and modify it accordingly)."
   ]
  },
  {
   "cell_type": "code",
   "execution_count": null,
   "metadata": {},
   "outputs": [],
   "source": [
    "# your code here"
   ]
  },
  {
   "cell_type": "markdown",
   "metadata": {},
   "source": [
    "Mmm, what happened? Something doesn't look right?  \n",
    "\n",
    "Oh, sure, it's those pesky \"0\" years. The missing years have not been labelled properly, but just inputted as zeros.  \n",
    "What now?  \n",
    "\n",
    "Don't worry, we have more than one way of dealing with that, using `filter()`ing and `mutate()`ing functions.\n",
    "\n",
    "`filter()` is a function that allows to drop some rows, based on a user defined rule.\n",
    "`mutate()` allows to change the values in a dataframe according to a user defined rule.\n",
    "\n",
    "Let's start with `filter()` to get only the Black Sabbath songs."
   ]
  },
  {
   "cell_type": "code",
   "execution_count": null,
   "metadata": {},
   "outputs": [],
   "source": [
    "singer_locations %>%\n",
    "  filter(artist_name == \"Black Sabbath\")"
   ]
  },
  {
   "cell_type": "markdown",
   "metadata": {},
   "source": [
    "Those are good songs. Good good. But maybe you like something else?\n",
    "\n",
    "Try and use `filter()` to filter out some songs from artists you like."
   ]
  },
  {
   "cell_type": "code",
   "execution_count": null,
   "metadata": {},
   "outputs": [],
   "source": [
    "# your code here"
   ]
  },
  {
   "cell_type": "markdown",
   "metadata": {},
   "source": [
    "So, what if we want more than one artists? Can't we like Black Sabbath AND Justin Timberlake?  \n",
    "Yes you can, and we won't judge you!"
   ]
  },
  {
   "cell_type": "code",
   "execution_count": null,
   "metadata": {},
   "outputs": [],
   "source": [
    "singer_locations %>%\n",
    "  filter(artist_name %in% c(\"Black Sabbath\", \"Justin Timberlake\"))"
   ]
  },
  {
   "cell_type": "markdown",
   "metadata": {},
   "source": [
    "Let's break it down a moment: we defined a _vector_ containing the strings \"Black Sabbath\" and \"Justin Timberlake\" using the concatenation function `c()`; and we asked whether the `artist_name` in that row is in that vector.  \n",
    "In the tidyverse there are a bunch of verbs as `%in%` that allows you to ask this sort of questions."
   ]
  },
  {
   "cell_type": "markdown",
   "metadata": {},
   "source": [
    "But let's go back to the year ~ duration thingy. Our plot is ruined by the 0 years. Let's filter those out!  \n",
    "Write the right expression instead of the ___ underscores.  \n",
    "You can use != (that means \"different from\", \"not equal\") or > (that stands for \"greater than\")."
   ]
  },
  {
   "cell_type": "code",
   "execution_count": null,
   "metadata": {},
   "outputs": [],
   "source": [
    "singer_locations %>%\n",
    "  filter(____) %>%\n",
    "    ggplot(mapping = aes(x = year, y = duration)) +\n",
    "  geom_point() "
   ]
  },
  {
   "cell_type": "markdown",
   "metadata": {},
   "source": [
    "We can stack more than one `filter()` condition, for example:"
   ]
  },
  {
   "cell_type": "code",
   "execution_count": null,
   "metadata": {},
   "outputs": [],
   "source": [
    "singer_locations %>%\n",
    "  filter(year > 1950, year < 1980, artist_hotttnesss > 0.7) %>%\n",
    "    ggplot(mapping = aes(x = year, y = duration)) +\n",
    "  geom_point() "
   ]
  },
  {
   "cell_type": "markdown",
   "metadata": {},
   "source": [
    "The other way we could this is by using `mutate()`. The core idea here is to solve the task by correcting the 0s into missing values.\n",
    "\n",
    "Thinking like a computer, we need a rule (not a rule of thumb ;-) ). The rule is that,\n",
    "we look at the `year`,  \n",
    "if the `year` is equal to 0, we mutate its value to a proper missing (namely, `NA_integer_`, where NA stands for missing and \\_integer\\_ informs R about the type of the missing)  \n",
    "and else (if `year` is NOT equal to 0), we leave as it is.\n",
    "\n",
    "The tidyverse function doing the job is called `if_else()`, and it requires 3 arguments:  \n",
    "the first is the \"if condition\" (`year == 0`)  \n",
    "the second is the value to mutate to if the condition is satisfied,  \n",
    "the third is the value to mutate to if the condition is not satisfied."
   ]
  },
  {
   "cell_type": "code",
   "execution_count": null,
   "metadata": {},
   "outputs": [],
   "source": [
    "singer_locations %>% # our starting point\n",
    "  mutate( # we want to modify or create variables\n",
    "      year_no_0 = # we create a new one\n",
    "      if_else(year == 0, # if year is zero\n",
    "              NA_integer_, # code it missing\n",
    "              year)) %>% # else leave it as it is\n",
    "  ggplot(mapping = aes(x = year_no_0, y = duration)) +\n",
    "  geom_point() "
   ]
  },
  {
   "cell_type": "markdown",
   "metadata": {},
   "source": [
    "With `mutate()` we can either create new columns or modify existing ones. For example, let's create an index of popularity for bands that is the sum of `artist_familiarity` and `artist_hotttnesss`."
   ]
  },
  {
   "cell_type": "code",
   "execution_count": null,
   "metadata": {},
   "outputs": [],
   "source": [
    "singer_locations %>%\n",
    "  mutate(artist_popularity = artist_familiarity + artist_hotttnesss) %>%\n",
    "  head()"
   ]
  },
  {
   "cell_type": "markdown",
   "metadata": {},
   "source": [
    "You can create an index of artist coldness that is the complementary of the the `artist_hotttnesss` (that is, `1 - artist_hotttnesss`).  "
   ]
  },
  {
   "cell_type": "code",
   "execution_count": null,
   "metadata": {},
   "outputs": [],
   "source": [
    "# your code here"
   ]
  },
  {
   "cell_type": "markdown",
   "metadata": {},
   "source": [
    "## CHALLENGE!"
   ]
  },
  {
   "cell_type": "markdown",
   "metadata": {},
   "source": [
    "Challenges are harder exercises that require you to explore functionality outside what I explicitly introduced.  \n",
    "\n",
    "This round the challenge is:\n",
    "\n",
    "**produce a dataframe of the top 20 artist_names, arranged by popularity**\n",
    "\n",
    "To solve this you will need to discover 2 new functions: take a look at the \"Subset Observations (Rows)\" block in the dplyr [cheatsheet](https://www.rstudio.com/wp-content/uploads/2015/02/data-wrangling-cheatsheet.pdf)."
   ]
  },
  {
   "cell_type": "markdown",
   "metadata": {},
   "source": [
    "# PART 3: your turn"
   ]
  },
  {
   "cell_type": "markdown",
   "metadata": {},
   "source": [
    "Now it's your turn. After the warmup above, let's use a different dataframe, `gapminder` and make some initial explorations, taking care of missing values and produce some plot.  "
   ]
  },
  {
   "cell_type": "markdown",
   "metadata": {},
   "source": [
    "Play around with the `starwars` dataframe, containing information about Starwars characters, and see if you can reproduce some of the preliminary explorations and manipulations we did together."
   ]
  },
  {
   "cell_type": "markdown",
   "metadata": {},
   "source": [
    "# APPENDIX: under the hood"
   ]
  },
  {
   "cell_type": "markdown",
   "metadata": {},
   "source": [
    "## The Dataframe under the hood\n",
    "\n",
    "We said before that the data in `singer` is structured as a **dataframe**. Can we check that?  \n",
    "Sure we can. We can use `typof()`, `mode()`, and `class()` to see what kind of stuff we are dealing with in R.  \n",
    "We will talk more about this in a future lecture, for the moment just try to apply the three function to `singer_locations`."
   ]
  },
  {
   "cell_type": "code",
   "execution_count": null,
   "metadata": {},
   "outputs": [],
   "source": [
    "singer_locations %>%\n",
    "  class()"
   ]
  },
  {
   "cell_type": "code",
   "execution_count": null,
   "metadata": {},
   "outputs": [],
   "source": [
    "# your code goes here"
   ]
  },
  {
   "cell_type": "markdown",
   "metadata": {},
   "source": [
    "We discovered a couple of things.\n",
    "\n",
    "The dataset `singer_locations` is a `data.frame`, a `tbl`, and a `tbl_df`.  \n",
    "What's all that? `data.frame` is the basic R structure for dataframes, `tbl` and `tbl_df` are a special version of dataframes, defined within the tidyverse, that are called **tibbles**. A tibble is a dataframe that needs to satisfiy some extra constraint: take a look [here](http://r4ds.had.co.nz/tibbles.html#tibbles-vs.data.frame) to an overview of the differences if you are supercurious.\n",
    "\n",
    "Moreover, the type and mode of `singer_locations` is `list`. A `list` is a basic data structure in R. Under the hood, dataframes (and tibbles) are lists of columns, and each column is a `vector` of some kind (numeric, character, ...); all the columns in a dataframe **must** have the same length."
   ]
  }
 ],
 "metadata": {
  "kernelspec": {
   "display_name": "R",
   "language": "R",
   "name": "ir"
  },
  "language_info": {
   "codemirror_mode": "r",
   "file_extension": ".r",
   "mimetype": "text/x-r-source",
   "name": "R",
   "pygments_lexer": "r",
   "version": "3.4.4"
  }
 },
 "nbformat": 4,
 "nbformat_minor": 4
}
