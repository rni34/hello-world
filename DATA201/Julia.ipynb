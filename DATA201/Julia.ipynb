{
 "cells": [
  {
   "cell_type": "markdown",
   "metadata": {},
   "source": [
    "# The Julia side of life\n",
    "\n",
    "\n",
    "We are going to try and replicate with Julia what we have done using R and the Tidyverse in `InstallationTest.ipynb`.\n",
    "\n",
    "**Remember, the goal of this lab and of this notebook is just to install everything you need and to test wether the installation was successfull.  \n",
    "If you don't understand what some of the code is doing, it's all right, we'll get at it together in the next labs.**"
   ]
  },
  {
   "cell_type": "markdown",
   "metadata": {},
   "source": [
    "Many of the things are overall similar to what we have done already, but the syntax may change.  \n",
    "Consider for example adding a package (warning, a lot of text will be produced, because of all the dependencies):"
   ]
  },
  {
   "cell_type": "code",
   "execution_count": 61,
   "metadata": {},
   "outputs": [],
   "source": [
    "using Pkg"
   ]
  },
  {
   "cell_type": "code",
   "execution_count": 61,
   "metadata": {},
   "outputs": [],
   "source": [
    "# Pkg.add(\"VegaDatasets\")"
   ]
  },
  {
   "cell_type": "code",
   "execution_count": 61,
   "metadata": {},
   "outputs": [],
   "source": [
    "# Pkg.add(\"DataFrames\")"
   ]
  },
  {
   "cell_type": "markdown",
   "metadata": {},
   "source": [
    "To use a package, in this case VegaDatasets (which contains interesting datasets), we write:"
   ]
  },
  {
   "cell_type": "code",
   "execution_count": 27,
   "metadata": {},
   "outputs": [
    {
     "data": {
      "text/html": [
       "<table><thead><tr><th>life_expect</th><th>year</th><th>pop</th><th>fertility</th><th>country</th><th>cluster</th></tr></thead><tbody><tr><td>30.332</td><td>1955</td><td>8891209</td><td>7.7</td><td>&quot;Afghanistan&quot;</td><td>0</td></tr><tr><td>31.997</td><td>1960</td><td>9829450</td><td>7.7</td><td>&quot;Afghanistan&quot;</td><td>0</td></tr><tr><td>34.02</td><td>1965</td><td>10997885</td><td>7.7</td><td>&quot;Afghanistan&quot;</td><td>0</td></tr><tr><td>36.088</td><td>1970</td><td>12430623</td><td>7.7</td><td>&quot;Afghanistan&quot;</td><td>0</td></tr><tr><td>38.438</td><td>1975</td><td>14132019</td><td>7.7</td><td>&quot;Afghanistan&quot;</td><td>0</td></tr><tr><td>39.854</td><td>1980</td><td>15112149</td><td>7.8</td><td>&quot;Afghanistan&quot;</td><td>0</td></tr><tr><td>40.822</td><td>1985</td><td>13796928</td><td>7.9</td><td>&quot;Afghanistan&quot;</td><td>0</td></tr><tr><td>41.674</td><td>1990</td><td>14669339</td><td>8.0</td><td>&quot;Afghanistan&quot;</td><td>0</td></tr><tr><td>41.763</td><td>1995</td><td>20881480</td><td>8.0</td><td>&quot;Afghanistan&quot;</td><td>0</td></tr><tr><td>42.129</td><td>2000</td><td>23898198</td><td>7.4792</td><td>&quot;Afghanistan&quot;</td><td>0</td></tr><tr><td>&vellip;</td><td>&vellip;</td><td>&vellip;</td><td>&vellip;</td><td>&vellip;</td><td>&vellip;</td></tr></tbody></table><p>... with 683 more rows.</p>"
      ],
      "text/plain": [
       "693x6 Vega dataset\n",
       "life_expect │ year │ pop      │ fertility │ country     │ cluster\n",
       "────────────┼──────┼──────────┼───────────┼─────────────┼────────\n",
       "30.332      │ 1955 │ 8891209  │ 7.7       │ Afghanistan │ 0      \n",
       "31.997      │ 1960 │ 9829450  │ 7.7       │ Afghanistan │ 0      \n",
       "34.02       │ 1965 │ 10997885 │ 7.7       │ Afghanistan │ 0      \n",
       "36.088      │ 1970 │ 12430623 │ 7.7       │ Afghanistan │ 0      \n",
       "38.438      │ 1975 │ 14132019 │ 7.7       │ Afghanistan │ 0      \n",
       "39.854      │ 1980 │ 15112149 │ 7.8       │ Afghanistan │ 0      \n",
       "40.822      │ 1985 │ 13796928 │ 7.9       │ Afghanistan │ 0      \n",
       "41.674      │ 1990 │ 14669339 │ 8.0       │ Afghanistan │ 0      \n",
       "41.763      │ 1995 │ 20881480 │ 8.0       │ Afghanistan │ 0      \n",
       "42.129      │ 2000 │ 23898198 │ 7.4792    │ Afghanistan │ 0      \n",
       "... with 683 more rows"
      ]
     },
     "execution_count": 27,
     "metadata": {},
     "output_type": "execute_result"
    }
   ],
   "source": [
    "using VegaDatasets\n",
    "\n",
    "gapminder = dataset(\"gapminder\")"
   ]
  },
  {
   "cell_type": "markdown",
   "metadata": {},
   "source": [
    "As R, Julia has more than one way of representing and dealing with tabular data.  \n",
    "Let's see another one: a **dataframe**, which is offered by the `DataFrames` package."
   ]
  },
  {
   "cell_type": "code",
   "execution_count": 22,
   "metadata": {},
   "outputs": [
    {
     "data": {
      "text/html": [
       "<table class=\"data-frame\"><thead><tr><th></th><th>life_expect</th><th>year</th><th>pop</th><th>fertility</th><th>country</th><th>cluster</th></tr></thead><tbody><tr><th>1</th><td>30.332</td><td>1955</td><td>8891209</td><td>7.7</td><td>Afghanistan</td><td>0</td></tr><tr><th>2</th><td>31.997</td><td>1960</td><td>9829450</td><td>7.7</td><td>Afghanistan</td><td>0</td></tr><tr><th>3</th><td>34.02</td><td>1965</td><td>10997885</td><td>7.7</td><td>Afghanistan</td><td>0</td></tr><tr><th>4</th><td>36.088</td><td>1970</td><td>12430623</td><td>7.7</td><td>Afghanistan</td><td>0</td></tr><tr><th>5</th><td>38.438</td><td>1975</td><td>14132019</td><td>7.7</td><td>Afghanistan</td><td>0</td></tr><tr><th>6</th><td>39.854</td><td>1980</td><td>15112149</td><td>7.8</td><td>Afghanistan</td><td>0</td></tr><tr><th>7</th><td>40.822</td><td>1985</td><td>13796928</td><td>7.9</td><td>Afghanistan</td><td>0</td></tr><tr><th>8</th><td>41.674</td><td>1990</td><td>14669339</td><td>8.0</td><td>Afghanistan</td><td>0</td></tr><tr><th>9</th><td>41.763</td><td>1995</td><td>20881480</td><td>8.0</td><td>Afghanistan</td><td>0</td></tr><tr><th>10</th><td>42.129</td><td>2000</td><td>23898198</td><td>7.4792</td><td>Afghanistan</td><td>0</td></tr><tr><th>11</th><td>43.828</td><td>2005</td><td>29928987</td><td>7.0685</td><td>Afghanistan</td><td>0</td></tr><tr><th>12</th><td>64.399</td><td>1955</td><td>18927821</td><td>3.1265</td><td>Argentina</td><td>3</td></tr><tr><th>13</th><td>65.142</td><td>1960</td><td>20616009</td><td>3.0895</td><td>Argentina</td><td>3</td></tr><tr><th>14</th><td>65.634</td><td>1965</td><td>22283100</td><td>3.049</td><td>Argentina</td><td>3</td></tr><tr><th>15</th><td>67.065</td><td>1970</td><td>23962313</td><td>3.1455</td><td>Argentina</td><td>3</td></tr><tr><th>16</th><td>68.481</td><td>1975</td><td>26081880</td><td>3.44</td><td>Argentina</td><td>3</td></tr><tr><th>17</th><td>69.942</td><td>1980</td><td>28369799</td><td>3.15</td><td>Argentina</td><td>3</td></tr><tr><th>18</th><td>70.774</td><td>1985</td><td>30675059</td><td>3.053</td><td>Argentina</td><td>3</td></tr><tr><th>19</th><td>71.868</td><td>1990</td><td>33022202</td><td>2.9</td><td>Argentina</td><td>3</td></tr><tr><th>20</th><td>73.275</td><td>1995</td><td>35311049</td><td>2.63</td><td>Argentina</td><td>3</td></tr><tr><th>21</th><td>74.34</td><td>2000</td><td>37497728</td><td>2.35</td><td>Argentina</td><td>3</td></tr><tr><th>22</th><td>75.32</td><td>2005</td><td>39537943</td><td>2.254</td><td>Argentina</td><td>3</td></tr><tr><th>23</th><td>64.381</td><td>1955</td><td>53865</td><td>5.15</td><td>Aruba</td><td>3</td></tr><tr><th>24</th><td>66.606</td><td>1960</td><td>57203</td><td>4.399</td><td>Aruba</td><td>3</td></tr><tr><th>25</th><td>68.336</td><td>1965</td><td>59020</td><td>3.301</td><td>Aruba</td><td>3</td></tr><tr><th>26</th><td>70.941</td><td>1970</td><td>59039</td><td>2.651</td><td>Aruba</td><td>3</td></tr><tr><th>27</th><td>71.83</td><td>1975</td><td>59390</td><td>2.45</td><td>Aruba</td><td>3</td></tr><tr><th>28</th><td>74.116</td><td>1980</td><td>60266</td><td>2.358</td><td>Aruba</td><td>3</td></tr><tr><th>29</th><td>74.494</td><td>1985</td><td>64129</td><td>2.3</td><td>Aruba</td><td>3</td></tr><tr><th>30</th><td>74.108</td><td>1990</td><td>66653</td><td>2.28</td><td>Aruba</td><td>3</td></tr><tr><th>&vellip;</th><td>&vellip;</td><td>&vellip;</td><td>&vellip;</td><td>&vellip;</td><td>&vellip;</td><td>&vellip;</td></tr></tbody></table>"
      ],
      "text/plain": [
       "693×6 DataFrames.DataFrame\n",
       "│ Row │ life_expect │ year │ pop       │ fertility │ country       │ cluster │\n",
       "├─────┼─────────────┼──────┼───────────┼───────────┼───────────────┼─────────┤\n",
       "│ 1   │ 30.332      │ 1955 │ 8891209   │ 7.7       │ Afghanistan   │ 0       │\n",
       "│ 2   │ 31.997      │ 1960 │ 9829450   │ 7.7       │ Afghanistan   │ 0       │\n",
       "│ 3   │ 34.02       │ 1965 │ 10997885  │ 7.7       │ Afghanistan   │ 0       │\n",
       "│ 4   │ 36.088      │ 1970 │ 12430623  │ 7.7       │ Afghanistan   │ 0       │\n",
       "│ 5   │ 38.438      │ 1975 │ 14132019  │ 7.7       │ Afghanistan   │ 0       │\n",
       "│ 6   │ 39.854      │ 1980 │ 15112149  │ 7.8       │ Afghanistan   │ 0       │\n",
       "│ 7   │ 40.822      │ 1985 │ 13796928  │ 7.9       │ Afghanistan   │ 0       │\n",
       "│ 8   │ 41.674      │ 1990 │ 14669339  │ 8.0       │ Afghanistan   │ 0       │\n",
       "│ 9   │ 41.763      │ 1995 │ 20881480  │ 8.0       │ Afghanistan   │ 0       │\n",
       "│ 10  │ 42.129      │ 2000 │ 23898198  │ 7.4792    │ Afghanistan   │ 0       │\n",
       "│ 11  │ 43.828      │ 2005 │ 29928987  │ 7.0685    │ Afghanistan   │ 0       │\n",
       "⋮\n",
       "│ 682 │ 78.242      │ 2005 │ 295734134 │ 2.054     │ United States │ 3       │\n",
       "│ 683 │ 57.907      │ 1955 │ 6170497   │ 6.4585    │ Venezuela     │ 3       │\n",
       "│ 684 │ 60.77       │ 1960 │ 7556483   │ 6.657     │ Venezuela     │ 3       │\n",
       "│ 685 │ 63.479      │ 1965 │ 9067735   │ 5.9045    │ Venezuela     │ 3       │\n",
       "│ 686 │ 65.712      │ 1970 │ 10758017  │ 4.941     │ Venezuela     │ 3       │\n",
       "│ 687 │ 67.456      │ 1975 │ 12674987  │ 4.4685    │ Venezuela     │ 3       │\n",
       "│ 688 │ 68.557      │ 1980 │ 14767890  │ 3.957     │ Venezuela     │ 3       │\n",
       "│ 689 │ 70.19       │ 1985 │ 16997509  │ 3.6485    │ Venezuela     │ 3       │\n",
       "│ 690 │ 71.15       │ 1990 │ 19325222  │ 3.25      │ Venezuela     │ 3       │\n",
       "│ 691 │ 72.146      │ 1995 │ 21555902  │ 2.9415    │ Venezuela     │ 3       │\n",
       "│ 692 │ 72.766      │ 2000 │ 23542649  │ 2.723     │ Venezuela     │ 3       │\n",
       "│ 693 │ 73.747      │ 2005 │ 25375281  │ 2.547     │ Venezuela     │ 3       │"
      ]
     },
     "execution_count": 22,
     "metadata": {},
     "output_type": "execute_result"
    }
   ],
   "source": [
    "using DataFrames\n",
    "\n",
    "gapminder_df = DataFrame(gapminder)"
   ]
  },
  {
   "cell_type": "markdown",
   "metadata": {},
   "source": [
    "For some reason, the _continent_ variable is here name \"cluster\" and instead of the name of the continent, there's a number.  \n",
    "Europe is the cluster 1.  \n",
    "I can prove it, by showing all the unique names of countries that have cluster number equal to 1.   \n",
    "We will use a particular method to get only the rows and column we want: we specify a condition for the rows and we call the column by name."
   ]
  },
  {
   "cell_type": "code",
   "execution_count": 24,
   "metadata": {},
   "outputs": [
    {
     "data": {
      "text/plain": [
       "209-element Array{String,1}:\n",
       " \"Austria\"       \n",
       " \"Austria\"       \n",
       " \"Austria\"       \n",
       " \"Austria\"       \n",
       " \"Austria\"       \n",
       " \"Austria\"       \n",
       " \"Austria\"       \n",
       " \"Austria\"       \n",
       " \"Austria\"       \n",
       " \"Austria\"       \n",
       " \"Austria\"       \n",
       " \"Belgium\"       \n",
       " \"Belgium\"       \n",
       " ⋮               \n",
       " \"Turkey\"        \n",
       " \"United Kingdom\"\n",
       " \"United Kingdom\"\n",
       " \"United Kingdom\"\n",
       " \"United Kingdom\"\n",
       " \"United Kingdom\"\n",
       " \"United Kingdom\"\n",
       " \"United Kingdom\"\n",
       " \"United Kingdom\"\n",
       " \"United Kingdom\"\n",
       " \"United Kingdom\"\n",
       " \"United Kingdom\""
      ]
     },
     "execution_count": 24,
     "metadata": {},
     "output_type": "execute_result"
    }
   ],
   "source": [
    "EU_cluster = 1\n",
    "gapminder_df[gapminder_df[:cluster] .== EU_cluster, :country]"
   ]
  },
  {
   "cell_type": "markdown",
   "metadata": {},
   "source": [
    "We are almost there: as there are a lot rows, JupyterLab only prints a few.  \n",
    "But we can ask Julia to show us only each unique value only once."
   ]
  },
  {
   "cell_type": "code",
   "execution_count": 25,
   "metadata": {},
   "outputs": [
    {
     "data": {
      "text/plain": [
       "19-element Array{String,1}:\n",
       " \"Austria\"       \n",
       " \"Belgium\"       \n",
       " \"Croatia\"       \n",
       " \"Finland\"       \n",
       " \"France\"        \n",
       " \"Georgia\"       \n",
       " \"Germany\"       \n",
       " \"Greece\"        \n",
       " \"Iceland\"       \n",
       " \"Ireland\"       \n",
       " \"Italy\"         \n",
       " \"Netherlands\"   \n",
       " \"Norway\"        \n",
       " \"Poland\"        \n",
       " \"Portugal\"      \n",
       " \"Spain\"         \n",
       " \"Switzerland\"   \n",
       " \"Turkey\"        \n",
       " \"United Kingdom\""
      ]
     },
     "execution_count": 25,
     "metadata": {},
     "output_type": "execute_result"
    }
   ],
   "source": [
    "gapminder_df[gapminder_df[:cluster] .== EU_cluster, :country] |> unique"
   ]
  },
  {
   "cell_type": "markdown",
   "metadata": {},
   "source": [
    "Here we have used a \"pipe\" operator. It does the same work of the `%>%` pipe in R."
   ]
  },
  {
   "cell_type": "markdown",
   "metadata": {},
   "source": [
    "Let's do that yourselves, install the packages VegaLite and Query.  \n",
    "Write the proper names instead of the underscores."
   ]
  },
  {
   "cell_type": "code",
   "execution_count": 66,
   "metadata": {},
   "outputs": [],
   "source": [
    "# Pkg.add(\"___\",\"___\")"
   ]
  },
  {
   "cell_type": "markdown",
   "metadata": {},
   "source": [
    "The Query package offers another way to select some rows and some columns, which is more similar to the one we saw in R."
   ]
  },
  {
   "cell_type": "code",
   "execution_count": 31,
   "metadata": {},
   "outputs": [
    {
     "data": {
      "text/html": [
       "<table><thead><tr><th>life_expect</th><th>year</th><th>pop</th><th>fertility</th><th>country</th><th>cluster</th></tr></thead><tbody><tr><td>67.48</td><td>1955</td><td>6946885</td><td>2.52</td><td>&quot;Austria&quot;</td><td>1</td></tr><tr><td>69.54</td><td>1960</td><td>7047437</td><td>2.78</td><td>&quot;Austria&quot;</td><td>1</td></tr><tr><td>70.14</td><td>1965</td><td>7270889</td><td>2.53</td><td>&quot;Austria&quot;</td><td>1</td></tr><tr><td>70.63</td><td>1970</td><td>7467086</td><td>2.02</td><td>&quot;Austria&quot;</td><td>1</td></tr><tr><td>72.17</td><td>1975</td><td>7578903</td><td>1.64</td><td>&quot;Austria&quot;</td><td>1</td></tr><tr><td>73.18</td><td>1980</td><td>7549433</td><td>1.62</td><td>&quot;Austria&quot;</td><td>1</td></tr><tr><td>74.94</td><td>1985</td><td>7559776</td><td>1.45</td><td>&quot;Austria&quot;</td><td>1</td></tr><tr><td>76.04</td><td>1990</td><td>7722953</td><td>1.47</td><td>&quot;Austria&quot;</td><td>1</td></tr><tr><td>77.51</td><td>1995</td><td>8047433</td><td>1.388</td><td>&quot;Austria&quot;</td><td>1</td></tr><tr><td>78.98</td><td>2000</td><td>8113413</td><td>1.382</td><td>&quot;Austria&quot;</td><td>1</td></tr><tr><td>&vellip;</td><td>&vellip;</td><td>&vellip;</td><td>&vellip;</td><td>&vellip;</td><td>&vellip;</td></tr></tbody></table><p>... with more rows.</p>"
      ],
      "text/plain": [
       "?x6 query result\n",
       "life_expect │ year │ pop     │ fertility │ country │ cluster\n",
       "────────────┼──────┼─────────┼───────────┼─────────┼────────\n",
       "67.48       │ 1955 │ 6946885 │ 2.52      │ Austria │ 1      \n",
       "69.54       │ 1960 │ 7047437 │ 2.78      │ Austria │ 1      \n",
       "70.14       │ 1965 │ 7270889 │ 2.53      │ Austria │ 1      \n",
       "70.63       │ 1970 │ 7467086 │ 2.02      │ Austria │ 1      \n",
       "72.17       │ 1975 │ 7578903 │ 1.64      │ Austria │ 1      \n",
       "73.18       │ 1980 │ 7549433 │ 1.62      │ Austria │ 1      \n",
       "74.94       │ 1985 │ 7559776 │ 1.45      │ Austria │ 1      \n",
       "76.04       │ 1990 │ 7722953 │ 1.47      │ Austria │ 1      \n",
       "77.51       │ 1995 │ 8047433 │ 1.388     │ Austria │ 1      \n",
       "78.98       │ 2000 │ 8113413 │ 1.382     │ Austria │ 1      \n",
       "... with more rows"
      ]
     },
     "execution_count": 31,
     "metadata": {},
     "output_type": "execute_result"
    }
   ],
   "source": [
    "using Query\n",
    "\n",
    "gapminder |>\n",
    "  @filter(_.cluster .== EU_cluster)"
   ]
  },
  {
   "cell_type": "markdown",
   "metadata": {},
   "source": [
    "It works both with the tabular dataset straight from VegaDatasets and with the dataframe."
   ]
  },
  {
   "cell_type": "code",
   "execution_count": 33,
   "metadata": {},
   "outputs": [
    {
     "data": {
      "text/html": [
       "<table><thead><tr><th>life_expect</th><th>year</th><th>pop</th><th>fertility</th><th>country</th><th>cluster</th></tr></thead><tbody><tr><td>67.48</td><td>1955</td><td>6946885</td><td>2.52</td><td>&quot;Austria&quot;</td><td>1</td></tr><tr><td>69.54</td><td>1960</td><td>7047437</td><td>2.78</td><td>&quot;Austria&quot;</td><td>1</td></tr><tr><td>70.14</td><td>1965</td><td>7270889</td><td>2.53</td><td>&quot;Austria&quot;</td><td>1</td></tr><tr><td>70.63</td><td>1970</td><td>7467086</td><td>2.02</td><td>&quot;Austria&quot;</td><td>1</td></tr><tr><td>72.17</td><td>1975</td><td>7578903</td><td>1.64</td><td>&quot;Austria&quot;</td><td>1</td></tr><tr><td>73.18</td><td>1980</td><td>7549433</td><td>1.62</td><td>&quot;Austria&quot;</td><td>1</td></tr><tr><td>74.94</td><td>1985</td><td>7559776</td><td>1.45</td><td>&quot;Austria&quot;</td><td>1</td></tr><tr><td>76.04</td><td>1990</td><td>7722953</td><td>1.47</td><td>&quot;Austria&quot;</td><td>1</td></tr><tr><td>77.51</td><td>1995</td><td>8047433</td><td>1.388</td><td>&quot;Austria&quot;</td><td>1</td></tr><tr><td>78.98</td><td>2000</td><td>8113413</td><td>1.382</td><td>&quot;Austria&quot;</td><td>1</td></tr><tr><td>&vellip;</td><td>&vellip;</td><td>&vellip;</td><td>&vellip;</td><td>&vellip;</td><td>&vellip;</td></tr></tbody></table><p>... with more rows.</p>"
      ],
      "text/plain": [
       "?x6 query result\n",
       "life_expect │ year │ pop     │ fertility │ country │ cluster\n",
       "────────────┼──────┼─────────┼───────────┼─────────┼────────\n",
       "67.48       │ 1955 │ 6946885 │ 2.52      │ Austria │ 1      \n",
       "69.54       │ 1960 │ 7047437 │ 2.78      │ Austria │ 1      \n",
       "70.14       │ 1965 │ 7270889 │ 2.53      │ Austria │ 1      \n",
       "70.63       │ 1970 │ 7467086 │ 2.02      │ Austria │ 1      \n",
       "72.17       │ 1975 │ 7578903 │ 1.64      │ Austria │ 1      \n",
       "73.18       │ 1980 │ 7549433 │ 1.62      │ Austria │ 1      \n",
       "74.94       │ 1985 │ 7559776 │ 1.45      │ Austria │ 1      \n",
       "76.04       │ 1990 │ 7722953 │ 1.47      │ Austria │ 1      \n",
       "77.51       │ 1995 │ 8047433 │ 1.388     │ Austria │ 1      \n",
       "78.98       │ 2000 │ 8113413 │ 1.382     │ Austria │ 1      \n",
       "... with more rows"
      ]
     },
     "execution_count": 33,
     "metadata": {},
     "output_type": "execute_result"
    }
   ],
   "source": [
    "EU_gapminder = gapminder_df |>\n",
    "  @filter(_.cluster .== EU_cluster)"
   ]
  },
  {
   "cell_type": "markdown",
   "metadata": {},
   "source": [
    "Now we are all set for some **plotting**.  \n",
    "Julia offers a variety of packages to do that. Here we'll see VegaLite."
   ]
  },
  {
   "cell_type": "code",
   "execution_count": 34,
   "metadata": {},
   "outputs": [
    {
     "data": {
      "application/vnd.vegalite.v2+json": {
       "data": {
        "values": [
         {
          "cluster": 1,
          "country": "Austria",
          "fertility": 2.52,
          "life_expect": 67.48,
          "pop": 6946885,
          "year": 1955
         },
         {
          "cluster": 1,
          "country": "Austria",
          "fertility": 2.78,
          "life_expect": 69.54,
          "pop": 7047437,
          "year": 1960
         },
         {
          "cluster": 1,
          "country": "Austria",
          "fertility": 2.53,
          "life_expect": 70.14,
          "pop": 7270889,
          "year": 1965
         },
         {
          "cluster": 1,
          "country": "Austria",
          "fertility": 2.02,
          "life_expect": 70.63,
          "pop": 7467086,
          "year": 1970
         },
         {
          "cluster": 1,
          "country": "Austria",
          "fertility": 1.64,
          "life_expect": 72.17,
          "pop": 7578903,
          "year": 1975
         },
         {
          "cluster": 1,
          "country": "Austria",
          "fertility": 1.62,
          "life_expect": 73.18,
          "pop": 7549433,
          "year": 1980
         },
         {
          "cluster": 1,
          "country": "Austria",
          "fertility": 1.45,
          "life_expect": 74.94,
          "pop": 7559776,
          "year": 1985
         },
         {
          "cluster": 1,
          "country": "Austria",
          "fertility": 1.47,
          "life_expect": 76.04,
          "pop": 7722953,
          "year": 1990
         },
         {
          "cluster": 1,
          "country": "Austria",
          "fertility": 1.388,
          "life_expect": 77.51,
          "pop": 8047433,
          "year": 1995
         },
         {
          "cluster": 1,
          "country": "Austria",
          "fertility": 1.382,
          "life_expect": 78.98,
          "pop": 8113413,
          "year": 2000
         },
         {
          "cluster": 1,
          "country": "Austria",
          "fertility": 1.42,
          "life_expect": 79.829,
          "pop": 8184691,
          "year": 2005
         },
         {
          "cluster": 1,
          "country": "Belgium",
          "fertility": 2.496,
          "life_expect": 69.24,
          "pop": 8868475,
          "year": 1955
         },
         {
          "cluster": 1,
          "country": "Belgium",
          "fertility": 2.644,
          "life_expect": 70.25,
          "pop": 9118700,
          "year": 1960
         },
         {
          "cluster": 1,
          "country": "Belgium",
          "fertility": 2.392,
          "life_expect": 70.94,
          "pop": 9448100,
          "year": 1965
         },
         {
          "cluster": 1,
          "country": "Belgium",
          "fertility": 2.015,
          "life_expect": 71.44,
          "pop": 9637800,
          "year": 1970
         },
         {
          "cluster": 1,
          "country": "Belgium",
          "fertility": 1.705,
          "life_expect": 72.8,
          "pop": 9794800,
          "year": 1975
         },
         {
          "cluster": 1,
          "country": "Belgium",
          "fertility": 1.595,
          "life_expect": 73.93,
          "pop": 9846800,
          "year": 1980
         },
         {
          "cluster": 1,
          "country": "Belgium",
          "fertility": 1.559,
          "life_expect": 75.35,
          "pop": 9858200,
          "year": 1985
         },
         {
          "cluster": 1,
          "country": "Belgium",
          "fertility": 1.613,
          "life_expect": 76.46,
          "pop": 9969310,
          "year": 1990
         },
         {
          "cluster": 1,
          "country": "Belgium",
          "fertility": 1.604,
          "life_expect": 77.53,
          "pop": 10155459,
          "year": 1995
         },
         {
          "cluster": 1,
          "country": "Belgium",
          "fertility": 1.638,
          "life_expect": 78.32,
          "pop": 10263618,
          "year": 2000
         },
         {
          "cluster": 1,
          "country": "Belgium",
          "fertility": 1.646,
          "life_expect": 79.441,
          "pop": 10364388,
          "year": 2005
         },
         {
          "cluster": 1,
          "country": "Croatia",
          "fertility": 2.42,
          "life_expect": 64.77,
          "pop": 3955526,
          "year": 1955
         },
         {
          "cluster": 1,
          "country": "Croatia",
          "fertility": 2.27,
          "life_expect": 67.13,
          "pop": 4036145,
          "year": 1960
         },
         {
          "cluster": 1,
          "country": "Croatia",
          "fertility": 2.09,
          "life_expect": 68.5,
          "pop": 4133313,
          "year": 1965
         },
         {
          "cluster": 1,
          "country": "Croatia",
          "fertility": 1.96,
          "life_expect": 69.61,
          "pop": 4205389,
          "year": 1970
         },
         {
          "cluster": 1,
          "country": "Croatia",
          "fertility": 2.02,
          "life_expect": 70.64,
          "pop": 4255000,
          "year": 1975
         },
         {
          "cluster": 1,
          "country": "Croatia",
          "fertility": 1.96,
          "life_expect": 70.46,
          "pop": 4383000,
          "year": 1980
         },
         {
          "cluster": 1,
          "country": "Croatia",
          "fertility": 1.84,
          "life_expect": 71.52,
          "pop": 4457874,
          "year": 1985
         },
         {
          "cluster": 1,
          "country": "Croatia",
          "fertility": 1.52,
          "life_expect": 72.527,
          "pop": 4508347,
          "year": 1990
         },
         {
          "cluster": 1,
          "country": "Croatia",
          "fertility": 1.537,
          "life_expect": 73.68,
          "pop": 4496683,
          "year": 1995
         },
         {
          "cluster": 1,
          "country": "Croatia",
          "fertility": 1.348,
          "life_expect": 74.876,
          "pop": 4410830,
          "year": 2000
         },
         {
          "cluster": 1,
          "country": "Croatia",
          "fertility": 1.346,
          "life_expect": 75.748,
          "pop": 4495904,
          "year": 2005
         },
         {
          "cluster": 1,
          "country": "Finland",
          "fertility": 2.769,
          "life_expect": 67.49,
          "pop": 4234900,
          "year": 1955
         },
         {
          "cluster": 1,
          "country": "Finland",
          "fertility": 2.66,
          "life_expect": 68.75,
          "pop": 4429600,
          "year": 1960
         },
         {
          "cluster": 1,
          "country": "Finland",
          "fertility": 2.191,
          "life_expect": 69.83,
          "pop": 4563732,
          "year": 1965
         },
         {
          "cluster": 1,
          "country": "Finland",
          "fertility": 1.623,
          "life_expect": 70.87,
          "pop": 4606307,
          "year": 1970
         },
         {
          "cluster": 1,
          "country": "Finland",
          "fertility": 1.663,
          "life_expect": 72.52,
          "pop": 4711439,
          "year": 1975
         },
         {
          "cluster": 1,
          "country": "Finland",
          "fertility": 1.685,
          "life_expect": 74.55,
          "pop": 4779535,
          "year": 1980
         },
         {
          "cluster": 1,
          "country": "Finland",
          "fertility": 1.66,
          "life_expect": 74.83,
          "pop": 4901783,
          "year": 1985
         },
         {
          "cluster": 1,
          "country": "Finland",
          "fertility": 1.819,
          "life_expect": 75.7,
          "pop": 4986431,
          "year": 1990
         },
         {
          "cluster": 1,
          "country": "Finland",
          "fertility": 1.743,
          "life_expect": 77.13,
          "pop": 5104654,
          "year": 1995
         },
         {
          "cluster": 1,
          "country": "Finland",
          "fertility": 1.754,
          "life_expect": 78.37,
          "pop": 5168595,
          "year": 2000
         },
         {
          "cluster": 1,
          "country": "Finland",
          "fertility": 1.825,
          "life_expect": 79.313,
          "pop": 5223442,
          "year": 2005
         },
         {
          "cluster": 1,
          "country": "France",
          "fertility": 2.712,
          "life_expect": 68.93,
          "pop": 43427669,
          "year": 1955
         },
         {
          "cluster": 1,
          "country": "France",
          "fertility": 2.85,
          "life_expect": 70.51,
          "pop": 45670000,
          "year": 1960
         },
         {
          "cluster": 1,
          "country": "France",
          "fertility": 2.607,
          "life_expect": 71.55,
          "pop": 48763000,
          "year": 1965
         },
         {
          "cluster": 1,
          "country": "France",
          "fertility": 2.31,
          "life_expect": 72.38,
          "pop": 50787000,
          "year": 1970
         },
         {
          "cluster": 1,
          "country": "France",
          "fertility": 1.862,
          "life_expect": 73.83,
          "pop": 52758427,
          "year": 1975
         },
         {
          "cluster": 1,
          "country": "France",
          "fertility": 1.866,
          "life_expect": 74.89,
          "pop": 53869743,
          "year": 1980
         },
         {
          "cluster": 1,
          "country": "France",
          "fertility": 1.805,
          "life_expect": 76.34,
          "pop": 55171224,
          "year": 1985
         },
         {
          "cluster": 1,
          "country": "France",
          "fertility": 1.713,
          "life_expect": 77.46,
          "pop": 56735161,
          "year": 1990
         },
         {
          "cluster": 1,
          "country": "France",
          "fertility": 1.7624,
          "life_expect": 78.64,
          "pop": 58149727,
          "year": 1995
         },
         {
          "cluster": 1,
          "country": "France",
          "fertility": 1.8833,
          "life_expect": 79.59,
          "pop": 59381628,
          "year": 2000
         },
         {
          "cluster": 1,
          "country": "France",
          "fertility": 1.8916,
          "life_expect": 80.657,
          "pop": 60656178,
          "year": 2005
         },
         {
          "cluster": 1,
          "country": "Georgia",
          "fertility": 2.909,
          "life_expect": 62.625,
          "pop": 3827154,
          "year": 1955
         },
         {
          "cluster": 1,
          "country": "Georgia",
          "fertility": 2.979,
          "life_expect": 64.644,
          "pop": 4146570,
          "year": 1960
         },
         {
          "cluster": 1,
          "country": "Georgia",
          "fertility": 2.611,
          "life_expect": 66.654,
          "pop": 4464959,
          "year": 1965
         },
         {
          "cluster": 1,
          "country": "Georgia",
          "fertility": 2.601,
          "life_expect": 68.158,
          "pop": 4694491,
          "year": 1970
         },
         {
          "cluster": 1,
          "country": "Georgia",
          "fertility": 2.39,
          "life_expect": 69.634,
          "pop": 4897656,
          "year": 1975
         },
         {
          "cluster": 1,
          "country": "Georgia",
          "fertility": 2.269,
          "life_expect": 69.638,
          "pop": 5045697,
          "year": 1980
         },
         {
          "cluster": 1,
          "country": "Georgia",
          "fertility": 2.263,
          "life_expect": 70.45,
          "pop": 5192957,
          "year": 1985
         },
         {
          "cluster": 1,
          "country": "Georgia",
          "fertility": 1.95,
          "life_expect": 70.465,
          "pop": 5426207,
          "year": 1990
         },
         {
          "cluster": 1,
          "country": "Georgia",
          "fertility": 1.58,
          "life_expect": 70.49,
          "pop": 5012952,
          "year": 1995
         },
         {
          "cluster": 1,
          "country": "Georgia",
          "fertility": 1.478,
          "life_expect": 70.476,
          "pop": 4777209,
          "year": 2000
         },
         {
          "cluster": 1,
          "country": "Georgia",
          "fertility": 1.407,
          "life_expect": 70.987,
          "pop": 4677401,
          "year": 2005
         },
         {
          "cluster": 1,
          "country": "Germany",
          "fertility": 2.3,
          "life_expect": 69.1,
          "pop": 70195612,
          "year": 1955
         },
         {
          "cluster": 1,
          "country": "Germany",
          "fertility": 2.49,
          "life_expect": 70.3,
          "pop": 72480869,
          "year": 1960
         },
         {
          "cluster": 1,
          "country": "Germany",
          "fertility": 2.32,
          "life_expect": 70.8,
          "pop": 75638851,
          "year": 1965
         },
         {
          "cluster": 1,
          "country": "Germany",
          "fertility": 1.64,
          "life_expect": 71,
          "pop": 77783164,
          "year": 1970
         },
         {
          "cluster": 1,
          "country": "Germany",
          "fertility": 1.52,
          "life_expect": 72.5,
          "pop": 78682325,
          "year": 1975
         },
         {
          "cluster": 1,
          "country": "Germany",
          "fertility": 1.46,
          "life_expect": 73.8,
          "pop": 78297904,
          "year": 1980
         },
         {
          "cluster": 1,
          "country": "Germany",
          "fertility": 1.43,
          "life_expect": 74.847,
          "pop": 77684907,
          "year": 1985
         },
         {
          "cluster": 1,
          "country": "Germany",
          "fertility": 1.31,
          "life_expect": 76.07,
          "pop": 79380394,
          "year": 1990
         },
         {
          "cluster": 1,
          "country": "Germany",
          "fertility": 1.34,
          "life_expect": 77.34,
          "pop": 81653702,
          "year": 1995
         },
         {
          "cluster": 1,
          "country": "Germany",
          "fertility": 1.346,
          "life_expect": 78.67,
          "pop": 82187909,
          "year": 2000
         },
         {
          "cluster": 1,
          "country": "Germany",
          "fertility": 1.36,
          "life_expect": 79.406,
          "pop": 82431390,
          "year": 2005
         },
         {
          "cluster": 1,
          "country": "Greece",
          "fertility": 2.27,
          "life_expect": 67.86,
          "pop": 7965538,
          "year": 1955
         },
         {
          "cluster": 1,
          "country": "Greece",
          "fertility": 2.2,
          "life_expect": 69.51,
          "pop": 8327405,
          "year": 1960
         },
         {
          "cluster": 1,
          "country": "Greece",
          "fertility": 2.38,
          "life_expect": 71,
          "pop": 8550333,
          "year": 1965
         },
         {
          "cluster": 1,
          "country": "Greece",
          "fertility": 2.32,
          "life_expect": 72.34,
          "pop": 8792806,
          "year": 1970
         },
         {
          "cluster": 1,
          "country": "Greece",
          "fertility": 2.32,
          "life_expect": 73.68,
          "pop": 9046542,
          "year": 1975
         },
         {
          "cluster": 1,
          "country": "Greece",
          "fertility": 1.96,
          "life_expect": 75.24,
          "pop": 9642505,
          "year": 1980
         },
         {
          "cluster": 1,
          "country": "Greece",
          "fertility": 1.53,
          "life_expect": 76.67,
          "pop": 9923253,
          "year": 1985
         },
         {
          "cluster": 1,
          "country": "Greece",
          "fertility": 1.37,
          "life_expect": 77.03,
          "pop": 10129603,
          "year": 1990
         },
         {
          "cluster": 1,
          "country": "Greece",
          "fertility": 1.296,
          "life_expect": 77.869,
          "pop": 10457554,
          "year": 1995
         },
         {
          "cluster": 1,
          "country": "Greece",
          "fertility": 1.277,
          "life_expect": 78.256,
          "pop": 10559110,
          "year": 2000
         },
         {
          "cluster": 1,
          "country": "Greece",
          "fertility": 1.325,
          "life_expect": 79.483,
          "pop": 10668354,
          "year": 2005
         },
         {
          "cluster": 1,
          "country": "Iceland",
          "fertility": 4.023,
          "life_expect": 73.47,
          "pop": 158044,
          "year": 1955
         },
         {
          "cluster": 1,
          "country": "Iceland",
          "fertility": 3.943,
          "life_expect": 73.68,
          "pop": 175860,
          "year": 1960
         },
         {
          "cluster": 1,
          "country": "Iceland",
          "fertility": 3.154,
          "life_expect": 73.73,
          "pop": 192288,
          "year": 1965
         },
         {
          "cluster": 1,
          "country": "Iceland",
          "fertility": 2.843,
          "life_expect": 74.46,
          "pop": 204104,
          "year": 1970
         },
         {
          "cluster": 1,
          "country": "Iceland",
          "fertility": 2.287,
          "life_expect": 76.11,
          "pop": 218031,
          "year": 1975
         },
         {
          "cluster": 1,
          "country": "Iceland",
          "fertility": 2.248,
          "life_expect": 76.99,
          "pop": 228161,
          "year": 1980
         },
         {
          "cluster": 1,
          "country": "Iceland",
          "fertility": 2.116,
          "life_expect": 77.23,
          "pop": 241403,
          "year": 1985
         },
         {
          "cluster": 1,
          "country": "Iceland",
          "fertility": 2.194,
          "life_expect": 78.77,
          "pop": 254719,
          "year": 1990
         },
         {
          "cluster": 1,
          "country": "Iceland",
          "fertility": 2.056,
          "life_expect": 78.95,
          "pop": 267527,
          "year": 1995
         },
         {
          "cluster": 1,
          "country": "Iceland",
          "fertility": 1.993,
          "life_expect": 80.5,
          "pop": 281043,
          "year": 2000
         },
         {
          "cluster": 1,
          "country": "Iceland",
          "fertility": 2.052,
          "life_expect": 81.757,
          "pop": 296737,
          "year": 2005
         },
         {
          "cluster": 1,
          "country": "Ireland",
          "fertility": 3.68,
          "life_expect": 68.9,
          "pop": 2916133,
          "year": 1955
         },
         {
          "cluster": 1,
          "country": "Ireland",
          "fertility": 3.979,
          "life_expect": 70.29,
          "pop": 2832000,
          "year": 1960
         },
         {
          "cluster": 1,
          "country": "Ireland",
          "fertility": 3.873,
          "life_expect": 71.08,
          "pop": 2876000,
          "year": 1965
         },
         {
          "cluster": 1,
          "country": "Ireland",
          "fertility": 3.815,
          "life_expect": 71.28,
          "pop": 2950100,
          "year": 1970
         },
         {
          "cluster": 1,
          "country": "Ireland",
          "fertility": 3.478,
          "life_expect": 72.03,
          "pop": 3177300,
          "year": 1975
         },
         {
          "cluster": 1,
          "country": "Ireland",
          "fertility": 2.877,
          "life_expect": 73.1,
          "pop": 3401000,
          "year": 1980
         },
         {
          "cluster": 1,
          "country": "Ireland",
          "fertility": 2.287,
          "life_expect": 74.36,
          "pop": 3540000,
          "year": 1985
         },
         {
          "cluster": 1,
          "country": "Ireland",
          "fertility": 1.969,
          "life_expect": 75.467,
          "pop": 3508200,
          "year": 1990
         },
         {
          "cluster": 1,
          "country": "Ireland",
          "fertility": 1.9,
          "life_expect": 76.122,
          "pop": 3613890,
          "year": 1995
         },
         {
          "cluster": 1,
          "country": "Ireland",
          "fertility": 1.969,
          "life_expect": 77.783,
          "pop": 3791690,
          "year": 2000
         },
         {
          "cluster": 1,
          "country": "Ireland",
          "fertility": 1.964,
          "life_expect": 78.885,
          "pop": 4015676,
          "year": 2005
         },
         {
          "cluster": 1,
          "country": "Italy",
          "fertility": 2.35,
          "life_expect": 67.81,
          "pop": 48633000,
          "year": 1955
         },
         {
          "cluster": 1,
          "country": "Italy",
          "fertility": 2.498,
          "life_expect": 69.24,
          "pop": 50197600,
          "year": 1960
         },
         {
          "cluster": 1,
          "country": "Italy",
          "fertility": 2.493,
          "life_expect": 71.06,
          "pop": 51987100,
          "year": 1965
         },
         {
          "cluster": 1,
          "country": "Italy",
          "fertility": 2.325,
          "life_expect": 72.19,
          "pop": 53661100,
          "year": 1970
         },
         {
          "cluster": 1,
          "country": "Italy",
          "fertility": 1.889,
          "life_expect": 73.48,
          "pop": 55571894,
          "year": 1975
         },
         {
          "cluster": 1,
          "country": "Italy",
          "fertility": 1.53,
          "life_expect": 74.98,
          "pop": 56451247,
          "year": 1980
         },
         {
          "cluster": 1,
          "country": "Italy",
          "fertility": 1.349,
          "life_expect": 76.42,
          "pop": 56731215,
          "year": 1985
         },
         {
          "cluster": 1,
          "country": "Italy",
          "fertility": 1.275,
          "life_expect": 77.44,
          "pop": 56742886,
          "year": 1990
         },
         {
          "cluster": 1,
          "country": "Italy",
          "fertility": 1.213,
          "life_expect": 78.82,
          "pop": 57274531,
          "year": 1995
         },
         {
          "cluster": 1,
          "country": "Italy",
          "fertility": 1.286,
          "life_expect": 80.24,
          "pop": 57719337,
          "year": 2000
         },
         {
          "cluster": 1,
          "country": "Italy",
          "fertility": 1.379,
          "life_expect": 80.546,
          "pop": 58103033,
          "year": 2005
         },
         {
          "cluster": 1,
          "country": "Netherlands",
          "fertility": 3.095,
          "life_expect": 72.99,
          "pop": 10750842,
          "year": 1955
         },
         {
          "cluster": 1,
          "country": "Netherlands",
          "fertility": 3.168,
          "life_expect": 73.23,
          "pop": 11486000,
          "year": 1960
         },
         {
          "cluster": 1,
          "country": "Netherlands",
          "fertility": 2.797,
          "life_expect": 73.82,
          "pop": 12292000,
          "year": 1965
         },
         {
          "cluster": 1,
          "country": "Netherlands",
          "fertility": 2.059,
          "life_expect": 73.75,
          "pop": 13032335,
          "year": 1970
         },
         {
          "cluster": 1,
          "country": "Netherlands",
          "fertility": 1.596,
          "life_expect": 75.24,
          "pop": 13653438,
          "year": 1975
         },
         {
          "cluster": 1,
          "country": "Netherlands",
          "fertility": 1.515,
          "life_expect": 76.05,
          "pop": 14143901,
          "year": 1980
         },
         {
          "cluster": 1,
          "country": "Netherlands",
          "fertility": 1.555,
          "life_expect": 76.83,
          "pop": 14491380,
          "year": 1985
         },
         {
          "cluster": 1,
          "country": "Netherlands",
          "fertility": 1.583,
          "life_expect": 77.42,
          "pop": 14951510,
          "year": 1990
         },
         {
          "cluster": 1,
          "country": "Netherlands",
          "fertility": 1.6,
          "life_expect": 78.03,
          "pop": 15459054,
          "year": 1995
         },
         {
          "cluster": 1,
          "country": "Netherlands",
          "fertility": 1.726,
          "life_expect": 78.53,
          "pop": 15907853,
          "year": 2000
         },
         {
          "cluster": 1,
          "country": "Netherlands",
          "fertility": 1.721,
          "life_expect": 79.762,
          "pop": 16407491,
          "year": 2005
         },
         {
          "cluster": 1,
          "country": "Norway",
          "fertility": 2.837,
          "life_expect": 73.44,
          "pop": 3427409,
          "year": 1955
         },
         {
          "cluster": 1,
          "country": "Norway",
          "fertility": 2.898,
          "life_expect": 73.47,
          "pop": 3581239,
          "year": 1960
         },
         {
          "cluster": 1,
          "country": "Norway",
          "fertility": 2.719,
          "life_expect": 74.08,
          "pop": 3723153,
          "year": 1965
         },
         {
          "cluster": 1,
          "country": "Norway",
          "fertility": 2.248,
          "life_expect": 74.34,
          "pop": 3877386,
          "year": 1970
         },
         {
          "cluster": 1,
          "country": "Norway",
          "fertility": 1.81,
          "life_expect": 75.37,
          "pop": 4007313,
          "year": 1975
         },
         {
          "cluster": 1,
          "country": "Norway",
          "fertility": 1.687,
          "life_expect": 75.97,
          "pop": 4085620,
          "year": 1980
         },
         {
          "cluster": 1,
          "country": "Norway",
          "fertility": 1.8,
          "life_expect": 75.89,
          "pop": 4152419,
          "year": 1985
         },
         {
          "cluster": 1,
          "country": "Norway",
          "fertility": 1.886,
          "life_expect": 77.32,
          "pop": 4242006,
          "year": 1990
         },
         {
          "cluster": 1,
          "country": "Norway",
          "fertility": 1.853,
          "life_expect": 78.32,
          "pop": 4359101,
          "year": 1995
         },
         {
          "cluster": 1,
          "country": "Norway",
          "fertility": 1.801,
          "life_expect": 79.05,
          "pop": 4492400,
          "year": 2000
         },
         {
          "cluster": 1,
          "country": "Norway",
          "fertility": 1.848,
          "life_expect": 80.196,
          "pop": 4593041,
          "year": 2005
         },
         {
          "cluster": 1,
          "country": "Poland",
          "fertility": 3.29,
          "life_expect": 65.77,
          "pop": 27220668,
          "year": 1955
         },
         {
          "cluster": 1,
          "country": "Poland",
          "fertility": 2.65,
          "life_expect": 67.64,
          "pop": 29589842,
          "year": 1960
         },
         {
          "cluster": 1,
          "country": "Poland",
          "fertility": 2.27,
          "life_expect": 69.61,
          "pop": 31262358,
          "year": 1965
         },
         {
          "cluster": 1,
          "country": "Poland",
          "fertility": 2.25,
          "life_expect": 70.85,
          "pop": 32526000,
          "year": 1970
         },
         {
          "cluster": 1,
          "country": "Poland",
          "fertility": 2.26,
          "life_expect": 70.67,
          "pop": 33969240,
          "year": 1975
         },
         {
          "cluster": 1,
          "country": "Poland",
          "fertility": 2.33,
          "life_expect": 71.32,
          "pop": 35578016,
          "year": 1980
         },
         {
          "cluster": 1,
          "country": "Poland",
          "fertility": 2.15,
          "life_expect": 70.98,
          "pop": 37225792,
          "year": 1985
         },
         {
          "cluster": 1,
          "country": "Poland",
          "fertility": 1.89,
          "life_expect": 70.99,
          "pop": 38119408,
          "year": 1990
         },
         {
          "cluster": 1,
          "country": "Poland",
          "fertility": 1.478,
          "life_expect": 72.75,
          "pop": 38600642,
          "year": 1995
         },
         {
          "cluster": 1,
          "country": "Poland",
          "fertility": 1.251,
          "life_expect": 74.67,
          "pop": 38654164,
          "year": 2000
         },
         {
          "cluster": 1,
          "country": "Poland",
          "fertility": 1.227,
          "life_expect": 75.563,
          "pop": 38557984,
          "year": 2005
         },
         {
          "cluster": 1,
          "country": "Portugal",
          "fertility": 3.03,
          "life_expect": 61.51,
          "pop": 8692600,
          "year": 1955
         },
         {
          "cluster": 1,
          "country": "Portugal",
          "fertility": 3.074,
          "life_expect": 64.39,
          "pop": 9036700,
          "year": 1960
         },
         {
          "cluster": 1,
          "country": "Portugal",
          "fertility": 2.849,
          "life_expect": 66.6,
          "pop": 9128850,
          "year": 1965
         },
         {
          "cluster": 1,
          "country": "Portugal",
          "fertility": 2.748,
          "life_expect": 69.26,
          "pop": 9044200,
          "year": 1970
         },
         {
          "cluster": 1,
          "country": "Portugal",
          "fertility": 2.41,
          "life_expect": 70.41,
          "pop": 9411090,
          "year": 1975
         },
         {
          "cluster": 1,
          "country": "Portugal",
          "fertility": 1.982,
          "life_expect": 72.77,
          "pop": 9777800,
          "year": 1980
         },
         {
          "cluster": 1,
          "country": "Portugal",
          "fertility": 1.594,
          "life_expect": 74.06,
          "pop": 9897192,
          "year": 1985
         },
         {
          "cluster": 1,
          "country": "Portugal",
          "fertility": 1.516,
          "life_expect": 74.86,
          "pop": 9922689,
          "year": 1990
         },
         {
          "cluster": 1,
          "country": "Portugal",
          "fertility": 1.475,
          "life_expect": 75.97,
          "pop": 10065543,
          "year": 1995
         },
         {
          "cluster": 1,
          "country": "Portugal",
          "fertility": 1.454,
          "life_expect": 77.29,
          "pop": 10335597,
          "year": 2000
         },
         {
          "cluster": 1,
          "country": "Portugal",
          "fertility": 1.455,
          "life_expect": 78.098,
          "pop": 10566212,
          "year": 2005
         },
         {
          "cluster": 1,
          "country": "Spain",
          "fertility": 2.75,
          "life_expect": 66.66,
          "pop": 29318745,
          "year": 1955
         },
         {
          "cluster": 1,
          "country": "Spain",
          "fertility": 2.89,
          "life_expect": 69.69,
          "pop": 30641187,
          "year": 1960
         },
         {
          "cluster": 1,
          "country": "Spain",
          "fertility": 2.92,
          "life_expect": 71.44,
          "pop": 32084511,
          "year": 1965
         },
         {
          "cluster": 1,
          "country": "Spain",
          "fertility": 2.86,
          "life_expect": 73.06,
          "pop": 33876479,
          "year": 1970
         },
         {
          "cluster": 1,
          "country": "Spain",
          "fertility": 2.57,
          "life_expect": 74.39,
          "pop": 35563535,
          "year": 1975
         },
         {
          "cluster": 1,
          "country": "Spain",
          "fertility": 1.89,
          "life_expect": 76.3,
          "pop": 37488360,
          "year": 1980
         },
         {
          "cluster": 1,
          "country": "Spain",
          "fertility": 1.48,
          "life_expect": 76.9,
          "pop": 38534853,
          "year": 1985
         },
         {
          "cluster": 1,
          "country": "Spain",
          "fertility": 1.27,
          "life_expect": 77.57,
          "pop": 39350769,
          "year": 1990
         },
         {
          "cluster": 1,
          "country": "Spain",
          "fertility": 1.182,
          "life_expect": 78.77,
          "pop": 39749715,
          "year": 1995
         },
         {
          "cluster": 1,
          "country": "Spain",
          "fertility": 1.287,
          "life_expect": 79.78,
          "pop": 40016081,
          "year": 2000
         },
         {
          "cluster": 1,
          "country": "Spain",
          "fertility": 1.409,
          "life_expect": 80.941,
          "pop": 40341462,
          "year": 2005
         },
         {
          "cluster": 1,
          "country": "Switzerland",
          "fertility": 2.34,
          "life_expect": 70.56,
          "pop": 4980000,
          "year": 1955
         },
         {
          "cluster": 1,
          "country": "Switzerland",
          "fertility": 2.51,
          "life_expect": 71.32,
          "pop": 5362000,
          "year": 1960
         },
         {
          "cluster": 1,
          "country": "Switzerland",
          "fertility": 2.27,
          "life_expect": 72.77,
          "pop": 5943000,
          "year": 1965
         },
         {
          "cluster": 1,
          "country": "Switzerland",
          "fertility": 1.82,
          "life_expect": 73.78,
          "pop": 6267000,
          "year": 1970
         },
         {
          "cluster": 1,
          "country": "Switzerland",
          "fertility": 1.53,
          "life_expect": 75.39,
          "pop": 6403500,
          "year": 1975
         },
         {
          "cluster": 1,
          "country": "Switzerland",
          "fertility": 1.53,
          "life_expect": 76.21,
          "pop": 6385229,
          "year": 1980
         },
         {
          "cluster": 1,
          "country": "Switzerland",
          "fertility": 1.53,
          "life_expect": 77.41,
          "pop": 6563770,
          "year": 1985
         },
         {
          "cluster": 1,
          "country": "Switzerland",
          "fertility": 1.54,
          "life_expect": 78.03,
          "pop": 6836626,
          "year": 1990
         },
         {
          "cluster": 1,
          "country": "Switzerland",
          "fertility": 1.47,
          "life_expect": 79.37,
          "pop": 7157106,
          "year": 1995
         },
         {
          "cluster": 1,
          "country": "Switzerland",
          "fertility": 1.415,
          "life_expect": 80.62,
          "pop": 7266920,
          "year": 2000
         },
         {
          "cluster": 1,
          "country": "Switzerland",
          "fertility": 1.42,
          "life_expect": 81.701,
          "pop": 7489370,
          "year": 2005
         },
         {
          "cluster": 1,
          "country": "Turkey",
          "fertility": 6.6,
          "life_expect": 48.079,
          "pop": 24144571,
          "year": 1955
         },
         {
          "cluster": 1,
          "country": "Turkey",
          "fertility": 6.19,
          "life_expect": 52.098,
          "pop": 28217122,
          "year": 1960
         },
         {
          "cluster": 1,
          "country": "Turkey",
          "fertility": 5.7,
          "life_expect": 54.336,
          "pop": 31950718,
          "year": 1965
         },
         {
          "cluster": 1,
          "country": "Turkey",
          "fertility": 5.3,
          "life_expect": 57.005,
          "pop": 35758382,
          "year": 1970
         },
         {
          "cluster": 1,
          "country": "Turkey",
          "fertility": 4.715,
          "life_expect": 59.507,
          "pop": 40529798,
          "year": 1975
         },
         {
          "cluster": 1,
          "country": "Turkey",
          "fertility": 4.15,
          "life_expect": 61.036,
          "pop": 45120802,
          "year": 1980
         },
         {
          "cluster": 1,
          "country": "Turkey",
          "fertility": 3.276,
          "life_expect": 63.108,
          "pop": 50669003,
          "year": 1985
         },
         {
          "cluster": 1,
          "country": "Turkey",
          "fertility": 2.904,
          "life_expect": 66.146,
          "pop": 56084632,
          "year": 1990
         },
         {
          "cluster": 1,
          "country": "Turkey",
          "fertility": 2.574,
          "life_expect": 68.835,
          "pop": 61188984,
          "year": 1995
         },
         {
          "cluster": 1,
          "country": "Turkey",
          "fertility": 2.23,
          "life_expect": 70.845,
          "pop": 65666677,
          "year": 2000
         },
         {
          "cluster": 1,
          "country": "Turkey",
          "fertility": 2.143,
          "life_expect": 71.777,
          "pop": 69660559,
          "year": 2005
         },
         {
          "cluster": 1,
          "country": "United Kingdom",
          "fertility": 2.49,
          "life_expect": 70.42,
          "pop": 50946000,
          "year": 1955
         },
         {
          "cluster": 1,
          "country": "United Kingdom",
          "fertility": 2.81,
          "life_expect": 70.76,
          "pop": 52372000,
          "year": 1960
         },
         {
          "cluster": 1,
          "country": "United Kingdom",
          "fertility": 2.52,
          "life_expect": 71.36,
          "pop": 54350000,
          "year": 1965
         },
         {
          "cluster": 1,
          "country": "United Kingdom",
          "fertility": 2.04,
          "life_expect": 72.01,
          "pop": 55632000,
          "year": 1970
         },
         {
          "cluster": 1,
          "country": "United Kingdom",
          "fertility": 1.72,
          "life_expect": 72.76,
          "pop": 56215000,
          "year": 1975
         },
         {
          "cluster": 1,
          "country": "United Kingdom",
          "fertility": 1.8,
          "life_expect": 74.04,
          "pop": 56314000,
          "year": 1980
         },
         {
          "cluster": 1,
          "country": "United Kingdom",
          "fertility": 1.81,
          "life_expect": 75.007,
          "pop": 56620240,
          "year": 1985
         },
         {
          "cluster": 1,
          "country": "United Kingdom",
          "fertility": 1.78,
          "life_expect": 76.42,
          "pop": 57493307,
          "year": 1990
         },
         {
          "cluster": 1,
          "country": "United Kingdom",
          "fertility": 1.7,
          "life_expect": 77.218,
          "pop": 58426014,
          "year": 1995
         },
         {
          "cluster": 1,
          "country": "United Kingdom",
          "fertility": 1.695,
          "life_expect": 78.471,
          "pop": 59522468,
          "year": 2000
         },
         {
          "cluster": 1,
          "country": "United Kingdom",
          "fertility": 1.815,
          "life_expect": 79.425,
          "pop": 60441457,
          "year": 2005
         }
        ]
       },
       "encoding": {
        "color": {
         "field": "country",
         "type": "nominal"
        },
        "x": {
         "field": "year",
         "type": "quantitative"
        },
        "y": {
         "field": "life_expect",
         "type": "quantitative"
        }
       },
       "height": 400,
       "mark": "line",
       "width": 400
      },
      "image/png": "[encoded data removed]",
      "image/svg+xml": [
       "<?xml version=\"1.0\" encoding=\"utf-8\"?>\n",
       "<!DOCTYPE svg PUBLIC \"-//W3C//DTD SVG 1.1//EN\" \"http://www.w3.org/Graphics/SVG/1.1/DTD/svg11.dtd\">\n",
       "<svg class=\"marks\" width=\"606\" height=\"451\" viewBox=\"0 0 606 451\" version=\"1.1\" xmlns=\"http://www.w3.org/2000/svg\" xmlns:xlink=\"http://www.w3.org/1999/xlink\"><g transform=\"translate(52,11)\"><g class=\"mark-group role-frame root\"><g transform=\"translate(0,0)\"><path class=\"background\" d=\"M0.5,0.5h400v400h-400Z\" style=\"fill: none; stroke: #ddd;\"></path><g><g class=\"mark-group role-axis\"><g transform=\"translate(0.5,400.5)\"><path class=\"background\" d=\"M0,0h0v0h0Z\" style=\"pointer-events: none; fill: none;\"></path><g><g class=\"mark-rule role-axis-grid\" style=\"pointer-events: none;\"><line transform=\"translate(0,-400)\" x2=\"0\" y2=\"400\" style=\"fill: none; stroke: #ddd; stroke-width: 1; opacity: 1;\"></line><line transform=\"translate(40,-400)\" x2=\"0\" y2=\"400\" style=\"fill: none; stroke: #ddd; stroke-width: 1; opacity: 1;\"></line><line transform=\"translate(80,-400)\" x2=\"0\" y2=\"400\" style=\"fill: none; stroke: #ddd; stroke-width: 1; opacity: 1;\"></line><line transform=\"translate(120,-400)\" x2=\"0\" y2=\"400\" style=\"fill: none; stroke: #ddd; stroke-width: 1; opacity: 1;\"></line><line transform=\"translate(160,-400)\" x2=\"0\" y2=\"400\" style=\"fill: none; stroke: #ddd; stroke-width: 1; opacity: 1;\"></line><line transform=\"translate(200,-400)\" x2=\"0\" y2=\"400\" style=\"fill: none; stroke: #ddd; stroke-width: 1; opacity: 1;\"></line><line transform=\"translate(240,-400)\" x2=\"0\" y2=\"400\" style=\"fill: none; stroke: #ddd; stroke-width: 1; opacity: 1;\"></line><line transform=\"translate(280,-400)\" x2=\"0\" y2=\"400\" style=\"fill: none; stroke: #ddd; stroke-width: 1; opacity: 1;\"></line><line transform=\"translate(320,-400)\" x2=\"0\" y2=\"400\" style=\"fill: none; stroke: #ddd; stroke-width: 1; opacity: 1;\"></line><line transform=\"translate(360,-400)\" x2=\"0\" y2=\"400\" style=\"fill: none; stroke: #ddd; stroke-width: 1; opacity: 1;\"></line><line transform=\"translate(400,-400)\" x2=\"0\" y2=\"400\" style=\"fill: none; stroke: #ddd; stroke-width: 1; opacity: 1;\"></line></g></g></g></g><g class=\"mark-group role-axis\"><g transform=\"translate(0.5,0.5)\"><path class=\"background\" d=\"M0,0h0v0h0Z\" style=\"pointer-events: none; fill: none;\"></path><g><g class=\"mark-rule role-axis-grid\" style=\"pointer-events: none;\"><line transform=\"translate(0,400)\" x2=\"400\" y2=\"0\" style=\"fill: none; stroke: #ddd; stroke-width: 1; opacity: 1;\"></line><line transform=\"translate(0,356)\" x2=\"400\" y2=\"0\" style=\"fill: none; stroke: #ddd; stroke-width: 1; opacity: 1;\"></line><line transform=\"translate(0,311)\" x2=\"400\" y2=\"0\" style=\"fill: none; stroke: #ddd; stroke-width: 1; opacity: 1;\"></line><line transform=\"translate(0,267)\" x2=\"400\" y2=\"0\" style=\"fill: none; stroke: #ddd; stroke-width: 1; opacity: 1;\"></line><line transform=\"translate(0,222)\" x2=\"400\" y2=\"0\" style=\"fill: none; stroke: #ddd; stroke-width: 1; opacity: 1;\"></line><line transform=\"translate(0,178)\" x2=\"400\" y2=\"0\" style=\"fill: none; stroke: #ddd; stroke-width: 1; opacity: 1;\"></line><line transform=\"translate(0,133)\" x2=\"400\" y2=\"0\" style=\"fill: none; stroke: #ddd; stroke-width: 1; opacity: 1;\"></line><line transform=\"translate(0,89)\" x2=\"400\" y2=\"0\" style=\"fill: none; stroke: #ddd; stroke-width: 1; opacity: 1;\"></line><line transform=\"translate(0,44)\" x2=\"400\" y2=\"0\" style=\"fill: none; stroke: #ddd; stroke-width: 1; opacity: 1;\"></line><line transform=\"translate(0,0)\" x2=\"400\" y2=\"0\" style=\"fill: none; stroke: #ddd; stroke-width: 1; opacity: 1;\"></line></g></g></g></g><g class=\"mark-group role-scope pathgroup\"><g transform=\"translate(0,0)\"><path class=\"background\" d=\"M0,0h400v400h-400Z\" style=\"fill: none;\"></path><g><g class=\"mark-line role-mark marks\"><path d=\"M400,45.20444444444445L360,48.97777777777776L320,55.51111111111106L280,62.04444444444442L240,66.93333333333334L200,74.75555555555553L160,79.24444444444447L120,86.0888888888889L80,88.26666666666665L40,90.93333333333334L0,100.08888888888885\" style=\"fill: none; stroke: #4c78a8; stroke-width: 2;\"></path></g></g></g><g transform=\"translate(0,0)\"><path class=\"background\" d=\"M0,0h400v400h-400Z\" style=\"fill: none;\"></path><g><g class=\"mark-line role-mark marks\"><path d=\"M400,46.92888888888888L360,51.911111111111154L320,55.42222222222222L280,60.177777777777806L240,65.11111111111114L200,71.42222222222216L160,76.44444444444446L120,82.48888888888888L80,84.71111111111111L40,87.77777777777777L0,92.26666666666665\" style=\"fill: none; stroke: #f58518; stroke-width: 2;\"></path></g></g></g><g transform=\"translate(0,0)\"><path class=\"background\" d=\"M0,0h400v400h-400Z\" style=\"fill: none;\"></path><g><g class=\"mark-line role-mark marks\"><path d=\"M400,63.342222222222176L360,67.21777777777777L320,72.5333333333333L280,77.65777777777777L240,82.13333333333333L200,86.84444444444443L160,86.04444444444448L120,90.6222222222222L80,95.55555555555554L40,101.64444444444445L0,112.13333333333333\" style=\"fill: none; stroke: #e45756; stroke-width: 2;\"></path></g></g></g><g transform=\"translate(0,0)\"><path class=\"background\" d=\"M0,0h400v400h-400Z\" style=\"fill: none;\"></path><g><g class=\"mark-line role-mark marks\"><path d=\"M400,47.4977777777778L360,51.68888888888887L320,57.19999999999999L280,63.55555555555554L240,67.42222222222222L200,68.66666666666669L160,77.68888888888893L120,85.02222222222218L80,89.64444444444445L40,94.44444444444446L0,100.04444444444448\" style=\"fill: none; stroke: #72b7b2; stroke-width: 2;\"></path></g></g></g><g transform=\"translate(0,0)\"><path class=\"background\" d=\"M0,0h400v400h-400Z\" style=\"fill: none;\"></path><g><g class=\"mark-line role-mark marks\"><path d=\"M400,41.5244444444445L360,46.26666666666665L320,50.48888888888888L280,55.73333333333335L240,60.71111111111111L200,67.15555555555557L160,71.86666666666667L120,78.31111111111113L80,82L40,86.6222222222222L0,93.64444444444445\" style=\"fill: none; stroke: #54a24b; stroke-width: 2;\"></path></g></g></g><g transform=\"translate(0,0)\"><path class=\"background\" d=\"M0,0h400v400h-400Z\" style=\"fill: none;\"></path><g><g class=\"mark-line role-mark marks\"><path d=\"M400,84.50222222222226L360,86.77333333333331L320,86.71111111111117L280,86.8222222222222L240,86.88888888888886L200,90.49777777777774L160,90.51555555555552L120,97.07555555555552L80,103.76000000000005L40,112.69333333333333L0,121.66666666666669\" style=\"fill: none; stroke: #eeca3b; stroke-width: 2;\"></path></g></g></g><g transform=\"translate(0,0)\"><path class=\"background\" d=\"M0,0h400v400h-400Z\" style=\"fill: none;\"></path><g><g class=\"mark-line role-mark marks\"><path d=\"M400,47.08444444444444L360,50.355555555555554L320,56.26666666666665L280,61.911111111111154L240,67.34666666666669L200,72L160,77.77777777777777L120,84.44444444444446L80,85.33333333333337L40,87.55555555555554L0,92.88888888888891\" style=\"fill: none; stroke: #b279a2; stroke-width: 2;\"></path></g></g></g><g transform=\"translate(0,0)\"><path class=\"background\" d=\"M0,0h400v400h-400Z\" style=\"fill: none;\"></path><g><g class=\"mark-line role-mark marks\"><path d=\"M400,46.74222222222221L360,52.19555555555553L320,53.91555555555556L280,57.644444444444446L240,59.24444444444441L200,65.60000000000002L160,72.5333333333333L120,78.48888888888888L80,84.44444444444446L40,91.0666666666666L0,98.39999999999998\" style=\"fill: none; stroke: #ff9da6; stroke-width: 2;\"></path></g></g></g><g transform=\"translate(0,0)\"><path class=\"background\" d=\"M0,0h400v400h-400Z\" style=\"fill: none;\"></path><g><g class=\"mark-line role-mark marks\"><path d=\"M400,36.63555555555553L360,42.22222222222223L320,49.111111111111086L280,49.911111111111154L240,56.75555555555553L200,57.82222222222225L160,61.73333333333335L120,69.06666666666672L80,72.31111111111107L40,72.5333333333333L0,73.46666666666664\" style=\"fill: none; stroke: #9d755d; stroke-width: 2;\"></path></g></g></g><g transform=\"translate(0,0)\"><path class=\"background\" d=\"M0,0h400v400h-400Z\" style=\"fill: none;\"></path><g><g class=\"mark-line role-mark marks\"><path d=\"M400,49.39999999999998L360,54.29777777777775L320,61.68000000000001L280,64.5911111111111L240,69.51111111111112L200,75.11111111111114L160,79.86666666666667L120,83.19999999999999L80,84.0888888888889L40,87.59999999999997L0,93.77777777777771\" style=\"fill: none; stroke: #bab0ac; stroke-width: 2;\"></path></g></g></g><g transform=\"translate(0,0)\"><path class=\"background\" d=\"M0,0h400v400h-400Z\" style=\"fill: none;\"></path><g><g class=\"mark-line role-mark marks\"><path d=\"M400,42.01777777777778L360,43.377777777777794L320,49.688888888888926L280,55.822222222222194L240,60.355555555555554L200,66.75555555555553L160,73.42222222222222L120,79.15555555555557L80,84.17777777777775L40,92.26666666666665L0,98.6222222222222\" style=\"fill: none; stroke: #4c78a8; stroke-width: 2;\"></path></g></g></g><g transform=\"translate(0,0)\"><path class=\"background\" d=\"M0,0h400v400h-400Z\" style=\"fill: none;\"></path><g><g class=\"mark-line role-mark marks\"><path d=\"M400,45.5022222222222L360,50.97777777777776L320,53.19999999999999L280,55.9111111111111L240,58.5333333333333L200,62L160,65.60000000000002L120,72.22222222222223L80,71.91111111111115L40,74.5333333333333L0,75.60000000000002\" style=\"fill: none; stroke: #f58518; stroke-width: 2;\"></path></g></g></g><g transform=\"translate(0,0)\"><path class=\"background\" d=\"M0,0h400v400h-400Z\" style=\"fill: none;\"></path><g><g class=\"mark-line role-mark marks\"><path d=\"M400,43.57333333333332L360,48.666666666666686L320,51.911111111111154L280,56.355555555555554L240,62.71111111111111L200,62.355555555555554L160,65.02222222222218L120,69.59999999999997L80,70.75555555555553L40,73.46666666666664L0,73.60000000000002\" style=\"fill: none; stroke: #e45756; stroke-width: 2;\"></path></g></g></g><g transform=\"translate(0,0)\"><path class=\"background\" d=\"M0,0h400v400h-400Z\" style=\"fill: none;\"></path><g><g class=\"mark-line role-mark marks\"><path d=\"M400,64.16444444444443L360,68.13333333333333L320,76.66666666666669L280,84.48888888888894L240,84.5333333333333L200,83.02222222222224L160,85.9111111111111L120,85.11111111111114L80,90.6222222222222L40,99.3777777777778L0,107.68888888888893\" style=\"fill: none; stroke: #72b7b2; stroke-width: 2;\"></path></g></g></g><g transform=\"translate(0,0)\"><path class=\"background\" d=\"M0,0h400v400h-400Z\" style=\"fill: none;\"></path><g><g class=\"mark-line role-mark marks\"><path d=\"M400,52.897777777777776L360,56.48888888888888L320,62.355555555555554L280,67.28888888888889L240,70.84444444444443L200,76.57777777777778L160,87.06666666666666L120,92.17777777777775L80,104L40,113.82222222222225L0,126.62222222222226\" style=\"fill: none; stroke: #54a24b; stroke-width: 2;\"></path></g></g></g><g transform=\"translate(0,0)\"><path class=\"background\" d=\"M0,0h400v400h-400Z\" style=\"fill: none;\"></path><g><g class=\"mark-line role-mark marks\"><path d=\"M400,40.26222222222219L360,45.42222222222222L320,49.911111111111154L280,55.24444444444447L240,58.22222222222217L200,60.888888888888914L160,69.37777777777774L120,75.28888888888889L80,82.48888888888888L40,90.26666666666665L0,103.73333333333335\" style=\"fill: none; stroke: #eeca3b; stroke-width: 2;\"></path></g></g></g><g transform=\"translate(0,0)\"><path class=\"background\" d=\"M0,0h400v400h-400Z\" style=\"fill: none;\"></path><g><g class=\"mark-line role-mark marks\"><path d=\"M400,36.884444444444455L360,41.68888888888887L320,47.24444444444441L280,53.19999999999999L240,55.95555555555558L200,61.28888888888889L160,64.93333333333334L120,72.08888888888885L80,76.57777777777778L40,83.02222222222224L0,86.39999999999998\" style=\"fill: none; stroke: #b279a2; stroke-width: 2;\"></path></g></g></g><g transform=\"translate(0,0)\"><path class=\"background\" d=\"M0,0h400v400h-400Z\" style=\"fill: none;\"></path><g><g class=\"mark-line role-mark marks\"><path d=\"M400,80.99111111111108L360,85.13333333333333L320,94.06666666666672L280,106.01777777777778L240,119.52000000000004L200,128.7288888888889L160,135.5244444444445L120,146.64444444444445L80,158.50666666666666L40,168.45333333333335L0,186.31555555555556\" style=\"fill: none; stroke: #ff9da6; stroke-width: 2;\"></path></g></g></g><g transform=\"translate(0,0)\"><path class=\"background\" d=\"M0,0h400v400h-400Z\" style=\"fill: none;\"></path><g><g class=\"mark-line role-mark marks\"><path d=\"M400,47L360,51.24000000000001L320,56.80888888888887L280,60.355555555555554L240,66.63555555555553L200,70.93333333333328L160,76.6222222222222L120,79.95555555555552L80,82.84444444444443L40,85.51111111111112L0,87.02222222222218\" style=\"fill: none; stroke: #9d755d; stroke-width: 2;\"></path></g></g></g></g><g class=\"mark-group role-legend\"><g transform=\"translate(420,0)\"><path class=\"background\" d=\"M0,0h129v317h-129Z\" style=\"pointer-events: none; fill: none;\"></path><g><g class=\"mark-group role-legend-entry\"><g transform=\"translate(0,16)\"><path class=\"background\" d=\"M0,0h0v0h0Z\" style=\"pointer-events: none; fill: none;\"></path><g><g class=\"mark-group role-scope\"><g transform=\"translate(0,0)\"><path class=\"background\" d=\"M0,0h129v12.5h-129Z\" style=\"pointer-events: none; fill: none; opacity: 1;\"></path><g><g class=\"mark-symbol role-legend-symbol\" style=\"pointer-events: none;\"><path transform=\"translate(6,6)\" d=\"M5,0A5,5,0,1,1,-5,0A5,5,0,1,1,5,0\" style=\"fill: none; stroke: #4c78a8; stroke-width: 1.5; opacity: 1;\"></path></g><g class=\"mark-text role-legend-label\" style=\"pointer-events: none;\"><text text-anchor=\"start\" transform=\"translate(16,9)\" style=\"font-family: sans-serif; font-size: 10px; fill: #000; opacity: 1;\">Austria</text></g></g></g><g transform=\"translate(0,16)\"><path class=\"background\" d=\"M0,0h129v12.5h-129Z\" style=\"pointer-events: none; fill: none; opacity: 1;\"></path><g><g class=\"mark-symbol role-legend-symbol\" style=\"pointer-events: none;\"><path transform=\"translate(6,6)\" d=\"M5,0A5,5,0,1,1,-5,0A5,5,0,1,1,5,0\" style=\"fill: none; stroke: #f58518; stroke-width: 1.5; opacity: 1;\"></path></g><g class=\"mark-text role-legend-label\" style=\"pointer-events: none;\"><text text-anchor=\"start\" transform=\"translate(16,9)\" style=\"font-family: sans-serif; font-size: 10px; fill: #000; opacity: 1;\">Belgium</text></g></g></g><g transform=\"translate(0,32)\"><path class=\"background\" d=\"M0,0h129v12.5h-129Z\" style=\"pointer-events: none; fill: none; opacity: 1;\"></path><g><g class=\"mark-symbol role-legend-symbol\" style=\"pointer-events: none;\"><path transform=\"translate(6,6)\" d=\"M5,0A5,5,0,1,1,-5,0A5,5,0,1,1,5,0\" style=\"fill: none; stroke: #e45756; stroke-width: 1.5; opacity: 1;\"></path></g><g class=\"mark-text role-legend-label\" style=\"pointer-events: none;\"><text text-anchor=\"start\" transform=\"translate(16,9)\" style=\"font-family: sans-serif; font-size: 10px; fill: #000; opacity: 1;\">Croatia</text></g></g></g><g transform=\"translate(0,48)\"><path class=\"background\" d=\"M0,0h129v12.5h-129Z\" style=\"pointer-events: none; fill: none; opacity: 1;\"></path><g><g class=\"mark-symbol role-legend-symbol\" style=\"pointer-events: none;\"><path transform=\"translate(6,6)\" d=\"M5,0A5,5,0,1,1,-5,0A5,5,0,1,1,5,0\" style=\"fill: none; stroke: #72b7b2; stroke-width: 1.5; opacity: 1;\"></path></g><g class=\"mark-text role-legend-label\" style=\"pointer-events: none;\"><text text-anchor=\"start\" transform=\"translate(16,9)\" style=\"font-family: sans-serif; font-size: 10px; fill: #000; opacity: 1;\">Finland</text></g></g></g><g transform=\"translate(0,64)\"><path class=\"background\" d=\"M0,0h129v12.5h-129Z\" style=\"pointer-events: none; fill: none; opacity: 1;\"></path><g><g class=\"mark-symbol role-legend-symbol\" style=\"pointer-events: none;\"><path transform=\"translate(6,6)\" d=\"M5,0A5,5,0,1,1,-5,0A5,5,0,1,1,5,0\" style=\"fill: none; stroke: #54a24b; stroke-width: 1.5; opacity: 1;\"></path></g><g class=\"mark-text role-legend-label\" style=\"pointer-events: none;\"><text text-anchor=\"start\" transform=\"translate(16,9)\" style=\"font-family: sans-serif; font-size: 10px; fill: #000; opacity: 1;\">France</text></g></g></g><g transform=\"translate(0,80)\"><path class=\"background\" d=\"M0,0h129v12.5h-129Z\" style=\"pointer-events: none; fill: none; opacity: 1;\"></path><g><g class=\"mark-symbol role-legend-symbol\" style=\"pointer-events: none;\"><path transform=\"translate(6,6)\" d=\"M5,0A5,5,0,1,1,-5,0A5,5,0,1,1,5,0\" style=\"fill: none; stroke: #eeca3b; stroke-width: 1.5; opacity: 1;\"></path></g><g class=\"mark-text role-legend-label\" style=\"pointer-events: none;\"><text text-anchor=\"start\" transform=\"translate(16,9)\" style=\"font-family: sans-serif; font-size: 10px; fill: #000; opacity: 1;\">Georgia</text></g></g></g><g transform=\"translate(0,96)\"><path class=\"background\" d=\"M0,0h129v12.5h-129Z\" style=\"pointer-events: none; fill: none; opacity: 1;\"></path><g><g class=\"mark-symbol role-legend-symbol\" style=\"pointer-events: none;\"><path transform=\"translate(6,6)\" d=\"M5,0A5,5,0,1,1,-5,0A5,5,0,1,1,5,0\" style=\"fill: none; stroke: #b279a2; stroke-width: 1.5; opacity: 1;\"></path></g><g class=\"mark-text role-legend-label\" style=\"pointer-events: none;\"><text text-anchor=\"start\" transform=\"translate(16,9)\" style=\"font-family: sans-serif; font-size: 10px; fill: #000; opacity: 1;\">Germany</text></g></g></g><g transform=\"translate(0,112)\"><path class=\"background\" d=\"M0,0h129v12.5h-129Z\" style=\"pointer-events: none; fill: none; opacity: 1;\"></path><g><g class=\"mark-symbol role-legend-symbol\" style=\"pointer-events: none;\"><path transform=\"translate(6,6)\" d=\"M5,0A5,5,0,1,1,-5,0A5,5,0,1,1,5,0\" style=\"fill: none; stroke: #ff9da6; stroke-width: 1.5; opacity: 1;\"></path></g><g class=\"mark-text role-legend-label\" style=\"pointer-events: none;\"><text text-anchor=\"start\" transform=\"translate(16,9)\" style=\"font-family: sans-serif; font-size: 10px; fill: #000; opacity: 1;\">Greece</text></g></g></g><g transform=\"translate(0,128)\"><path class=\"background\" d=\"M0,0h129v12.5h-129Z\" style=\"pointer-events: none; fill: none; opacity: 1;\"></path><g><g class=\"mark-symbol role-legend-symbol\" style=\"pointer-events: none;\"><path transform=\"translate(6,6)\" d=\"M5,0A5,5,0,1,1,-5,0A5,5,0,1,1,5,0\" style=\"fill: none; stroke: #9d755d; stroke-width: 1.5; opacity: 1;\"></path></g><g class=\"mark-text role-legend-label\" style=\"pointer-events: none;\"><text text-anchor=\"start\" transform=\"translate(16,9)\" style=\"font-family: sans-serif; font-size: 10px; fill: #000; opacity: 1;\">Iceland</text></g></g></g><g transform=\"translate(0,144)\"><path class=\"background\" d=\"M0,0h129v12.5h-129Z\" style=\"pointer-events: none; fill: none; opacity: 1;\"></path><g><g class=\"mark-symbol role-legend-symbol\" style=\"pointer-events: none;\"><path transform=\"translate(6,6)\" d=\"M5,0A5,5,0,1,1,-5,0A5,5,0,1,1,5,0\" style=\"fill: none; stroke: #bab0ac; stroke-width: 1.5; opacity: 1;\"></path></g><g class=\"mark-text role-legend-label\" style=\"pointer-events: none;\"><text text-anchor=\"start\" transform=\"translate(16,9)\" style=\"font-family: sans-serif; font-size: 10px; fill: #000; opacity: 1;\">Ireland</text></g></g></g><g transform=\"translate(0,160)\"><path class=\"background\" d=\"M0,0h129v12.5h-129Z\" style=\"pointer-events: none; fill: none; opacity: 1;\"></path><g><g class=\"mark-symbol role-legend-symbol\" style=\"pointer-events: none;\"><path transform=\"translate(6,6)\" d=\"M5,0A5,5,0,1,1,-5,0A5,5,0,1,1,5,0\" style=\"fill: none; stroke: #4c78a8; stroke-width: 1.5; opacity: 1;\"></path></g><g class=\"mark-text role-legend-label\" style=\"pointer-events: none;\"><text text-anchor=\"start\" transform=\"translate(16,9)\" style=\"font-family: sans-serif; font-size: 10px; fill: #000; opacity: 1;\">Italy</text></g></g></g><g transform=\"translate(0,176)\"><path class=\"background\" d=\"M0,0h129v12.5h-129Z\" style=\"pointer-events: none; fill: none; opacity: 1;\"></path><g><g class=\"mark-symbol role-legend-symbol\" style=\"pointer-events: none;\"><path transform=\"translate(6,6)\" d=\"M5,0A5,5,0,1,1,-5,0A5,5,0,1,1,5,0\" style=\"fill: none; stroke: #f58518; stroke-width: 1.5; opacity: 1;\"></path></g><g class=\"mark-text role-legend-label\" style=\"pointer-events: none;\"><text text-anchor=\"start\" transform=\"translate(16,9)\" style=\"font-family: sans-serif; font-size: 10px; fill: #000; opacity: 1;\">Netherlands</text></g></g></g><g transform=\"translate(0,192)\"><path class=\"background\" d=\"M0,0h129v12.5h-129Z\" style=\"pointer-events: none; fill: none; opacity: 1;\"></path><g><g class=\"mark-symbol role-legend-symbol\" style=\"pointer-events: none;\"><path transform=\"translate(6,6)\" d=\"M5,0A5,5,0,1,1,-5,0A5,5,0,1,1,5,0\" style=\"fill: none; stroke: #e45756; stroke-width: 1.5; opacity: 1;\"></path></g><g class=\"mark-text role-legend-label\" style=\"pointer-events: none;\"><text text-anchor=\"start\" transform=\"translate(16,9)\" style=\"font-family: sans-serif; font-size: 10px; fill: #000; opacity: 1;\">Norway</text></g></g></g><g transform=\"translate(0,208)\"><path class=\"background\" d=\"M0,0h129v12.5h-129Z\" style=\"pointer-events: none; fill: none; opacity: 1;\"></path><g><g class=\"mark-symbol role-legend-symbol\" style=\"pointer-events: none;\"><path transform=\"translate(6,6)\" d=\"M5,0A5,5,0,1,1,-5,0A5,5,0,1,1,5,0\" style=\"fill: none; stroke: #72b7b2; stroke-width: 1.5; opacity: 1;\"></path></g><g class=\"mark-text role-legend-label\" style=\"pointer-events: none;\"><text text-anchor=\"start\" transform=\"translate(16,9)\" style=\"font-family: sans-serif; font-size: 10px; fill: #000; opacity: 1;\">Poland</text></g></g></g><g transform=\"translate(0,224)\"><path class=\"background\" d=\"M0,0h129v12.5h-129Z\" style=\"pointer-events: none; fill: none; opacity: 1;\"></path><g><g class=\"mark-symbol role-legend-symbol\" style=\"pointer-events: none;\"><path transform=\"translate(6,6)\" d=\"M5,0A5,5,0,1,1,-5,0A5,5,0,1,1,5,0\" style=\"fill: none; stroke: #54a24b; stroke-width: 1.5; opacity: 1;\"></path></g><g class=\"mark-text role-legend-label\" style=\"pointer-events: none;\"><text text-anchor=\"start\" transform=\"translate(16,9)\" style=\"font-family: sans-serif; font-size: 10px; fill: #000; opacity: 1;\">Portugal</text></g></g></g><g transform=\"translate(0,240)\"><path class=\"background\" d=\"M0,0h129v12.5h-129Z\" style=\"pointer-events: none; fill: none; opacity: 1;\"></path><g><g class=\"mark-symbol role-legend-symbol\" style=\"pointer-events: none;\"><path transform=\"translate(6,6)\" d=\"M5,0A5,5,0,1,1,-5,0A5,5,0,1,1,5,0\" style=\"fill: none; stroke: #eeca3b; stroke-width: 1.5; opacity: 1;\"></path></g><g class=\"mark-text role-legend-label\" style=\"pointer-events: none;\"><text text-anchor=\"start\" transform=\"translate(16,9)\" style=\"font-family: sans-serif; font-size: 10px; fill: #000; opacity: 1;\">Spain</text></g></g></g><g transform=\"translate(0,256)\"><path class=\"background\" d=\"M0,0h129v12.5h-129Z\" style=\"pointer-events: none; fill: none; opacity: 1;\"></path><g><g class=\"mark-symbol role-legend-symbol\" style=\"pointer-events: none;\"><path transform=\"translate(6,6)\" d=\"M5,0A5,5,0,1,1,-5,0A5,5,0,1,1,5,0\" style=\"fill: none; stroke: #b279a2; stroke-width: 1.5; opacity: 1;\"></path></g><g class=\"mark-text role-legend-label\" style=\"pointer-events: none;\"><text text-anchor=\"start\" transform=\"translate(16,9)\" style=\"font-family: sans-serif; font-size: 10px; fill: #000; opacity: 1;\">Switzerland</text></g></g></g><g transform=\"translate(0,272)\"><path class=\"background\" d=\"M0,0h129v12.5h-129Z\" style=\"pointer-events: none; fill: none; opacity: 1;\"></path><g><g class=\"mark-symbol role-legend-symbol\" style=\"pointer-events: none;\"><path transform=\"translate(6,6)\" d=\"M5,0A5,5,0,1,1,-5,0A5,5,0,1,1,5,0\" style=\"fill: none; stroke: #ff9da6; stroke-width: 1.5; opacity: 1;\"></path></g><g class=\"mark-text role-legend-label\" style=\"pointer-events: none;\"><text text-anchor=\"start\" transform=\"translate(16,9)\" style=\"font-family: sans-serif; font-size: 10px; fill: #000; opacity: 1;\">Turkey</text></g></g></g><g transform=\"translate(0,288)\"><path class=\"background\" d=\"M0,0h129v12.5h-129Z\" style=\"pointer-events: none; fill: none; opacity: 1;\"></path><g><g class=\"mark-symbol role-legend-symbol\" style=\"pointer-events: none;\"><path transform=\"translate(6,6)\" d=\"M5,0A5,5,0,1,1,-5,0A5,5,0,1,1,5,0\" style=\"fill: none; stroke: #9d755d; stroke-width: 1.5; opacity: 1;\"></path></g><g class=\"mark-text role-legend-label\" style=\"pointer-events: none;\"><text text-anchor=\"start\" transform=\"translate(16,9)\" style=\"font-family: sans-serif; font-size: 10px; fill: #000; opacity: 1;\">United Kingdom</text></g></g></g></g></g></g></g><g class=\"mark-text role-legend-title\" style=\"pointer-events: none;\"><text text-anchor=\"start\" transform=\"translate(0,9)\" style=\"font-family: sans-serif; font-size: 11px; font-weight: bold; fill: #000; opacity: 1;\">country</text></g></g></g></g><g class=\"mark-group role-axis\"><g transform=\"translate(0.5,400.5)\"><path class=\"background\" d=\"M0,0h0v0h0Z\" style=\"pointer-events: none; fill: none;\"></path><g><g class=\"mark-rule role-axis-tick\" style=\"pointer-events: none;\"><line transform=\"translate(0,0)\" x2=\"0\" y2=\"5\" style=\"fill: none; stroke: #888; stroke-width: 1; opacity: 1;\"></line><line transform=\"translate(40,0)\" x2=\"0\" y2=\"5\" style=\"fill: none; stroke: #888; stroke-width: 1; opacity: 1;\"></line><line transform=\"translate(80,0)\" x2=\"0\" y2=\"5\" style=\"fill: none; stroke: #888; stroke-width: 1; opacity: 1;\"></line><line transform=\"translate(120,0)\" x2=\"0\" y2=\"5\" style=\"fill: none; stroke: #888; stroke-width: 1; opacity: 1;\"></line><line transform=\"translate(160,0)\" x2=\"0\" y2=\"5\" style=\"fill: none; stroke: #888; stroke-width: 1; opacity: 1;\"></line><line transform=\"translate(200,0)\" x2=\"0\" y2=\"5\" style=\"fill: none; stroke: #888; stroke-width: 1; opacity: 1;\"></line><line transform=\"translate(240,0)\" x2=\"0\" y2=\"5\" style=\"fill: none; stroke: #888; stroke-width: 1; opacity: 1;\"></line><line transform=\"translate(280,0)\" x2=\"0\" y2=\"5\" style=\"fill: none; stroke: #888; stroke-width: 1; opacity: 1;\"></line><line transform=\"translate(320,0)\" x2=\"0\" y2=\"5\" style=\"fill: none; stroke: #888; stroke-width: 1; opacity: 1;\"></line><line transform=\"translate(360,0)\" x2=\"0\" y2=\"5\" style=\"fill: none; stroke: #888; stroke-width: 1; opacity: 1;\"></line><line transform=\"translate(400,0)\" x2=\"0\" y2=\"5\" style=\"fill: none; stroke: #888; stroke-width: 1; opacity: 1;\"></line></g><g class=\"mark-text role-axis-label\" style=\"pointer-events: none;\"><text text-anchor=\"start\" transform=\"translate(0,15)\" style=\"font-family: sans-serif; font-size: 10px; fill: #000; opacity: 1;\">1,955</text><text text-anchor=\"middle\" transform=\"translate(40,15)\" style=\"font-family: sans-serif; font-size: 10px; fill: #000; opacity: 0;\">1,960</text><text text-anchor=\"middle\" transform=\"translate(80,15)\" style=\"font-family: sans-serif; font-size: 10px; fill: #000; opacity: 1;\">1,965</text><text text-anchor=\"middle\" transform=\"translate(120,15)\" style=\"font-family: sans-serif; font-size: 10px; fill: #000; opacity: 0;\">1,970</text><text text-anchor=\"middle\" transform=\"translate(160,15)\" style=\"font-family: sans-serif; font-size: 10px; fill: #000; opacity: 1;\">1,975</text><text text-anchor=\"middle\" transform=\"translate(200,15)\" style=\"font-family: sans-serif; font-size: 10px; fill: #000; opacity: 0;\">1,980</text><text text-anchor=\"middle\" transform=\"translate(240,15)\" style=\"font-family: sans-serif; font-size: 10px; fill: #000; opacity: 1;\">1,985</text><text text-anchor=\"middle\" transform=\"translate(280,15)\" style=\"font-family: sans-serif; font-size: 10px; fill: #000; opacity: 0;\">1,990</text><text text-anchor=\"middle\" transform=\"translate(320,15)\" style=\"font-family: sans-serif; font-size: 10px; fill: #000; opacity: 1;\">1,995</text><text text-anchor=\"middle\" transform=\"translate(360,15)\" style=\"font-family: sans-serif; font-size: 10px; fill: #000; opacity: 0;\">2,000</text><text text-anchor=\"end\" transform=\"translate(400,15)\" style=\"font-family: sans-serif; font-size: 10px; fill: #000; opacity: 1;\">2,005</text></g><g class=\"mark-rule role-axis-domain\" style=\"pointer-events: none;\"><line transform=\"translate(0,0)\" x2=\"400\" y2=\"0\" style=\"fill: none; stroke: #888; stroke-width: 1; opacity: 1;\"></line></g><g class=\"mark-text role-axis-title\" style=\"pointer-events: none;\"><text text-anchor=\"middle\" transform=\"translate(200,31)\" style=\"font-family: sans-serif; font-size: 11px; font-weight: bold; fill: #000; opacity: 1;\">year</text></g></g></g></g><g class=\"mark-group role-axis\"><g transform=\"translate(0.5,0.5)\"><path class=\"background\" d=\"M0,0h0v0h0Z\" style=\"pointer-events: none; fill: none;\"></path><g><g class=\"mark-rule role-axis-tick\" style=\"pointer-events: none;\"><line transform=\"translate(0,400)\" x2=\"-5\" y2=\"0\" style=\"fill: none; stroke: #888; stroke-width: 1; opacity: 1;\"></line><line transform=\"translate(0,356)\" x2=\"-5\" y2=\"0\" style=\"fill: none; stroke: #888; stroke-width: 1; opacity: 1;\"></line><line transform=\"translate(0,311)\" x2=\"-5\" y2=\"0\" style=\"fill: none; stroke: #888; stroke-width: 1; opacity: 1;\"></line><line transform=\"translate(0,267)\" x2=\"-5\" y2=\"0\" style=\"fill: none; stroke: #888; stroke-width: 1; opacity: 1;\"></line><line transform=\"translate(0,222)\" x2=\"-5\" y2=\"0\" style=\"fill: none; stroke: #888; stroke-width: 1; opacity: 1;\"></line><line transform=\"translate(0,178)\" x2=\"-5\" y2=\"0\" style=\"fill: none; stroke: #888; stroke-width: 1; opacity: 1;\"></line><line transform=\"translate(0,133)\" x2=\"-5\" y2=\"0\" style=\"fill: none; stroke: #888; stroke-width: 1; opacity: 1;\"></line><line transform=\"translate(0,89)\" x2=\"-5\" y2=\"0\" style=\"fill: none; stroke: #888; stroke-width: 1; opacity: 1;\"></line><line transform=\"translate(0,44)\" x2=\"-5\" y2=\"0\" style=\"fill: none; stroke: #888; stroke-width: 1; opacity: 1;\"></line><line transform=\"translate(0,0)\" x2=\"-5\" y2=\"0\" style=\"fill: none; stroke: #888; stroke-width: 1; opacity: 1;\"></line></g><g class=\"mark-text role-axis-label\" style=\"pointer-events: none;\"><text text-anchor=\"end\" transform=\"translate(-7,403)\" style=\"font-family: sans-serif; font-size: 10px; fill: #000; opacity: 1;\">0</text><text text-anchor=\"end\" transform=\"translate(-7,358.55555555555554)\" style=\"font-family: sans-serif; font-size: 10px; fill: #000; opacity: 1;\">10</text><text text-anchor=\"end\" transform=\"translate(-7,314.1111111111111)\" style=\"font-family: sans-serif; font-size: 10px; fill: #000; opacity: 1;\">20</text><text text-anchor=\"end\" transform=\"translate(-7,269.6666666666667)\" style=\"font-family: sans-serif; font-size: 10px; fill: #000; opacity: 1;\">30</text><text text-anchor=\"end\" transform=\"translate(-7,225.22222222222223)\" style=\"font-family: sans-serif; font-size: 10px; fill: #000; opacity: 1;\">40</text><text text-anchor=\"end\" transform=\"translate(-7,180.77777777777777)\" style=\"font-family: sans-serif; font-size: 10px; fill: #000; opacity: 1;\">50</text><text text-anchor=\"end\" transform=\"translate(-7,136.33333333333337)\" style=\"font-family: sans-serif; font-size: 10px; fill: #000; opacity: 1;\">60</text><text text-anchor=\"end\" transform=\"translate(-7,91.88888888888886)\" style=\"font-family: sans-serif; font-size: 10px; fill: #000; opacity: 1;\">70</text><text text-anchor=\"end\" transform=\"translate(-7,47.44444444444446)\" style=\"font-family: sans-serif; font-size: 10px; fill: #000; opacity: 1;\">80</text><text text-anchor=\"end\" transform=\"translate(-7,3)\" style=\"font-family: sans-serif; font-size: 10px; fill: #000; opacity: 1;\">90</text></g><g class=\"mark-rule role-axis-domain\" style=\"pointer-events: none;\"><line transform=\"translate(0,400)\" x2=\"0\" y2=\"-400\" style=\"fill: none; stroke: #888; stroke-width: 1; opacity: 1;\"></line></g><g class=\"mark-text role-axis-title\" style=\"pointer-events: none;\"><text text-anchor=\"middle\" transform=\"translate(-34,200) rotate(-90) translate(0,-2)\" style=\"font-family: sans-serif; font-size: 11px; font-weight: bold; fill: #000; opacity: 1;\">life_expect</text></g></g></g></g></g></g></g></g></svg>"
      ],
      "text/plain": [
       "VegaLite.VLSpec{:plot}"
      ]
     },
     "execution_count": 34,
     "metadata": {},
     "output_type": "execute_result"
    }
   ],
   "source": [
    "using VegaLite\n",
    "\n",
    "EU_gapminder |>\n",
    "  @vlplot(:line, x = :year, y = :life_expect, color = :country,\n",
    "           width = 400, height = 400)"
   ]
  },
  {
   "cell_type": "markdown",
   "metadata": {},
   "source": [
    "Julia offer a lot of different ways to deal with tabular datasets (i.e., rows and columns ones), as well as a lot of different ways of plotting them.  \n",
    "During the rest of the course we will understand better how Julia works and what the possibilities are."
   ]
  },
  {
   "cell_type": "code",
   "execution_count": 37,
   "metadata": {},
   "outputs": [
    {
     "data": {
      "application/vnd.vegalite.v2+json": {
       "data": {
        "values": [
         {
          "cluster": 0,
          "country": "Afghanistan",
          "fertility": 7.7,
          "life_expect": 30.332,
          "pop": 8891209,
          "year": 1955
         },
         {
          "cluster": 0,
          "country": "Afghanistan",
          "fertility": 7.7,
          "life_expect": 31.997,
          "pop": 9829450,
          "year": 1960
         },
         {
          "cluster": 0,
          "country": "Afghanistan",
          "fertility": 7.7,
          "life_expect": 34.02,
          "pop": 10997885,
          "year": 1965
         },
         {
          "cluster": 0,
          "country": "Afghanistan",
          "fertility": 7.7,
          "life_expect": 36.088,
          "pop": 12430623,
          "year": 1970
         },
         {
          "cluster": 0,
          "country": "Afghanistan",
          "fertility": 7.7,
          "life_expect": 38.438,
          "pop": 14132019,
          "year": 1975
         },
         {
          "cluster": 0,
          "country": "Afghanistan",
          "fertility": 7.8,
          "life_expect": 39.854,
          "pop": 15112149,
          "year": 1980
         },
         {
          "cluster": 0,
          "country": "Afghanistan",
          "fertility": 7.9,
          "life_expect": 40.822,
          "pop": 13796928,
          "year": 1985
         },
         {
          "cluster": 0,
          "country": "Afghanistan",
          "fertility": 8,
          "life_expect": 41.674,
          "pop": 14669339,
          "year": 1990
         },
         {
          "cluster": 0,
          "country": "Afghanistan",
          "fertility": 8,
          "life_expect": 41.763,
          "pop": 20881480,
          "year": 1995
         },
         {
          "cluster": 0,
          "country": "Afghanistan",
          "fertility": 7.4792,
          "life_expect": 42.129,
          "pop": 23898198,
          "year": 2000
         },
         {
          "cluster": 0,
          "country": "Afghanistan",
          "fertility": 7.0685,
          "life_expect": 43.828,
          "pop": 29928987,
          "year": 2005
         },
         {
          "cluster": 3,
          "country": "Argentina",
          "fertility": 3.1265,
          "life_expect": 64.399,
          "pop": 18927821,
          "year": 1955
         },
         {
          "cluster": 3,
          "country": "Argentina",
          "fertility": 3.0895,
          "life_expect": 65.142,
          "pop": 20616009,
          "year": 1960
         },
         {
          "cluster": 3,
          "country": "Argentina",
          "fertility": 3.049,
          "life_expect": 65.634,
          "pop": 22283100,
          "year": 1965
         },
         {
          "cluster": 3,
          "country": "Argentina",
          "fertility": 3.1455,
          "life_expect": 67.065,
          "pop": 23962313,
          "year": 1970
         },
         {
          "cluster": 3,
          "country": "Argentina",
          "fertility": 3.44,
          "life_expect": 68.481,
          "pop": 26081880,
          "year": 1975
         },
         {
          "cluster": 3,
          "country": "Argentina",
          "fertility": 3.15,
          "life_expect": 69.942,
          "pop": 28369799,
          "year": 1980
         },
         {
          "cluster": 3,
          "country": "Argentina",
          "fertility": 3.053,
          "life_expect": 70.774,
          "pop": 30675059,
          "year": 1985
         },
         {
          "cluster": 3,
          "country": "Argentina",
          "fertility": 2.9,
          "life_expect": 71.868,
          "pop": 33022202,
          "year": 1990
         },
         {
          "cluster": 3,
          "country": "Argentina",
          "fertility": 2.63,
          "life_expect": 73.275,
          "pop": 35311049,
          "year": 1995
         },
         {
          "cluster": 3,
          "country": "Argentina",
          "fertility": 2.35,
          "life_expect": 74.34,
          "pop": 37497728,
          "year": 2000
         },
         {
          "cluster": 3,
          "country": "Argentina",
          "fertility": 2.254,
          "life_expect": 75.32,
          "pop": 39537943,
          "year": 2005
         },
         {
          "cluster": 3,
          "country": "Aruba",
          "fertility": 5.15,
          "life_expect": 64.381,
          "pop": 53865,
          "year": 1955
         },
         {
          "cluster": 3,
          "country": "Aruba",
          "fertility": 4.399,
          "life_expect": 66.606,
          "pop": 57203,
          "year": 1960
         },
         {
          "cluster": 3,
          "country": "Aruba",
          "fertility": 3.301,
          "life_expect": 68.336,
          "pop": 59020,
          "year": 1965
         },
         {
          "cluster": 3,
          "country": "Aruba",
          "fertility": 2.651,
          "life_expect": 70.941,
          "pop": 59039,
          "year": 1970
         },
         {
          "cluster": 3,
          "country": "Aruba",
          "fertility": 2.45,
          "life_expect": 71.83,
          "pop": 59390,
          "year": 1975
         },
         {
          "cluster": 3,
          "country": "Aruba",
          "fertility": 2.358,
          "life_expect": 74.116,
          "pop": 60266,
          "year": 1980
         },
         {
          "cluster": 3,
          "country": "Aruba",
          "fertility": 2.3,
          "life_expect": 74.494,
          "pop": 64129,
          "year": 1985
         },
         {
          "cluster": 3,
          "country": "Aruba",
          "fertility": 2.28,
          "life_expect": 74.108,
          "pop": 66653,
          "year": 1990
         },
         {
          "cluster": 3,
          "country": "Aruba",
          "fertility": 2.208,
          "life_expect": 73.011,
          "pop": 67836,
          "year": 1995
         },
         {
          "cluster": 3,
          "country": "Aruba",
          "fertility": 2.124,
          "life_expect": 73.451,
          "pop": 69539,
          "year": 2000
         },
         {
          "cluster": 3,
          "country": "Aruba",
          "fertility": 2.04,
          "life_expect": 74.239,
          "pop": 71566,
          "year": 2005
         },
         {
          "cluster": 4,
          "country": "Australia",
          "fertility": 3.406,
          "life_expect": 70.33,
          "pop": 9277087,
          "year": 1955
         },
         {
          "cluster": 4,
          "country": "Australia",
          "fertility": 3.274,
          "life_expect": 70.93,
          "pop": 10361273,
          "year": 1960
         },
         {
          "cluster": 4,
          "country": "Australia",
          "fertility": 2.871,
          "life_expect": 71.1,
          "pop": 11439384,
          "year": 1965
         },
         {
          "cluster": 4,
          "country": "Australia",
          "fertility": 2.535,
          "life_expect": 71.93,
          "pop": 12660160,
          "year": 1970
         },
         {
          "cluster": 4,
          "country": "Australia",
          "fertility": 1.989,
          "life_expect": 73.49,
          "pop": 13771400,
          "year": 1975
         },
         {
          "cluster": 4,
          "country": "Australia",
          "fertility": 1.907,
          "life_expect": 74.74,
          "pop": 14615900,
          "year": 1980
         },
         {
          "cluster": 4,
          "country": "Australia",
          "fertility": 1.859,
          "life_expect": 76.32,
          "pop": 15788300,
          "year": 1985
         },
         {
          "cluster": 4,
          "country": "Australia",
          "fertility": 1.86,
          "life_expect": 77.56,
          "pop": 17022133,
          "year": 1990
         },
         {
          "cluster": 4,
          "country": "Australia",
          "fertility": 1.776,
          "life_expect": 78.83,
          "pop": 18116171,
          "year": 1995
         },
         {
          "cluster": 4,
          "country": "Australia",
          "fertility": 1.756,
          "life_expect": 80.37,
          "pop": 19164620,
          "year": 2000
         },
         {
          "cluster": 4,
          "country": "Australia",
          "fertility": 1.788,
          "life_expect": 81.235,
          "pop": 20090437,
          "year": 2005
         },
         {
          "cluster": 1,
          "country": "Austria",
          "fertility": 2.52,
          "life_expect": 67.48,
          "pop": 6946885,
          "year": 1955
         },
         {
          "cluster": 1,
          "country": "Austria",
          "fertility": 2.78,
          "life_expect": 69.54,
          "pop": 7047437,
          "year": 1960
         },
         {
          "cluster": 1,
          "country": "Austria",
          "fertility": 2.53,
          "life_expect": 70.14,
          "pop": 7270889,
          "year": 1965
         },
         {
          "cluster": 1,
          "country": "Austria",
          "fertility": 2.02,
          "life_expect": 70.63,
          "pop": 7467086,
          "year": 1970
         },
         {
          "cluster": 1,
          "country": "Austria",
          "fertility": 1.64,
          "life_expect": 72.17,
          "pop": 7578903,
          "year": 1975
         },
         {
          "cluster": 1,
          "country": "Austria",
          "fertility": 1.62,
          "life_expect": 73.18,
          "pop": 7549433,
          "year": 1980
         },
         {
          "cluster": 1,
          "country": "Austria",
          "fertility": 1.45,
          "life_expect": 74.94,
          "pop": 7559776,
          "year": 1985
         },
         {
          "cluster": 1,
          "country": "Austria",
          "fertility": 1.47,
          "life_expect": 76.04,
          "pop": 7722953,
          "year": 1990
         },
         {
          "cluster": 1,
          "country": "Austria",
          "fertility": 1.388,
          "life_expect": 77.51,
          "pop": 8047433,
          "year": 1995
         },
         {
          "cluster": 1,
          "country": "Austria",
          "fertility": 1.382,
          "life_expect": 78.98,
          "pop": 8113413,
          "year": 2000
         },
         {
          "cluster": 1,
          "country": "Austria",
          "fertility": 1.42,
          "life_expect": 79.829,
          "pop": 8184691,
          "year": 2005
         },
         {
          "cluster": 3,
          "country": "Bahamas",
          "fertility": 4.305,
          "life_expect": 62.405,
          "pop": 87138,
          "year": 1955
         },
         {
          "cluster": 3,
          "country": "Bahamas",
          "fertility": 4.503,
          "life_expect": 64.209,
          "pop": 112234,
          "year": 1960
         },
         {
          "cluster": 3,
          "country": "Bahamas",
          "fertility": 3.794,
          "life_expect": 65.795,
          "pop": 139205,
          "year": 1965
         },
         {
          "cluster": 3,
          "country": "Bahamas",
          "fertility": 3.444,
          "life_expect": 66.515,
          "pop": 170323,
          "year": 1970
         },
         {
          "cluster": 3,
          "country": "Bahamas",
          "fertility": 3.221,
          "life_expect": 67.199,
          "pop": 189139,
          "year": 1975
         },
         {
          "cluster": 3,
          "country": "Bahamas",
          "fertility": 3.16,
          "life_expect": 67.874,
          "pop": 209944,
          "year": 1980
         },
         {
          "cluster": 3,
          "country": "Bahamas",
          "fertility": 2.62,
          "life_expect": 69.524,
          "pop": 234988,
          "year": 1985
         },
         {
          "cluster": 3,
          "country": "Bahamas",
          "fertility": 2.6,
          "life_expect": 69.171,
          "pop": 257253,
          "year": 1990
         },
         {
          "cluster": 3,
          "country": "Bahamas",
          "fertility": 2.4,
          "life_expect": 68.472,
          "pop": 275303,
          "year": 1995
         },
         {
          "cluster": 3,
          "country": "Bahamas",
          "fertility": 2.1111,
          "life_expect": 71.068,
          "pop": 290075,
          "year": 2000
         },
         {
          "cluster": 3,
          "country": "Bahamas",
          "fertility": 2.0221,
          "life_expect": 73.495,
          "pop": 301790,
          "year": 2005
         },
         {
          "cluster": 0,
          "country": "Bangladesh",
          "fertility": 6.76,
          "life_expect": 39.348,
          "pop": 49601520,
          "year": 1955
         },
         {
          "cluster": 0,
          "country": "Bangladesh",
          "fertility": 6.85,
          "life_expect": 41.216,
          "pop": 54621538,
          "year": 1960
         },
         {
          "cluster": 0,
          "country": "Bangladesh",
          "fertility": 6.6,
          "life_expect": 43.453,
          "pop": 60332117,
          "year": 1965
         },
         {
          "cluster": 0,
          "country": "Bangladesh",
          "fertility": 6.15,
          "life_expect": 45.252,
          "pop": 67402621,
          "year": 1970
         },
         {
          "cluster": 0,
          "country": "Bangladesh",
          "fertility": 5.6,
          "life_expect": 46.923,
          "pop": 76253310,
          "year": 1975
         },
         {
          "cluster": 0,
          "country": "Bangladesh",
          "fertility": 5.25,
          "life_expect": 50.009,
          "pop": 88076996,
          "year": 1980
         },
         {
          "cluster": 0,
          "country": "Bangladesh",
          "fertility": 4.629,
          "life_expect": 52.819,
          "pop": 99752733,
          "year": 1985
         },
         {
          "cluster": 0,
          "country": "Bangladesh",
          "fertility": 4.117,
          "life_expect": 56.018,
          "pop": 109896945,
          "year": 1990
         },
         {
          "cluster": 0,
          "country": "Bangladesh",
          "fertility": 3.5043,
          "life_expect": 59.412,
          "pop": 119186448,
          "year": 1995
         },
         {
          "cluster": 0,
          "country": "Bangladesh",
          "fertility": 3.224,
          "life_expect": 62.013,
          "pop": 130406594,
          "year": 2000
         },
         {
          "cluster": 0,
          "country": "Bangladesh",
          "fertility": 2.826,
          "life_expect": 64.062,
          "pop": 144319628,
          "year": 2005
         },
         {
          "cluster": 3,
          "country": "Barbados",
          "fertility": 4.67,
          "life_expect": 62.57,
          "pop": 227255,
          "year": 1955
         },
         {
          "cluster": 3,
          "country": "Barbados",
          "fertility": 4.26,
          "life_expect": 65.87,
          "pop": 232339,
          "year": 1960
         },
         {
          "cluster": 3,
          "country": "Barbados",
          "fertility": 3.45,
          "life_expect": 67.62,
          "pop": 234980,
          "year": 1965
         },
         {
          "cluster": 3,
          "country": "Barbados",
          "fertility": 2.74,
          "life_expect": 69.42,
          "pop": 238756,
          "year": 1970
         },
         {
          "cluster": 3,
          "country": "Barbados",
          "fertility": 2.19,
          "life_expect": 71.27,
          "pop": 247147,
          "year": 1975
         },
         {
          "cluster": 3,
          "country": "Barbados",
          "fertility": 1.92,
          "life_expect": 72.695,
          "pop": 251966,
          "year": 1980
         },
         {
          "cluster": 3,
          "country": "Barbados",
          "fertility": 1.75,
          "life_expect": 74.027,
          "pop": 257446,
          "year": 1985
         },
         {
          "cluster": 3,
          "country": "Barbados",
          "fertility": 1.6,
          "life_expect": 74.894,
          "pop": 262624,
          "year": 1990
         },
         {
          "cluster": 3,
          "country": "Barbados",
          "fertility": 1.5,
          "life_expect": 74.912,
          "pop": 267907,
          "year": 1995
         },
         {
          "cluster": 3,
          "country": "Barbados",
          "fertility": 1.5,
          "life_expect": 75.97,
          "pop": 273483,
          "year": 2000
         },
         {
          "cluster": 3,
          "country": "Barbados",
          "fertility": 1.5,
          "life_expect": 77.296,
          "pop": 278870,
          "year": 2005
         },
         {
          "cluster": 1,
          "country": "Belgium",
          "fertility": 2.496,
          "life_expect": 69.24,
          "pop": 8868475,
          "year": 1955
         },
         {
          "cluster": 1,
          "country": "Belgium",
          "fertility": 2.644,
          "life_expect": 70.25,
          "pop": 9118700,
          "year": 1960
         },
         {
          "cluster": 1,
          "country": "Belgium",
          "fertility": 2.392,
          "life_expect": 70.94,
          "pop": 9448100,
          "year": 1965
         },
         {
          "cluster": 1,
          "country": "Belgium",
          "fertility": 2.015,
          "life_expect": 71.44,
          "pop": 9637800,
          "year": 1970
         },
         {
          "cluster": 1,
          "country": "Belgium",
          "fertility": 1.705,
          "life_expect": 72.8,
          "pop": 9794800,
          "year": 1975
         },
         {
          "cluster": 1,
          "country": "Belgium",
          "fertility": 1.595,
          "life_expect": 73.93,
          "pop": 9846800,
          "year": 1980
         },
         {
          "cluster": 1,
          "country": "Belgium",
          "fertility": 1.559,
          "life_expect": 75.35,
          "pop": 9858200,
          "year": 1985
         },
         {
          "cluster": 1,
          "country": "Belgium",
          "fertility": 1.613,
          "life_expect": 76.46,
          "pop": 9969310,
          "year": 1990
         },
         {
          "cluster": 1,
          "country": "Belgium",
          "fertility": 1.604,
          "life_expect": 77.53,
          "pop": 10155459,
          "year": 1995
         },
         {
          "cluster": 1,
          "country": "Belgium",
          "fertility": 1.638,
          "life_expect": 78.32,
          "pop": 10263618,
          "year": 2000
         },
         {
          "cluster": 1,
          "country": "Belgium",
          "fertility": 1.646,
          "life_expect": 79.441,
          "pop": 10364388,
          "year": 2005
         },
         {
          "cluster": 3,
          "country": "Bolivia",
          "fertility": 6.75,
          "life_expect": 41.89,
          "pop": 3074311,
          "year": 1955
         },
         {
          "cluster": 3,
          "country": "Bolivia",
          "fertility": 6.63,
          "life_expect": 43.428,
          "pop": 3434073,
          "year": 1960
         },
         {
          "cluster": 3,
          "country": "Bolivia",
          "fertility": 6.56,
          "life_expect": 45.032,
          "pop": 3853315,
          "year": 1965
         },
         {
          "cluster": 3,
          "country": "Bolivia",
          "fertility": 6.5,
          "life_expect": 46.714,
          "pop": 4346218,
          "year": 1970
         },
         {
          "cluster": 3,
          "country": "Bolivia",
          "fertility": 5.8,
          "life_expect": 50.023,
          "pop": 4914316,
          "year": 1975
         },
         {
          "cluster": 3,
          "country": "Bolivia",
          "fertility": 5.2995,
          "life_expect": 53.859,
          "pop": 5441298,
          "year": 1980
         },
         {
          "cluster": 3,
          "country": "Bolivia",
          "fertility": 5,
          "life_expect": 57.251,
          "pop": 5934935,
          "year": 1985
         },
         {
          "cluster": 3,
          "country": "Bolivia",
          "fertility": 4.8,
          "life_expect": 59.957,
          "pop": 6573900,
          "year": 1990
         },
         {
          "cluster": 3,
          "country": "Bolivia",
          "fertility": 4.324,
          "life_expect": 62.05,
          "pop": 7376582,
          "year": 1995
         },
         {
          "cluster": 3,
          "country": "Bolivia",
          "fertility": 3.9585,
          "life_expect": 63.883,
          "pop": 8152620,
          "year": 2000
         },
         {
          "cluster": 3,
          "country": "Bolivia",
          "fertility": 3.5,
          "life_expect": 65.554,
          "pop": 8857870,
          "year": 2005
         },
         {
          "cluster": 3,
          "country": "Brazil",
          "fertility": 6.1501,
          "life_expect": 53.285,
          "pop": 61773546,
          "year": 1955
         },
         {
          "cluster": 3,
          "country": "Brazil",
          "fertility": 6.1501,
          "life_expect": 55.665,
          "pop": 71694810,
          "year": 1960
         },
         {
          "cluster": 3,
          "country": "Brazil",
          "fertility": 5.38,
          "life_expect": 57.632,
          "pop": 83092908,
          "year": 1965
         },
         {
          "cluster": 3,
          "country": "Brazil",
          "fertility": 4.7175,
          "life_expect": 59.504,
          "pop": 95684297,
          "year": 1970
         },
         {
          "cluster": 3,
          "country": "Brazil",
          "fertility": 4.305,
          "life_expect": 61.489,
          "pop": 108823732,
          "year": 1975
         },
         {
          "cluster": 3,
          "country": "Brazil",
          "fertility": 3.8,
          "life_expect": 63.336,
          "pop": 122958132,
          "year": 1980
         },
         {
          "cluster": 3,
          "country": "Brazil",
          "fertility": 3.1,
          "life_expect": 65.205,
          "pop": 137302933,
          "year": 1985
         },
         {
          "cluster": 3,
          "country": "Brazil",
          "fertility": 2.6,
          "life_expect": 67.057,
          "pop": 151083809,
          "year": 1990
         },
         {
          "cluster": 3,
          "country": "Brazil",
          "fertility": 2.45,
          "life_expect": 69.388,
          "pop": 163542501,
          "year": 1995
         },
         {
          "cluster": 3,
          "country": "Brazil",
          "fertility": 2.345,
          "life_expect": 71.006,
          "pop": 175552771,
          "year": 2000
         },
         {
          "cluster": 3,
          "country": "Brazil",
          "fertility": 2.245,
          "life_expect": 72.39,
          "pop": 186112794,
          "year": 2005
         },
         {
          "cluster": 3,
          "country": "Canada",
          "fertility": 3.882,
          "life_expect": 69.96,
          "pop": 16050356,
          "year": 1955
         },
         {
          "cluster": 3,
          "country": "Canada",
          "fertility": 3.675,
          "life_expect": 71.3,
          "pop": 18266765,
          "year": 1960
         },
         {
          "cluster": 3,
          "country": "Canada",
          "fertility": 2.61,
          "life_expect": 72.13,
          "pop": 20071104,
          "year": 1965
         },
         {
          "cluster": 3,
          "country": "Canada",
          "fertility": 1.976,
          "life_expect": 72.88,
          "pop": 21749986,
          "year": 1970
         },
         {
          "cluster": 3,
          "country": "Canada",
          "fertility": 1.734,
          "life_expect": 74.21,
          "pop": 23209200,
          "year": 1975
         },
         {
          "cluster": 3,
          "country": "Canada",
          "fertility": 1.634,
          "life_expect": 75.76,
          "pop": 24593300,
          "year": 1980
         },
         {
          "cluster": 3,
          "country": "Canada",
          "fertility": 1.616,
          "life_expect": 76.86,
          "pop": 25941600,
          "year": 1985
         },
         {
          "cluster": 3,
          "country": "Canada",
          "fertility": 1.694,
          "life_expect": 77.95,
          "pop": 27790600,
          "year": 1990
         },
         {
          "cluster": 3,
          "country": "Canada",
          "fertility": 1.564,
          "life_expect": 78.61,
          "pop": 29619002,
          "year": 1995
         },
         {
          "cluster": 3,
          "country": "Canada",
          "fertility": 1.522,
          "life_expect": 79.77,
          "pop": 31278097,
          "year": 2000
         },
         {
          "cluster": 3,
          "country": "Canada",
          "fertility": 1.527,
          "life_expect": 80.653,
          "pop": 32805041,
          "year": 2005
         },
         {
          "cluster": 3,
          "country": "Chile",
          "fertility": 5.486,
          "life_expect": 56.074,
          "pop": 6743269,
          "year": 1955
         },
         {
          "cluster": 3,
          "country": "Chile",
          "fertility": 5.4385,
          "life_expect": 57.924,
          "pop": 7585349,
          "year": 1960
         },
         {
          "cluster": 3,
          "country": "Chile",
          "fertility": 4.4405,
          "life_expect": 60.523,
          "pop": 8509950,
          "year": 1965
         },
         {
          "cluster": 3,
          "country": "Chile",
          "fertility": 3.63,
          "life_expect": 63.441,
          "pop": 9368558,
          "year": 1970
         },
         {
          "cluster": 3,
          "country": "Chile",
          "fertility": 2.803,
          "life_expect": 67.052,
          "pop": 10251542,
          "year": 1975
         },
         {
          "cluster": 3,
          "country": "Chile",
          "fertility": 2.671,
          "life_expect": 70.565,
          "pop": 11093718,
          "year": 1980
         },
         {
          "cluster": 3,
          "country": "Chile",
          "fertility": 2.65,
          "life_expect": 72.492,
          "pop": 12066701,
          "year": 1985
         },
         {
          "cluster": 3,
          "country": "Chile",
          "fertility": 2.55,
          "life_expect": 74.126,
          "pop": 13127760,
          "year": 1990
         },
         {
          "cluster": 3,
          "country": "Chile",
          "fertility": 2.21,
          "life_expect": 75.816,
          "pop": 14205449,
          "year": 1995
         },
         {
          "cluster": 3,
          "country": "Chile",
          "fertility": 2,
          "life_expect": 77.86,
          "pop": 15153450,
          "year": 2000
         },
         {
          "cluster": 3,
          "country": "Chile",
          "fertility": 1.944,
          "life_expect": 78.553,
          "pop": 15980912,
          "year": 2005
         },
         {
          "cluster": 4,
          "country": "China",
          "fertility": 5.59,
          "life_expect": 50.54896,
          "pop": 608655000,
          "year": 1955
         },
         {
          "cluster": 4,
          "country": "China",
          "fertility": 5.72,
          "life_expect": 44.50136,
          "pop": 667070000,
          "year": 1960
         },
         {
          "cluster": 4,
          "country": "China",
          "fertility": 6.06,
          "life_expect": 58.38112,
          "pop": 715185000,
          "year": 1965
         },
         {
          "cluster": 4,
          "country": "China",
          "fertility": 4.86,
          "life_expect": 63.11888,
          "pop": 818315000,
          "year": 1970
         },
         {
          "cluster": 4,
          "country": "China",
          "fertility": 3.32,
          "life_expect": 63.96736,
          "pop": 916395000,
          "year": 1975
         },
         {
          "cluster": 4,
          "country": "China",
          "fertility": 2.55,
          "life_expect": 65.525,
          "pop": 981235000,
          "year": 1980
         },
         {
          "cluster": 4,
          "country": "China",
          "fertility": 2.46,
          "life_expect": 67.274,
          "pop": 1051040000,
          "year": 1985
         },
         {
          "cluster": 4,
          "country": "China",
          "fertility": 1.92,
          "life_expect": 68.69,
          "pop": 1135185000,
          "year": 1990
         },
         {
          "cluster": 4,
          "country": "China",
          "fertility": 1.781,
          "life_expect": 70.426,
          "pop": 1204855000,
          "year": 1995
         },
         {
          "cluster": 4,
          "country": "China",
          "fertility": 1.7,
          "life_expect": 72.028,
          "pop": 1262645000,
          "year": 2000
         },
         {
          "cluster": 4,
          "country": "China",
          "fertility": 1.725,
          "life_expect": 72.961,
          "pop": 1303182268,
          "year": 2005
         },
         {
          "cluster": 3,
          "country": "Colombia",
          "fertility": 6.76,
          "life_expect": 55.118,
          "pop": 13588405,
          "year": 1955
         },
         {
          "cluster": 3,
          "country": "Colombia",
          "fertility": 6.76,
          "life_expect": 57.863,
          "pop": 15952727,
          "year": 1960
         },
         {
          "cluster": 3,
          "country": "Colombia",
          "fertility": 6.18,
          "life_expect": 59.963,
          "pop": 18646175,
          "year": 1965
         },
         {
          "cluster": 3,
          "country": "Colombia",
          "fertility": 5.0005,
          "life_expect": 61.623,
          "pop": 21429658,
          "year": 1970
         },
         {
          "cluster": 3,
          "country": "Colombia",
          "fertility": 4.3385,
          "life_expect": 63.837,
          "pop": 24114177,
          "year": 1975
         },
         {
          "cluster": 3,
          "country": "Colombia",
          "fertility": 3.685,
          "life_expect": 66.653,
          "pop": 26582811,
          "year": 1980
         },
         {
          "cluster": 3,
          "country": "Colombia",
          "fertility": 3.172,
          "life_expect": 67.768,
          "pop": 29678395,
          "year": 1985
         },
         {
          "cluster": 3,
          "country": "Colombia",
          "fertility": 2.93005,
          "life_expect": 68.421,
          "pop": 32858579,
          "year": 1990
         },
         {
          "cluster": 3,
          "country": "Colombia",
          "fertility": 2.7,
          "life_expect": 70.313,
          "pop": 36280883,
          "year": 1995
         },
         {
          "cluster": 3,
          "country": "Colombia",
          "fertility": 2.4705,
          "life_expect": 71.682,
          "pop": 39685655,
          "year": 2000
         },
         {
          "cluster": 3,
          "country": "Colombia",
          "fertility": 2.2205,
          "life_expect": 72.889,
          "pop": 42954279,
          "year": 2005
         },
         {
          "cluster": 3,
          "country": "Costa Rica",
          "fertility": 7.1135,
          "life_expect": 60.026,
          "pop": 1031782,
          "year": 1955
         },
         {
          "cluster": 3,
          "country": "Costa Rica",
          "fertility": 7.2245,
          "life_expect": 62.842,
          "pop": 1248022,
          "year": 1960
         },
         {
          "cluster": 3,
          "country": "Costa Rica",
          "fertility": 5.801,
          "life_expect": 65.424,
          "pop": 1487605,
          "year": 1965
         },
         {
          "cluster": 3,
          "country": "Costa Rica",
          "fertility": 4.346,
          "life_expect": 67.849,
          "pop": 1735523,
          "year": 1970
         },
         {
          "cluster": 3,
          "country": "Costa Rica",
          "fertility": 3.7755,
          "life_expect": 70.75,
          "pop": 1991580,
          "year": 1975
         },
         {
          "cluster": 3,
          "country": "Costa Rica",
          "fertility": 3.527,
          "life_expect": 73.45,
          "pop": 2299124,
          "year": 1980
         },
         {
          "cluster": 3,
          "country": "Costa Rica",
          "fertility": 3.374,
          "life_expect": 74.752,
          "pop": 2643808,
          "year": 1985
         },
         {
          "cluster": 3,
          "country": "Costa Rica",
          "fertility": 2.945,
          "life_expect": 75.713,
          "pop": 3027175,
          "year": 1990
         },
         {
          "cluster": 3,
          "country": "Costa Rica",
          "fertility": 2.5835,
          "life_expect": 77.26,
          "pop": 3383786,
          "year": 1995
         },
         {
          "cluster": 3,
          "country": "Costa Rica",
          "fertility": 2.2815,
          "life_expect": 78.123,
          "pop": 3710558,
          "year": 2000
         },
         {
          "cluster": 3,
          "country": "Costa Rica",
          "fertility": 2.0985,
          "life_expect": 78.782,
          "pop": 4016173,
          "year": 2005
         },
         {
          "cluster": 1,
          "country": "Croatia",
          "fertility": 2.42,
          "life_expect": 64.77,
          "pop": 3955526,
          "year": 1955
         },
         {
          "cluster": 1,
          "country": "Croatia",
          "fertility": 2.27,
          "life_expect": 67.13,
          "pop": 4036145,
          "year": 1960
         },
         {
          "cluster": 1,
          "country": "Croatia",
          "fertility": 2.09,
          "life_expect": 68.5,
          "pop": 4133313,
          "year": 1965
         },
         {
          "cluster": 1,
          "country": "Croatia",
          "fertility": 1.96,
          "life_expect": 69.61,
          "pop": 4205389,
          "year": 1970
         },
         {
          "cluster": 1,
          "country": "Croatia",
          "fertility": 2.02,
          "life_expect": 70.64,
          "pop": 4255000,
          "year": 1975
         },
         {
          "cluster": 1,
          "country": "Croatia",
          "fertility": 1.96,
          "life_expect": 70.46,
          "pop": 4383000,
          "year": 1980
         },
         {
          "cluster": 1,
          "country": "Croatia",
          "fertility": 1.84,
          "life_expect": 71.52,
          "pop": 4457874,
          "year": 1985
         },
         {
          "cluster": 1,
          "country": "Croatia",
          "fertility": 1.52,
          "life_expect": 72.527,
          "pop": 4508347,
          "year": 1990
         },
         {
          "cluster": 1,
          "country": "Croatia",
          "fertility": 1.537,
          "life_expect": 73.68,
          "pop": 4496683,
          "year": 1995
         },
         {
          "cluster": 1,
          "country": "Croatia",
          "fertility": 1.348,
          "life_expect": 74.876,
          "pop": 4410830,
          "year": 2000
         },
         {
          "cluster": 1,
          "country": "Croatia",
          "fertility": 1.346,
          "life_expect": 75.748,
          "pop": 4495904,
          "year": 2005
         },
         {
          "cluster": 3,
          "country": "Cuba",
          "fertility": 3.6995,
          "life_expect": 62.325,
          "pop": 6381106,
          "year": 1955
         },
         {
          "cluster": 3,
          "country": "Cuba",
          "fertility": 4.6805,
          "life_expect": 65.246,
          "pop": 7027210,
          "year": 1960
         },
         {
          "cluster": 3,
          "country": "Cuba",
          "fertility": 4.3,
          "life_expect": 68.29,
          "pop": 7809916,
          "year": 1965
         },
         {
          "cluster": 3,
          "country": "Cuba",
          "fertility": 3.6,
          "life_expect": 70.723,
          "pop": 8542746,
          "year": 1970
         },
         {
          "cluster": 3,
          "country": "Cuba",
          "fertility": 2.15,
          "life_expect": 72.649,
          "pop": 9290074,
          "year": 1975
         },
         {
          "cluster": 3,
          "country": "Cuba",
          "fertility": 1.8495,
          "life_expect": 73.717,
          "pop": 9652975,
          "year": 1980
         },
         {
          "cluster": 3,
          "country": "Cuba",
          "fertility": 1.8495,
          "life_expect": 74.174,
          "pop": 10078658,
          "year": 1985
         },
         {
          "cluster": 3,
          "country": "Cuba",
          "fertility": 1.6505,
          "life_expect": 74.414,
          "pop": 10544793,
          "year": 1990
         },
         {
          "cluster": 3,
          "country": "Cuba",
          "fertility": 1.6095,
          "life_expect": 76.151,
          "pop": 10896802,
          "year": 1995
         },
         {
          "cluster": 3,
          "country": "Cuba",
          "fertility": 1.63,
          "life_expect": 77.158,
          "pop": 11134273,
          "year": 2000
         },
         {
          "cluster": 3,
          "country": "Cuba",
          "fertility": 1.49,
          "life_expect": 78.273,
          "pop": 11346670,
          "year": 2005
         },
         {
          "cluster": 3,
          "country": "Dominican Republic",
          "fertility": 7.6405,
          "life_expect": 49.828,
          "pop": 2737257,
          "year": 1955
         },
         {
          "cluster": 3,
          "country": "Dominican Republic",
          "fertility": 7.3505,
          "life_expect": 53.459,
          "pop": 3231488,
          "year": 1960
         },
         {
          "cluster": 3,
          "country": "Dominican Republic",
          "fertility": 6.6495,
          "life_expect": 56.751,
          "pop": 3805881,
          "year": 1965
         },
         {
          "cluster": 3,
          "country": "Dominican Republic",
          "fertility": 5.71,
          "life_expect": 59.631,
          "pop": 4422755,
          "year": 1970
         },
         {
          "cluster": 3,
          "country": "Dominican Republic",
          "fertility": 4.76,
          "life_expect": 61.788,
          "pop": 5048499,
          "year": 1975
         },
         {
          "cluster": 3,
          "country": "Dominican Republic",
          "fertility": 4,
          "life_expect": 63.727,
          "pop": 5696855,
          "year": 1980
         },
         {
          "cluster": 3,
          "country": "Dominican Republic",
          "fertility": 3.47,
          "life_expect": 66.046,
          "pop": 6377765,
          "year": 1985
         },
         {
          "cluster": 3,
          "country": "Dominican Republic",
          "fertility": 3.1995,
          "life_expect": 68.457,
          "pop": 7077651,
          "year": 1990
         },
         {
          "cluster": 3,
          "country": "Dominican Republic",
          "fertility": 3.05,
          "life_expect": 69.957,
          "pop": 7730224,
          "year": 1995
         },
         {
          "cluster": 3,
          "country": "Dominican Republic",
          "fertility": 2.95,
          "life_expect": 70.847,
          "pop": 8385828,
          "year": 2000
         },
         {
          "cluster": 3,
          "country": "Dominican Republic",
          "fertility": 2.81,
          "life_expect": 72.235,
          "pop": 9049595,
          "year": 2005
         },
         {
          "cluster": 3,
          "country": "Ecuador",
          "fertility": 6.7,
          "life_expect": 51.356,
          "pop": 3842399,
          "year": 1955
         },
         {
          "cluster": 3,
          "country": "Ecuador",
          "fertility": 6.7,
          "life_expect": 54.64,
          "pop": 4415956,
          "year": 1960
         },
         {
          "cluster": 3,
          "country": "Ecuador",
          "fertility": 6.5,
          "life_expect": 56.678,
          "pop": 5117779,
          "year": 1965
         },
         {
          "cluster": 3,
          "country": "Ecuador",
          "fertility": 6.0005,
          "life_expect": 58.796,
          "pop": 5939246,
          "year": 1970
         },
         {
          "cluster": 3,
          "country": "Ecuador",
          "fertility": 5.4005,
          "life_expect": 61.31,
          "pop": 6871698,
          "year": 1975
         },
         {
          "cluster": 3,
          "country": "Ecuador",
          "fertility": 4.7005,
          "life_expect": 64.342,
          "pop": 7920499,
          "year": 1980
         },
         {
          "cluster": 3,
          "country": "Ecuador",
          "fertility": 4,
          "life_expect": 67.231,
          "pop": 9061664,
          "year": 1985
         },
         {
          "cluster": 3,
          "country": "Ecuador",
          "fertility": 3.4005,
          "life_expect": 69.613,
          "pop": 10318036,
          "year": 1990
         },
         {
          "cluster": 3,
          "country": "Ecuador",
          "fertility": 3.1,
          "life_expect": 72.312,
          "pop": 11438004,
          "year": 1995
         },
         {
          "cluster": 3,
          "country": "Ecuador",
          "fertility": 2.8175,
          "life_expect": 74.173,
          "pop": 12505204,
          "year": 2000
         },
         {
          "cluster": 3,
          "country": "Ecuador",
          "fertility": 2.578,
          "life_expect": 74.994,
          "pop": 13363593,
          "year": 2005
         },
         {
          "cluster": 5,
          "country": "Egypt",
          "fertility": 6.97,
          "life_expect": 44.444,
          "pop": 23855527,
          "year": 1955
         },
         {
          "cluster": 5,
          "country": "Egypt",
          "fertility": 7.073,
          "life_expect": 46.992,
          "pop": 26846610,
          "year": 1960
         },
         {
          "cluster": 5,
          "country": "Egypt",
          "fertility": 6.56,
          "life_expect": 49.293,
          "pop": 30265148,
          "year": 1965
         },
         {
          "cluster": 5,
          "country": "Egypt",
          "fertility": 5.855,
          "life_expect": 51.137,
          "pop": 33574026,
          "year": 1970
         },
         {
          "cluster": 5,
          "country": "Egypt",
          "fertility": 5.609,
          "life_expect": 53.319,
          "pop": 36952499,
          "year": 1975
         },
         {
          "cluster": 5,
          "country": "Egypt",
          "fertility": 5.332,
          "life_expect": 56.006,
          "pop": 42634215,
          "year": 1980
         },
         {
          "cluster": 5,
          "country": "Egypt",
          "fertility": 4.833,
          "life_expect": 59.797,
          "pop": 50052381,
          "year": 1985
         },
         {
          "cluster": 5,
          "country": "Egypt",
          "fertility": 3.908,
          "life_expect": 63.674,
          "pop": 56694413,
          "year": 1990
         },
         {
          "cluster": 5,
          "country": "Egypt",
          "fertility": 3.5,
          "life_expect": 67.217,
          "pop": 63321615,
          "year": 1995
         },
         {
          "cluster": 5,
          "country": "Egypt",
          "fertility": 3.174,
          "life_expect": 69.806,
          "pop": 70492342,
          "year": 2000
         },
         {
          "cluster": 5,
          "country": "Egypt",
          "fertility": 2.891,
          "life_expect": 71.338,
          "pop": 77505756,
          "year": 2005
         },
         {
          "cluster": 3,
          "country": "El Salvador",
          "fertility": 6.8065,
          "life_expect": 48.57,
          "pop": 2221139,
          "year": 1955
         },
         {
          "cluster": 3,
          "country": "El Salvador",
          "fertility": 6.847,
          "life_expect": 52.307,
          "pop": 2581583,
          "year": 1960
         },
         {
          "cluster": 3,
          "country": "El Salvador",
          "fertility": 6.621,
          "life_expect": 55.855,
          "pop": 3017852,
          "year": 1965
         },
         {
          "cluster": 3,
          "country": "El Salvador",
          "fertility": 6.0995,
          "life_expect": 58.207,
          "pop": 3603907,
          "year": 1970
         },
         {
          "cluster": 3,
          "country": "El Salvador",
          "fertility": 5.5996,
          "life_expect": 56.696,
          "pop": 4071179,
          "year": 1975
         },
         {
          "cluster": 3,
          "country": "El Salvador",
          "fertility": 4.5,
          "life_expect": 56.604,
          "pop": 4566199,
          "year": 1980
         },
         {
          "cluster": 3,
          "country": "El Salvador",
          "fertility": 3.901,
          "life_expect": 63.154,
          "pop": 4664361,
          "year": 1985
         },
         {
          "cluster": 3,
          "country": "El Salvador",
          "fertility": 3.52,
          "life_expect": 66.798,
          "pop": 5099884,
          "year": 1990
         },
         {
          "cluster": 3,
          "country": "El Salvador",
          "fertility": 3.17,
          "life_expect": 69.535,
          "pop": 5568437,
          "year": 1995
         },
         {
          "cluster": 3,
          "country": "El Salvador",
          "fertility": 2.883,
          "life_expect": 70.734,
          "pop": 6122515,
          "year": 2000
         },
         {
          "cluster": 3,
          "country": "El Salvador",
          "fertility": 2.6825,
          "life_expect": 71.878,
          "pop": 6704932,
          "year": 2005
         },
         {
          "cluster": 1,
          "country": "Finland",
          "fertility": 2.769,
          "life_expect": 67.49,
          "pop": 4234900,
          "year": 1955
         },
         {
          "cluster": 1,
          "country": "Finland",
          "fertility": 2.66,
          "life_expect": 68.75,
          "pop": 4429600,
          "year": 1960
         },
         {
          "cluster": 1,
          "country": "Finland",
          "fertility": 2.191,
          "life_expect": 69.83,
          "pop": 4563732,
          "year": 1965
         },
         {
          "cluster": 1,
          "country": "Finland",
          "fertility": 1.623,
          "life_expect": 70.87,
          "pop": 4606307,
          "year": 1970
         },
         {
          "cluster": 1,
          "country": "Finland",
          "fertility": 1.663,
          "life_expect": 72.52,
          "pop": 4711439,
          "year": 1975
         },
         {
          "cluster": 1,
          "country": "Finland",
          "fertility": 1.685,
          "life_expect": 74.55,
          "pop": 4779535,
          "year": 1980
         },
         {
          "cluster": 1,
          "country": "Finland",
          "fertility": 1.66,
          "life_expect": 74.83,
          "pop": 4901783,
          "year": 1985
         },
         {
          "cluster": 1,
          "country": "Finland",
          "fertility": 1.819,
          "life_expect": 75.7,
          "pop": 4986431,
          "year": 1990
         },
         {
          "cluster": 1,
          "country": "Finland",
          "fertility": 1.743,
          "life_expect": 77.13,
          "pop": 5104654,
          "year": 1995
         },
         {
          "cluster": 1,
          "country": "Finland",
          "fertility": 1.754,
          "life_expect": 78.37,
          "pop": 5168595,
          "year": 2000
         },
         {
          "cluster": 1,
          "country": "Finland",
          "fertility": 1.825,
          "life_expect": 79.313,
          "pop": 5223442,
          "year": 2005
         },
         {
          "cluster": 1,
          "country": "France",
          "fertility": 2.712,
          "life_expect": 68.93,
          "pop": 43427669,
          "year": 1955
         },
         {
          "cluster": 1,
          "country": "France",
          "fertility": 2.85,
          "life_expect": 70.51,
          "pop": 45670000,
          "year": 1960
         },
         {
          "cluster": 1,
          "country": "France",
          "fertility": 2.607,
          "life_expect": 71.55,
          "pop": 48763000,
          "year": 1965
         },
         {
          "cluster": 1,
          "country": "France",
          "fertility": 2.31,
          "life_expect": 72.38,
          "pop": 50787000,
          "year": 1970
         },
         {
          "cluster": 1,
          "country": "France",
          "fertility": 1.862,
          "life_expect": 73.83,
          "pop": 52758427,
          "year": 1975
         },
         {
          "cluster": 1,
          "country": "France",
          "fertility": 1.866,
          "life_expect": 74.89,
          "pop": 53869743,
          "year": 1980
         },
         {
          "cluster": 1,
          "country": "France",
          "fertility": 1.805,
          "life_expect": 76.34,
          "pop": 55171224,
          "year": 1985
         },
         {
          "cluster": 1,
          "country": "France",
          "fertility": 1.713,
          "life_expect": 77.46,
          "pop": 56735161,
          "year": 1990
         },
         {
          "cluster": 1,
          "country": "France",
          "fertility": 1.7624,
          "life_expect": 78.64,
          "pop": 58149727,
          "year": 1995
         },
         {
          "cluster": 1,
          "country": "France",
          "fertility": 1.8833,
          "life_expect": 79.59,
          "pop": 59381628,
          "year": 2000
         },
         {
          "cluster": 1,
          "country": "France",
          "fertility": 1.8916,
          "life_expect": 80.657,
          "pop": 60656178,
          "year": 2005
         },
         {
          "cluster": 1,
          "country": "Georgia",
          "fertility": 2.909,
          "life_expect": 62.625,
          "pop": 3827154,
          "year": 1955
         },
         {
          "cluster": 1,
          "country": "Georgia",
          "fertility": 2.979,
          "life_expect": 64.644,
          "pop": 4146570,
          "year": 1960
         },
         {
          "cluster": 1,
          "country": "Georgia",
          "fertility": 2.611,
          "life_expect": 66.654,
          "pop": 4464959,
          "year": 1965
         },
         {
          "cluster": 1,
          "country": "Georgia",
          "fertility": 2.601,
          "life_expect": 68.158,
          "pop": 4694491,
          "year": 1970
         },
         {
          "cluster": 1,
          "country": "Georgia",
          "fertility": 2.39,
          "life_expect": 69.634,
          "pop": 4897656,
          "year": 1975
         },
         {
          "cluster": 1,
          "country": "Georgia",
          "fertility": 2.269,
          "life_expect": 69.638,
          "pop": 5045697,
          "year": 1980
         },
         {
          "cluster": 1,
          "country": "Georgia",
          "fertility": 2.263,
          "life_expect": 70.45,
          "pop": 5192957,
          "year": 1985
         },
         {
          "cluster": 1,
          "country": "Georgia",
          "fertility": 1.95,
          "life_expect": 70.465,
          "pop": 5426207,
          "year": 1990
         },
         {
          "cluster": 1,
          "country": "Georgia",
          "fertility": 1.58,
          "life_expect": 70.49,
          "pop": 5012952,
          "year": 1995
         },
         {
          "cluster": 1,
          "country": "Georgia",
          "fertility": 1.478,
          "life_expect": 70.476,
          "pop": 4777209,
          "year": 2000
         },
         {
          "cluster": 1,
          "country": "Georgia",
          "fertility": 1.407,
          "life_expect": 70.987,
          "pop": 4677401,
          "year": 2005
         },
         {
          "cluster": 1,
          "country": "Germany",
          "fertility": 2.3,
          "life_expect": 69.1,
          "pop": 70195612,
          "year": 1955
         },
         {
          "cluster": 1,
          "country": "Germany",
          "fertility": 2.49,
          "life_expect": 70.3,
          "pop": 72480869,
          "year": 1960
         },
         {
          "cluster": 1,
          "country": "Germany",
          "fertility": 2.32,
          "life_expect": 70.8,
          "pop": 75638851,
          "year": 1965
         },
         {
          "cluster": 1,
          "country": "Germany",
          "fertility": 1.64,
          "life_expect": 71,
          "pop": 77783164,
          "year": 1970
         },
         {
          "cluster": 1,
          "country": "Germany",
          "fertility": 1.52,
          "life_expect": 72.5,
          "pop": 78682325,
          "year": 1975
         },
         {
          "cluster": 1,
          "country": "Germany",
          "fertility": 1.46,
          "life_expect": 73.8,
          "pop": 78297904,
          "year": 1980
         },
         {
          "cluster": 1,
          "country": "Germany",
          "fertility": 1.43,
          "life_expect": 74.847,
          "pop": 77684907,
          "year": 1985
         },
         {
          "cluster": 1,
          "country": "Germany",
          "fertility": 1.31,
          "life_expect": 76.07,
          "pop": 79380394,
          "year": 1990
         },
         {
          "cluster": 1,
          "country": "Germany",
          "fertility": 1.34,
          "life_expect": 77.34,
          "pop": 81653702,
          "year": 1995
         },
         {
          "cluster": 1,
          "country": "Germany",
          "fertility": 1.346,
          "life_expect": 78.67,
          "pop": 82187909,
          "year": 2000
         },
         {
          "cluster": 1,
          "country": "Germany",
          "fertility": 1.36,
          "life_expect": 79.406,
          "pop": 82431390,
          "year": 2005
         },
         {
          "cluster": 1,
          "country": "Greece",
          "fertility": 2.27,
          "life_expect": 67.86,
          "pop": 7965538,
          "year": 1955
         },
         {
          "cluster": 1,
          "country": "Greece",
          "fertility": 2.2,
          "life_expect": 69.51,
          "pop": 8327405,
          "year": 1960
         },
         {
          "cluster": 1,
          "country": "Greece",
          "fertility": 2.38,
          "life_expect": 71,
          "pop": 8550333,
          "year": 1965
         },
         {
          "cluster": 1,
          "country": "Greece",
          "fertility": 2.32,
          "life_expect": 72.34,
          "pop": 8792806,
          "year": 1970
         },
         {
          "cluster": 1,
          "country": "Greece",
          "fertility": 2.32,
          "life_expect": 73.68,
          "pop": 9046542,
          "year": 1975
         },
         {
          "cluster": 1,
          "country": "Greece",
          "fertility": 1.96,
          "life_expect": 75.24,
          "pop": 9642505,
          "year": 1980
         },
         {
          "cluster": 1,
          "country": "Greece",
          "fertility": 1.53,
          "life_expect": 76.67,
          "pop": 9923253,
          "year": 1985
         },
         {
          "cluster": 1,
          "country": "Greece",
          "fertility": 1.37,
          "life_expect": 77.03,
          "pop": 10129603,
          "year": 1990
         },
         {
          "cluster": 1,
          "country": "Greece",
          "fertility": 1.296,
          "life_expect": 77.869,
          "pop": 10457554,
          "year": 1995
         },
         {
          "cluster": 1,
          "country": "Greece",
          "fertility": 1.277,
          "life_expect": 78.256,
          "pop": 10559110,
          "year": 2000
         },
         {
          "cluster": 1,
          "country": "Greece",
          "fertility": 1.325,
          "life_expect": 79.483,
          "pop": 10668354,
          "year": 2005
         },
         {
          "cluster": 3,
          "country": "Grenada",
          "fertility": 6.7,
          "life_expect": 63.114,
          "pop": 84621,
          "year": 1955
         },
         {
          "cluster": 3,
          "country": "Grenada",
          "fertility": 6.4,
          "life_expect": 63.608,
          "pop": 90148,
          "year": 1960
         },
         {
          "cluster": 3,
          "country": "Grenada",
          "fertility": 4.8,
          "life_expect": 64.091,
          "pop": 93290,
          "year": 1965
         },
         {
          "cluster": 3,
          "country": "Grenada",
          "fertility": 4.6,
          "life_expect": 64.577,
          "pop": 95410,
          "year": 1970
         },
         {
          "cluster": 3,
          "country": "Grenada",
          "fertility": 4.3,
          "life_expect": 65.035,
          "pop": 95819,
          "year": 1975
         },
         {
          "cluster": 3,
          "country": "Grenada",
          "fertility": 4.23,
          "life_expect": 65.503,
          "pop": 90164,
          "year": 1980
         },
         {
          "cluster": 3,
          "country": "Grenada",
          "fertility": 4.14,
          "life_expect": 66.002,
          "pop": 92203,
          "year": 1985
         },
         {
          "cluster": 3,
          "country": "Grenada",
          "fertility": 3.26,
          "life_expect": 66.469,
          "pop": 92360,
          "year": 1990
         },
         {
          "cluster": 3,
          "country": "Grenada",
          "fertility": 2.814,
          "life_expect": 66.986,
          "pop": 90603,
          "year": 1995
         },
         {
          "cluster": 3,
          "country": "Grenada",
          "fertility": 2.429,
          "life_expect": 67.746,
          "pop": 89312,
          "year": 2000
         },
         {
          "cluster": 3,
          "country": "Grenada",
          "fertility": 2.302,
          "life_expect": 68.724,
          "pop": 89502,
          "year": 2005
         },
         {
          "cluster": 3,
          "country": "Haiti",
          "fertility": 6.3,
          "life_expect": 40.696,
          "pop": 3376419,
          "year": 1955
         },
         {
          "cluster": 3,
          "country": "Haiti",
          "fertility": 6.3,
          "life_expect": 43.59,
          "pop": 3722743,
          "year": 1960
         },
         {
          "cluster": 3,
          "country": "Haiti",
          "fertility": 6,
          "life_expect": 46.243,
          "pop": 4137405,
          "year": 1965
         },
         {
          "cluster": 3,
          "country": "Haiti",
          "fertility": 5.6005,
          "life_expect": 48.042,
          "pop": 4604915,
          "year": 1970
         },
         {
          "cluster": 3,
          "country": "Haiti",
          "fertility": 5.8,
          "life_expect": 49.923,
          "pop": 4828338,
          "year": 1975
         },
         {
          "cluster": 3,
          "country": "Haiti",
          "fertility": 6.2099,
          "life_expect": 51.461,
          "pop": 5029725,
          "year": 1980
         },
         {
          "cluster": 3,
          "country": "Haiti",
          "fertility": 5.69985,
          "life_expect": 53.636,
          "pop": 5517977,
          "year": 1985
         },
         {
          "cluster": 3,
          "country": "Haiti",
          "fertility": 5.14985,
          "life_expect": 55.089,
          "pop": 6126101,
          "year": 1990
         },
         {
          "cluster": 3,
          "country": "Haiti",
          "fertility": 4.61995,
          "life_expect": 56.671,
          "pop": 6675578,
          "year": 1995
         },
         {
          "cluster": 3,
          "country": "Haiti",
          "fertility": 4,
          "life_expect": 58.137,
          "pop": 7306302,
          "year": 2000
         },
         {
          "cluster": 3,
          "country": "Haiti",
          "fertility": 3.5445,
          "life_expect": 60.916,
          "pop": 8121622,
          "year": 2005
         },
         {
          "cluster": 4,
          "country": "Hong Kong",
          "fertility": 4.72,
          "life_expect": 64.75,
          "pop": 2490400,
          "year": 1955
         },
         {
          "cluster": 4,
          "country": "Hong Kong",
          "fertility": 5.31,
          "life_expect": 67.65,
          "pop": 3075300,
          "year": 1960
         },
         {
          "cluster": 4,
          "country": "Hong Kong",
          "fertility": 4.02,
          "life_expect": 70,
          "pop": 3597900,
          "year": 1965
         },
         {
          "cluster": 4,
          "country": "Hong Kong",
          "fertility": 2.89,
          "life_expect": 72,
          "pop": 3959000,
          "year": 1970
         },
         {
          "cluster": 4,
          "country": "Hong Kong",
          "fertility": 2.32,
          "life_expect": 73.6,
          "pop": 4395800,
          "year": 1975
         },
         {
          "cluster": 4,
          "country": "Hong Kong",
          "fertility": 1.8,
          "life_expect": 75.45,
          "pop": 5063100,
          "year": 1980
         },
         {
          "cluster": 4,
          "country": "Hong Kong",
          "fertility": 1.31,
          "life_expect": 76.2,
          "pop": 5456200,
          "year": 1985
         },
         {
          "cluster": 4,
          "country": "Hong Kong",
          "fertility": 1.288,
          "life_expect": 77.601,
          "pop": 5687959,
          "year": 1990
         },
         {
          "cluster": 4,
          "country": "Hong Kong",
          "fertility": 1.08,
          "life_expect": 80,
          "pop": 6225347,
          "year": 1995
         },
         {
          "cluster": 4,
          "country": "Hong Kong",
          "fertility": 0.94,
          "life_expect": 81.495,
          "pop": 6658720,
          "year": 2000
         },
         {
          "cluster": 4,
          "country": "Hong Kong",
          "fertility": 0.966,
          "life_expect": 82.208,
          "pop": 6898686,
          "year": 2005
         },
         {
          "cluster": 1,
          "country": "Iceland",
          "fertility": 4.023,
          "life_expect": 73.47,
          "pop": 158044,
          "year": 1955
         },
         {
          "cluster": 1,
          "country": "Iceland",
          "fertility": 3.943,
          "life_expect": 73.68,
          "pop": 175860,
          "year": 1960
         },
         {
          "cluster": 1,
          "country": "Iceland",
          "fertility": 3.154,
          "life_expect": 73.73,
          "pop": 192288,
          "year": 1965
         },
         {
          "cluster": 1,
          "country": "Iceland",
          "fertility": 2.843,
          "life_expect": 74.46,
          "pop": 204104,
          "year": 1970
         },
         {
          "cluster": 1,
          "country": "Iceland",
          "fertility": 2.287,
          "life_expect": 76.11,
          "pop": 218031,
          "year": 1975
         },
         {
          "cluster": 1,
          "country": "Iceland",
          "fertility": 2.248,
          "life_expect": 76.99,
          "pop": 228161,
          "year": 1980
         },
         {
          "cluster": 1,
          "country": "Iceland",
          "fertility": 2.116,
          "life_expect": 77.23,
          "pop": 241403,
          "year": 1985
         },
         {
          "cluster": 1,
          "country": "Iceland",
          "fertility": 2.194,
          "life_expect": 78.77,
          "pop": 254719,
          "year": 1990
         },
         {
          "cluster": 1,
          "country": "Iceland",
          "fertility": 2.056,
          "life_expect": 78.95,
          "pop": 267527,
          "year": 1995
         },
         {
          "cluster": 1,
          "country": "Iceland",
          "fertility": 1.993,
          "life_expect": 80.5,
          "pop": 281043,
          "year": 2000
         },
         {
          "cluster": 1,
          "country": "Iceland",
          "fertility": 2.052,
          "life_expect": 81.757,
          "pop": 296737,
          "year": 2005
         },
         {
          "cluster": 0,
          "country": "India",
          "fertility": 5.8961,
          "life_expect": 40.249,
          "pop": 393000000,
          "year": 1955
         },
         {
          "cluster": 0,
          "country": "India",
          "fertility": 5.8216,
          "life_expect": 43.605,
          "pop": 434000000,
          "year": 1960
         },
         {
          "cluster": 0,
          "country": "India",
          "fertility": 5.6058,
          "life_expect": 47.193,
          "pop": 485000000,
          "year": 1965
         },
         {
          "cluster": 0,
          "country": "India",
          "fertility": 5.264,
          "life_expect": 50.651,
          "pop": 541000000,
          "year": 1970
         },
         {
          "cluster": 0,
          "country": "India",
          "fertility": 4.8888,
          "life_expect": 54.208,
          "pop": 607000000,
          "year": 1975
         },
         {
          "cluster": 0,
          "country": "India",
          "fertility": 4.4975,
          "life_expect": 56.596,
          "pop": 679000000,
          "year": 1980
         },
         {
          "cluster": 0,
          "country": "India",
          "fertility": 4.15,
          "life_expect": 58.553,
          "pop": 755000000,
          "year": 1985
         },
         {
          "cluster": 0,
          "country": "India",
          "fertility": 3.8648,
          "life_expect": 60.223,
          "pop": 839000000,
          "year": 1990
         },
         {
          "cluster": 0,
          "country": "India",
          "fertility": 3.4551,
          "life_expect": 61.765,
          "pop": 927000000,
          "year": 1995
         },
         {
          "cluster": 0,
          "country": "India",
          "fertility": 3.1132,
          "life_expect": 62.879,
          "pop": 1007702000,
          "year": 2000
         },
         {
          "cluster": 0,
          "country": "India",
          "fertility": 2.8073,
          "life_expect": 64.698,
          "pop": 1080264388,
          "year": 2005
         },
         {
          "cluster": 4,
          "country": "Indonesia",
          "fertility": 5.672,
          "life_expect": 39.918,
          "pop": 86807000,
          "year": 1955
         },
         {
          "cluster": 4,
          "country": "Indonesia",
          "fertility": 5.62,
          "life_expect": 42.518,
          "pop": 95254000,
          "year": 1960
         },
         {
          "cluster": 4,
          "country": "Indonesia",
          "fertility": 5.568,
          "life_expect": 45.964,
          "pop": 105093000,
          "year": 1965
         },
         {
          "cluster": 4,
          "country": "Indonesia",
          "fertility": 5.3,
          "life_expect": 49.203,
          "pop": 116044000,
          "year": 1970
         },
         {
          "cluster": 4,
          "country": "Indonesia",
          "fertility": 4.73,
          "life_expect": 52.702,
          "pop": 130297000,
          "year": 1975
         },
         {
          "cluster": 4,
          "country": "Indonesia",
          "fertility": 4.109,
          "life_expect": 56.159,
          "pop": 146995000,
          "year": 1980
         },
         {
          "cluster": 4,
          "country": "Indonesia",
          "fertility": 3.4,
          "life_expect": 60.137,
          "pop": 163403000,
          "year": 1985
         },
         {
          "cluster": 4,
          "country": "Indonesia",
          "fertility": 2.9,
          "life_expect": 62.681,
          "pop": 178500000,
          "year": 1990
         },
         {
          "cluster": 4,
          "country": "Indonesia",
          "fertility": 2.55,
          "life_expect": 66.041,
          "pop": 194755000,
          "year": 1995
         },
         {
          "cluster": 4,
          "country": "Indonesia",
          "fertility": 2.3761,
          "life_expect": 68.588,
          "pop": 206265000,
          "year": 2000
         },
         {
          "cluster": 4,
          "country": "Indonesia",
          "fertility": 2.182,
          "life_expect": 70.65,
          "pop": 218465000,
          "year": 2005
         },
         {
          "cluster": 5,
          "country": "Iran",
          "fertility": 7,
          "life_expect": 47.181,
          "pop": 18729000,
          "year": 1955
         },
         {
          "cluster": 5,
          "country": "Iran",
          "fertility": 7,
          "life_expect": 49.325,
          "pop": 21577000,
          "year": 1960
         },
         {
          "cluster": 5,
          "country": "Iran",
          "fertility": 6.8,
          "life_expect": 52.469,
          "pop": 25000000,
          "year": 1965
         },
         {
          "cluster": 5,
          "country": "Iran",
          "fertility": 6.4,
          "life_expect": 55.234,
          "pop": 28933000,
          "year": 1970
         },
         {
          "cluster": 5,
          "country": "Iran",
          "fertility": 6.5,
          "life_expect": 57.702,
          "pop": 33379000,
          "year": 1975
         },
         {
          "cluster": 5,
          "country": "Iran",
          "fertility": 6.63,
          "life_expect": 59.62,
          "pop": 39583397,
          "year": 1980
         },
         {
          "cluster": 5,
          "country": "Iran",
          "fertility": 5.62,
          "life_expect": 63.04,
          "pop": 48439952,
          "year": 1985
         },
         {
          "cluster": 5,
          "country": "Iran",
          "fertility": 4.328,
          "life_expect": 65.742,
          "pop": 57035717,
          "year": 1990
         },
         {
          "cluster": 5,
          "country": "Iran",
          "fertility": 2.534,
          "life_expect": 68.042,
          "pop": 61628116,
          "year": 1995
         },
         {
          "cluster": 5,
          "country": "Iran",
          "fertility": 2.124,
          "life_expect": 69.451,
          "pop": 65660289,
          "year": 2000
         },
         {
          "cluster": 5,
          "country": "Iran",
          "fertility": 2.04,
          "life_expect": 70.964,
          "pop": 68017860,
          "year": 2005
         },
         {
          "cluster": 5,
          "country": "Iraq",
          "fertility": 7.3,
          "life_expect": 48.437,
          "pop": 5903253,
          "year": 1955
         },
         {
          "cluster": 5,
          "country": "Iraq",
          "fertility": 7.25,
          "life_expect": 51.457,
          "pop": 6822030,
          "year": 1960
         },
         {
          "cluster": 5,
          "country": "Iraq",
          "fertility": 7.2,
          "life_expect": 54.459,
          "pop": 7970746,
          "year": 1965
         },
         {
          "cluster": 5,
          "country": "Iraq",
          "fertility": 7.15,
          "life_expect": 56.95,
          "pop": 9413671,
          "year": 1970
         },
         {
          "cluster": 5,
          "country": "Iraq",
          "fertility": 6.8,
          "life_expect": 60.413,
          "pop": 11117804,
          "year": 1975
         },
         {
          "cluster": 5,
          "country": "Iraq",
          "fertility": 6.35,
          "life_expect": 62.038,
          "pop": 13232839,
          "year": 1980
         },
         {
          "cluster": 5,
          "country": "Iraq",
          "fertility": 6.15,
          "life_expect": 65.044,
          "pop": 15693620,
          "year": 1985
         },
         {
          "cluster": 5,
          "country": "Iraq",
          "fertility": 5.7,
          "life_expect": 59.461,
          "pop": 18134702,
          "year": 1990
         },
         {
          "cluster": 5,
          "country": "Iraq",
          "fertility": 5.37,
          "life_expect": 58.811,
          "pop": 19557247,
          "year": 1995
         },
         {
          "cluster": 5,
          "country": "Iraq",
          "fertility": 4.858,
          "life_expect": 57.046,
          "pop": 22675617,
          "year": 2000
         },
         {
          "cluster": 5,
          "country": "Iraq",
          "fertility": 4.264,
          "life_expect": 59.545,
          "pop": 26074906,
          "year": 2005
         },
         {
          "cluster": 1,
          "country": "Ireland",
          "fertility": 3.68,
          "life_expect": 68.9,
          "pop": 2916133,
          "year": 1955
         },
         {
          "cluster": 1,
          "country": "Ireland",
          "fertility": 3.979,
          "life_expect": 70.29,
          "pop": 2832000,
          "year": 1960
         },
         {
          "cluster": 1,
          "country": "Ireland",
          "fertility": 3.873,
          "life_expect": 71.08,
          "pop": 2876000,
          "year": 1965
         },
         {
          "cluster": 1,
          "country": "Ireland",
          "fertility": 3.815,
          "life_expect": 71.28,
          "pop": 2950100,
          "year": 1970
         },
         {
          "cluster": 1,
          "country": "Ireland",
          "fertility": 3.478,
          "life_expect": 72.03,
          "pop": 3177300,
          "year": 1975
         },
         {
          "cluster": 1,
          "country": "Ireland",
          "fertility": 2.877,
          "life_expect": 73.1,
          "pop": 3401000,
          "year": 1980
         },
         {
          "cluster": 1,
          "country": "Ireland",
          "fertility": 2.287,
          "life_expect": 74.36,
          "pop": 3540000,
          "year": 1985
         },
         {
          "cluster": 1,
          "country": "Ireland",
          "fertility": 1.969,
          "life_expect": 75.467,
          "pop": 3508200,
          "year": 1990
         },
         {
          "cluster": 1,
          "country": "Ireland",
          "fertility": 1.9,
          "life_expect": 76.122,
          "pop": 3613890,
          "year": 1995
         },
         {
          "cluster": 1,
          "country": "Ireland",
          "fertility": 1.969,
          "life_expect": 77.783,
          "pop": 3791690,
          "year": 2000
         },
         {
          "cluster": 1,
          "country": "Ireland",
          "fertility": 1.964,
          "life_expect": 78.885,
          "pop": 4015676,
          "year": 2005
         },
         {
          "cluster": 5,
          "country": "Israel",
          "fertility": 3.893,
          "life_expect": 67.84,
          "pop": 1772032,
          "year": 1955
         },
         {
          "cluster": 5,
          "country": "Israel",
          "fertility": 3.852,
          "life_expect": 69.39,
          "pop": 2141495,
          "year": 1960
         },
         {
          "cluster": 5,
          "country": "Israel",
          "fertility": 3.79,
          "life_expect": 70.75,
          "pop": 2578184,
          "year": 1965
         },
         {
          "cluster": 5,
          "country": "Israel",
          "fertility": 3.77,
          "life_expect": 71.63,
          "pop": 2903434,
          "year": 1970
         },
         {
          "cluster": 5,
          "country": "Israel",
          "fertility": 3.409,
          "life_expect": 73.06,
          "pop": 3354242,
          "year": 1975
         },
         {
          "cluster": 5,
          "country": "Israel",
          "fertility": 3.125,
          "life_expect": 74.45,
          "pop": 3737473,
          "year": 1980
         },
         {
          "cluster": 5,
          "country": "Israel",
          "fertility": 3.051,
          "life_expect": 75.6,
          "pop": 4074965,
          "year": 1985
         },
         {
          "cluster": 5,
          "country": "Israel",
          "fertility": 2.933,
          "life_expect": 76.93,
          "pop": 4512068,
          "year": 1990
         },
         {
          "cluster": 5,
          "country": "Israel",
          "fertility": 2.942,
          "life_expect": 78.269,
          "pop": 5305120,
          "year": 1995
         },
         {
          "cluster": 5,
          "country": "Israel",
          "fertility": 2.906,
          "life_expect": 79.696,
          "pop": 5842454,
          "year": 2000
         },
         {
          "cluster": 5,
          "country": "Israel",
          "fertility": 2.75,
          "life_expect": 80.745,
          "pop": 6276883,
          "year": 2005
         },
         {
          "cluster": 1,
          "country": "Italy",
          "fertility": 2.35,
          "life_expect": 67.81,
          "pop": 48633000,
          "year": 1955
         },
         {
          "cluster": 1,
          "country": "Italy",
          "fertility": 2.498,
          "life_expect": 69.24,
          "pop": 50197600,
          "year": 1960
         },
         {
          "cluster": 1,
          "country": "Italy",
          "fertility": 2.493,
          "life_expect": 71.06,
          "pop": 51987100,
          "year": 1965
         },
         {
          "cluster": 1,
          "country": "Italy",
          "fertility": 2.325,
          "life_expect": 72.19,
          "pop": 53661100,
          "year": 1970
         },
         {
          "cluster": 1,
          "country": "Italy",
          "fertility": 1.889,
          "life_expect": 73.48,
          "pop": 55571894,
          "year": 1975
         },
         {
          "cluster": 1,
          "country": "Italy",
          "fertility": 1.53,
          "life_expect": 74.98,
          "pop": 56451247,
          "year": 1980
         },
         {
          "cluster": 1,
          "country": "Italy",
          "fertility": 1.349,
          "life_expect": 76.42,
          "pop": 56731215,
          "year": 1985
         },
         {
          "cluster": 1,
          "country": "Italy",
          "fertility": 1.275,
          "life_expect": 77.44,
          "pop": 56742886,
          "year": 1990
         },
         {
          "cluster": 1,
          "country": "Italy",
          "fertility": 1.213,
          "life_expect": 78.82,
          "pop": 57274531,
          "year": 1995
         },
         {
          "cluster": 1,
          "country": "Italy",
          "fertility": 1.286,
          "life_expect": 80.24,
          "pop": 57719337,
          "year": 2000
         },
         {
          "cluster": 1,
          "country": "Italy",
          "fertility": 1.379,
          "life_expect": 80.546,
          "pop": 58103033,
          "year": 2005
         },
         {
          "cluster": 3,
          "country": "Jamaica",
          "fertility": 5.08,
          "life_expect": 62.61,
          "pop": 1488805,
          "year": 1955
         },
         {
          "cluster": 3,
          "country": "Jamaica",
          "fertility": 5.64,
          "life_expect": 65.61,
          "pop": 1631784,
          "year": 1960
         },
         {
          "cluster": 3,
          "country": "Jamaica",
          "fertility": 5.78,
          "life_expect": 67.51,
          "pop": 1777397,
          "year": 1965
         },
         {
          "cluster": 3,
          "country": "Jamaica",
          "fertility": 5,
          "life_expect": 69,
          "pop": 1943787,
          "year": 1970
         },
         {
          "cluster": 3,
          "country": "Jamaica",
          "fertility": 4,
          "life_expect": 70.11,
          "pop": 2104879,
          "year": 1975
         },
         {
          "cluster": 3,
          "country": "Jamaica",
          "fertility": 3.55,
          "life_expect": 71.21,
          "pop": 2228803,
          "year": 1980
         },
         {
          "cluster": 3,
          "country": "Jamaica",
          "fertility": 3.1,
          "life_expect": 71.77,
          "pop": 2318652,
          "year": 1985
         },
         {
          "cluster": 3,
          "country": "Jamaica",
          "fertility": 2.84,
          "life_expect": 71.766,
          "pop": 2347922,
          "year": 1990
         },
         {
          "cluster": 3,
          "country": "Jamaica",
          "fertility": 2.67,
          "life_expect": 72.262,
          "pop": 2469389,
          "year": 1995
         },
         {
          "cluster": 3,
          "country": "Jamaica",
          "fertility": 2.628,
          "life_expect": 72.047,
          "pop": 2615467,
          "year": 2000
         },
         {
          "cluster": 3,
          "country": "Jamaica",
          "fertility": 2.4289,
          "life_expect": 72.567,
          "pop": 2735520,
          "year": 2005
         },
         {
          "cluster": 4,
          "country": "Japan",
          "fertility": 2.08,
          "life_expect": 65.5,
          "pop": 89815060,
          "year": 1955
         },
         {
          "cluster": 4,
          "country": "Japan",
          "fertility": 2.02,
          "life_expect": 68.73,
          "pop": 94091638,
          "year": 1960
         },
         {
          "cluster": 4,
          "country": "Japan",
          "fertility": 2,
          "life_expect": 71.43,
          "pop": 98882534,
          "year": 1965
         },
         {
          "cluster": 4,
          "country": "Japan",
          "fertility": 2.07,
          "life_expect": 73.42,
          "pop": 104344973,
          "year": 1970
         },
         {
          "cluster": 4,
          "country": "Japan",
          "fertility": 1.81,
          "life_expect": 75.38,
          "pop": 111573116,
          "year": 1975
         },
         {
          "cluster": 4,
          "country": "Japan",
          "fertility": 1.76,
          "life_expect": 77.11,
          "pop": 116807309,
          "year": 1980
         },
         {
          "cluster": 4,
          "country": "Japan",
          "fertility": 1.66,
          "life_expect": 78.67,
          "pop": 120754335,
          "year": 1985
         },
         {
          "cluster": 4,
          "country": "Japan",
          "fertility": 1.49,
          "life_expect": 79.36,
          "pop": 123537399,
          "year": 1990
         },
         {
          "cluster": 4,
          "country": "Japan",
          "fertility": 1.39,
          "life_expect": 80.69,
          "pop": 125341354,
          "year": 1995
         },
         {
          "cluster": 4,
          "country": "Japan",
          "fertility": 1.291,
          "life_expect": 82,
          "pop": 126699784,
          "year": 2000
         },
         {
          "cluster": 4,
          "country": "Japan",
          "fertility": 1.27,
          "life_expect": 82.603,
          "pop": 127417244,
          "year": 2005
         },
         {
          "cluster": 2,
          "country": "Kenya",
          "fertility": 7.816,
          "life_expect": 44.686,
          "pop": 7033999,
          "year": 1955
         },
         {
          "cluster": 2,
          "country": "Kenya",
          "fertility": 8.12,
          "life_expect": 47.949,
          "pop": 8156827,
          "year": 1960
         },
         {
          "cluster": 2,
          "country": "Kenya",
          "fertility": 8.12,
          "life_expect": 50.654,
          "pop": 9549179,
          "year": 1965
         },
         {
          "cluster": 2,
          "country": "Kenya",
          "fertility": 8,
          "life_expect": 53.559,
          "pop": 11247182,
          "year": 1970
         },
         {
          "cluster": 2,
          "country": "Kenya",
          "fertility": 7.6,
          "life_expect": 56.155,
          "pop": 13433414,
          "year": 1975
         },
         {
          "cluster": 2,
          "country": "Kenya",
          "fertility": 7.2,
          "life_expect": 58.766,
          "pop": 16331401,
          "year": 1980
         },
         {
          "cluster": 2,
          "country": "Kenya",
          "fertility": 6.5,
          "life_expect": 59.339,
          "pop": 19763285,
          "year": 1985
         },
         {
          "cluster": 2,
          "country": "Kenya",
          "fertility": 5.4,
          "life_expect": 59.285,
          "pop": 23358413,
          "year": 1990
         },
         {
          "cluster": 2,
          "country": "Kenya",
          "fertility": 5,
          "life_expect": 54.407,
          "pop": 27060142,
          "year": 1995
         },
         {
          "cluster": 2,
          "country": "Kenya",
          "fertility": 5,
          "life_expect": 50.992,
          "pop": 29985839,
          "year": 2000
         },
         {
          "cluster": 2,
          "country": "Kenya",
          "fertility": 4.959,
          "life_expect": 54.11,
          "pop": 33829590,
          "year": 2005
         },
         {
          "cluster": 4,
          "country": "South Korea",
          "fertility": 3.8,
          "life_expect": 54.081,
          "pop": 8839427,
          "year": 1955
         },
         {
          "cluster": 4,
          "country": "South Korea",
          "fertility": 3.41,
          "life_expect": 56.656,
          "pop": 10391909,
          "year": 1960
         },
         {
          "cluster": 4,
          "country": "South Korea",
          "fertility": 4.09,
          "life_expect": 59.942,
          "pop": 11868751,
          "year": 1965
         },
         {
          "cluster": 4,
          "country": "South Korea",
          "fertility": 3.72,
          "life_expect": 63.983,
          "pop": 13911902,
          "year": 1970
         },
         {
          "cluster": 4,
          "country": "South Korea",
          "fertility": 2.58,
          "life_expect": 67.159,
          "pop": 15801308,
          "year": 1975
         },
         {
          "cluster": 4,
          "country": "South Korea",
          "fertility": 2.93,
          "life_expect": 69.1,
          "pop": 17113626,
          "year": 1980
         },
         {
          "cluster": 4,
          "country": "South Korea",
          "fertility": 2.45,
          "life_expect": 70.647,
          "pop": 18481420,
          "year": 1985
         },
         {
          "cluster": 4,
          "country": "South Korea",
          "fertility": 2.35,
          "life_expect": 69.978,
          "pop": 20018546,
          "year": 1990
         },
         {
          "cluster": 4,
          "country": "South Korea",
          "fertility": 2.0938,
          "life_expect": 67.727,
          "pop": 21561856,
          "year": 1995
         },
         {
          "cluster": 4,
          "country": "South Korea",
          "fertility": 1.9173,
          "life_expect": 66.662,
          "pop": 21647682,
          "year": 2000
         },
         {
          "cluster": 4,
          "country": "South Korea",
          "fertility": 1.85,
          "life_expect": 67.297,
          "pop": 22912177,
          "year": 2005
         },
         {
          "cluster": 4,
          "country": "North Korea",
          "fertility": 6.332,
          "life_expect": 52.681,
          "pop": 21551834,
          "year": 1955
         },
         {
          "cluster": 4,
          "country": "North Korea",
          "fertility": 5.63,
          "life_expect": 55.292,
          "pop": 24784140,
          "year": 1960
         },
         {
          "cluster": 4,
          "country": "North Korea",
          "fertility": 4.708,
          "life_expect": 57.716,
          "pop": 28705000,
          "year": 1965
         },
         {
          "cluster": 4,
          "country": "North Korea",
          "fertility": 4.281,
          "life_expect": 62.612,
          "pop": 32241000,
          "year": 1970
         },
         {
          "cluster": 4,
          "country": "North Korea",
          "fertility": 2.919,
          "life_expect": 64.766,
          "pop": 35281000,
          "year": 1975
         },
         {
          "cluster": 4,
          "country": "North Korea",
          "fertility": 2.234,
          "life_expect": 67.123,
          "pop": 38124000,
          "year": 1980
         },
         {
          "cluster": 4,
          "country": "North Korea",
          "fertility": 1.601,
          "life_expect": 69.81,
          "pop": 40806000,
          "year": 1985
         },
         {
          "cluster": 4,
          "country": "North Korea",
          "fertility": 1.696,
          "life_expect": 72.244,
          "pop": 42869000,
          "year": 1990
         },
         {
          "cluster": 4,
          "country": "North Korea",
          "fertility": 1.514,
          "life_expect": 74.647,
          "pop": 45264146,
          "year": 1995
         },
         {
          "cluster": 4,
          "country": "North Korea",
          "fertility": 1.242,
          "life_expect": 77.045,
          "pop": 47351083,
          "year": 2000
         },
         {
          "cluster": 4,
          "country": "North Korea",
          "fertility": 1.21,
          "life_expect": 78.623,
          "pop": 48640671,
          "year": 2005
         },
         {
          "cluster": 5,
          "country": "Lebanon",
          "fertility": 5.72,
          "life_expect": 59.489,
          "pop": 1560985,
          "year": 1955
         },
         {
          "cluster": 5,
          "country": "Lebanon",
          "fertility": 5.689,
          "life_expect": 62.094,
          "pop": 1786235,
          "year": 1960
         },
         {
          "cluster": 5,
          "country": "Lebanon",
          "fertility": 5.336,
          "life_expect": 63.87,
          "pop": 2057945,
          "year": 1965
         },
         {
          "cluster": 5,
          "country": "Lebanon",
          "fertility": 4.78,
          "life_expect": 65.421,
          "pop": 2383029,
          "year": 1970
         },
         {
          "cluster": 5,
          "country": "Lebanon",
          "fertility": 4.311,
          "life_expect": 66.099,
          "pop": 3098159,
          "year": 1975
         },
         {
          "cluster": 5,
          "country": "Lebanon",
          "fertility": 3.895,
          "life_expect": 66.983,
          "pop": 3085876,
          "year": 1980
         },
         {
          "cluster": 5,
          "country": "Lebanon",
          "fertility": 3.313,
          "life_expect": 67.926,
          "pop": 3088235,
          "year": 1985
         },
         {
          "cluster": 5,
          "country": "Lebanon",
          "fertility": 3,
          "life_expect": 69.292,
          "pop": 3147267,
          "year": 1990
         },
         {
          "cluster": 5,
          "country": "Lebanon",
          "fertility": 2.695,
          "life_expect": 70.265,
          "pop": 3334733,
          "year": 1995
         },
         {
          "cluster": 5,
          "country": "Lebanon",
          "fertility": 2.319,
          "life_expect": 71.028,
          "pop": 3578036,
          "year": 2000
         },
         {
          "cluster": 5,
          "country": "Lebanon",
          "fertility": 2.209,
          "life_expect": 71.993,
          "pop": 3826018,
          "year": 2005
         },
         {
          "cluster": 3,
          "country": "Mexico",
          "fertility": 6.8,
          "life_expect": 55.19,
          "pop": 32929914,
          "year": 1955
         },
         {
          "cluster": 3,
          "country": "Mexico",
          "fertility": 6.7495,
          "life_expect": 58.299,
          "pop": 38578505,
          "year": 1960
         },
         {
          "cluster": 3,
          "country": "Mexico",
          "fertility": 6.7495,
          "life_expect": 60.11,
          "pop": 45142399,
          "year": 1965
         },
         {
          "cluster": 3,
          "country": "Mexico",
          "fertility": 6.5,
          "life_expect": 62.361,
          "pop": 52775158,
          "year": 1970
         },
         {
          "cluster": 3,
          "country": "Mexico",
          "fertility": 5.2505,
          "life_expect": 65.032,
          "pop": 60678045,
          "year": 1975
         },
         {
          "cluster": 3,
          "country": "Mexico",
          "fertility": 4.25,
          "life_expect": 67.405,
          "pop": 68347479,
          "year": 1980
         },
         {
          "cluster": 3,
          "country": "Mexico",
          "fertility": 3.6295,
          "life_expect": 69.498,
          "pop": 76767225,
          "year": 1985
         },
         {
          "cluster": 3,
          "country": "Mexico",
          "fertility": 3.1905,
          "life_expect": 71.455,
          "pop": 84913652,
          "year": 1990
         },
         {
          "cluster": 3,
          "country": "Mexico",
          "fertility": 2.6705,
          "life_expect": 73.67,
          "pop": 92880353,
          "year": 1995
         },
         {
          "cluster": 3,
          "country": "Mexico",
          "fertility": 2.4005,
          "life_expect": 74.902,
          "pop": 99926620,
          "year": 2000
         },
         {
          "cluster": 3,
          "country": "Mexico",
          "fertility": 2.211,
          "life_expect": 76.195,
          "pop": 106202903,
          "year": 2005
         },
         {
          "cluster": 1,
          "country": "Netherlands",
          "fertility": 3.095,
          "life_expect": 72.99,
          "pop": 10750842,
          "year": 1955
         },
         {
          "cluster": 1,
          "country": "Netherlands",
          "fertility": 3.168,
          "life_expect": 73.23,
          "pop": 11486000,
          "year": 1960
         },
         {
          "cluster": 1,
          "country": "Netherlands",
          "fertility": 2.797,
          "life_expect": 73.82,
          "pop": 12292000,
          "year": 1965
         },
         {
          "cluster": 1,
          "country": "Netherlands",
          "fertility": 2.059,
          "life_expect": 73.75,
          "pop": 13032335,
          "year": 1970
         },
         {
          "cluster": 1,
          "country": "Netherlands",
          "fertility": 1.596,
          "life_expect": 75.24,
          "pop": 13653438,
          "year": 1975
         },
         {
          "cluster": 1,
          "country": "Netherlands",
          "fertility": 1.515,
          "life_expect": 76.05,
          "pop": 14143901,
          "year": 1980
         },
         {
          "cluster": 1,
          "country": "Netherlands",
          "fertility": 1.555,
          "life_expect": 76.83,
          "pop": 14491380,
          "year": 1985
         },
         {
          "cluster": 1,
          "country": "Netherlands",
          "fertility": 1.583,
          "life_expect": 77.42,
          "pop": 14951510,
          "year": 1990
         },
         {
          "cluster": 1,
          "country": "Netherlands",
          "fertility": 1.6,
          "life_expect": 78.03,
          "pop": 15459054,
          "year": 1995
         },
         {
          "cluster": 1,
          "country": "Netherlands",
          "fertility": 1.726,
          "life_expect": 78.53,
          "pop": 15907853,
          "year": 2000
         },
         {
          "cluster": 1,
          "country": "Netherlands",
          "fertility": 1.721,
          "life_expect": 79.762,
          "pop": 16407491,
          "year": 2005
         },
         {
          "cluster": 4,
          "country": "New Zealand",
          "fertility": 4.07,
          "life_expect": 70.26,
          "pop": 2136168,
          "year": 1955
         },
         {
          "cluster": 4,
          "country": "New Zealand",
          "fertility": 4.022,
          "life_expect": 71.24,
          "pop": 2371746,
          "year": 1960
         },
         {
          "cluster": 4,
          "country": "New Zealand",
          "fertility": 3.348,
          "life_expect": 71.52,
          "pop": 2640400,
          "year": 1965
         },
         {
          "cluster": 4,
          "country": "New Zealand",
          "fertility": 2.843,
          "life_expect": 71.89,
          "pop": 2828050,
          "year": 1970
         },
         {
          "cluster": 4,
          "country": "New Zealand",
          "fertility": 2.178,
          "life_expect": 72.22,
          "pop": 3117800,
          "year": 1975
         },
         {
          "cluster": 4,
          "country": "New Zealand",
          "fertility": 1.963,
          "life_expect": 73.84,
          "pop": 3170150,
          "year": 1980
         },
         {
          "cluster": 4,
          "country": "New Zealand",
          "fertility": 2.053,
          "life_expect": 74.32,
          "pop": 3298050,
          "year": 1985
         },
         {
          "cluster": 4,
          "country": "New Zealand",
          "fertility": 2.061,
          "life_expect": 76.33,
          "pop": 3359604,
          "year": 1990
         },
         {
          "cluster": 4,
          "country": "New Zealand",
          "fertility": 1.952,
          "life_expect": 77.55,
          "pop": 3565990,
          "year": 1995
         },
         {
          "cluster": 4,
          "country": "New Zealand",
          "fertility": 1.964,
          "life_expect": 79.11,
          "pop": 3819762,
          "year": 2000
         },
         {
          "cluster": 4,
          "country": "New Zealand",
          "fertility": 1.994,
          "life_expect": 80.204,
          "pop": 4035461,
          "year": 2005
         },
         {
          "cluster": 2,
          "country": "Nigeria",
          "fertility": 6.9,
          "life_expect": 37.802,
          "pop": 35458978,
          "year": 1955
         },
         {
          "cluster": 2,
          "country": "Nigeria",
          "fertility": 6.9,
          "life_expect": 39.36,
          "pop": 39914593,
          "year": 1960
         },
         {
          "cluster": 2,
          "country": "Nigeria",
          "fertility": 6.9,
          "life_expect": 41.04,
          "pop": 45020052,
          "year": 1965
         },
         {
          "cluster": 2,
          "country": "Nigeria",
          "fertility": 6.9,
          "life_expect": 42.821,
          "pop": 51027516,
          "year": 1970
         },
         {
          "cluster": 2,
          "country": "Nigeria",
          "fertility": 6.9,
          "life_expect": 44.514,
          "pop": 58522112,
          "year": 1975
         },
         {
          "cluster": 2,
          "country": "Nigeria",
          "fertility": 6.9,
          "life_expect": 45.826,
          "pop": 68550274,
          "year": 1980
         },
         {
          "cluster": 2,
          "country": "Nigeria",
          "fertility": 6.834,
          "life_expect": 46.886,
          "pop": 77573154,
          "year": 1985
         },
         {
          "cluster": 2,
          "country": "Nigeria",
          "fertility": 6.635,
          "life_expect": 47.472,
          "pop": 88510354,
          "year": 1990
         },
         {
          "cluster": 2,
          "country": "Nigeria",
          "fertility": 6.246,
          "life_expect": 47.464,
          "pop": 100960105,
          "year": 1995
         },
         {
          "cluster": 2,
          "country": "Nigeria",
          "fertility": 5.845,
          "life_expect": 46.608,
          "pop": 114306700,
          "year": 2000
         },
         {
          "cluster": 2,
          "country": "Nigeria",
          "fertility": 5.322,
          "life_expect": 46.859,
          "pop": 128765768,
          "year": 2005
         },
         {
          "cluster": 1,
          "country": "Norway",
          "fertility": 2.837,
          "life_expect": 73.44,
          "pop": 3427409,
          "year": 1955
         },
         {
          "cluster": 1,
          "country": "Norway",
          "fertility": 2.898,
          "life_expect": 73.47,
          "pop": 3581239,
          "year": 1960
         },
         {
          "cluster": 1,
          "country": "Norway",
          "fertility": 2.719,
          "life_expect": 74.08,
          "pop": 3723153,
          "year": 1965
         },
         {
          "cluster": 1,
          "country": "Norway",
          "fertility": 2.248,
          "life_expect": 74.34,
          "pop": 3877386,
          "year": 1970
         },
         {
          "cluster": 1,
          "country": "Norway",
          "fertility": 1.81,
          "life_expect": 75.37,
          "pop": 4007313,
          "year": 1975
         },
         {
          "cluster": 1,
          "country": "Norway",
          "fertility": 1.687,
          "life_expect": 75.97,
          "pop": 4085620,
          "year": 1980
         },
         {
          "cluster": 1,
          "country": "Norway",
          "fertility": 1.8,
          "life_expect": 75.89,
          "pop": 4152419,
          "year": 1985
         },
         {
          "cluster": 1,
          "country": "Norway",
          "fertility": 1.886,
          "life_expect": 77.32,
          "pop": 4242006,
          "year": 1990
         },
         {
          "cluster": 1,
          "country": "Norway",
          "fertility": 1.853,
          "life_expect": 78.32,
          "pop": 4359101,
          "year": 1995
         },
         {
          "cluster": 1,
          "country": "Norway",
          "fertility": 1.801,
          "life_expect": 79.05,
          "pop": 4492400,
          "year": 2000
         },
         {
          "cluster": 1,
          "country": "Norway",
          "fertility": 1.848,
          "life_expect": 80.196,
          "pop": 4593041,
          "year": 2005
         },
         {
          "cluster": 0,
          "country": "Pakistan",
          "fertility": 6.6,
          "life_expect": 45.557,
          "pop": 44434445,
          "year": 1955
         },
         {
          "cluster": 0,
          "country": "Pakistan",
          "fertility": 6.6,
          "life_expect": 47.67,
          "pop": 50386898,
          "year": 1960
         },
         {
          "cluster": 0,
          "country": "Pakistan",
          "fertility": 6.6,
          "life_expect": 49.8,
          "pop": 57494940,
          "year": 1965
         },
         {
          "cluster": 0,
          "country": "Pakistan",
          "fertility": 6.6,
          "life_expect": 51.929,
          "pop": 65705964,
          "year": 1970
         },
         {
          "cluster": 0,
          "country": "Pakistan",
          "fertility": 6.6,
          "life_expect": 54.043,
          "pop": 74711541,
          "year": 1975
         },
         {
          "cluster": 0,
          "country": "Pakistan",
          "fertility": 6.6,
          "life_expect": 56.158,
          "pop": 85219117,
          "year": 1980
         },
         {
          "cluster": 0,
          "country": "Pakistan",
          "fertility": 6.66,
          "life_expect": 58.245,
          "pop": 99060352,
          "year": 1985
         },
         {
          "cluster": 0,
          "country": "Pakistan",
          "fertility": 5.8,
          "life_expect": 60.838,
          "pop": 114578478,
          "year": 1990
         },
         {
          "cluster": 0,
          "country": "Pakistan",
          "fertility": 4.9596,
          "life_expect": 61.818,
          "pop": 128690285,
          "year": 1995
         },
         {
          "cluster": 0,
          "country": "Pakistan",
          "fertility": 3.9936,
          "life_expect": 63.61,
          "pop": 146342958,
          "year": 2000
         },
         {
          "cluster": 0,
          "country": "Pakistan",
          "fertility": 3.5211,
          "life_expect": 65.483,
          "pop": 162419946,
          "year": 2005
         },
         {
          "cluster": 3,
          "country": "Peru",
          "fertility": 6.853,
          "life_expect": 46.263,
          "pop": 8671500,
          "year": 1955
         },
         {
          "cluster": 3,
          "country": "Peru",
          "fertility": 6.853,
          "life_expect": 49.096,
          "pop": 9931000,
          "year": 1960
         },
         {
          "cluster": 3,
          "country": "Peru",
          "fertility": 6.56,
          "life_expect": 51.445,
          "pop": 11467300,
          "year": 1965
         },
         {
          "cluster": 3,
          "country": "Peru",
          "fertility": 6,
          "life_expect": 55.448,
          "pop": 13192800,
          "year": 1970
         },
         {
          "cluster": 3,
          "country": "Peru",
          "fertility": 5.378,
          "life_expect": 58.447,
          "pop": 15161199,
          "year": 1975
         },
         {
          "cluster": 3,
          "country": "Peru",
          "fertility": 4.65,
          "life_expect": 61.406,
          "pop": 17295298,
          "year": 1980
         },
         {
          "cluster": 3,
          "country": "Peru",
          "fertility": 4.1,
          "life_expect": 64.134,
          "pop": 19348926,
          "year": 1985
         },
         {
          "cluster": 3,
          "country": "Peru",
          "fertility": 3.7,
          "life_expect": 66.458,
          "pop": 21511443,
          "year": 1990
         },
         {
          "cluster": 3,
          "country": "Peru",
          "fertility": 3.0995,
          "life_expect": 68.386,
          "pop": 23846388,
          "year": 1995
         },
         {
          "cluster": 3,
          "country": "Peru",
          "fertility": 2.7005,
          "life_expect": 69.906,
          "pop": 25979722,
          "year": 2000
         },
         {
          "cluster": 3,
          "country": "Peru",
          "fertility": 2.5065,
          "life_expect": 71.421,
          "pop": 27925628,
          "year": 2005
         },
         {
          "cluster": 4,
          "country": "Philippines",
          "fertility": 7.13,
          "life_expect": 51.334,
          "pop": 24553055,
          "year": 1955
         },
         {
          "cluster": 4,
          "country": "Philippines",
          "fertility": 6.85,
          "life_expect": 54.757,
          "pop": 28528939,
          "year": 1960
         },
         {
          "cluster": 4,
          "country": "Philippines",
          "fertility": 6.5,
          "life_expect": 56.393,
          "pop": 33267569,
          "year": 1965
         },
         {
          "cluster": 4,
          "country": "Philippines",
          "fertility": 6,
          "life_expect": 58.065,
          "pop": 38603696,
          "year": 1970
         },
         {
          "cluster": 4,
          "country": "Philippines",
          "fertility": 5.5,
          "life_expect": 60.06,
          "pop": 44336842,
          "year": 1975
         },
         {
          "cluster": 4,
          "country": "Philippines",
          "fertility": 4.95,
          "life_expect": 62.082,
          "pop": 50940182,
          "year": 1980
         },
         {
          "cluster": 4,
          "country": "Philippines",
          "fertility": 4.55,
          "life_expect": 64.151,
          "pop": 57288037,
          "year": 1985
         },
         {
          "cluster": 4,
          "country": "Philippines",
          "fertility": 4.143,
          "life_expect": 66.458,
          "pop": 64318120,
          "year": 1990
         },
         {
          "cluster": 4,
          "country": "Philippines",
          "fertility": 3.7248,
          "life_expect": 68.564,
          "pop": 71717437,
          "year": 1995
         },
         {
          "cluster": 4,
          "country": "Philippines",
          "fertility": 3.5436,
          "life_expect": 70.303,
          "pop": 79739825,
          "year": 2000
         },
         {
          "cluster": 4,
          "country": "Philippines",
          "fertility": 3.2327,
          "life_expect": 71.688,
          "pop": 87857473,
          "year": 2005
         },
         {
          "cluster": 1,
          "country": "Poland",
          "fertility": 3.29,
          "life_expect": 65.77,
          "pop": 27220668,
          "year": 1955
         },
         {
          "cluster": 1,
          "country": "Poland",
          "fertility": 2.65,
          "life_expect": 67.64,
          "pop": 29589842,
          "year": 1960
         },
         {
          "cluster": 1,
          "country": "Poland",
          "fertility": 2.27,
          "life_expect": 69.61,
          "pop": 31262358,
          "year": 1965
         },
         {
          "cluster": 1,
          "country": "Poland",
          "fertility": 2.25,
          "life_expect": 70.85,
          "pop": 32526000,
          "year": 1970
         },
         {
          "cluster": 1,
          "country": "Poland",
          "fertility": 2.26,
          "life_expect": 70.67,
          "pop": 33969240,
          "year": 1975
         },
         {
          "cluster": 1,
          "country": "Poland",
          "fertility": 2.33,
          "life_expect": 71.32,
          "pop": 35578016,
          "year": 1980
         },
         {
          "cluster": 1,
          "country": "Poland",
          "fertility": 2.15,
          "life_expect": 70.98,
          "pop": 37225792,
          "year": 1985
         },
         {
          "cluster": 1,
          "country": "Poland",
          "fertility": 1.89,
          "life_expect": 70.99,
          "pop": 38119408,
          "year": 1990
         },
         {
          "cluster": 1,
          "country": "Poland",
          "fertility": 1.478,
          "life_expect": 72.75,
          "pop": 38600642,
          "year": 1995
         },
         {
          "cluster": 1,
          "country": "Poland",
          "fertility": 1.251,
          "life_expect": 74.67,
          "pop": 38654164,
          "year": 2000
         },
         {
          "cluster": 1,
          "country": "Poland",
          "fertility": 1.227,
          "life_expect": 75.563,
          "pop": 38557984,
          "year": 2005
         },
         {
          "cluster": 1,
          "country": "Portugal",
          "fertility": 3.03,
          "life_expect": 61.51,
          "pop": 8692600,
          "year": 1955
         },
         {
          "cluster": 1,
          "country": "Portugal",
          "fertility": 3.074,
          "life_expect": 64.39,
          "pop": 9036700,
          "year": 1960
         },
         {
          "cluster": 1,
          "country": "Portugal",
          "fertility": 2.849,
          "life_expect": 66.6,
          "pop": 9128850,
          "year": 1965
         },
         {
          "cluster": 1,
          "country": "Portugal",
          "fertility": 2.748,
          "life_expect": 69.26,
          "pop": 9044200,
          "year": 1970
         },
         {
          "cluster": 1,
          "country": "Portugal",
          "fertility": 2.41,
          "life_expect": 70.41,
          "pop": 9411090,
          "year": 1975
         },
         {
          "cluster": 1,
          "country": "Portugal",
          "fertility": 1.982,
          "life_expect": 72.77,
          "pop": 9777800,
          "year": 1980
         },
         {
          "cluster": 1,
          "country": "Portugal",
          "fertility": 1.594,
          "life_expect": 74.06,
          "pop": 9897192,
          "year": 1985
         },
         {
          "cluster": 1,
          "country": "Portugal",
          "fertility": 1.516,
          "life_expect": 74.86,
          "pop": 9922689,
          "year": 1990
         },
         {
          "cluster": 1,
          "country": "Portugal",
          "fertility": 1.475,
          "life_expect": 75.97,
          "pop": 10065543,
          "year": 1995
         },
         {
          "cluster": 1,
          "country": "Portugal",
          "fertility": 1.454,
          "life_expect": 77.29,
          "pop": 10335597,
          "year": 2000
         },
         {
          "cluster": 1,
          "country": "Portugal",
          "fertility": 1.455,
          "life_expect": 78.098,
          "pop": 10566212,
          "year": 2005
         },
         {
          "cluster": 2,
          "country": "Rwanda",
          "fertility": 8,
          "life_expect": 41.5,
          "pop": 2698272,
          "year": 1955
         },
         {
          "cluster": 2,
          "country": "Rwanda",
          "fertility": 8.1,
          "life_expect": 43,
          "pop": 3031804,
          "year": 1960
         },
         {
          "cluster": 2,
          "country": "Rwanda",
          "fertility": 8.2,
          "life_expect": 44.1,
          "pop": 3264640,
          "year": 1965
         },
         {
          "cluster": 2,
          "country": "Rwanda",
          "fertility": 8.29,
          "life_expect": 44.6,
          "pop": 3769171,
          "year": 1970
         },
         {
          "cluster": 2,
          "country": "Rwanda",
          "fertility": 8.492,
          "life_expect": 45,
          "pop": 4356863,
          "year": 1975
         },
         {
          "cluster": 2,
          "country": "Rwanda",
          "fertility": 8.5,
          "life_expect": 46.218,
          "pop": 5138689,
          "year": 1980
         },
         {
          "cluster": 2,
          "country": "Rwanda",
          "fertility": 8.25,
          "life_expect": 44.02,
          "pop": 6009833,
          "year": 1985
         },
         {
          "cluster": 2,
          "country": "Rwanda",
          "fertility": 6.9,
          "life_expect": 23.599,
          "pop": 6923738,
          "year": 1990
         },
         {
          "cluster": 2,
          "country": "Rwanda",
          "fertility": 6.0993,
          "life_expect": 36.087,
          "pop": 5706501,
          "year": 1995
         },
         {
          "cluster": 2,
          "country": "Rwanda",
          "fertility": 6.01,
          "life_expect": 43.413,
          "pop": 7507056,
          "year": 2000
         },
         {
          "cluster": 2,
          "country": "Rwanda",
          "fertility": 5.9169,
          "life_expect": 46.242,
          "pop": 8440820,
          "year": 2005
         },
         {
          "cluster": 5,
          "country": "Saudi Arabia",
          "fertility": 7.175,
          "life_expect": 42.868,
          "pop": 4243218,
          "year": 1955
         },
         {
          "cluster": 5,
          "country": "Saudi Arabia",
          "fertility": 7.257,
          "life_expect": 45.914,
          "pop": 4718301,
          "year": 1960
         },
         {
          "cluster": 5,
          "country": "Saudi Arabia",
          "fertility": 7.257,
          "life_expect": 49.901,
          "pop": 5327432,
          "year": 1965
         },
         {
          "cluster": 5,
          "country": "Saudi Arabia",
          "fertility": 7.298,
          "life_expect": 53.886,
          "pop": 6109051,
          "year": 1970
         },
         {
          "cluster": 5,
          "country": "Saudi Arabia",
          "fertility": 7.278,
          "life_expect": 58.69,
          "pop": 7204820,
          "year": 1975
         },
         {
          "cluster": 5,
          "country": "Saudi Arabia",
          "fertility": 7.015,
          "life_expect": 63.012,
          "pop": 9999161,
          "year": 1980
         },
         {
          "cluster": 5,
          "country": "Saudi Arabia",
          "fertility": 6.217,
          "life_expect": 66.295,
          "pop": 13330067,
          "year": 1985
         },
         {
          "cluster": 5,
          "country": "Saudi Arabia",
          "fertility": 5.446,
          "life_expect": 68.768,
          "pop": 16060761,
          "year": 1990
         },
         {
          "cluster": 5,
          "country": "Saudi Arabia",
          "fertility": 4.621,
          "life_expect": 70.533,
          "pop": 19966998,
          "year": 1995
         },
         {
          "cluster": 5,
          "country": "Saudi Arabia",
          "fertility": 3.81,
          "life_expect": 71.626,
          "pop": 23153090,
          "year": 2000
         },
         {
          "cluster": 5,
          "country": "Saudi Arabia",
          "fertility": 3.352,
          "life_expect": 72.777,
          "pop": 26417599,
          "year": 2005
         },
         {
          "cluster": 2,
          "country": "South Africa",
          "fertility": 6.5,
          "life_expect": 47.985,
          "pop": 15368551,
          "year": 1955
         },
         {
          "cluster": 2,
          "country": "South Africa",
          "fertility": 6.3,
          "life_expect": 49.951,
          "pop": 17416653,
          "year": 1960
         },
         {
          "cluster": 2,
          "country": "South Africa",
          "fertility": 5.7,
          "life_expect": 51.927,
          "pop": 19898242,
          "year": 1965
         },
         {
          "cluster": 2,
          "country": "South Africa",
          "fertility": 5.47,
          "life_expect": 53.696,
          "pop": 22739921,
          "year": 1970
         },
         {
          "cluster": 2,
          "country": "South Africa",
          "fertility": 5,
          "life_expect": 55.527,
          "pop": 25815144,
          "year": 1975
         },
         {
          "cluster": 2,
          "country": "South Africa",
          "fertility": 4.556,
          "life_expect": 58.161,
          "pop": 29251588,
          "year": 1980
         },
         {
          "cluster": 2,
          "country": "South Africa",
          "fertility": 3.85,
          "life_expect": 60.834,
          "pop": 34254092,
          "year": 1985
         },
         {
          "cluster": 2,
          "country": "South Africa",
          "fertility": 3.343,
          "life_expect": 61.888,
          "pop": 38391094,
          "year": 1990
         },
         {
          "cluster": 2,
          "country": "South Africa",
          "fertility": 2.954,
          "life_expect": 60.236,
          "pop": 41779149,
          "year": 1995
         },
         {
          "cluster": 2,
          "country": "South Africa",
          "fertility": 2.802,
          "life_expect": 53.365,
          "pop": 44066197,
          "year": 2000
         },
         {
          "cluster": 2,
          "country": "South Africa",
          "fertility": 2.637,
          "life_expect": 49.339,
          "pop": 44344136,
          "year": 2005
         },
         {
          "cluster": 1,
          "country": "Spain",
          "fertility": 2.75,
          "life_expect": 66.66,
          "pop": 29318745,
          "year": 1955
         },
         {
          "cluster": 1,
          "country": "Spain",
          "fertility": 2.89,
          "life_expect": 69.69,
          "pop": 30641187,
          "year": 1960
         },
         {
          "cluster": 1,
          "country": "Spain",
          "fertility": 2.92,
          "life_expect": 71.44,
          "pop": 32084511,
          "year": 1965
         },
         {
          "cluster": 1,
          "country": "Spain",
          "fertility": 2.86,
          "life_expect": 73.06,
          "pop": 33876479,
          "year": 1970
         },
         {
          "cluster": 1,
          "country": "Spain",
          "fertility": 2.57,
          "life_expect": 74.39,
          "pop": 35563535,
          "year": 1975
         },
         {
          "cluster": 1,
          "country": "Spain",
          "fertility": 1.89,
          "life_expect": 76.3,
          "pop": 37488360,
          "year": 1980
         },
         {
          "cluster": 1,
          "country": "Spain",
          "fertility": 1.48,
          "life_expect": 76.9,
          "pop": 38534853,
          "year": 1985
         },
         {
          "cluster": 1,
          "country": "Spain",
          "fertility": 1.27,
          "life_expect": 77.57,
          "pop": 39350769,
          "year": 1990
         },
         {
          "cluster": 1,
          "country": "Spain",
          "fertility": 1.182,
          "life_expect": 78.77,
          "pop": 39749715,
          "year": 1995
         },
         {
          "cluster": 1,
          "country": "Spain",
          "fertility": 1.287,
          "life_expect": 79.78,
          "pop": 40016081,
          "year": 2000
         },
         {
          "cluster": 1,
          "country": "Spain",
          "fertility": 1.409,
          "life_expect": 80.941,
          "pop": 40341462,
          "year": 2005
         },
         {
          "cluster": 1,
          "country": "Switzerland",
          "fertility": 2.34,
          "life_expect": 70.56,
          "pop": 4980000,
          "year": 1955
         },
         {
          "cluster": 1,
          "country": "Switzerland",
          "fertility": 2.51,
          "life_expect": 71.32,
          "pop": 5362000,
          "year": 1960
         },
         {
          "cluster": 1,
          "country": "Switzerland",
          "fertility": 2.27,
          "life_expect": 72.77,
          "pop": 5943000,
          "year": 1965
         },
         {
          "cluster": 1,
          "country": "Switzerland",
          "fertility": 1.82,
          "life_expect": 73.78,
          "pop": 6267000,
          "year": 1970
         },
         {
          "cluster": 1,
          "country": "Switzerland",
          "fertility": 1.53,
          "life_expect": 75.39,
          "pop": 6403500,
          "year": 1975
         },
         {
          "cluster": 1,
          "country": "Switzerland",
          "fertility": 1.53,
          "life_expect": 76.21,
          "pop": 6385229,
          "year": 1980
         },
         {
          "cluster": 1,
          "country": "Switzerland",
          "fertility": 1.53,
          "life_expect": 77.41,
          "pop": 6563770,
          "year": 1985
         },
         {
          "cluster": 1,
          "country": "Switzerland",
          "fertility": 1.54,
          "life_expect": 78.03,
          "pop": 6836626,
          "year": 1990
         },
         {
          "cluster": 1,
          "country": "Switzerland",
          "fertility": 1.47,
          "life_expect": 79.37,
          "pop": 7157106,
          "year": 1995
         },
         {
          "cluster": 1,
          "country": "Switzerland",
          "fertility": 1.415,
          "life_expect": 80.62,
          "pop": 7266920,
          "year": 2000
         },
         {
          "cluster": 1,
          "country": "Switzerland",
          "fertility": 1.42,
          "life_expect": 81.701,
          "pop": 7489370,
          "year": 2005
         },
         {
          "cluster": 1,
          "country": "Turkey",
          "fertility": 6.6,
          "life_expect": 48.079,
          "pop": 24144571,
          "year": 1955
         },
         {
          "cluster": 1,
          "country": "Turkey",
          "fertility": 6.19,
          "life_expect": 52.098,
          "pop": 28217122,
          "year": 1960
         },
         {
          "cluster": 1,
          "country": "Turkey",
          "fertility": 5.7,
          "life_expect": 54.336,
          "pop": 31950718,
          "year": 1965
         },
         {
          "cluster": 1,
          "country": "Turkey",
          "fertility": 5.3,
          "life_expect": 57.005,
          "pop": 35758382,
          "year": 1970
         },
         {
          "cluster": 1,
          "country": "Turkey",
          "fertility": 4.715,
          "life_expect": 59.507,
          "pop": 40529798,
          "year": 1975
         },
         {
          "cluster": 1,
          "country": "Turkey",
          "fertility": 4.15,
          "life_expect": 61.036,
          "pop": 45120802,
          "year": 1980
         },
         {
          "cluster": 1,
          "country": "Turkey",
          "fertility": 3.276,
          "life_expect": 63.108,
          "pop": 50669003,
          "year": 1985
         },
         {
          "cluster": 1,
          "country": "Turkey",
          "fertility": 2.904,
          "life_expect": 66.146,
          "pop": 56084632,
          "year": 1990
         },
         {
          "cluster": 1,
          "country": "Turkey",
          "fertility": 2.574,
          "life_expect": 68.835,
          "pop": 61188984,
          "year": 1995
         },
         {
          "cluster": 1,
          "country": "Turkey",
          "fertility": 2.23,
          "life_expect": 70.845,
          "pop": 65666677,
          "year": 2000
         },
         {
          "cluster": 1,
          "country": "Turkey",
          "fertility": 2.143,
          "life_expect": 71.777,
          "pop": 69660559,
          "year": 2005
         },
         {
          "cluster": 1,
          "country": "United Kingdom",
          "fertility": 2.49,
          "life_expect": 70.42,
          "pop": 50946000,
          "year": 1955
         },
         {
          "cluster": 1,
          "country": "United Kingdom",
          "fertility": 2.81,
          "life_expect": 70.76,
          "pop": 52372000,
          "year": 1960
         },
         {
          "cluster": 1,
          "country": "United Kingdom",
          "fertility": 2.52,
          "life_expect": 71.36,
          "pop": 54350000,
          "year": 1965
         },
         {
          "cluster": 1,
          "country": "United Kingdom",
          "fertility": 2.04,
          "life_expect": 72.01,
          "pop": 55632000,
          "year": 1970
         },
         {
          "cluster": 1,
          "country": "United Kingdom",
          "fertility": 1.72,
          "life_expect": 72.76,
          "pop": 56215000,
          "year": 1975
         },
         {
          "cluster": 1,
          "country": "United Kingdom",
          "fertility": 1.8,
          "life_expect": 74.04,
          "pop": 56314000,
          "year": 1980
         },
         {
          "cluster": 1,
          "country": "United Kingdom",
          "fertility": 1.81,
          "life_expect": 75.007,
          "pop": 56620240,
          "year": 1985
         },
         {
          "cluster": 1,
          "country": "United Kingdom",
          "fertility": 1.78,
          "life_expect": 76.42,
          "pop": 57493307,
          "year": 1990
         },
         {
          "cluster": 1,
          "country": "United Kingdom",
          "fertility": 1.7,
          "life_expect": 77.218,
          "pop": 58426014,
          "year": 1995
         },
         {
          "cluster": 1,
          "country": "United Kingdom",
          "fertility": 1.695,
          "life_expect": 78.471,
          "pop": 59522468,
          "year": 2000
         },
         {
          "cluster": 1,
          "country": "United Kingdom",
          "fertility": 1.815,
          "life_expect": 79.425,
          "pop": 60441457,
          "year": 2005
         },
         {
          "cluster": 3,
          "country": "United States",
          "fertility": 3.706,
          "life_expect": 69.49,
          "pop": 165931000,
          "year": 1955
         },
         {
          "cluster": 3,
          "country": "United States",
          "fertility": 3.314,
          "life_expect": 70.21,
          "pop": 180671000,
          "year": 1960
         },
         {
          "cluster": 3,
          "country": "United States",
          "fertility": 2.545,
          "life_expect": 70.76,
          "pop": 194303000,
          "year": 1965
         },
         {
          "cluster": 3,
          "country": "United States",
          "fertility": 2.016,
          "life_expect": 71.34,
          "pop": 205052000,
          "year": 1970
         },
         {
          "cluster": 3,
          "country": "United States",
          "fertility": 1.788,
          "life_expect": 73.38,
          "pop": 215973000,
          "year": 1975
         },
         {
          "cluster": 3,
          "country": "United States",
          "fertility": 1.825,
          "life_expect": 74.65,
          "pop": 227726463,
          "year": 1980
         },
         {
          "cluster": 3,
          "country": "United States",
          "fertility": 1.924,
          "life_expect": 75.02,
          "pop": 238466283,
          "year": 1985
         },
         {
          "cluster": 3,
          "country": "United States",
          "fertility": 2.025,
          "life_expect": 76.09,
          "pop": 250131894,
          "year": 1990
         },
         {
          "cluster": 3,
          "country": "United States",
          "fertility": 1.994,
          "life_expect": 76.81,
          "pop": 266557091,
          "year": 1995
         },
         {
          "cluster": 3,
          "country": "United States",
          "fertility": 2.038,
          "life_expect": 77.31,
          "pop": 282338631,
          "year": 2000
         },
         {
          "cluster": 3,
          "country": "United States",
          "fertility": 2.054,
          "life_expect": 78.242,
          "pop": 295734134,
          "year": 2005
         },
         {
          "cluster": 3,
          "country": "Venezuela",
          "fertility": 6.4585,
          "life_expect": 57.907,
          "pop": 6170497,
          "year": 1955
         },
         {
          "cluster": 3,
          "country": "Venezuela",
          "fertility": 6.657,
          "life_expect": 60.77,
          "pop": 7556483,
          "year": 1960
         },
         {
          "cluster": 3,
          "country": "Venezuela",
          "fertility": 5.9045,
          "life_expect": 63.479,
          "pop": 9067735,
          "year": 1965
         },
         {
          "cluster": 3,
          "country": "Venezuela",
          "fertility": 4.941,
          "life_expect": 65.712,
          "pop": 10758017,
          "year": 1970
         },
         {
          "cluster": 3,
          "country": "Venezuela",
          "fertility": 4.4685,
          "life_expect": 67.456,
          "pop": 12674987,
          "year": 1975
         },
         {
          "cluster": 3,
          "country": "Venezuela",
          "fertility": 3.957,
          "life_expect": 68.557,
          "pop": 14767890,
          "year": 1980
         },
         {
          "cluster": 3,
          "country": "Venezuela",
          "fertility": 3.6485,
          "life_expect": 70.19,
          "pop": 16997509,
          "year": 1985
         },
         {
          "cluster": 3,
          "country": "Venezuela",
          "fertility": 3.25,
          "life_expect": 71.15,
          "pop": 19325222,
          "year": 1990
         },
         {
          "cluster": 3,
          "country": "Venezuela",
          "fertility": 2.9415,
          "life_expect": 72.146,
          "pop": 21555902,
          "year": 1995
         },
         {
          "cluster": 3,
          "country": "Venezuela",
          "fertility": 2.723,
          "life_expect": 72.766,
          "pop": 23542649,
          "year": 2000
         },
         {
          "cluster": 3,
          "country": "Venezuela",
          "fertility": 2.547,
          "life_expect": 73.747,
          "pop": 25375281,
          "year": 2005
         }
        ]
       },
       "encoding": {
        "color": {
         "field": "country",
         "type": "nominal"
        },
        "row": {
         "field": "cluster",
         "type": "ordinal"
        },
        "x": {
         "field": "year",
         "type": "quantitative"
        },
        "y": {
         "field": "life_expect",
         "type": "quantitative"
        }
       },
       "mark": "line"
      },
      "image/png": "[encoded data removed]",
      "image/svg+xml": [
       "<?xml version=\"1.0\" encoding=\"utf-8\"?>\n",
       "<!DOCTYPE svg PUBLIC \"-//W3C//DTD SVG 1.1//EN\" \"http://www.w3.org/Graphics/SVG/1.1/DTD/svg11.dtd\">\n",
       "<svg class=\"marks\" width=\"495\" height=\"1307\" viewBox=\"0 0 495 1307\" version=\"1.1\" xmlns=\"http://www.w3.org/2000/svg\" xmlns:xlink=\"http://www.w3.org/1999/xlink\"><g transform=\"translate(108,6)\"><g class=\"mark-group role-frame root\"><g transform=\"translate(0,0)\"><path class=\"background\" d=\"M0,0h0v0h0Z\" style=\"fill: none;\"></path><g><g class=\"mark-group role-row-title row-title\"><g transform=\"translate(-81,630)\"><path class=\"background\" d=\"M0,0h0v0h0Z\" style=\"fill: none;\"></path><g><g class=\"mark-text role-title\" style=\"pointer-events: none;\"><text text-anchor=\"middle\" transform=\"translate(-10,0) rotate(-90) translate(0,-2)\" style=\"font-family: sans-serif; font-size: 11px; font-weight: bold; fill: #000; opacity: 1;\">cluster</text></g></g></g></g><g class=\"mark-group role-row-header row_header\"><g transform=\"translate(-3,0)\"><path class=\"background\" d=\"M0,0h0v200h0Z\" style=\"fill: none;\"></path><g><g class=\"mark-text role-title\" style=\"pointer-events: none;\"><text text-anchor=\"middle\" transform=\"translate(-57,103) rotate(-90) translate(0,-2)\" style=\"font-family: sans-serif; font-size: 10px; fill: #000; opacity: 1;\">0</text></g><g class=\"mark-group role-axis\"><g transform=\"translate(0.5,0.5)\"><path class=\"background\" d=\"M0,0h0v0h0Z\" style=\"pointer-events: none; fill: none;\"></path><g><g class=\"mark-rule role-axis-tick\" style=\"pointer-events: none;\"><line transform=\"translate(0,200)\" x2=\"-5\" y2=\"0\" style=\"fill: none; stroke: #888; stroke-width: 1; opacity: 1;\"></line><line transform=\"translate(0,156)\" x2=\"-5\" y2=\"0\" style=\"fill: none; stroke: #888; stroke-width: 1; opacity: 1;\"></line><line transform=\"translate(0,111)\" x2=\"-5\" y2=\"0\" style=\"fill: none; stroke: #888; stroke-width: 1; opacity: 1;\"></line><line transform=\"translate(0,67)\" x2=\"-5\" y2=\"0\" style=\"fill: none; stroke: #888; stroke-width: 1; opacity: 1;\"></line><line transform=\"translate(0,22)\" x2=\"-5\" y2=\"0\" style=\"fill: none; stroke: #888; stroke-width: 1; opacity: 1;\"></line></g><g class=\"mark-text role-axis-label\" style=\"pointer-events: none;\"><text text-anchor=\"end\" transform=\"translate(-7,203)\" style=\"font-family: sans-serif; font-size: 10px; fill: #000; opacity: 1;\">0</text><text text-anchor=\"end\" transform=\"translate(-7,158.55555555555554)\" style=\"font-family: sans-serif; font-size: 10px; fill: #000; opacity: 1;\">20</text><text text-anchor=\"end\" transform=\"translate(-7,114.11111111111111)\" style=\"font-family: sans-serif; font-size: 10px; fill: #000; opacity: 1;\">40</text><text text-anchor=\"end\" transform=\"translate(-7,69.66666666666669)\" style=\"font-family: sans-serif; font-size: 10px; fill: #000; opacity: 1;\">60</text><text text-anchor=\"end\" transform=\"translate(-7,25.22222222222223)\" style=\"font-family: sans-serif; font-size: 10px; fill: #000; opacity: 1;\">80</text></g><g class=\"mark-rule role-axis-domain\" style=\"pointer-events: none;\"><line transform=\"translate(0,200)\" x2=\"0\" y2=\"-200\" style=\"fill: none; stroke: #888; stroke-width: 1; opacity: 1;\"></line></g><g class=\"mark-text role-axis-title\" style=\"pointer-events: none;\"><text text-anchor=\"middle\" transform=\"translate(-34,100) rotate(-90) translate(0,-2)\" style=\"font-family: sans-serif; font-size: 11px; font-weight: bold; fill: #000; opacity: 1;\">life_expect</text></g></g></g></g></g></g><g transform=\"translate(-3,212)\"><path class=\"background\" d=\"M0,0h0v200h0Z\" style=\"fill: none;\"></path><g><g class=\"mark-text role-title\" style=\"pointer-events: none;\"><text text-anchor=\"middle\" transform=\"translate(-57,103) rotate(-90) translate(0,-2)\" style=\"font-family: sans-serif; font-size: 10px; fill: #000; opacity: 1;\">1</text></g><g class=\"mark-group role-axis\"><g transform=\"translate(0.5,0.5)\"><path class=\"background\" d=\"M0,0h0v0h0Z\" style=\"pointer-events: none; fill: none;\"></path><g><g class=\"mark-rule role-axis-tick\" style=\"pointer-events: none;\"><line transform=\"translate(0,200)\" x2=\"-5\" y2=\"0\" style=\"fill: none; stroke: #888; stroke-width: 1; opacity: 1;\"></line><line transform=\"translate(0,156)\" x2=\"-5\" y2=\"0\" style=\"fill: none; stroke: #888; stroke-width: 1; opacity: 1;\"></line><line transform=\"translate(0,111)\" x2=\"-5\" y2=\"0\" style=\"fill: none; stroke: #888; stroke-width: 1; opacity: 1;\"></line><line transform=\"translate(0,67)\" x2=\"-5\" y2=\"0\" style=\"fill: none; stroke: #888; stroke-width: 1; opacity: 1;\"></line><line transform=\"translate(0,22)\" x2=\"-5\" y2=\"0\" style=\"fill: none; stroke: #888; stroke-width: 1; opacity: 1;\"></line></g><g class=\"mark-text role-axis-label\" style=\"pointer-events: none;\"><text text-anchor=\"end\" transform=\"translate(-7,203)\" style=\"font-family: sans-serif; font-size: 10px; fill: #000; opacity: 1;\">0</text><text text-anchor=\"end\" transform=\"translate(-7,158.55555555555554)\" style=\"font-family: sans-serif; font-size: 10px; fill: #000; opacity: 1;\">20</text><text text-anchor=\"end\" transform=\"translate(-7,114.11111111111111)\" style=\"font-family: sans-serif; font-size: 10px; fill: #000; opacity: 1;\">40</text><text text-anchor=\"end\" transform=\"translate(-7,69.66666666666669)\" style=\"font-family: sans-serif; font-size: 10px; fill: #000; opacity: 1;\">60</text><text text-anchor=\"end\" transform=\"translate(-7,25.22222222222223)\" style=\"font-family: sans-serif; font-size: 10px; fill: #000; opacity: 1;\">80</text></g><g class=\"mark-rule role-axis-domain\" style=\"pointer-events: none;\"><line transform=\"translate(0,200)\" x2=\"0\" y2=\"-200\" style=\"fill: none; stroke: #888; stroke-width: 1; opacity: 1;\"></line></g><g class=\"mark-text role-axis-title\" style=\"pointer-events: none;\"><text text-anchor=\"middle\" transform=\"translate(-34,100) rotate(-90) translate(0,-2)\" style=\"font-family: sans-serif; font-size: 11px; font-weight: bold; fill: #000; opacity: 1;\">life_expect</text></g></g></g></g></g></g><g transform=\"translate(-3,424)\"><path class=\"background\" d=\"M0,0h0v200h0Z\" style=\"fill: none;\"></path><g><g class=\"mark-text role-title\" style=\"pointer-events: none;\"><text text-anchor=\"middle\" transform=\"translate(-57,103) rotate(-90) translate(0,-2)\" style=\"font-family: sans-serif; font-size: 10px; fill: #000; opacity: 1;\">2</text></g><g class=\"mark-group role-axis\"><g transform=\"translate(0.5,0.5)\"><path class=\"background\" d=\"M0,0h0v0h0Z\" style=\"pointer-events: none; fill: none;\"></path><g><g class=\"mark-rule role-axis-tick\" style=\"pointer-events: none;\"><line transform=\"translate(0,200)\" x2=\"-5\" y2=\"0\" style=\"fill: none; stroke: #888; stroke-width: 1; opacity: 1;\"></line><line transform=\"translate(0,156)\" x2=\"-5\" y2=\"0\" style=\"fill: none; stroke: #888; stroke-width: 1; opacity: 1;\"></line><line transform=\"translate(0,111)\" x2=\"-5\" y2=\"0\" style=\"fill: none; stroke: #888; stroke-width: 1; opacity: 1;\"></line><line transform=\"translate(0,67)\" x2=\"-5\" y2=\"0\" style=\"fill: none; stroke: #888; stroke-width: 1; opacity: 1;\"></line><line transform=\"translate(0,22)\" x2=\"-5\" y2=\"0\" style=\"fill: none; stroke: #888; stroke-width: 1; opacity: 1;\"></line></g><g class=\"mark-text role-axis-label\" style=\"pointer-events: none;\"><text text-anchor=\"end\" transform=\"translate(-7,203)\" style=\"font-family: sans-serif; font-size: 10px; fill: #000; opacity: 1;\">0</text><text text-anchor=\"end\" transform=\"translate(-7,158.55555555555554)\" style=\"font-family: sans-serif; font-size: 10px; fill: #000; opacity: 1;\">20</text><text text-anchor=\"end\" transform=\"translate(-7,114.11111111111111)\" style=\"font-family: sans-serif; font-size: 10px; fill: #000; opacity: 1;\">40</text><text text-anchor=\"end\" transform=\"translate(-7,69.66666666666669)\" style=\"font-family: sans-serif; font-size: 10px; fill: #000; opacity: 1;\">60</text><text text-anchor=\"end\" transform=\"translate(-7,25.22222222222223)\" style=\"font-family: sans-serif; font-size: 10px; fill: #000; opacity: 1;\">80</text></g><g class=\"mark-rule role-axis-domain\" style=\"pointer-events: none;\"><line transform=\"translate(0,200)\" x2=\"0\" y2=\"-200\" style=\"fill: none; stroke: #888; stroke-width: 1; opacity: 1;\"></line></g><g class=\"mark-text role-axis-title\" style=\"pointer-events: none;\"><text text-anchor=\"middle\" transform=\"translate(-34,100) rotate(-90) translate(0,-2)\" style=\"font-family: sans-serif; font-size: 11px; font-weight: bold; fill: #000; opacity: 1;\">life_expect</text></g></g></g></g></g></g><g transform=\"translate(-3,636)\"><path class=\"background\" d=\"M0,0h0v200h0Z\" style=\"fill: none;\"></path><g><g class=\"mark-text role-title\" style=\"pointer-events: none;\"><text text-anchor=\"middle\" transform=\"translate(-57,103) rotate(-90) translate(0,-2)\" style=\"font-family: sans-serif; font-size: 10px; fill: #000; opacity: 1;\">3</text></g><g class=\"mark-group role-axis\"><g transform=\"translate(0.5,0.5)\"><path class=\"background\" d=\"M0,0h0v0h0Z\" style=\"pointer-events: none; fill: none;\"></path><g><g class=\"mark-rule role-axis-tick\" style=\"pointer-events: none;\"><line transform=\"translate(0,200)\" x2=\"-5\" y2=\"0\" style=\"fill: none; stroke: #888; stroke-width: 1; opacity: 1;\"></line><line transform=\"translate(0,156)\" x2=\"-5\" y2=\"0\" style=\"fill: none; stroke: #888; stroke-width: 1; opacity: 1;\"></line><line transform=\"translate(0,111)\" x2=\"-5\" y2=\"0\" style=\"fill: none; stroke: #888; stroke-width: 1; opacity: 1;\"></line><line transform=\"translate(0,67)\" x2=\"-5\" y2=\"0\" style=\"fill: none; stroke: #888; stroke-width: 1; opacity: 1;\"></line><line transform=\"translate(0,22)\" x2=\"-5\" y2=\"0\" style=\"fill: none; stroke: #888; stroke-width: 1; opacity: 1;\"></line></g><g class=\"mark-text role-axis-label\" style=\"pointer-events: none;\"><text text-anchor=\"end\" transform=\"translate(-7,203)\" style=\"font-family: sans-serif; font-size: 10px; fill: #000; opacity: 1;\">0</text><text text-anchor=\"end\" transform=\"translate(-7,158.55555555555554)\" style=\"font-family: sans-serif; font-size: 10px; fill: #000; opacity: 1;\">20</text><text text-anchor=\"end\" transform=\"translate(-7,114.11111111111111)\" style=\"font-family: sans-serif; font-size: 10px; fill: #000; opacity: 1;\">40</text><text text-anchor=\"end\" transform=\"translate(-7,69.66666666666669)\" style=\"font-family: sans-serif; font-size: 10px; fill: #000; opacity: 1;\">60</text><text text-anchor=\"end\" transform=\"translate(-7,25.22222222222223)\" style=\"font-family: sans-serif; font-size: 10px; fill: #000; opacity: 1;\">80</text></g><g class=\"mark-rule role-axis-domain\" style=\"pointer-events: none;\"><line transform=\"translate(0,200)\" x2=\"0\" y2=\"-200\" style=\"fill: none; stroke: #888; stroke-width: 1; opacity: 1;\"></line></g><g class=\"mark-text role-axis-title\" style=\"pointer-events: none;\"><text text-anchor=\"middle\" transform=\"translate(-34,100) rotate(-90) translate(0,-2)\" style=\"font-family: sans-serif; font-size: 11px; font-weight: bold; fill: #000; opacity: 1;\">life_expect</text></g></g></g></g></g></g><g transform=\"translate(-3,848)\"><path class=\"background\" d=\"M0,0h0v200h0Z\" style=\"fill: none;\"></path><g><g class=\"mark-text role-title\" style=\"pointer-events: none;\"><text text-anchor=\"middle\" transform=\"translate(-57,103) rotate(-90) translate(0,-2)\" style=\"font-family: sans-serif; font-size: 10px; fill: #000; opacity: 1;\">4</text></g><g class=\"mark-group role-axis\"><g transform=\"translate(0.5,0.5)\"><path class=\"background\" d=\"M0,0h0v0h0Z\" style=\"pointer-events: none; fill: none;\"></path><g><g class=\"mark-rule role-axis-tick\" style=\"pointer-events: none;\"><line transform=\"translate(0,200)\" x2=\"-5\" y2=\"0\" style=\"fill: none; stroke: #888; stroke-width: 1; opacity: 1;\"></line><line transform=\"translate(0,156)\" x2=\"-5\" y2=\"0\" style=\"fill: none; stroke: #888; stroke-width: 1; opacity: 1;\"></line><line transform=\"translate(0,111)\" x2=\"-5\" y2=\"0\" style=\"fill: none; stroke: #888; stroke-width: 1; opacity: 1;\"></line><line transform=\"translate(0,67)\" x2=\"-5\" y2=\"0\" style=\"fill: none; stroke: #888; stroke-width: 1; opacity: 1;\"></line><line transform=\"translate(0,22)\" x2=\"-5\" y2=\"0\" style=\"fill: none; stroke: #888; stroke-width: 1; opacity: 1;\"></line></g><g class=\"mark-text role-axis-label\" style=\"pointer-events: none;\"><text text-anchor=\"end\" transform=\"translate(-7,203)\" style=\"font-family: sans-serif; font-size: 10px; fill: #000; opacity: 1;\">0</text><text text-anchor=\"end\" transform=\"translate(-7,158.55555555555554)\" style=\"font-family: sans-serif; font-size: 10px; fill: #000; opacity: 1;\">20</text><text text-anchor=\"end\" transform=\"translate(-7,114.11111111111111)\" style=\"font-family: sans-serif; font-size: 10px; fill: #000; opacity: 1;\">40</text><text text-anchor=\"end\" transform=\"translate(-7,69.66666666666669)\" style=\"font-family: sans-serif; font-size: 10px; fill: #000; opacity: 1;\">60</text><text text-anchor=\"end\" transform=\"translate(-7,25.22222222222223)\" style=\"font-family: sans-serif; font-size: 10px; fill: #000; opacity: 1;\">80</text></g><g class=\"mark-rule role-axis-domain\" style=\"pointer-events: none;\"><line transform=\"translate(0,200)\" x2=\"0\" y2=\"-200\" style=\"fill: none; stroke: #888; stroke-width: 1; opacity: 1;\"></line></g><g class=\"mark-text role-axis-title\" style=\"pointer-events: none;\"><text text-anchor=\"middle\" transform=\"translate(-34,100) rotate(-90) translate(0,-2)\" style=\"font-family: sans-serif; font-size: 11px; font-weight: bold; fill: #000; opacity: 1;\">life_expect</text></g></g></g></g></g></g><g transform=\"translate(-3,1060)\"><path class=\"background\" d=\"M0,0h0v200h0Z\" style=\"fill: none;\"></path><g><g class=\"mark-text role-title\" style=\"pointer-events: none;\"><text text-anchor=\"middle\" transform=\"translate(-57,103) rotate(-90) translate(0,-2)\" style=\"font-family: sans-serif; font-size: 10px; fill: #000; opacity: 1;\">5</text></g><g class=\"mark-group role-axis\"><g transform=\"translate(0.5,0.5)\"><path class=\"background\" d=\"M0,0h0v0h0Z\" style=\"pointer-events: none; fill: none;\"></path><g><g class=\"mark-rule role-axis-tick\" style=\"pointer-events: none;\"><line transform=\"translate(0,200)\" x2=\"-5\" y2=\"0\" style=\"fill: none; stroke: #888; stroke-width: 1; opacity: 1;\"></line><line transform=\"translate(0,156)\" x2=\"-5\" y2=\"0\" style=\"fill: none; stroke: #888; stroke-width: 1; opacity: 1;\"></line><line transform=\"translate(0,111)\" x2=\"-5\" y2=\"0\" style=\"fill: none; stroke: #888; stroke-width: 1; opacity: 1;\"></line><line transform=\"translate(0,67)\" x2=\"-5\" y2=\"0\" style=\"fill: none; stroke: #888; stroke-width: 1; opacity: 1;\"></line><line transform=\"translate(0,22)\" x2=\"-5\" y2=\"0\" style=\"fill: none; stroke: #888; stroke-width: 1; opacity: 1;\"></line></g><g class=\"mark-text role-axis-label\" style=\"pointer-events: none;\"><text text-anchor=\"end\" transform=\"translate(-7,203)\" style=\"font-family: sans-serif; font-size: 10px; fill: #000; opacity: 1;\">0</text><text text-anchor=\"end\" transform=\"translate(-7,158.55555555555554)\" style=\"font-family: sans-serif; font-size: 10px; fill: #000; opacity: 1;\">20</text><text text-anchor=\"end\" transform=\"translate(-7,114.11111111111111)\" style=\"font-family: sans-serif; font-size: 10px; fill: #000; opacity: 1;\">40</text><text text-anchor=\"end\" transform=\"translate(-7,69.66666666666669)\" style=\"font-family: sans-serif; font-size: 10px; fill: #000; opacity: 1;\">60</text><text text-anchor=\"end\" transform=\"translate(-7,25.22222222222223)\" style=\"font-family: sans-serif; font-size: 10px; fill: #000; opacity: 1;\">80</text></g><g class=\"mark-rule role-axis-domain\" style=\"pointer-events: none;\"><line transform=\"translate(0,200)\" x2=\"0\" y2=\"-200\" style=\"fill: none; stroke: #888; stroke-width: 1; opacity: 1;\"></line></g><g class=\"mark-text role-axis-title\" style=\"pointer-events: none;\"><text text-anchor=\"middle\" transform=\"translate(-34,100) rotate(-90) translate(0,-2)\" style=\"font-family: sans-serif; font-size: 11px; font-weight: bold; fill: #000; opacity: 1;\">life_expect</text></g></g></g></g></g></g></g><g class=\"mark-group role-column-footer column_footer\"><g transform=\"translate(0,1261)\"><path class=\"background\" d=\"M0,0h200v0h-200Z\" style=\"fill: none;\"></path><g><g class=\"mark-group role-axis\"><g transform=\"translate(0.5,0.5)\"><path class=\"background\" d=\"M0,0h0v0h0Z\" style=\"pointer-events: none; fill: none;\"></path><g><g class=\"mark-rule role-axis-tick\" style=\"pointer-events: none;\"><line transform=\"translate(20,0)\" x2=\"0\" y2=\"5\" style=\"fill: none; stroke: #888; stroke-width: 1; opacity: 1;\"></line><line transform=\"translate(60,0)\" x2=\"0\" y2=\"5\" style=\"fill: none; stroke: #888; stroke-width: 1; opacity: 1;\"></line><line transform=\"translate(100,0)\" x2=\"0\" y2=\"5\" style=\"fill: none; stroke: #888; stroke-width: 1; opacity: 1;\"></line><line transform=\"translate(140,0)\" x2=\"0\" y2=\"5\" style=\"fill: none; stroke: #888; stroke-width: 1; opacity: 1;\"></line><line transform=\"translate(180,0)\" x2=\"0\" y2=\"5\" style=\"fill: none; stroke: #888; stroke-width: 1; opacity: 1;\"></line></g><g class=\"mark-text role-axis-label\" style=\"pointer-events: none;\"><text text-anchor=\"middle\" transform=\"translate(20,15)\" style=\"font-family: sans-serif; font-size: 10px; fill: #000; opacity: 1;\">1,960</text><text text-anchor=\"middle\" transform=\"translate(60,15)\" style=\"font-family: sans-serif; font-size: 10px; fill: #000; opacity: 0;\">1,970</text><text text-anchor=\"middle\" transform=\"translate(100,15)\" style=\"font-family: sans-serif; font-size: 10px; fill: #000; opacity: 1;\">1,980</text><text text-anchor=\"middle\" transform=\"translate(140,15)\" style=\"font-family: sans-serif; font-size: 10px; fill: #000; opacity: 0;\">1,990</text><text text-anchor=\"middle\" transform=\"translate(180,15)\" style=\"font-family: sans-serif; font-size: 10px; fill: #000; opacity: 1;\">2,000</text></g><g class=\"mark-rule role-axis-domain\" style=\"pointer-events: none;\"><line transform=\"translate(0,0)\" x2=\"200\" y2=\"0\" style=\"fill: none; stroke: #888; stroke-width: 1; opacity: 1;\"></line></g><g class=\"mark-text role-axis-title\" style=\"pointer-events: none;\"><text text-anchor=\"middle\" transform=\"translate(100,31)\" style=\"font-family: sans-serif; font-size: 11px; font-weight: bold; fill: #000; opacity: 1;\">year</text></g></g></g></g></g></g></g><g class=\"mark-group role-scope cell\"><g transform=\"translate(0,0)\"><path class=\"background\" d=\"M0.5,0.5h200v200h-200Z\" style=\"fill: none; stroke: #ddd;\"></path><g><g class=\"mark-group role-axis\"><g transform=\"translate(0.5,200.5)\"><path class=\"background\" d=\"M0,0h0v0h0Z\" style=\"pointer-events: none; fill: none;\"></path><g><g class=\"mark-rule role-axis-grid\" style=\"pointer-events: none;\"><line transform=\"translate(20,-200)\" x2=\"0\" y2=\"200\" style=\"fill: none; stroke: #ddd; stroke-width: 1; opacity: 1;\"></line><line transform=\"translate(60,-200)\" x2=\"0\" y2=\"200\" style=\"fill: none; stroke: #ddd; stroke-width: 1; opacity: 1;\"></line><line transform=\"translate(100,-200)\" x2=\"0\" y2=\"200\" style=\"fill: none; stroke: #ddd; stroke-width: 1; opacity: 1;\"></line><line transform=\"translate(140,-200)\" x2=\"0\" y2=\"200\" style=\"fill: none; stroke: #ddd; stroke-width: 1; opacity: 1;\"></line><line transform=\"translate(180,-200)\" x2=\"0\" y2=\"200\" style=\"fill: none; stroke: #ddd; stroke-width: 1; opacity: 1;\"></line></g></g></g></g><g class=\"mark-group role-axis\"><g transform=\"translate(0.5,0.5)\"><path class=\"background\" d=\"M0,0h0v0h0Z\" style=\"pointer-events: none; fill: none;\"></path><g><g class=\"mark-rule role-axis-grid\" style=\"pointer-events: none;\"><line transform=\"translate(0,200)\" x2=\"200\" y2=\"0\" style=\"fill: none; stroke: #ddd; stroke-width: 1; opacity: 1;\"></line><line transform=\"translate(0,156)\" x2=\"200\" y2=\"0\" style=\"fill: none; stroke: #ddd; stroke-width: 1; opacity: 1;\"></line><line transform=\"translate(0,111)\" x2=\"200\" y2=\"0\" style=\"fill: none; stroke: #ddd; stroke-width: 1; opacity: 1;\"></line><line transform=\"translate(0,67)\" x2=\"200\" y2=\"0\" style=\"fill: none; stroke: #ddd; stroke-width: 1; opacity: 1;\"></line><line transform=\"translate(0,22)\" x2=\"200\" y2=\"0\" style=\"fill: none; stroke: #ddd; stroke-width: 1; opacity: 1;\"></line></g></g></g></g><g class=\"mark-group role-scope child_pathgroup\"><g transform=\"translate(0,0)\"><path class=\"background\" d=\"M0,0h200v200h-200Z\" style=\"fill: none;\"></path><g><g class=\"mark-line role-mark child_marks\"><path d=\"M200,102.60444444444444L180,106.38000000000001L160,107.19333333333334L140,107.39111111111112L120,109.28444444444445L100,111.43555555555555L80,114.58222222222221L60,119.80444444444444L40,124.39999999999999L20,128.89555555555555L0,132.59555555555556\" style=\"fill: none; stroke: #4c78a8; stroke-width: 2;\"></path></g></g></g><g transform=\"translate(0,0)\"><path class=\"background\" d=\"M0,0h200v200h-200Z\" style=\"fill: none;\"></path><g><g class=\"mark-line role-mark child_marks\"><path d=\"M200,57.640000000000015L180,62.19333333333336L160,67.97333333333333L140,75.51555555555555L120,82.62444444444444L100,88.86888888888889L80,95.72666666666667L60,99.44L40,103.43777777777777L20,108.40888888888888L0,112.56\" style=\"fill: none; stroke: #b279a2; stroke-width: 2;\"></path></g></g></g><g transform=\"translate(0,0)\"><path class=\"background\" d=\"M0,0h200v200h-200Z\" style=\"fill: none;\"></path><g><g class=\"mark-line role-mark child_marks\"><path d=\"M200,56.22666666666669L180,60.26888888888888L160,62.74444444444444L140,66.17111111111112L120,69.88222222222223L100,74.23111111111112L80,79.53777777777778L60,87.44222222222223L40,95.12666666666667L20,103.10000000000001L0,110.55777777777777\" style=\"fill: none; stroke: #f58518; stroke-width: 2;\"></path></g></g></g><g transform=\"translate(0,0)\"><path class=\"background\" d=\"M0,0h200v200h-200Z\" style=\"fill: none;\"></path><g><g class=\"mark-line role-mark child_marks\"><path d=\"M200,54.48222222222222L180,58.644444444444446L160,62.626666666666665L140,64.80444444444444L120,70.56666666666666L100,75.20444444444445L80,79.90444444444445L60,84.60222222222222L40,89.33333333333333L20,94.06666666666665L0,98.76222222222222\" style=\"fill: none; stroke: #9d755d; stroke-width: 2;\"></path></g></g></g></g></g></g><g transform=\"translate(0,212)\"><path class=\"background\" d=\"M0.5,0.5h200v200h-200Z\" style=\"fill: none; stroke: #ddd;\"></path><g><g class=\"mark-group role-axis\"><g transform=\"translate(0.5,200.5)\"><path class=\"background\" d=\"M0,0h0v0h0Z\" style=\"pointer-events: none; fill: none;\"></path><g><g class=\"mark-rule role-axis-grid\" style=\"pointer-events: none;\"><line transform=\"translate(20,-200)\" x2=\"0\" y2=\"200\" style=\"fill: none; stroke: #ddd; stroke-width: 1; opacity: 1;\"></line><line transform=\"translate(60,-200)\" x2=\"0\" y2=\"200\" style=\"fill: none; stroke: #ddd; stroke-width: 1; opacity: 1;\"></line><line transform=\"translate(100,-200)\" x2=\"0\" y2=\"200\" style=\"fill: none; stroke: #ddd; stroke-width: 1; opacity: 1;\"></line><line transform=\"translate(140,-200)\" x2=\"0\" y2=\"200\" style=\"fill: none; stroke: #ddd; stroke-width: 1; opacity: 1;\"></line><line transform=\"translate(180,-200)\" x2=\"0\" y2=\"200\" style=\"fill: none; stroke: #ddd; stroke-width: 1; opacity: 1;\"></line></g></g></g></g><g class=\"mark-group role-axis\"><g transform=\"translate(0.5,0.5)\"><path class=\"background\" d=\"M0,0h0v0h0Z\" style=\"pointer-events: none; fill: none;\"></path><g><g class=\"mark-rule role-axis-grid\" style=\"pointer-events: none;\"><line transform=\"translate(0,200)\" x2=\"200\" y2=\"0\" style=\"fill: none; stroke: #ddd; stroke-width: 1; opacity: 1;\"></line><line transform=\"translate(0,156)\" x2=\"200\" y2=\"0\" style=\"fill: none; stroke: #ddd; stroke-width: 1; opacity: 1;\"></line><line transform=\"translate(0,111)\" x2=\"200\" y2=\"0\" style=\"fill: none; stroke: #ddd; stroke-width: 1; opacity: 1;\"></line><line transform=\"translate(0,67)\" x2=\"200\" y2=\"0\" style=\"fill: none; stroke: #ddd; stroke-width: 1; opacity: 1;\"></line><line transform=\"translate(0,22)\" x2=\"200\" y2=\"0\" style=\"fill: none; stroke: #ddd; stroke-width: 1; opacity: 1;\"></line></g></g></g></g><g class=\"mark-group role-scope child_pathgroup\"><g transform=\"translate(0,0)\"><path class=\"background\" d=\"M0,0h200v200h-200Z\" style=\"fill: none;\"></path><g><g class=\"mark-line role-mark child_marks\"><path d=\"M200,22.602222222222224L180,24.48888888888888L160,27.75555555555553L140,31.02222222222221L120,33.46666666666667L100,37.377777777777766L80,39.622222222222234L60,43.04444444444445L40,44.133333333333326L20,45.46666666666667L0,50.04444444444442\" style=\"fill: none; stroke: #54a24b; stroke-width: 2;\"></path></g></g></g><g transform=\"translate(0,0)\"><path class=\"background\" d=\"M0,0h200v200h-200Z\" style=\"fill: none;\"></path><g><g class=\"mark-line role-mark child_marks\"><path d=\"M200,23.46444444444444L180,25.955555555555577L160,27.71111111111111L140,30.088888888888903L120,32.55555555555557L100,35.71111111111108L80,38.22222222222223L60,41.24444444444444L40,42.355555555555554L20,43.888888888888886L0,46.133333333333326\" style=\"fill: none; stroke: #9d755d; stroke-width: 2;\"></path></g></g></g><g transform=\"translate(0,0)\"><path class=\"background\" d=\"M0,0h200v200h-200Z\" style=\"fill: none;\"></path><g><g class=\"mark-line role-mark child_marks\"><path d=\"M200,31.671111111111088L180,33.608888888888885L160,36.26666666666665L140,38.82888888888888L120,41.06666666666666L100,43.42222222222222L80,43.02222222222224L60,45.3111111111111L40,47.77777777777777L20,50.82222222222222L0,56.06666666666666\" style=\"fill: none; stroke: #b279a2; stroke-width: 2;\"></path></g></g></g><g transform=\"translate(0,0)\"><path class=\"background\" d=\"M0,0h200v200h-200Z\" style=\"fill: none;\"></path><g><g class=\"mark-line role-mark child_marks\"><path d=\"M200,23.7488888888889L180,25.844444444444434L160,28.599999999999994L140,31.77777777777777L120,33.71111111111111L100,34.33333333333334L80,38.84444444444446L60,42.51111111111109L40,44.82222222222222L20,47.22222222222223L0,50.02222222222224\" style=\"fill: none; stroke: #e45756; stroke-width: 2;\"></path></g></g></g><g transform=\"translate(0,0)\"><path class=\"background\" d=\"M0,0h200v200h-200Z\" style=\"fill: none;\"></path><g><g class=\"mark-line role-mark child_marks\"><path d=\"M200,20.76222222222225L180,23.133333333333326L160,25.24444444444444L140,27.866666666666674L120,30.355555555555554L100,33.57777777777778L80,35.93333333333334L60,39.155555555555566L40,41L20,43.3111111111111L0,46.82222222222222\" style=\"fill: none; stroke: #72b7b2; stroke-width: 2;\"></path></g></g></g><g transform=\"translate(0,0)\"><path class=\"background\" d=\"M0,0h200v200h-200Z\" style=\"fill: none;\"></path><g><g class=\"mark-line role-mark child_marks\"><path d=\"M200,42.25111111111113L180,43.386666666666656L160,43.35555555555558L140,43.4111111111111L120,43.44444444444443L100,45.24888888888887L80,45.25777777777776L60,48.53777777777776L40,51.880000000000024L20,56.346666666666664L0,60.83333333333334\" style=\"fill: none; stroke: #54a24b; stroke-width: 2;\"></path></g></g></g><g transform=\"translate(0,0)\"><path class=\"background\" d=\"M0,0h200v200h-200Z\" style=\"fill: none;\"></path><g><g class=\"mark-line role-mark child_marks\"><path d=\"M200,23.54222222222222L180,25.177777777777777L160,28.133333333333326L140,30.955555555555577L120,33.673333333333346L100,36L80,38.888888888888886L60,42.22222222222223L40,42.666666666666686L20,43.77777777777777L0,46.44444444444446\" style=\"fill: none; stroke: #eeca3b; stroke-width: 2;\"></path></g></g></g><g transform=\"translate(0,0)\"><path class=\"background\" d=\"M0,0h200v200h-200Z\" style=\"fill: none;\"></path><g><g class=\"mark-line role-mark child_marks\"><path d=\"M200,23.371111111111105L180,26.097777777777765L160,26.95777777777778L140,28.822222222222223L120,29.622222222222206L100,32.80000000000001L80,36.26666666666665L60,39.24444444444444L40,42.22222222222223L20,45.5333333333333L0,49.19999999999999\" style=\"fill: none; stroke: #b279a2; stroke-width: 2;\"></path></g></g></g><g transform=\"translate(0,0)\"><path class=\"background\" d=\"M0,0h200v200h-200Z\" style=\"fill: none;\"></path><g><g class=\"mark-line role-mark child_marks\"><path d=\"M200,18.317777777777764L180,21.111111111111114L160,24.555555555555543L140,24.955555555555577L120,28.377777777777766L100,28.911111111111126L80,30.866666666666674L60,34.53333333333336L40,36.15555555555554L20,36.26666666666665L0,36.73333333333332\" style=\"fill: none; stroke: #4c78a8; stroke-width: 2;\"></path></g></g></g><g transform=\"translate(0,0)\"><path class=\"background\" d=\"M0,0h200v200h-200Z\" style=\"fill: none;\"></path><g><g class=\"mark-line role-mark child_marks\"><path d=\"M200,24.69999999999999L180,27.148888888888877L160,30.840000000000003L140,32.29555555555555L120,34.75555555555556L100,37.55555555555557L80,39.93333333333334L60,41.599999999999994L40,42.04444444444445L20,43.79999999999998L0,46.88888888888886\" style=\"fill: none; stroke: #eeca3b; stroke-width: 2;\"></path></g></g></g><g transform=\"translate(0,0)\"><path class=\"background\" d=\"M0,0h200v200h-200Z\" style=\"fill: none;\"></path><g><g class=\"mark-line role-mark child_marks\"><path d=\"M200,21.00888888888889L180,21.688888888888897L160,24.844444444444463L140,27.911111111111097L120,30.177777777777777L100,33.377777777777766L80,36.71111111111111L60,39.57777777777778L40,42.088888888888874L20,46.133333333333326L0,49.3111111111111\" style=\"fill: none; stroke: #ff9da6; stroke-width: 2;\"></path></g></g></g><g transform=\"translate(0,0)\"><path class=\"background\" d=\"M0,0h200v200h-200Z\" style=\"fill: none;\"></path><g><g class=\"mark-line role-mark child_marks\"><path d=\"M200,22.7511111111111L180,25.48888888888888L160,26.599999999999994L140,27.95555555555555L120,29.26666666666665L100,31L80,32.80000000000001L60,36.111111111111114L40,35.95555555555558L20,37.26666666666665L0,37.80000000000001\" style=\"fill: none; stroke: #72b7b2; stroke-width: 2;\"></path></g></g></g><g transform=\"translate(0,0)\"><path class=\"background\" d=\"M0,0h200v200h-200Z\" style=\"fill: none;\"></path><g><g class=\"mark-line role-mark child_marks\"><path d=\"M200,21.78666666666666L180,24.333333333333343L160,25.955555555555577L140,28.177777777777777L120,31.355555555555554L100,31.177777777777777L80,32.51111111111109L60,34.79999999999998L40,35.377777777777766L20,36.73333333333332L0,36.80000000000001\" style=\"fill: none; stroke: #ff9da6; stroke-width: 2;\"></path></g></g></g><g transform=\"translate(0,0)\"><path class=\"background\" d=\"M0,0h200v200h-200Z\" style=\"fill: none;\"></path><g><g class=\"mark-line role-mark child_marks\"><path d=\"M200,32.082222222222214L180,34.06666666666666L160,38.33333333333334L140,42.24444444444447L120,42.26666666666665L100,41.51111111111112L80,42.95555555555555L60,42.55555555555557L40,45.3111111111111L20,49.6888888888889L0,53.84444444444446\" style=\"fill: none; stroke: #f58518; stroke-width: 2;\"></path></g></g></g><g transform=\"translate(0,0)\"><path class=\"background\" d=\"M0,0h200v200h-200Z\" style=\"fill: none;\"></path><g><g class=\"mark-line role-mark child_marks\"><path d=\"M200,26.448888888888888L180,28.24444444444444L160,31.177777777777777L140,33.644444444444446L120,35.42222222222222L100,38.28888888888889L80,43.53333333333333L60,46.088888888888874L40,52L20,56.911111111111126L0,63.31111111111113\" style=\"fill: none; stroke: #e45756; stroke-width: 2;\"></path></g></g></g><g transform=\"translate(0,0)\"><path class=\"background\" d=\"M0,0h200v200h-200Z\" style=\"fill: none;\"></path><g><g class=\"mark-line role-mark child_marks\"><path d=\"M200,20.131111111111096L180,22.71111111111111L160,24.955555555555577L140,27.622222222222234L120,29.111111111111086L100,30.444444444444457L80,34.68888888888887L60,37.644444444444446L40,41.24444444444444L20,45.133333333333326L0,51.866666666666674\" style=\"fill: none; stroke: #ff9da6; stroke-width: 2;\"></path></g></g></g><g transform=\"translate(0,0)\"><path class=\"background\" d=\"M0,0h200v200h-200Z\" style=\"fill: none;\"></path><g><g class=\"mark-line role-mark child_marks\"><path d=\"M200,18.442222222222227L180,20.844444444444434L160,23.622222222222206L140,26.599999999999994L120,27.97777777777779L100,30.644444444444446L80,32.46666666666667L60,36.04444444444442L40,38.28888888888889L20,41.51111111111112L0,43.19999999999999\" style=\"fill: none; stroke: #9d755d; stroke-width: 2;\"></path></g></g></g><g transform=\"translate(0,0)\"><path class=\"background\" d=\"M0,0h200v200h-200Z\" style=\"fill: none;\"></path><g><g class=\"mark-line role-mark child_marks\"><path d=\"M200,40.49555555555554L180,42.56666666666666L160,47.03333333333336L140,53.00888888888889L120,59.76000000000002L100,64.36444444444444L80,67.76222222222225L60,73.32222222222222L40,79.25333333333333L20,84.22666666666667L0,93.15777777777778\" style=\"fill: none; stroke: #bab0ac; stroke-width: 2;\"></path></g></g></g><g transform=\"translate(0,0)\"><path class=\"background\" d=\"M0,0h200v200h-200Z\" style=\"fill: none;\"></path><g><g class=\"mark-line role-mark child_marks\"><path d=\"M200,23.5L180,25.620000000000005L160,28.404444444444437L140,30.177777777777777L120,33.31777777777776L100,35.46666666666664L80,38.3111111111111L60,39.97777777777776L40,41.42222222222222L20,42.75555555555556L0,43.51111111111109\" style=\"fill: none; stroke: #4c78a8; stroke-width: 2;\"></path></g></g></g></g></g></g><g transform=\"translate(0,424)\"><path class=\"background\" d=\"M0.5,0.5h200v200h-200Z\" style=\"fill: none; stroke: #ddd;\"></path><g><g class=\"mark-group role-axis\"><g transform=\"translate(0.5,200.5)\"><path class=\"background\" d=\"M0,0h0v0h0Z\" style=\"pointer-events: none; fill: none;\"></path><g><g class=\"mark-rule role-axis-grid\" style=\"pointer-events: none;\"><line transform=\"translate(20,-200)\" x2=\"0\" y2=\"200\" style=\"fill: none; stroke: #ddd; stroke-width: 1; opacity: 1;\"></line><line transform=\"translate(60,-200)\" x2=\"0\" y2=\"200\" style=\"fill: none; stroke: #ddd; stroke-width: 1; opacity: 1;\"></line><line transform=\"translate(100,-200)\" x2=\"0\" y2=\"200\" style=\"fill: none; stroke: #ddd; stroke-width: 1; opacity: 1;\"></line><line transform=\"translate(140,-200)\" x2=\"0\" y2=\"200\" style=\"fill: none; stroke: #ddd; stroke-width: 1; opacity: 1;\"></line><line transform=\"translate(180,-200)\" x2=\"0\" y2=\"200\" style=\"fill: none; stroke: #ddd; stroke-width: 1; opacity: 1;\"></line></g></g></g></g><g class=\"mark-group role-axis\"><g transform=\"translate(0.5,0.5)\"><path class=\"background\" d=\"M0,0h0v0h0Z\" style=\"pointer-events: none; fill: none;\"></path><g><g class=\"mark-rule role-axis-grid\" style=\"pointer-events: none;\"><line transform=\"translate(0,200)\" x2=\"200\" y2=\"0\" style=\"fill: none; stroke: #ddd; stroke-width: 1; opacity: 1;\"></line><line transform=\"translate(0,156)\" x2=\"200\" y2=\"0\" style=\"fill: none; stroke: #ddd; stroke-width: 1; opacity: 1;\"></line><line transform=\"translate(0,111)\" x2=\"200\" y2=\"0\" style=\"fill: none; stroke: #ddd; stroke-width: 1; opacity: 1;\"></line><line transform=\"translate(0,67)\" x2=\"200\" y2=\"0\" style=\"fill: none; stroke: #ddd; stroke-width: 1; opacity: 1;\"></line><line transform=\"translate(0,22)\" x2=\"200\" y2=\"0\" style=\"fill: none; stroke: #ddd; stroke-width: 1; opacity: 1;\"></line></g></g></g></g><g class=\"mark-group role-scope child_pathgroup\"><g transform=\"translate(0,0)\"><path class=\"background\" d=\"M0,0h200v200h-200Z\" style=\"fill: none;\"></path><g><g class=\"mark-line role-mark child_marks\"><path d=\"M200,79.75555555555556L180,86.68444444444445L160,79.09555555555556L140,68.25555555555556L120,68.13555555555556L100,69.4088888888889L80,75.21111111111112L60,80.98L40,87.43555555555555L20,93.44666666666667L0,100.69777777777777\" style=\"fill: none; stroke: #4c78a8; stroke-width: 2;\"></path></g></g></g><g transform=\"translate(0,0)\"><path class=\"background\" d=\"M0,0h200v200h-200Z\" style=\"fill: none;\"></path><g><g class=\"mark-line role-mark child_marks\"><path d=\"M200,95.86888888888889L180,96.42666666666668L160,94.52444444444446L140,94.50666666666667L120,95.80888888888887L100,98.16444444444446L80,101.08L60,104.84222222222222L40,108.8L20,112.53333333333333L0,115.99555555555555\" style=\"fill: none; stroke: #eeca3b; stroke-width: 2;\"></path></g></g></g><g transform=\"translate(0,0)\"><path class=\"background\" d=\"M0,0h200v200h-200Z\" style=\"fill: none;\"></path><g><g class=\"mark-line role-mark child_marks\"><path d=\"M200,97.24000000000001L180,103.52666666666667L160,119.80666666666666L140,147.55777777777777L120,102.17777777777776L100,97.29333333333332L80,100L60,100.88888888888889L40,102L20,104.44444444444444L0,107.77777777777777\" style=\"fill: none; stroke: #72b7b2; stroke-width: 2;\"></path></g></g></g><g transform=\"translate(0,0)\"><path class=\"background\" d=\"M0,0h200v200h-200Z\" style=\"fill: none;\"></path><g><g class=\"mark-line role-mark child_marks\"><path d=\"M200,90.35777777777778L180,81.4111111111111L160,66.14222222222224L140,62.47111111111113L120,64.81333333333333L100,70.75333333333333L80,76.60666666666667L60,80.67555555555556L40,84.60666666666667L20,88.99777777777777L0,93.36666666666666\" style=\"fill: none; stroke: #eeca3b; stroke-width: 2;\"></path></g></g></g></g></g></g><g transform=\"translate(0,636)\"><path class=\"background\" d=\"M0.5,0.5h200v200h-200Z\" style=\"fill: none; stroke: #ddd;\"></path><g><g class=\"mark-group role-axis\"><g transform=\"translate(0.5,200.5)\"><path class=\"background\" d=\"M0,0h0v0h0Z\" style=\"pointer-events: none; fill: none;\"></path><g><g class=\"mark-rule role-axis-grid\" style=\"pointer-events: none;\"><line transform=\"translate(20,-200)\" x2=\"0\" y2=\"200\" style=\"fill: none; stroke: #ddd; stroke-width: 1; opacity: 1;\"></line><line transform=\"translate(60,-200)\" x2=\"0\" y2=\"200\" style=\"fill: none; stroke: #ddd; stroke-width: 1; opacity: 1;\"></line><line transform=\"translate(100,-200)\" x2=\"0\" y2=\"200\" style=\"fill: none; stroke: #ddd; stroke-width: 1; opacity: 1;\"></line><line transform=\"translate(140,-200)\" x2=\"0\" y2=\"200\" style=\"fill: none; stroke: #ddd; stroke-width: 1; opacity: 1;\"></line><line transform=\"translate(180,-200)\" x2=\"0\" y2=\"200\" style=\"fill: none; stroke: #ddd; stroke-width: 1; opacity: 1;\"></line></g></g></g></g><g class=\"mark-group role-axis\"><g transform=\"translate(0.5,0.5)\"><path class=\"background\" d=\"M0,0h0v0h0Z\" style=\"pointer-events: none; fill: none;\"></path><g><g class=\"mark-rule role-axis-grid\" style=\"pointer-events: none;\"><line transform=\"translate(0,200)\" x2=\"200\" y2=\"0\" style=\"fill: none; stroke: #ddd; stroke-width: 1; opacity: 1;\"></line><line transform=\"translate(0,156)\" x2=\"200\" y2=\"0\" style=\"fill: none; stroke: #ddd; stroke-width: 1; opacity: 1;\"></line><line transform=\"translate(0,111)\" x2=\"200\" y2=\"0\" style=\"fill: none; stroke: #ddd; stroke-width: 1; opacity: 1;\"></line><line transform=\"translate(0,67)\" x2=\"200\" y2=\"0\" style=\"fill: none; stroke: #ddd; stroke-width: 1; opacity: 1;\"></line><line transform=\"translate(0,22)\" x2=\"200\" y2=\"0\" style=\"fill: none; stroke: #ddd; stroke-width: 1; opacity: 1;\"></line></g></g></g></g><g class=\"mark-group role-scope child_pathgroup\"><g transform=\"translate(0,0)\"><path class=\"background\" d=\"M0,0h200v200h-200Z\" style=\"fill: none;\"></path><g><g class=\"mark-line role-mark child_marks\"><path d=\"M200,32.622222222222234L180,34.79999999999998L160,37.16666666666666L140,40.29333333333335L120,42.72444444444443L100,44.57333333333335L80,47.82000000000002L60,50.96666666666667L40,54.146666666666675L20,55.24000000000001L0,56.891111111111115\" style=\"fill: none; stroke: #f58518; stroke-width: 2;\"></path></g></g></g><g transform=\"translate(0,0)\"><path class=\"background\" d=\"M0,0h200v200h-200Z\" style=\"fill: none;\"></path><g><g class=\"mark-line role-mark child_marks\"><path d=\"M200,35.02444444444444L180,36.77555555555557L160,37.75333333333336L140,35.315555555555534L120,34.45777777777778L100,35.29777777777778L80,40.377777777777766L60,42.353333333333325L40,48.142222222222216L20,51.98666666666668L0,56.93111111111111\" style=\"fill: none; stroke: #e45756; stroke-width: 2;\"></path></g></g></g><g transform=\"translate(0,0)\"><path class=\"background\" d=\"M0,0h200v200h-200Z\" style=\"fill: none;\"></path><g><g class=\"mark-line role-mark child_marks\"><path d=\"M200,36.67777777777778L180,42.07111111111112L160,47.84L140,46.28666666666666L120,45.50222222222223L100,49.168888888888915L80,50.66888888888889L60,52.1888888888889L40,53.78888888888889L20,57.31333333333333L0,61.32222222222222\" style=\"fill: none; stroke: #eeca3b; stroke-width: 2;\"></path></g></g></g><g transform=\"translate(0,0)\"><path class=\"background\" d=\"M0,0h200v200h-200Z\" style=\"fill: none;\"></path><g><g class=\"mark-line role-mark child_marks\"><path d=\"M200,28.23111111111109L180,31.177777777777777L160,33.52888888888887L140,33.568888888888864L120,35.49555555555554L100,38.45555555555558L80,41.622222222222234L60,45.73333333333335L40,49.73333333333332L20,53.622222222222206L0,60.95555555555558\" style=\"fill: none; stroke: #ff9da6; stroke-width: 2;\"></path></g></g></g><g transform=\"translate(0,0)\"><path class=\"background\" d=\"M0,0h200v200h-200Z\" style=\"fill: none;\"></path><g><g class=\"mark-line role-mark child_marks\"><path d=\"M200,54.32444444444445L180,58.03777777777776L160,62.111111111111114L140,66.76222222222222L120,72.77555555555557L100,80.31333333333333L80,88.83777777777777L60,96.19111111111111L40,99.92888888888889L20,103.49333333333334L0,106.91111111111111\" style=\"fill: none; stroke: #bab0ac; stroke-width: 2;\"></path></g></g></g><g transform=\"translate(0,0)\"><path class=\"background\" d=\"M0,0h200v200h-200Z\" style=\"fill: none;\"></path><g><g class=\"mark-line role-mark child_marks\"><path d=\"M200,39.133333333333326L180,42.20888888888891L160,45.804444444444414L140,50.98444444444442L120,55.099999999999994L100,59.25333333333333L80,63.357777777777784L60,67.76888888888891L40,71.92888888888888L20,76.30000000000001L0,81.58888888888889\" style=\"fill: none; stroke: #4c78a8; stroke-width: 2;\"></path></g></g></g><g transform=\"translate(0,0)\"><path class=\"background\" d=\"M0,0h200v200h-200Z\" style=\"fill: none;\"></path><g><g class=\"mark-line role-mark child_marks\"><path d=\"M200,20.771111111111082L180,22.73333333333335L160,25.311111111111103L140,26.77777777777777L120,29.200000000000017L100,31.644444444444417L80,35.0888888888889L60,38.04444444444445L40,39.71111111111111L20,41.55555555555557L0,44.53333333333336\" style=\"fill: none; stroke: #f58518; stroke-width: 2;\"></path></g></g></g><g transform=\"translate(0,0)\"><path class=\"background\" d=\"M0,0h200v200h-200Z\" style=\"fill: none;\"></path><g><g class=\"mark-line role-mark child_marks\"><path d=\"M200,25.437777777777768L180,26.97777777777779L160,31.519999999999982L140,35.27555555555554L120,38.906666666666666L100,43.1888888888889L80,50.99555555555554L60,59.01999999999998L40,65.50444444444443L20,71.28L0,75.39111111111112\" style=\"fill: none; stroke: #e45756; stroke-width: 2;\"></path></g></g></g><g transform=\"translate(0,0)\"><path class=\"background\" d=\"M0,0h200v200h-200Z\" style=\"fill: none;\"></path><g><g class=\"mark-line role-mark child_marks\"><path d=\"M200,38.02444444444447L180,40.70666666666668L160,43.74888888888887L140,47.95333333333332L120,49.40444444444444L100,51.8822222222222L80,58.139999999999986L60,63.06L40,66.74888888888887L20,71.41555555555556L0,77.51555555555557\" style=\"fill: none; stroke: #54a24b; stroke-width: 2;\"></path></g></g></g><g transform=\"translate(0,0)\"><path class=\"background\" d=\"M0,0h200v200h-200Z\" style=\"fill: none;\"></path><g><g class=\"mark-line role-mark child_marks\"><path d=\"M200,24.928888888888878L180,26.393333333333317L160,28.311111111111103L140,31.7488888888889L120,33.884444444444455L100,36.77777777777777L80,42.77777777777777L60,49.22444444444443L40,54.613333333333316L20,60.35111111111112L0,66.60888888888888\" style=\"fill: none; stroke: #eeca3b; stroke-width: 2;\"></path></g></g></g><g transform=\"translate(0,0)\"><path class=\"background\" d=\"M0,0h200v200h-200Z\" style=\"fill: none;\"></path><g><g class=\"mark-line role-mark child_marks\"><path d=\"M200,26.060000000000002L180,28.537777777777762L160,30.77555555555557L140,34.635555555555555L120,35.16888888888886L100,36.18444444444444L80,38.55777777777777L60,42.837777777777774L40,48.24444444444441L20,55.00888888888892L0,61.5\" style=\"fill: none; stroke: #ff9da6; stroke-width: 2;\"></path></g></g></g><g transform=\"translate(0,0)\"><path class=\"background\" d=\"M0,0h200v200h-200Z\" style=\"fill: none;\"></path><g><g class=\"mark-line role-mark child_marks\"><path d=\"M200,39.47777777777779L180,42.56222222222223L160,44.54000000000002L140,47.873333333333335L120,53.23111111111109L100,58.384444444444455L80,62.69333333333333L60,67.48666666666668L40,73.88666666666668L20,81.20222222222222L0,89.2711111111111\" style=\"fill: none; stroke: #9d755d; stroke-width: 2;\"></path></g></g></g><g transform=\"translate(0,0)\"><path class=\"background\" d=\"M0,0h200v200h-200Z\" style=\"fill: none;\"></path><g><g class=\"mark-line role-mark child_marks\"><path d=\"M200,33.346666666666664L180,35.17111111111112L160,39.30666666666667L140,45.30444444444444L120,50.59777777777779L100,57.01777777777778L80,63.75555555555553L60,69.3422222222222L40,74.0488888888889L20,78.57777777777777L0,85.87555555555555\" style=\"fill: none; stroke: #bab0ac; stroke-width: 2;\"></path></g></g></g><g transform=\"translate(0,0)\"><path class=\"background\" d=\"M0,0h200v200h-200Z\" style=\"fill: none;\"></path><g><g class=\"mark-line role-mark child_marks\"><path d=\"M200,40.27111111111111L180,42.81333333333336L160,45.47777777777779L140,51.56L120,59.65777777777777L100,74.21333333333334L80,74.0088888888889L60,70.6511111111111L40,75.87777777777778L20,83.76222222222222L0,92.06666666666668\" style=\"fill: none; stroke: #f58518; stroke-width: 2;\"></path></g></g></g><g transform=\"translate(0,0)\"><path class=\"background\" d=\"M0,0h200v200h-200Z\" style=\"fill: none;\"></path><g><g class=\"mark-line role-mark child_marks\"><path d=\"M200,47.28L180,49.45333333333335L160,51.142222222222216L140,52.29111111111112L120,53.32888888888888L100,54.4377777777778L80,55.47777777777779L60,56.49555555555557L40,57.57555555555558L20,58.648888888888905L0,59.74666666666667\" style=\"fill: none; stroke: #ff9da6; stroke-width: 2;\"></path></g></g></g><g transform=\"translate(0,0)\"><path class=\"background\" d=\"M0,0h200v200h-200Z\" style=\"fill: none;\"></path><g><g class=\"mark-line role-mark child_marks\"><path d=\"M200,64.63111111111112L180,70.80666666666667L160,74.06444444444445L140,77.58L120,80.80888888888889L100,85.64222222222222L80,89.06L60,93.24L40,97.23777777777778L20,103.13333333333333L0,109.56444444444445\" style=\"fill: none; stroke: #9d755d; stroke-width: 2;\"></path></g></g></g><g transform=\"translate(0,0)\"><path class=\"background\" d=\"M0,0h200v200h-200Z\" style=\"fill: none;\"></path><g><g class=\"mark-line role-mark child_marks\"><path d=\"M200,38.74000000000001L180,39.895555555555575L160,39.417777777777786L140,40.51999999999998L120,40.51111111111112L100,41.75555555555556L80,44.19999999999999L60,46.66666666666666L40,49.97777777777776L20,54.20000000000002L0,60.866666666666674\" style=\"fill: none; stroke: #9d755d; stroke-width: 2;\"></path></g></g></g><g transform=\"translate(0,0)\"><path class=\"background\" d=\"M0,0h200v200h-200Z\" style=\"fill: none;\"></path><g><g class=\"mark-line role-mark child_marks\"><path d=\"M200,30.677777777777806L180,33.55111111111111L160,36.28888888888889L140,41.21111111111111L120,45.56L100,50.21111111111111L80,55.48444444444445L60,61.420000000000016L40,66.42222222222222L20,70.44666666666666L0,77.35555555555555\" style=\"fill: none; stroke: #e45756; stroke-width: 2;\"></path></g></g></g><g transform=\"translate(0,0)\"><path class=\"background\" d=\"M0,0h200v200h-200Z\" style=\"fill: none;\"></path><g><g class=\"mark-line role-mark child_marks\"><path d=\"M200,41.28666666666666L180,44.653333333333336L160,48.0311111111111L140,52.31555555555556L120,57.47999999999999L100,63.54222222222222L80,70.11777777777777L60,76.78222222222222L40,85.67777777777779L20,90.89777777777779L0,97.19333333333333\" style=\"fill: none; stroke: #bab0ac; stroke-width: 2;\"></path></g></g></g><g transform=\"translate(0,0)\"><path class=\"background\" d=\"M0,0h200v200h-200Z\" style=\"fill: none;\"></path><g><g class=\"mark-line role-mark child_marks\"><path d=\"M200,26.128888888888866L180,28.19999999999999L160,29.311111111111103L140,30.911111111111097L120,33.28888888888889L100,34.111111111111086L80,36.93333333333334L60,41.46666666666664L40,42.75555555555556L20,43.97777777777779L0,45.57777777777778\" style=\"fill: none; stroke: #f58518; stroke-width: 2;\"></path></g></g></g><g transform=\"translate(0,0)\"><path class=\"background\" d=\"M0,0h200v200h-200Z\" style=\"fill: none;\"></path><g><g class=\"mark-line role-mark child_marks\"><path d=\"M200,36.117777777777775L180,38.29777777777775L160,39.67555555555555L140,41.888888888888886L120,44.02222222222224L100,47.651111111111106L80,50.097777777777765L60,53.97333333333333L40,58.93555555555557L20,64.95555555555555L0,71.31777777777779\" style=\"fill: none; stroke: #e45756; stroke-width: 2;\"></path></g></g></g></g></g></g><g transform=\"translate(0,848)\"><path class=\"background\" d=\"M0.5,0.5h200v200h-200Z\" style=\"fill: none; stroke: #ddd;\"></path><g><g class=\"mark-group role-axis\"><g transform=\"translate(0.5,200.5)\"><path class=\"background\" d=\"M0,0h0v0h0Z\" style=\"pointer-events: none; fill: none;\"></path><g><g class=\"mark-rule role-axis-grid\" style=\"pointer-events: none;\"><line transform=\"translate(20,-200)\" x2=\"0\" y2=\"200\" style=\"fill: none; stroke: #ddd; stroke-width: 1; opacity: 1;\"></line><line transform=\"translate(60,-200)\" x2=\"0\" y2=\"200\" style=\"fill: none; stroke: #ddd; stroke-width: 1; opacity: 1;\"></line><line transform=\"translate(100,-200)\" x2=\"0\" y2=\"200\" style=\"fill: none; stroke: #ddd; stroke-width: 1; opacity: 1;\"></line><line transform=\"translate(140,-200)\" x2=\"0\" y2=\"200\" style=\"fill: none; stroke: #ddd; stroke-width: 1; opacity: 1;\"></line><line transform=\"translate(180,-200)\" x2=\"0\" y2=\"200\" style=\"fill: none; stroke: #ddd; stroke-width: 1; opacity: 1;\"></line></g></g></g></g><g class=\"mark-group role-axis\"><g transform=\"translate(0.5,0.5)\"><path class=\"background\" d=\"M0,0h0v0h0Z\" style=\"pointer-events: none; fill: none;\"></path><g><g class=\"mark-rule role-axis-grid\" style=\"pointer-events: none;\"><line transform=\"translate(0,200)\" x2=\"200\" y2=\"0\" style=\"fill: none; stroke: #ddd; stroke-width: 1; opacity: 1;\"></line><line transform=\"translate(0,156)\" x2=\"200\" y2=\"0\" style=\"fill: none; stroke: #ddd; stroke-width: 1; opacity: 1;\"></line><line transform=\"translate(0,111)\" x2=\"200\" y2=\"0\" style=\"fill: none; stroke: #ddd; stroke-width: 1; opacity: 1;\"></line><line transform=\"translate(0,67)\" x2=\"200\" y2=\"0\" style=\"fill: none; stroke: #ddd; stroke-width: 1; opacity: 1;\"></line><line transform=\"translate(0,22)\" x2=\"200\" y2=\"0\" style=\"fill: none; stroke: #ddd; stroke-width: 1; opacity: 1;\"></line></g></g></g></g><g class=\"mark-group role-scope child_pathgroup\"><g transform=\"translate(0,0)\"><path class=\"background\" d=\"M0,0h200v200h-200Z\" style=\"fill: none;\"></path><g><g class=\"mark-line role-mark child_marks\"><path d=\"M200,19.47777777777776L180,21.400000000000006L160,24.822222222222223L140,27.644444444444446L120,30.400000000000006L100,33.911111111111126L80,36.6888888888889L60,40.15555555555554L40,42.00000000000003L20,42.377777777777766L0,43.71111111111111\" style=\"fill: none; stroke: #72b7b2; stroke-width: 2;\"></path></g></g></g><g transform=\"translate(0,0)\"><path class=\"background\" d=\"M0,0h200v200h-200Z\" style=\"fill: none;\"></path><g><g class=\"mark-line role-mark child_marks\"><path d=\"M200,37.864444444444445L180,39.93777777777777L160,43.49777777777777L140,47.355555555555554L120,50.50222222222223L100,54.388888888888886L80,57.850311111111125L60,59.735822222222225L40,70.26417777777777L20,101.10808888888889L0,87.66897777777778\" style=\"fill: none; stroke: #72b7b2; stroke-width: 2;\"></path></g></g></g><g transform=\"translate(0,0)\"><path class=\"background\" d=\"M0,0h200v200h-200Z\" style=\"fill: none;\"></path><g><g class=\"mark-line role-mark child_marks\"><path d=\"M200,17.315555555555562L180,18.899999999999977L160,22.22222222222223L140,27.55333333333334L120,30.666666666666657L100,32.333333333333314L80,36.44444444444446L60,40L40,44.44444444444443L20,49.66666666666666L0,56.111111111111114\" style=\"fill: none; stroke: #bab0ac; stroke-width: 2;\"></path></g></g></g><g transform=\"translate(0,0)\"><path class=\"background\" d=\"M0,0h200v200h-200Z\" style=\"fill: none;\"></path><g><g class=\"mark-line role-mark child_marks\"><path d=\"M200,43L180,47.58222222222224L160,53.24222222222224L140,60.70888888888891L120,66.36222222222221L100,75.20222222222222L80,82.88444444444445L60,90.65999999999998L40,97.85777777777778L20,105.51555555555555L0,111.29333333333334\" style=\"fill: none; stroke: #e45756; stroke-width: 2;\"></path></g></g></g><g transform=\"translate(0,0)\"><path class=\"background\" d=\"M0,0h200v200h-200Z\" style=\"fill: none;\"></path><g><g class=\"mark-line role-mark child_marks\"><path d=\"M200,16.437777777777796L180,17.77777777777777L160,20.688888888888897L140,23.644444444444446L120,25.177777777777777L100,28.644444444444446L80,32.48888888888891L60,36.844444444444434L40,41.26666666666665L20,47.26666666666665L0,54.44444444444446\" style=\"fill: none; stroke: #bab0ac; stroke-width: 2;\"></path></g></g></g><g transform=\"translate(0,0)\"><path class=\"background\" d=\"M0,0h200v200h-200Z\" style=\"fill: none;\"></path><g><g class=\"mark-line role-mark child_marks\"><path d=\"M200,50.45111111111112L180,51.862222222222215L160,49.49555555555554L140,44.49333333333334L120,43.00666666666666L100,46.44444444444446L80,50.75777777777776L60,57.81555555555556L40,66.79555555555555L20,74.09777777777778L0,79.82000000000001\" style=\"fill: none; stroke: #b279a2; stroke-width: 2;\"></path></g></g></g><g transform=\"translate(0,0)\"><path class=\"background\" d=\"M0,0h200v200h-200Z\" style=\"fill: none;\"></path><g><g class=\"mark-line role-mark child_marks\"><path d=\"M200,25.282222222222202L180,28.78888888888889L160,34.11777777777775L140,39.45777777777778L120,44.866666666666646L100,50.837777777777774L80,56.07555555555555L60,60.862222222222215L40,71.74222222222221L20,77.1288888888889L0,82.93111111111111\" style=\"fill: none; stroke: #b279a2; stroke-width: 2;\"></path></g></g></g><g transform=\"translate(0,0)\"><path class=\"background\" d=\"M0,0h200v200h-200Z\" style=\"fill: none;\"></path><g><g class=\"mark-line role-mark child_marks\"><path d=\"M200,21.76888888888891L180,24.19999999999999L160,27.666666666666686L140,30.377777777777794L120,34.84444444444446L100,35.9111111111111L80,39.51111111111112L60,40.24444444444444L40,41.06666666666666L20,41.6888888888889L0,43.866666666666646\" style=\"fill: none; stroke: #54a24b; stroke-width: 2;\"></path></g></g></g><g transform=\"translate(0,0)\"><path class=\"background\" d=\"M0,0h200v200h-200Z\" style=\"fill: none;\"></path><g><g class=\"mark-line role-mark child_marks\"><path d=\"M200,40.69333333333333L180,43.77111111111111L160,47.635555555555555L140,52.31555555555556L120,57.44222222222223L100,62.04000000000002L80,66.53333333333333L60,70.96666666666667L40,74.68222222222222L20,78.31777777777778L0,85.92444444444445\" style=\"fill: none; stroke: #4c78a8; stroke-width: 2;\"></path></g></g></g></g></g></g><g transform=\"translate(0,1060)\"><path class=\"background\" d=\"M0.5,0.5h200v200h-200Z\" style=\"fill: none; stroke: #ddd;\"></path><g><g class=\"mark-group role-axis\"><g transform=\"translate(0.5,200.5)\"><path class=\"background\" d=\"M0,0h0v0h0Z\" style=\"pointer-events: none; fill: none;\"></path><g><g class=\"mark-rule role-axis-grid\" style=\"pointer-events: none;\"><line transform=\"translate(20,-200)\" x2=\"0\" y2=\"200\" style=\"fill: none; stroke: #ddd; stroke-width: 1; opacity: 1;\"></line><line transform=\"translate(60,-200)\" x2=\"0\" y2=\"200\" style=\"fill: none; stroke: #ddd; stroke-width: 1; opacity: 1;\"></line><line transform=\"translate(100,-200)\" x2=\"0\" y2=\"200\" style=\"fill: none; stroke: #ddd; stroke-width: 1; opacity: 1;\"></line><line transform=\"translate(140,-200)\" x2=\"0\" y2=\"200\" style=\"fill: none; stroke: #ddd; stroke-width: 1; opacity: 1;\"></line><line transform=\"translate(180,-200)\" x2=\"0\" y2=\"200\" style=\"fill: none; stroke: #ddd; stroke-width: 1; opacity: 1;\"></line></g></g></g></g><g class=\"mark-group role-axis\"><g transform=\"translate(0.5,0.5)\"><path class=\"background\" d=\"M0,0h0v0h0Z\" style=\"pointer-events: none; fill: none;\"></path><g><g class=\"mark-rule role-axis-grid\" style=\"pointer-events: none;\"><line transform=\"translate(0,200)\" x2=\"200\" y2=\"0\" style=\"fill: none; stroke: #ddd; stroke-width: 1; opacity: 1;\"></line><line transform=\"translate(0,156)\" x2=\"200\" y2=\"0\" style=\"fill: none; stroke: #ddd; stroke-width: 1; opacity: 1;\"></line><line transform=\"translate(0,111)\" x2=\"200\" y2=\"0\" style=\"fill: none; stroke: #ddd; stroke-width: 1; opacity: 1;\"></line><line transform=\"translate(0,67)\" x2=\"200\" y2=\"0\" style=\"fill: none; stroke: #ddd; stroke-width: 1; opacity: 1;\"></line><line transform=\"translate(0,22)\" x2=\"200\" y2=\"0\" style=\"fill: none; stroke: #ddd; stroke-width: 1; opacity: 1;\"></line></g></g></g></g><g class=\"mark-group role-scope child_pathgroup\"><g transform=\"translate(0,0)\"><path class=\"background\" d=\"M0,0h200v200h-200Z\" style=\"fill: none;\"></path><g><g class=\"mark-line role-mark child_marks\"><path d=\"M200,41.47111111111113L180,44.875555555555565L160,50.628888888888895L140,58.50222222222223L120,67.11777777777777L100,75.54222222222222L80,81.51333333333332L60,86.36222222222223L40,90.46000000000001L20,95.57333333333334L0,101.23555555555555\" style=\"fill: none; stroke: #4c78a8; stroke-width: 2;\"></path></g></g></g><g transform=\"translate(0,0)\"><path class=\"background\" d=\"M0,0h200v200h-200Z\" style=\"fill: none;\"></path><g><g class=\"mark-line role-mark child_marks\"><path d=\"M200,42.30222222222221L180,45.664444444444456L160,48.79555555555555L140,53.906666666666666L120,59.911111111111126L100,67.51111111111112L80,71.77333333333334L60,77.25777777777778L40,83.40222222222222L20,90.38888888888887L0,95.15333333333334\" style=\"fill: none; stroke: #72b7b2; stroke-width: 2;\"></path></g></g></g><g transform=\"translate(0,0)\"><path class=\"background\" d=\"M0,0h200v200h-200Z\" style=\"fill: none;\"></path><g><g class=\"mark-line role-mark child_marks\"><path d=\"M200,67.67777777777778L180,73.23111111111112L160,69.30888888888887L140,67.86444444444444L120,55.45777777777778L100,62.137777777777785L80,65.7488888888889L60,73.44444444444444L40,78.97999999999999L20,85.6511111111111L0,92.36222222222223\" style=\"fill: none; stroke: #54a24b; stroke-width: 2;\"></path></g></g></g><g transform=\"translate(0,0)\"><path class=\"background\" d=\"M0,0h200v200h-200Z\" style=\"fill: none;\"></path><g><g class=\"mark-line role-mark child_marks\"><path d=\"M200,20.566666666666663L180,22.897777777777776L160,26.068888888888864L140,29.044444444444423L120,32L100,34.55555555555554L80,37.644444444444446L60,40.82222222222222L40,42.77777777777777L20,45.79999999999998L0,49.24444444444444\" style=\"fill: none; stroke: #b279a2; stroke-width: 2;\"></path></g></g></g><g transform=\"translate(0,0)\"><path class=\"background\" d=\"M0,0h200v200h-200Z\" style=\"fill: none;\"></path><g><g class=\"mark-line role-mark child_marks\"><path d=\"M200,40.01555555555555L180,42.16L160,43.855555555555554L140,46.01777777777778L120,49.05333333333331L100,51.14888888888888L80,53.113333333333316L60,54.619999999999976L40,58.06666666666666L20,62.01333333333332L0,67.80222222222224\" style=\"fill: none; stroke: #f58518; stroke-width: 2;\"></path></g></g></g><g transform=\"translate(0,0)\"><path class=\"background\" d=\"M0,0h200v200h-200Z\" style=\"fill: none;\"></path><g><g class=\"mark-line role-mark child_marks\"><path d=\"M200,38.27333333333334L180,40.83111111111111L160,43.25999999999999L140,47.18222222222221L120,52.67777777777778L100,59.97333333333333L80,69.57777777777778L60,80.25333333333333L40,89.10888888888888L20,97.96888888888888L0,104.73777777777778\" style=\"fill: none; stroke: #54a24b; stroke-width: 2;\"></path></g></g></g></g></g></g></g><g class=\"mark-group role-legend\"><g transform=\"translate(221,0)\"><path class=\"background\" d=\"M0,0h161v1021h-161Z\" style=\"pointer-events: none; fill: none;\"></path><g><g class=\"mark-group role-legend-entry\"><g transform=\"translate(0,16)\"><path class=\"background\" d=\"M0,0h0v0h0Z\" style=\"pointer-events: none; fill: none;\"></path><g><g class=\"mark-group role-scope\"><g transform=\"translate(0,0)\"><path class=\"background\" d=\"M0,0h161v12.5h-161Z\" style=\"pointer-events: none; fill: none; opacity: 1;\"></path><g><g class=\"mark-symbol role-legend-symbol\" style=\"pointer-events: none;\"><path transform=\"translate(6,6)\" d=\"M5,0A5,5,0,1,1,-5,0A5,5,0,1,1,5,0\" style=\"fill: none; stroke: #4c78a8; stroke-width: 1.5; opacity: 1;\"></path></g><g class=\"mark-text role-legend-label\" style=\"pointer-events: none;\"><text text-anchor=\"start\" transform=\"translate(16,9)\" style=\"font-family: sans-serif; font-size: 10px; fill: #000; opacity: 1;\">Afghanistan</text></g></g></g><g transform=\"translate(0,16)\"><path class=\"background\" d=\"M0,0h161v12.5h-161Z\" style=\"pointer-events: none; fill: none; opacity: 1;\"></path><g><g class=\"mark-symbol role-legend-symbol\" style=\"pointer-events: none;\"><path transform=\"translate(6,6)\" d=\"M5,0A5,5,0,1,1,-5,0A5,5,0,1,1,5,0\" style=\"fill: none; stroke: #f58518; stroke-width: 1.5; opacity: 1;\"></path></g><g class=\"mark-text role-legend-label\" style=\"pointer-events: none;\"><text text-anchor=\"start\" transform=\"translate(16,9)\" style=\"font-family: sans-serif; font-size: 10px; fill: #000; opacity: 1;\">Argentina</text></g></g></g><g transform=\"translate(0,32)\"><path class=\"background\" d=\"M0,0h161v12.5h-161Z\" style=\"pointer-events: none; fill: none; opacity: 1;\"></path><g><g class=\"mark-symbol role-legend-symbol\" style=\"pointer-events: none;\"><path transform=\"translate(6,6)\" d=\"M5,0A5,5,0,1,1,-5,0A5,5,0,1,1,5,0\" style=\"fill: none; stroke: #e45756; stroke-width: 1.5; opacity: 1;\"></path></g><g class=\"mark-text role-legend-label\" style=\"pointer-events: none;\"><text text-anchor=\"start\" transform=\"translate(16,9)\" style=\"font-family: sans-serif; font-size: 10px; fill: #000; opacity: 1;\">Aruba</text></g></g></g><g transform=\"translate(0,48)\"><path class=\"background\" d=\"M0,0h161v12.5h-161Z\" style=\"pointer-events: none; fill: none; opacity: 1;\"></path><g><g class=\"mark-symbol role-legend-symbol\" style=\"pointer-events: none;\"><path transform=\"translate(6,6)\" d=\"M5,0A5,5,0,1,1,-5,0A5,5,0,1,1,5,0\" style=\"fill: none; stroke: #72b7b2; stroke-width: 1.5; opacity: 1;\"></path></g><g class=\"mark-text role-legend-label\" style=\"pointer-events: none;\"><text text-anchor=\"start\" transform=\"translate(16,9)\" style=\"font-family: sans-serif; font-size: 10px; fill: #000; opacity: 1;\">Australia</text></g></g></g><g transform=\"translate(0,64)\"><path class=\"background\" d=\"M0,0h161v12.5h-161Z\" style=\"pointer-events: none; fill: none; opacity: 1;\"></path><g><g class=\"mark-symbol role-legend-symbol\" style=\"pointer-events: none;\"><path transform=\"translate(6,6)\" d=\"M5,0A5,5,0,1,1,-5,0A5,5,0,1,1,5,0\" style=\"fill: none; stroke: #54a24b; stroke-width: 1.5; opacity: 1;\"></path></g><g class=\"mark-text role-legend-label\" style=\"pointer-events: none;\"><text text-anchor=\"start\" transform=\"translate(16,9)\" style=\"font-family: sans-serif; font-size: 10px; fill: #000; opacity: 1;\">Austria</text></g></g></g><g transform=\"translate(0,80)\"><path class=\"background\" d=\"M0,0h161v12.5h-161Z\" style=\"pointer-events: none; fill: none; opacity: 1;\"></path><g><g class=\"mark-symbol role-legend-symbol\" style=\"pointer-events: none;\"><path transform=\"translate(6,6)\" d=\"M5,0A5,5,0,1,1,-5,0A5,5,0,1,1,5,0\" style=\"fill: none; stroke: #eeca3b; stroke-width: 1.5; opacity: 1;\"></path></g><g class=\"mark-text role-legend-label\" style=\"pointer-events: none;\"><text text-anchor=\"start\" transform=\"translate(16,9)\" style=\"font-family: sans-serif; font-size: 10px; fill: #000; opacity: 1;\">Bahamas</text></g></g></g><g transform=\"translate(0,96)\"><path class=\"background\" d=\"M0,0h161v12.5h-161Z\" style=\"pointer-events: none; fill: none; opacity: 1;\"></path><g><g class=\"mark-symbol role-legend-symbol\" style=\"pointer-events: none;\"><path transform=\"translate(6,6)\" d=\"M5,0A5,5,0,1,1,-5,0A5,5,0,1,1,5,0\" style=\"fill: none; stroke: #b279a2; stroke-width: 1.5; opacity: 1;\"></path></g><g class=\"mark-text role-legend-label\" style=\"pointer-events: none;\"><text text-anchor=\"start\" transform=\"translate(16,9)\" style=\"font-family: sans-serif; font-size: 10px; fill: #000; opacity: 1;\">Bangladesh</text></g></g></g><g transform=\"translate(0,112)\"><path class=\"background\" d=\"M0,0h161v12.5h-161Z\" style=\"pointer-events: none; fill: none; opacity: 1;\"></path><g><g class=\"mark-symbol role-legend-symbol\" style=\"pointer-events: none;\"><path transform=\"translate(6,6)\" d=\"M5,0A5,5,0,1,1,-5,0A5,5,0,1,1,5,0\" style=\"fill: none; stroke: #ff9da6; stroke-width: 1.5; opacity: 1;\"></path></g><g class=\"mark-text role-legend-label\" style=\"pointer-events: none;\"><text text-anchor=\"start\" transform=\"translate(16,9)\" style=\"font-family: sans-serif; font-size: 10px; fill: #000; opacity: 1;\">Barbados</text></g></g></g><g transform=\"translate(0,128)\"><path class=\"background\" d=\"M0,0h161v12.5h-161Z\" style=\"pointer-events: none; fill: none; opacity: 1;\"></path><g><g class=\"mark-symbol role-legend-symbol\" style=\"pointer-events: none;\"><path transform=\"translate(6,6)\" d=\"M5,0A5,5,0,1,1,-5,0A5,5,0,1,1,5,0\" style=\"fill: none; stroke: #9d755d; stroke-width: 1.5; opacity: 1;\"></path></g><g class=\"mark-text role-legend-label\" style=\"pointer-events: none;\"><text text-anchor=\"start\" transform=\"translate(16,9)\" style=\"font-family: sans-serif; font-size: 10px; fill: #000; opacity: 1;\">Belgium</text></g></g></g><g transform=\"translate(0,144)\"><path class=\"background\" d=\"M0,0h161v12.5h-161Z\" style=\"pointer-events: none; fill: none; opacity: 1;\"></path><g><g class=\"mark-symbol role-legend-symbol\" style=\"pointer-events: none;\"><path transform=\"translate(6,6)\" d=\"M5,0A5,5,0,1,1,-5,0A5,5,0,1,1,5,0\" style=\"fill: none; stroke: #bab0ac; stroke-width: 1.5; opacity: 1;\"></path></g><g class=\"mark-text role-legend-label\" style=\"pointer-events: none;\"><text text-anchor=\"start\" transform=\"translate(16,9)\" style=\"font-family: sans-serif; font-size: 10px; fill: #000; opacity: 1;\">Bolivia</text></g></g></g><g transform=\"translate(0,160)\"><path class=\"background\" d=\"M0,0h161v12.5h-161Z\" style=\"pointer-events: none; fill: none; opacity: 1;\"></path><g><g class=\"mark-symbol role-legend-symbol\" style=\"pointer-events: none;\"><path transform=\"translate(6,6)\" d=\"M5,0A5,5,0,1,1,-5,0A5,5,0,1,1,5,0\" style=\"fill: none; stroke: #4c78a8; stroke-width: 1.5; opacity: 1;\"></path></g><g class=\"mark-text role-legend-label\" style=\"pointer-events: none;\"><text text-anchor=\"start\" transform=\"translate(16,9)\" style=\"font-family: sans-serif; font-size: 10px; fill: #000; opacity: 1;\">Brazil</text></g></g></g><g transform=\"translate(0,176)\"><path class=\"background\" d=\"M0,0h161v12.5h-161Z\" style=\"pointer-events: none; fill: none; opacity: 1;\"></path><g><g class=\"mark-symbol role-legend-symbol\" style=\"pointer-events: none;\"><path transform=\"translate(6,6)\" d=\"M5,0A5,5,0,1,1,-5,0A5,5,0,1,1,5,0\" style=\"fill: none; stroke: #f58518; stroke-width: 1.5; opacity: 1;\"></path></g><g class=\"mark-text role-legend-label\" style=\"pointer-events: none;\"><text text-anchor=\"start\" transform=\"translate(16,9)\" style=\"font-family: sans-serif; font-size: 10px; fill: #000; opacity: 1;\">Canada</text></g></g></g><g transform=\"translate(0,192)\"><path class=\"background\" d=\"M0,0h161v12.5h-161Z\" style=\"pointer-events: none; fill: none; opacity: 1;\"></path><g><g class=\"mark-symbol role-legend-symbol\" style=\"pointer-events: none;\"><path transform=\"translate(6,6)\" d=\"M5,0A5,5,0,1,1,-5,0A5,5,0,1,1,5,0\" style=\"fill: none; stroke: #e45756; stroke-width: 1.5; opacity: 1;\"></path></g><g class=\"mark-text role-legend-label\" style=\"pointer-events: none;\"><text text-anchor=\"start\" transform=\"translate(16,9)\" style=\"font-family: sans-serif; font-size: 10px; fill: #000; opacity: 1;\">Chile</text></g></g></g><g transform=\"translate(0,208)\"><path class=\"background\" d=\"M0,0h161v12.5h-161Z\" style=\"pointer-events: none; fill: none; opacity: 1;\"></path><g><g class=\"mark-symbol role-legend-symbol\" style=\"pointer-events: none;\"><path transform=\"translate(6,6)\" d=\"M5,0A5,5,0,1,1,-5,0A5,5,0,1,1,5,0\" style=\"fill: none; stroke: #72b7b2; stroke-width: 1.5; opacity: 1;\"></path></g><g class=\"mark-text role-legend-label\" style=\"pointer-events: none;\"><text text-anchor=\"start\" transform=\"translate(16,9)\" style=\"font-family: sans-serif; font-size: 10px; fill: #000; opacity: 1;\">China</text></g></g></g><g transform=\"translate(0,224)\"><path class=\"background\" d=\"M0,0h161v12.5h-161Z\" style=\"pointer-events: none; fill: none; opacity: 1;\"></path><g><g class=\"mark-symbol role-legend-symbol\" style=\"pointer-events: none;\"><path transform=\"translate(6,6)\" d=\"M5,0A5,5,0,1,1,-5,0A5,5,0,1,1,5,0\" style=\"fill: none; stroke: #54a24b; stroke-width: 1.5; opacity: 1;\"></path></g><g class=\"mark-text role-legend-label\" style=\"pointer-events: none;\"><text text-anchor=\"start\" transform=\"translate(16,9)\" style=\"font-family: sans-serif; font-size: 10px; fill: #000; opacity: 1;\">Colombia</text></g></g></g><g transform=\"translate(0,240)\"><path class=\"background\" d=\"M0,0h161v12.5h-161Z\" style=\"pointer-events: none; fill: none; opacity: 1;\"></path><g><g class=\"mark-symbol role-legend-symbol\" style=\"pointer-events: none;\"><path transform=\"translate(6,6)\" d=\"M5,0A5,5,0,1,1,-5,0A5,5,0,1,1,5,0\" style=\"fill: none; stroke: #eeca3b; stroke-width: 1.5; opacity: 1;\"></path></g><g class=\"mark-text role-legend-label\" style=\"pointer-events: none;\"><text text-anchor=\"start\" transform=\"translate(16,9)\" style=\"font-family: sans-serif; font-size: 10px; fill: #000; opacity: 1;\">Costa Rica</text></g></g></g><g transform=\"translate(0,256)\"><path class=\"background\" d=\"M0,0h161v12.5h-161Z\" style=\"pointer-events: none; fill: none; opacity: 1;\"></path><g><g class=\"mark-symbol role-legend-symbol\" style=\"pointer-events: none;\"><path transform=\"translate(6,6)\" d=\"M5,0A5,5,0,1,1,-5,0A5,5,0,1,1,5,0\" style=\"fill: none; stroke: #b279a2; stroke-width: 1.5; opacity: 1;\"></path></g><g class=\"mark-text role-legend-label\" style=\"pointer-events: none;\"><text text-anchor=\"start\" transform=\"translate(16,9)\" style=\"font-family: sans-serif; font-size: 10px; fill: #000; opacity: 1;\">Croatia</text></g></g></g><g transform=\"translate(0,272)\"><path class=\"background\" d=\"M0,0h161v12.5h-161Z\" style=\"pointer-events: none; fill: none; opacity: 1;\"></path><g><g class=\"mark-symbol role-legend-symbol\" style=\"pointer-events: none;\"><path transform=\"translate(6,6)\" d=\"M5,0A5,5,0,1,1,-5,0A5,5,0,1,1,5,0\" style=\"fill: none; stroke: #ff9da6; stroke-width: 1.5; opacity: 1;\"></path></g><g class=\"mark-text role-legend-label\" style=\"pointer-events: none;\"><text text-anchor=\"start\" transform=\"translate(16,9)\" style=\"font-family: sans-serif; font-size: 10px; fill: #000; opacity: 1;\">Cuba</text></g></g></g><g transform=\"translate(0,288)\"><path class=\"background\" d=\"M0,0h161v12.5h-161Z\" style=\"pointer-events: none; fill: none; opacity: 1;\"></path><g><g class=\"mark-symbol role-legend-symbol\" style=\"pointer-events: none;\"><path transform=\"translate(6,6)\" d=\"M5,0A5,5,0,1,1,-5,0A5,5,0,1,1,5,0\" style=\"fill: none; stroke: #9d755d; stroke-width: 1.5; opacity: 1;\"></path></g><g class=\"mark-text role-legend-label\" style=\"pointer-events: none;\"><text text-anchor=\"start\" transform=\"translate(16,9)\" style=\"font-family: sans-serif; font-size: 10px; fill: #000; opacity: 1;\">Dominican Republic</text></g></g></g><g transform=\"translate(0,304)\"><path class=\"background\" d=\"M0,0h161v12.5h-161Z\" style=\"pointer-events: none; fill: none; opacity: 1;\"></path><g><g class=\"mark-symbol role-legend-symbol\" style=\"pointer-events: none;\"><path transform=\"translate(6,6)\" d=\"M5,0A5,5,0,1,1,-5,0A5,5,0,1,1,5,0\" style=\"fill: none; stroke: #bab0ac; stroke-width: 1.5; opacity: 1;\"></path></g><g class=\"mark-text role-legend-label\" style=\"pointer-events: none;\"><text text-anchor=\"start\" transform=\"translate(16,9)\" style=\"font-family: sans-serif; font-size: 10px; fill: #000; opacity: 1;\">Ecuador</text></g></g></g><g transform=\"translate(0,320)\"><path class=\"background\" d=\"M0,0h161v12.5h-161Z\" style=\"pointer-events: none; fill: none; opacity: 1;\"></path><g><g class=\"mark-symbol role-legend-symbol\" style=\"pointer-events: none;\"><path transform=\"translate(6,6)\" d=\"M5,0A5,5,0,1,1,-5,0A5,5,0,1,1,5,0\" style=\"fill: none; stroke: #4c78a8; stroke-width: 1.5; opacity: 1;\"></path></g><g class=\"mark-text role-legend-label\" style=\"pointer-events: none;\"><text text-anchor=\"start\" transform=\"translate(16,9)\" style=\"font-family: sans-serif; font-size: 10px; fill: #000; opacity: 1;\">Egypt</text></g></g></g><g transform=\"translate(0,336)\"><path class=\"background\" d=\"M0,0h161v12.5h-161Z\" style=\"pointer-events: none; fill: none; opacity: 1;\"></path><g><g class=\"mark-symbol role-legend-symbol\" style=\"pointer-events: none;\"><path transform=\"translate(6,6)\" d=\"M5,0A5,5,0,1,1,-5,0A5,5,0,1,1,5,0\" style=\"fill: none; stroke: #f58518; stroke-width: 1.5; opacity: 1;\"></path></g><g class=\"mark-text role-legend-label\" style=\"pointer-events: none;\"><text text-anchor=\"start\" transform=\"translate(16,9)\" style=\"font-family: sans-serif; font-size: 10px; fill: #000; opacity: 1;\">El Salvador</text></g></g></g><g transform=\"translate(0,352)\"><path class=\"background\" d=\"M0,0h161v12.5h-161Z\" style=\"pointer-events: none; fill: none; opacity: 1;\"></path><g><g class=\"mark-symbol role-legend-symbol\" style=\"pointer-events: none;\"><path transform=\"translate(6,6)\" d=\"M5,0A5,5,0,1,1,-5,0A5,5,0,1,1,5,0\" style=\"fill: none; stroke: #e45756; stroke-width: 1.5; opacity: 1;\"></path></g><g class=\"mark-text role-legend-label\" style=\"pointer-events: none;\"><text text-anchor=\"start\" transform=\"translate(16,9)\" style=\"font-family: sans-serif; font-size: 10px; fill: #000; opacity: 1;\">Finland</text></g></g></g><g transform=\"translate(0,368)\"><path class=\"background\" d=\"M0,0h161v12.5h-161Z\" style=\"pointer-events: none; fill: none; opacity: 1;\"></path><g><g class=\"mark-symbol role-legend-symbol\" style=\"pointer-events: none;\"><path transform=\"translate(6,6)\" d=\"M5,0A5,5,0,1,1,-5,0A5,5,0,1,1,5,0\" style=\"fill: none; stroke: #72b7b2; stroke-width: 1.5; opacity: 1;\"></path></g><g class=\"mark-text role-legend-label\" style=\"pointer-events: none;\"><text text-anchor=\"start\" transform=\"translate(16,9)\" style=\"font-family: sans-serif; font-size: 10px; fill: #000; opacity: 1;\">France</text></g></g></g><g transform=\"translate(0,384)\"><path class=\"background\" d=\"M0,0h161v12.5h-161Z\" style=\"pointer-events: none; fill: none; opacity: 1;\"></path><g><g class=\"mark-symbol role-legend-symbol\" style=\"pointer-events: none;\"><path transform=\"translate(6,6)\" d=\"M5,0A5,5,0,1,1,-5,0A5,5,0,1,1,5,0\" style=\"fill: none; stroke: #54a24b; stroke-width: 1.5; opacity: 1;\"></path></g><g class=\"mark-text role-legend-label\" style=\"pointer-events: none;\"><text text-anchor=\"start\" transform=\"translate(16,9)\" style=\"font-family: sans-serif; font-size: 10px; fill: #000; opacity: 1;\">Georgia</text></g></g></g><g transform=\"translate(0,400)\"><path class=\"background\" d=\"M0,0h161v12.5h-161Z\" style=\"pointer-events: none; fill: none; opacity: 1;\"></path><g><g class=\"mark-symbol role-legend-symbol\" style=\"pointer-events: none;\"><path transform=\"translate(6,6)\" d=\"M5,0A5,5,0,1,1,-5,0A5,5,0,1,1,5,0\" style=\"fill: none; stroke: #eeca3b; stroke-width: 1.5; opacity: 1;\"></path></g><g class=\"mark-text role-legend-label\" style=\"pointer-events: none;\"><text text-anchor=\"start\" transform=\"translate(16,9)\" style=\"font-family: sans-serif; font-size: 10px; fill: #000; opacity: 1;\">Germany</text></g></g></g><g transform=\"translate(0,416)\"><path class=\"background\" d=\"M0,0h161v12.5h-161Z\" style=\"pointer-events: none; fill: none; opacity: 1;\"></path><g><g class=\"mark-symbol role-legend-symbol\" style=\"pointer-events: none;\"><path transform=\"translate(6,6)\" d=\"M5,0A5,5,0,1,1,-5,0A5,5,0,1,1,5,0\" style=\"fill: none; stroke: #b279a2; stroke-width: 1.5; opacity: 1;\"></path></g><g class=\"mark-text role-legend-label\" style=\"pointer-events: none;\"><text text-anchor=\"start\" transform=\"translate(16,9)\" style=\"font-family: sans-serif; font-size: 10px; fill: #000; opacity: 1;\">Greece</text></g></g></g><g transform=\"translate(0,432)\"><path class=\"background\" d=\"M0,0h161v12.5h-161Z\" style=\"pointer-events: none; fill: none; opacity: 1;\"></path><g><g class=\"mark-symbol role-legend-symbol\" style=\"pointer-events: none;\"><path transform=\"translate(6,6)\" d=\"M5,0A5,5,0,1,1,-5,0A5,5,0,1,1,5,0\" style=\"fill: none; stroke: #ff9da6; stroke-width: 1.5; opacity: 1;\"></path></g><g class=\"mark-text role-legend-label\" style=\"pointer-events: none;\"><text text-anchor=\"start\" transform=\"translate(16,9)\" style=\"font-family: sans-serif; font-size: 10px; fill: #000; opacity: 1;\">Grenada</text></g></g></g><g transform=\"translate(0,448)\"><path class=\"background\" d=\"M0,0h161v12.5h-161Z\" style=\"pointer-events: none; fill: none; opacity: 1;\"></path><g><g class=\"mark-symbol role-legend-symbol\" style=\"pointer-events: none;\"><path transform=\"translate(6,6)\" d=\"M5,0A5,5,0,1,1,-5,0A5,5,0,1,1,5,0\" style=\"fill: none; stroke: #9d755d; stroke-width: 1.5; opacity: 1;\"></path></g><g class=\"mark-text role-legend-label\" style=\"pointer-events: none;\"><text text-anchor=\"start\" transform=\"translate(16,9)\" style=\"font-family: sans-serif; font-size: 10px; fill: #000; opacity: 1;\">Haiti</text></g></g></g><g transform=\"translate(0,464)\"><path class=\"background\" d=\"M0,0h161v12.5h-161Z\" style=\"pointer-events: none; fill: none; opacity: 1;\"></path><g><g class=\"mark-symbol role-legend-symbol\" style=\"pointer-events: none;\"><path transform=\"translate(6,6)\" d=\"M5,0A5,5,0,1,1,-5,0A5,5,0,1,1,5,0\" style=\"fill: none; stroke: #bab0ac; stroke-width: 1.5; opacity: 1;\"></path></g><g class=\"mark-text role-legend-label\" style=\"pointer-events: none;\"><text text-anchor=\"start\" transform=\"translate(16,9)\" style=\"font-family: sans-serif; font-size: 10px; fill: #000; opacity: 1;\">Hong Kong</text></g></g></g><g transform=\"translate(0,480)\"><path class=\"background\" d=\"M0,0h161v12.5h-161Z\" style=\"pointer-events: none; fill: none; opacity: 1;\"></path><g><g class=\"mark-symbol role-legend-symbol\" style=\"pointer-events: none;\"><path transform=\"translate(6,6)\" d=\"M5,0A5,5,0,1,1,-5,0A5,5,0,1,1,5,0\" style=\"fill: none; stroke: #4c78a8; stroke-width: 1.5; opacity: 1;\"></path></g><g class=\"mark-text role-legend-label\" style=\"pointer-events: none;\"><text text-anchor=\"start\" transform=\"translate(16,9)\" style=\"font-family: sans-serif; font-size: 10px; fill: #000; opacity: 1;\">Iceland</text></g></g></g><g transform=\"translate(0,496)\"><path class=\"background\" d=\"M0,0h161v12.5h-161Z\" style=\"pointer-events: none; fill: none; opacity: 1;\"></path><g><g class=\"mark-symbol role-legend-symbol\" style=\"pointer-events: none;\"><path transform=\"translate(6,6)\" d=\"M5,0A5,5,0,1,1,-5,0A5,5,0,1,1,5,0\" style=\"fill: none; stroke: #f58518; stroke-width: 1.5; opacity: 1;\"></path></g><g class=\"mark-text role-legend-label\" style=\"pointer-events: none;\"><text text-anchor=\"start\" transform=\"translate(16,9)\" style=\"font-family: sans-serif; font-size: 10px; fill: #000; opacity: 1;\">India</text></g></g></g><g transform=\"translate(0,512)\"><path class=\"background\" d=\"M0,0h161v12.5h-161Z\" style=\"pointer-events: none; fill: none; opacity: 1;\"></path><g><g class=\"mark-symbol role-legend-symbol\" style=\"pointer-events: none;\"><path transform=\"translate(6,6)\" d=\"M5,0A5,5,0,1,1,-5,0A5,5,0,1,1,5,0\" style=\"fill: none; stroke: #e45756; stroke-width: 1.5; opacity: 1;\"></path></g><g class=\"mark-text role-legend-label\" style=\"pointer-events: none;\"><text text-anchor=\"start\" transform=\"translate(16,9)\" style=\"font-family: sans-serif; font-size: 10px; fill: #000; opacity: 1;\">Indonesia</text></g></g></g><g transform=\"translate(0,528)\"><path class=\"background\" d=\"M0,0h161v12.5h-161Z\" style=\"pointer-events: none; fill: none; opacity: 1;\"></path><g><g class=\"mark-symbol role-legend-symbol\" style=\"pointer-events: none;\"><path transform=\"translate(6,6)\" d=\"M5,0A5,5,0,1,1,-5,0A5,5,0,1,1,5,0\" style=\"fill: none; stroke: #72b7b2; stroke-width: 1.5; opacity: 1;\"></path></g><g class=\"mark-text role-legend-label\" style=\"pointer-events: none;\"><text text-anchor=\"start\" transform=\"translate(16,9)\" style=\"font-family: sans-serif; font-size: 10px; fill: #000; opacity: 1;\">Iran</text></g></g></g><g transform=\"translate(0,544)\"><path class=\"background\" d=\"M0,0h161v12.5h-161Z\" style=\"pointer-events: none; fill: none; opacity: 1;\"></path><g><g class=\"mark-symbol role-legend-symbol\" style=\"pointer-events: none;\"><path transform=\"translate(6,6)\" d=\"M5,0A5,5,0,1,1,-5,0A5,5,0,1,1,5,0\" style=\"fill: none; stroke: #54a24b; stroke-width: 1.5; opacity: 1;\"></path></g><g class=\"mark-text role-legend-label\" style=\"pointer-events: none;\"><text text-anchor=\"start\" transform=\"translate(16,9)\" style=\"font-family: sans-serif; font-size: 10px; fill: #000; opacity: 1;\">Iraq</text></g></g></g><g transform=\"translate(0,560)\"><path class=\"background\" d=\"M0,0h161v12.5h-161Z\" style=\"pointer-events: none; fill: none; opacity: 1;\"></path><g><g class=\"mark-symbol role-legend-symbol\" style=\"pointer-events: none;\"><path transform=\"translate(6,6)\" d=\"M5,0A5,5,0,1,1,-5,0A5,5,0,1,1,5,0\" style=\"fill: none; stroke: #eeca3b; stroke-width: 1.5; opacity: 1;\"></path></g><g class=\"mark-text role-legend-label\" style=\"pointer-events: none;\"><text text-anchor=\"start\" transform=\"translate(16,9)\" style=\"font-family: sans-serif; font-size: 10px; fill: #000; opacity: 1;\">Ireland</text></g></g></g><g transform=\"translate(0,576)\"><path class=\"background\" d=\"M0,0h161v12.5h-161Z\" style=\"pointer-events: none; fill: none; opacity: 1;\"></path><g><g class=\"mark-symbol role-legend-symbol\" style=\"pointer-events: none;\"><path transform=\"translate(6,6)\" d=\"M5,0A5,5,0,1,1,-5,0A5,5,0,1,1,5,0\" style=\"fill: none; stroke: #b279a2; stroke-width: 1.5; opacity: 1;\"></path></g><g class=\"mark-text role-legend-label\" style=\"pointer-events: none;\"><text text-anchor=\"start\" transform=\"translate(16,9)\" style=\"font-family: sans-serif; font-size: 10px; fill: #000; opacity: 1;\">Israel</text></g></g></g><g transform=\"translate(0,592)\"><path class=\"background\" d=\"M0,0h161v12.5h-161Z\" style=\"pointer-events: none; fill: none; opacity: 1;\"></path><g><g class=\"mark-symbol role-legend-symbol\" style=\"pointer-events: none;\"><path transform=\"translate(6,6)\" d=\"M5,0A5,5,0,1,1,-5,0A5,5,0,1,1,5,0\" style=\"fill: none; stroke: #ff9da6; stroke-width: 1.5; opacity: 1;\"></path></g><g class=\"mark-text role-legend-label\" style=\"pointer-events: none;\"><text text-anchor=\"start\" transform=\"translate(16,9)\" style=\"font-family: sans-serif; font-size: 10px; fill: #000; opacity: 1;\">Italy</text></g></g></g><g transform=\"translate(0,608)\"><path class=\"background\" d=\"M0,0h161v12.5h-161Z\" style=\"pointer-events: none; fill: none; opacity: 1;\"></path><g><g class=\"mark-symbol role-legend-symbol\" style=\"pointer-events: none;\"><path transform=\"translate(6,6)\" d=\"M5,0A5,5,0,1,1,-5,0A5,5,0,1,1,5,0\" style=\"fill: none; stroke: #9d755d; stroke-width: 1.5; opacity: 1;\"></path></g><g class=\"mark-text role-legend-label\" style=\"pointer-events: none;\"><text text-anchor=\"start\" transform=\"translate(16,9)\" style=\"font-family: sans-serif; font-size: 10px; fill: #000; opacity: 1;\">Jamaica</text></g></g></g><g transform=\"translate(0,624)\"><path class=\"background\" d=\"M0,0h161v12.5h-161Z\" style=\"pointer-events: none; fill: none; opacity: 1;\"></path><g><g class=\"mark-symbol role-legend-symbol\" style=\"pointer-events: none;\"><path transform=\"translate(6,6)\" d=\"M5,0A5,5,0,1,1,-5,0A5,5,0,1,1,5,0\" style=\"fill: none; stroke: #bab0ac; stroke-width: 1.5; opacity: 1;\"></path></g><g class=\"mark-text role-legend-label\" style=\"pointer-events: none;\"><text text-anchor=\"start\" transform=\"translate(16,9)\" style=\"font-family: sans-serif; font-size: 10px; fill: #000; opacity: 1;\">Japan</text></g></g></g><g transform=\"translate(0,640)\"><path class=\"background\" d=\"M0,0h161v12.5h-161Z\" style=\"pointer-events: none; fill: none; opacity: 1;\"></path><g><g class=\"mark-symbol role-legend-symbol\" style=\"pointer-events: none;\"><path transform=\"translate(6,6)\" d=\"M5,0A5,5,0,1,1,-5,0A5,5,0,1,1,5,0\" style=\"fill: none; stroke: #4c78a8; stroke-width: 1.5; opacity: 1;\"></path></g><g class=\"mark-text role-legend-label\" style=\"pointer-events: none;\"><text text-anchor=\"start\" transform=\"translate(16,9)\" style=\"font-family: sans-serif; font-size: 10px; fill: #000; opacity: 1;\">Kenya</text></g></g></g><g transform=\"translate(0,656)\"><path class=\"background\" d=\"M0,0h161v12.5h-161Z\" style=\"pointer-events: none; fill: none; opacity: 1;\"></path><g><g class=\"mark-symbol role-legend-symbol\" style=\"pointer-events: none;\"><path transform=\"translate(6,6)\" d=\"M5,0A5,5,0,1,1,-5,0A5,5,0,1,1,5,0\" style=\"fill: none; stroke: #f58518; stroke-width: 1.5; opacity: 1;\"></path></g><g class=\"mark-text role-legend-label\" style=\"pointer-events: none;\"><text text-anchor=\"start\" transform=\"translate(16,9)\" style=\"font-family: sans-serif; font-size: 10px; fill: #000; opacity: 1;\">Lebanon</text></g></g></g><g transform=\"translate(0,672)\"><path class=\"background\" d=\"M0,0h161v12.5h-161Z\" style=\"pointer-events: none; fill: none; opacity: 1;\"></path><g><g class=\"mark-symbol role-legend-symbol\" style=\"pointer-events: none;\"><path transform=\"translate(6,6)\" d=\"M5,0A5,5,0,1,1,-5,0A5,5,0,1,1,5,0\" style=\"fill: none; stroke: #e45756; stroke-width: 1.5; opacity: 1;\"></path></g><g class=\"mark-text role-legend-label\" style=\"pointer-events: none;\"><text text-anchor=\"start\" transform=\"translate(16,9)\" style=\"font-family: sans-serif; font-size: 10px; fill: #000; opacity: 1;\">Mexico</text></g></g></g><g transform=\"translate(0,688)\"><path class=\"background\" d=\"M0,0h161v12.5h-161Z\" style=\"pointer-events: none; fill: none; opacity: 1;\"></path><g><g class=\"mark-symbol role-legend-symbol\" style=\"pointer-events: none;\"><path transform=\"translate(6,6)\" d=\"M5,0A5,5,0,1,1,-5,0A5,5,0,1,1,5,0\" style=\"fill: none; stroke: #72b7b2; stroke-width: 1.5; opacity: 1;\"></path></g><g class=\"mark-text role-legend-label\" style=\"pointer-events: none;\"><text text-anchor=\"start\" transform=\"translate(16,9)\" style=\"font-family: sans-serif; font-size: 10px; fill: #000; opacity: 1;\">Netherlands</text></g></g></g><g transform=\"translate(0,704)\"><path class=\"background\" d=\"M0,0h161v12.5h-161Z\" style=\"pointer-events: none; fill: none; opacity: 1;\"></path><g><g class=\"mark-symbol role-legend-symbol\" style=\"pointer-events: none;\"><path transform=\"translate(6,6)\" d=\"M5,0A5,5,0,1,1,-5,0A5,5,0,1,1,5,0\" style=\"fill: none; stroke: #54a24b; stroke-width: 1.5; opacity: 1;\"></path></g><g class=\"mark-text role-legend-label\" style=\"pointer-events: none;\"><text text-anchor=\"start\" transform=\"translate(16,9)\" style=\"font-family: sans-serif; font-size: 10px; fill: #000; opacity: 1;\">New Zealand</text></g></g></g><g transform=\"translate(0,720)\"><path class=\"background\" d=\"M0,0h161v12.5h-161Z\" style=\"pointer-events: none; fill: none; opacity: 1;\"></path><g><g class=\"mark-symbol role-legend-symbol\" style=\"pointer-events: none;\"><path transform=\"translate(6,6)\" d=\"M5,0A5,5,0,1,1,-5,0A5,5,0,1,1,5,0\" style=\"fill: none; stroke: #eeca3b; stroke-width: 1.5; opacity: 1;\"></path></g><g class=\"mark-text role-legend-label\" style=\"pointer-events: none;\"><text text-anchor=\"start\" transform=\"translate(16,9)\" style=\"font-family: sans-serif; font-size: 10px; fill: #000; opacity: 1;\">Nigeria</text></g></g></g><g transform=\"translate(0,736)\"><path class=\"background\" d=\"M0,0h161v12.5h-161Z\" style=\"pointer-events: none; fill: none; opacity: 1;\"></path><g><g class=\"mark-symbol role-legend-symbol\" style=\"pointer-events: none;\"><path transform=\"translate(6,6)\" d=\"M5,0A5,5,0,1,1,-5,0A5,5,0,1,1,5,0\" style=\"fill: none; stroke: #b279a2; stroke-width: 1.5; opacity: 1;\"></path></g><g class=\"mark-text role-legend-label\" style=\"pointer-events: none;\"><text text-anchor=\"start\" transform=\"translate(16,9)\" style=\"font-family: sans-serif; font-size: 10px; fill: #000; opacity: 1;\">North Korea</text></g></g></g><g transform=\"translate(0,752)\"><path class=\"background\" d=\"M0,0h161v12.5h-161Z\" style=\"pointer-events: none; fill: none; opacity: 1;\"></path><g><g class=\"mark-symbol role-legend-symbol\" style=\"pointer-events: none;\"><path transform=\"translate(6,6)\" d=\"M5,0A5,5,0,1,1,-5,0A5,5,0,1,1,5,0\" style=\"fill: none; stroke: #ff9da6; stroke-width: 1.5; opacity: 1;\"></path></g><g class=\"mark-text role-legend-label\" style=\"pointer-events: none;\"><text text-anchor=\"start\" transform=\"translate(16,9)\" style=\"font-family: sans-serif; font-size: 10px; fill: #000; opacity: 1;\">Norway</text></g></g></g><g transform=\"translate(0,768)\"><path class=\"background\" d=\"M0,0h161v12.5h-161Z\" style=\"pointer-events: none; fill: none; opacity: 1;\"></path><g><g class=\"mark-symbol role-legend-symbol\" style=\"pointer-events: none;\"><path transform=\"translate(6,6)\" d=\"M5,0A5,5,0,1,1,-5,0A5,5,0,1,1,5,0\" style=\"fill: none; stroke: #9d755d; stroke-width: 1.5; opacity: 1;\"></path></g><g class=\"mark-text role-legend-label\" style=\"pointer-events: none;\"><text text-anchor=\"start\" transform=\"translate(16,9)\" style=\"font-family: sans-serif; font-size: 10px; fill: #000; opacity: 1;\">Pakistan</text></g></g></g><g transform=\"translate(0,784)\"><path class=\"background\" d=\"M0,0h161v12.5h-161Z\" style=\"pointer-events: none; fill: none; opacity: 1;\"></path><g><g class=\"mark-symbol role-legend-symbol\" style=\"pointer-events: none;\"><path transform=\"translate(6,6)\" d=\"M5,0A5,5,0,1,1,-5,0A5,5,0,1,1,5,0\" style=\"fill: none; stroke: #bab0ac; stroke-width: 1.5; opacity: 1;\"></path></g><g class=\"mark-text role-legend-label\" style=\"pointer-events: none;\"><text text-anchor=\"start\" transform=\"translate(16,9)\" style=\"font-family: sans-serif; font-size: 10px; fill: #000; opacity: 1;\">Peru</text></g></g></g><g transform=\"translate(0,800)\"><path class=\"background\" d=\"M0,0h161v12.5h-161Z\" style=\"pointer-events: none; fill: none; opacity: 1;\"></path><g><g class=\"mark-symbol role-legend-symbol\" style=\"pointer-events: none;\"><path transform=\"translate(6,6)\" d=\"M5,0A5,5,0,1,1,-5,0A5,5,0,1,1,5,0\" style=\"fill: none; stroke: #4c78a8; stroke-width: 1.5; opacity: 1;\"></path></g><g class=\"mark-text role-legend-label\" style=\"pointer-events: none;\"><text text-anchor=\"start\" transform=\"translate(16,9)\" style=\"font-family: sans-serif; font-size: 10px; fill: #000; opacity: 1;\">Philippines</text></g></g></g><g transform=\"translate(0,816)\"><path class=\"background\" d=\"M0,0h161v12.5h-161Z\" style=\"pointer-events: none; fill: none; opacity: 1;\"></path><g><g class=\"mark-symbol role-legend-symbol\" style=\"pointer-events: none;\"><path transform=\"translate(6,6)\" d=\"M5,0A5,5,0,1,1,-5,0A5,5,0,1,1,5,0\" style=\"fill: none; stroke: #f58518; stroke-width: 1.5; opacity: 1;\"></path></g><g class=\"mark-text role-legend-label\" style=\"pointer-events: none;\"><text text-anchor=\"start\" transform=\"translate(16,9)\" style=\"font-family: sans-serif; font-size: 10px; fill: #000; opacity: 1;\">Poland</text></g></g></g><g transform=\"translate(0,832)\"><path class=\"background\" d=\"M0,0h161v12.5h-161Z\" style=\"pointer-events: none; fill: none; opacity: 1;\"></path><g><g class=\"mark-symbol role-legend-symbol\" style=\"pointer-events: none;\"><path transform=\"translate(6,6)\" d=\"M5,0A5,5,0,1,1,-5,0A5,5,0,1,1,5,0\" style=\"fill: none; stroke: #e45756; stroke-width: 1.5; opacity: 1;\"></path></g><g class=\"mark-text role-legend-label\" style=\"pointer-events: none;\"><text text-anchor=\"start\" transform=\"translate(16,9)\" style=\"font-family: sans-serif; font-size: 10px; fill: #000; opacity: 1;\">Portugal</text></g></g></g><g transform=\"translate(0,848)\"><path class=\"background\" d=\"M0,0h161v12.5h-161Z\" style=\"pointer-events: none; fill: none; opacity: 1;\"></path><g><g class=\"mark-symbol role-legend-symbol\" style=\"pointer-events: none;\"><path transform=\"translate(6,6)\" d=\"M5,0A5,5,0,1,1,-5,0A5,5,0,1,1,5,0\" style=\"fill: none; stroke: #72b7b2; stroke-width: 1.5; opacity: 1;\"></path></g><g class=\"mark-text role-legend-label\" style=\"pointer-events: none;\"><text text-anchor=\"start\" transform=\"translate(16,9)\" style=\"font-family: sans-serif; font-size: 10px; fill: #000; opacity: 1;\">Rwanda</text></g></g></g><g transform=\"translate(0,864)\"><path class=\"background\" d=\"M0,0h161v12.5h-161Z\" style=\"pointer-events: none; fill: none; opacity: 1;\"></path><g><g class=\"mark-symbol role-legend-symbol\" style=\"pointer-events: none;\"><path transform=\"translate(6,6)\" d=\"M5,0A5,5,0,1,1,-5,0A5,5,0,1,1,5,0\" style=\"fill: none; stroke: #54a24b; stroke-width: 1.5; opacity: 1;\"></path></g><g class=\"mark-text role-legend-label\" style=\"pointer-events: none;\"><text text-anchor=\"start\" transform=\"translate(16,9)\" style=\"font-family: sans-serif; font-size: 10px; fill: #000; opacity: 1;\">Saudi Arabia</text></g></g></g><g transform=\"translate(0,880)\"><path class=\"background\" d=\"M0,0h161v12.5h-161Z\" style=\"pointer-events: none; fill: none; opacity: 1;\"></path><g><g class=\"mark-symbol role-legend-symbol\" style=\"pointer-events: none;\"><path transform=\"translate(6,6)\" d=\"M5,0A5,5,0,1,1,-5,0A5,5,0,1,1,5,0\" style=\"fill: none; stroke: #eeca3b; stroke-width: 1.5; opacity: 1;\"></path></g><g class=\"mark-text role-legend-label\" style=\"pointer-events: none;\"><text text-anchor=\"start\" transform=\"translate(16,9)\" style=\"font-family: sans-serif; font-size: 10px; fill: #000; opacity: 1;\">South Africa</text></g></g></g><g transform=\"translate(0,896)\"><path class=\"background\" d=\"M0,0h161v12.5h-161Z\" style=\"pointer-events: none; fill: none; opacity: 1;\"></path><g><g class=\"mark-symbol role-legend-symbol\" style=\"pointer-events: none;\"><path transform=\"translate(6,6)\" d=\"M5,0A5,5,0,1,1,-5,0A5,5,0,1,1,5,0\" style=\"fill: none; stroke: #b279a2; stroke-width: 1.5; opacity: 1;\"></path></g><g class=\"mark-text role-legend-label\" style=\"pointer-events: none;\"><text text-anchor=\"start\" transform=\"translate(16,9)\" style=\"font-family: sans-serif; font-size: 10px; fill: #000; opacity: 1;\">South Korea</text></g></g></g><g transform=\"translate(0,912)\"><path class=\"background\" d=\"M0,0h161v12.5h-161Z\" style=\"pointer-events: none; fill: none; opacity: 1;\"></path><g><g class=\"mark-symbol role-legend-symbol\" style=\"pointer-events: none;\"><path transform=\"translate(6,6)\" d=\"M5,0A5,5,0,1,1,-5,0A5,5,0,1,1,5,0\" style=\"fill: none; stroke: #ff9da6; stroke-width: 1.5; opacity: 1;\"></path></g><g class=\"mark-text role-legend-label\" style=\"pointer-events: none;\"><text text-anchor=\"start\" transform=\"translate(16,9)\" style=\"font-family: sans-serif; font-size: 10px; fill: #000; opacity: 1;\">Spain</text></g></g></g><g transform=\"translate(0,928)\"><path class=\"background\" d=\"M0,0h161v12.5h-161Z\" style=\"pointer-events: none; fill: none; opacity: 1;\"></path><g><g class=\"mark-symbol role-legend-symbol\" style=\"pointer-events: none;\"><path transform=\"translate(6,6)\" d=\"M5,0A5,5,0,1,1,-5,0A5,5,0,1,1,5,0\" style=\"fill: none; stroke: #9d755d; stroke-width: 1.5; opacity: 1;\"></path></g><g class=\"mark-text role-legend-label\" style=\"pointer-events: none;\"><text text-anchor=\"start\" transform=\"translate(16,9)\" style=\"font-family: sans-serif; font-size: 10px; fill: #000; opacity: 1;\">Switzerland</text></g></g></g><g transform=\"translate(0,944)\"><path class=\"background\" d=\"M0,0h161v12.5h-161Z\" style=\"pointer-events: none; fill: none; opacity: 1;\"></path><g><g class=\"mark-symbol role-legend-symbol\" style=\"pointer-events: none;\"><path transform=\"translate(6,6)\" d=\"M5,0A5,5,0,1,1,-5,0A5,5,0,1,1,5,0\" style=\"fill: none; stroke: #bab0ac; stroke-width: 1.5; opacity: 1;\"></path></g><g class=\"mark-text role-legend-label\" style=\"pointer-events: none;\"><text text-anchor=\"start\" transform=\"translate(16,9)\" style=\"font-family: sans-serif; font-size: 10px; fill: #000; opacity: 1;\">Turkey</text></g></g></g><g transform=\"translate(0,960)\"><path class=\"background\" d=\"M0,0h161v12.5h-161Z\" style=\"pointer-events: none; fill: none; opacity: 1;\"></path><g><g class=\"mark-symbol role-legend-symbol\" style=\"pointer-events: none;\"><path transform=\"translate(6,6)\" d=\"M5,0A5,5,0,1,1,-5,0A5,5,0,1,1,5,0\" style=\"fill: none; stroke: #4c78a8; stroke-width: 1.5; opacity: 1;\"></path></g><g class=\"mark-text role-legend-label\" style=\"pointer-events: none;\"><text text-anchor=\"start\" transform=\"translate(16,9)\" style=\"font-family: sans-serif; font-size: 10px; fill: #000; opacity: 1;\">United Kingdom</text></g></g></g><g transform=\"translate(0,976)\"><path class=\"background\" d=\"M0,0h161v12.5h-161Z\" style=\"pointer-events: none; fill: none; opacity: 1;\"></path><g><g class=\"mark-symbol role-legend-symbol\" style=\"pointer-events: none;\"><path transform=\"translate(6,6)\" d=\"M5,0A5,5,0,1,1,-5,0A5,5,0,1,1,5,0\" style=\"fill: none; stroke: #f58518; stroke-width: 1.5; opacity: 1;\"></path></g><g class=\"mark-text role-legend-label\" style=\"pointer-events: none;\"><text text-anchor=\"start\" transform=\"translate(16,9)\" style=\"font-family: sans-serif; font-size: 10px; fill: #000; opacity: 1;\">United States</text></g></g></g><g transform=\"translate(0,992)\"><path class=\"background\" d=\"M0,0h161v12.5h-161Z\" style=\"pointer-events: none; fill: none; opacity: 1;\"></path><g><g class=\"mark-symbol role-legend-symbol\" style=\"pointer-events: none;\"><path transform=\"translate(6,6)\" d=\"M5,0A5,5,0,1,1,-5,0A5,5,0,1,1,5,0\" style=\"fill: none; stroke: #e45756; stroke-width: 1.5; opacity: 1;\"></path></g><g class=\"mark-text role-legend-label\" style=\"pointer-events: none;\"><text text-anchor=\"start\" transform=\"translate(16,9)\" style=\"font-family: sans-serif; font-size: 10px; fill: #000; opacity: 1;\">Venezuela</text></g></g></g></g></g></g></g><g class=\"mark-text role-legend-title\" style=\"pointer-events: none;\"><text text-anchor=\"start\" transform=\"translate(0,9)\" style=\"font-family: sans-serif; font-size: 11px; font-weight: bold; fill: #000; opacity: 1;\">country</text></g></g></g></g></g></g></g></g></svg>"
      ],
      "text/plain": [
       "VegaLite.VLSpec{:plot}"
      ]
     },
     "execution_count": 37,
     "metadata": {},
     "output_type": "execute_result"
    }
   ],
   "source": [
    "gapminder |>\n",
    "  @vlplot(:line, x = :year, y = :life_expect, color = :country, row = \"cluster:o\")"
   ]
  },
  {
   "cell_type": "markdown",
   "metadata": {},
   "source": [
    "Let's **introduce yourself to some Julia**, give a read and execute in a JupyterLab's Julia notebook some of the \"Basic Introduction\" written by Chris Rackauckas. http://ucidatascienceinitiative.github.io/IntroToJulia/Html/BasicIntroduction"
   ]
  },
  {
   "cell_type": "code",
   "execution_count": null,
   "metadata": {},
   "outputs": [],
   "source": []
  }
 ],
 "metadata": {
  "kernelspec": {
   "display_name": "Julia 1.0.2",
   "language": "julia",
   "name": "julia-1.0"
  },
  "language_info": {
   "file_extension": ".jl",
   "mimetype": "application/julia",
   "name": "julia",
   "version": "0.6.3"
  }
 },
 "nbformat": 4,
 "nbformat_minor": 4
}
