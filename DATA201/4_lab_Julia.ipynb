{
 "cells": [
  {
   "cell_type": "markdown",
   "metadata": {},
   "source": [
    "# Comma police in Julia"
   ]
  },
  {
   "cell_type": "markdown",
   "metadata": {},
   "source": [
    "Julia can read and write csv files as well.\n",
    "\n",
    "The straight forward way is using `load()` and `save()`. Julia will try to guess the format of the file by its extension (e.g., if the file is called \"blablab.csv\" it will assume it is a csv file. `load()` can also load entire directories of files in one go: just provide the path to the directory. It will try to produce "
   ]
  },
  {
   "cell_type": "markdown",
   "metadata": {},
   "source": [
    "The Input and Output of Files is handled in genral by the package `FileIO`. You already have it if you have installed Queryverse in the previous labs. You can load it either directly (in \"isolation\"):"
   ]
  },
  {
   "cell_type": "code",
   "execution_count": null,
   "metadata": {},
   "outputs": [],
   "source": [
    "using Pkg"
   ]
  },
  {
   "cell_type": "code",
   "execution_count": null,
   "metadata": {},
   "outputs": [],
   "source": [
    "# using FileIO"
   ]
  },
  {
   "cell_type": "markdown",
   "metadata": {},
   "source": [
    "or loading the full Queryverse. The Queryverse has very good documentation https://www.queryverse.org/, get familiar with it."
   ]
  },
  {
   "cell_type": "code",
   "execution_count": null,
   "metadata": {},
   "outputs": [],
   "source": [
    "using Queryverse"
   ]
  },
  {
   "cell_type": "markdown",
   "metadata": {},
   "source": [
    "and we load also the rest of the packages we need"
   ]
  },
  {
   "cell_type": "code",
   "execution_count": null,
   "metadata": {},
   "outputs": [],
   "source": [
    "using VegaDatasets, VegaLite"
   ]
  },
  {
   "cell_type": "markdown",
   "metadata": {},
   "source": [
    "To write a csv is quite easy: pass a dataframe (or any  other format for tabular data) to `save()` specifying the name of the file you want to create:"
   ]
  },
  {
   "cell_type": "code",
   "execution_count": null,
   "metadata": {},
   "outputs": [],
   "source": [
    "dataset(\"cars\") |>\n",
    "  save(\"Data/cars.csv\")"
   ]
  },
  {
   "cell_type": "markdown",
   "metadata": {},
   "source": [
    "Uh, what happens there? Well, let's read. Apparently, the folder \"Data\" is not there. And indeed, it is not there, yet. If we start a cell with \";\" then we can pass any shell command. We use this to create the folder we need."
   ]
  },
  {
   "cell_type": "code",
   "execution_count": null,
   "metadata": {},
   "outputs": [],
   "source": [
    "; mkdir Data"
   ]
  },
  {
   "cell_type": "markdown",
   "metadata": {},
   "source": [
    "And then we try again."
   ]
  },
  {
   "cell_type": "code",
   "execution_count": null,
   "metadata": {},
   "outputs": [],
   "source": [
    "dataset(\"cars\") |>\n",
    "  save(\"Data/cars.csv\")"
   ]
  },
  {
   "cell_type": "markdown",
   "metadata": {},
   "source": [
    "Reading a csv requires to know where it is:"
   ]
  },
  {
   "cell_type": "code",
   "execution_count": null,
   "metadata": {},
   "outputs": [],
   "source": [
    "cars = load(\"Data/cars.csv\")"
   ]
  },
  {
   "cell_type": "markdown",
   "metadata": {},
   "source": [
    "The ouput of `load()` is NOT a dataframe, but ... a CSVFiles. This is because Julia does not read ALL the file in memory, but it keeps on disk and access it as it needs it."
   ]
  },
  {
   "cell_type": "code",
   "execution_count": null,
   "metadata": {},
   "outputs": [],
   "source": [
    "cars |>\n",
    " typeof"
   ]
  },
  {
   "cell_type": "markdown",
   "metadata": {},
   "source": [
    "Yet, the output is still tabular data, in particular an \"IndexedTable\" (in the Queryverse jargon), and so we can filer and operate on it as we do with dataframes:"
   ]
  },
  {
   "cell_type": "code",
   "execution_count": null,
   "metadata": {},
   "outputs": [],
   "source": [
    "cars |>\n",
    "  @filter(_.Origin==\"Europe\") |>\n",
    "  @vlplot(:point, x=:Horsepower, y=:Acceleration, color=\"Cylinders:n\")"
   ]
  },
  {
   "cell_type": "markdown",
   "metadata": {},
   "source": [
    "And we can always transform it into a dataframe:"
   ]
  },
  {
   "cell_type": "code",
   "execution_count": null,
   "metadata": {},
   "outputs": [],
   "source": [
    "cars |>\n",
    "  DataFrame |>\n",
    "  describe"
   ]
  },
  {
   "cell_type": "markdown",
   "metadata": {},
   "source": [
    "### beyond csv\n",
    "\n",
    "`load()` is able to load a bunch of different formats: csv and excel files, but also SPSS, Stat and SAS files. And more. \n",
    "\n",
    "For the time being, `save()` is more limited and can save in csv and two special formats (feather and bedgraph).\n",
    "\n",
    "For more details see here: http://www.david-anthoff.com/jl4ds/stable/fileio/#The-load-and-save-function-1"
   ]
  },
  {
   "cell_type": "markdown",
   "metadata": {},
   "source": [
    "## Complicated csvs"
   ]
  },
  {
   "cell_type": "markdown",
   "metadata": {},
   "source": [
    "If you find some nasty and complicated csv, which `load()` are not able to handle, the way out is using the dedicated package [CSV](http://juliadata.github.io/CSV.jl/stable/index.html#High-level-interface-1)."
   ]
  },
  {
   "cell_type": "code",
   "execution_count": null,
   "metadata": {},
   "outputs": [],
   "source": [
    "# Pkg.add(\"CSV\")"
   ]
  },
  {
   "cell_type": "code",
   "execution_count": null,
   "metadata": {},
   "outputs": [],
   "source": [
    "using CSV"
   ]
  },
  {
   "cell_type": "markdown",
   "metadata": {},
   "source": [
    "The main functions here are `CSV.write()` to write a csv, `CSV.read()` to read a csv, and `CSV.validate()` to get information about why the reading of a csv file fails."
   ]
  },
  {
   "cell_type": "markdown",
   "metadata": {},
   "source": [
    "## Excelles"
   ]
  },
  {
   "cell_type": "markdown",
   "metadata": {},
   "source": [
    "Julia handles excel files in a similar way that `readxl` in R does. The package in this case is `ExcelFiles` (see: https://github.com/queryverse/ExcelFiles.jl )."
   ]
  },
  {
   "cell_type": "code",
   "execution_count": null,
   "metadata": {},
   "outputs": [],
   "source": [
    "# Pkg.add(\"ExcelFiles\")"
   ]
  },
  {
   "cell_type": "code",
   "execution_count": null,
   "metadata": {},
   "outputs": [],
   "source": [
    "using ExcelFiles"
   ]
  },
  {
   "cell_type": "markdown",
   "metadata": {},
   "source": [
    "The main functions here are named similary to the CSV package."
   ]
  },
  {
   "cell_type": "markdown",
   "metadata": {},
   "source": [
    "# Your turn\n",
    "\n",
    "Load a dataset from VegaDataset (e.g., `dataset(\"iris\")`), do some wrangling, and write it to disk as a csv. Then read it back"
   ]
  },
  {
   "cell_type": "code",
   "execution_count": null,
   "metadata": {},
   "outputs": [],
   "source": [
    "# your code here."
   ]
  }
 ],
 "metadata": {
  "kernelspec": {
   "display_name": "Julia 1.1.1",
   "language": "julia",
   "name": "julia-1.1"
  },
  "language_info": {
   "file_extension": ".jl",
   "mimetype": "application/julia",
   "name": "julia",
   "version": "1.1.1"
  }
 },
 "nbformat": 4,
 "nbformat_minor": 4
}
