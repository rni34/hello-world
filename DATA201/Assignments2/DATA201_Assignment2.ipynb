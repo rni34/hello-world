{
 "cells": [
  {
   "cell_type": "markdown",
   "metadata": {},
   "source": [
    "# Data 201\n",
    "\n",
    "Data Wrangling, S2 2019\n",
    "\n",
    "## Assignement 2\n",
    "\n",
    "### 20% of final grade\n",
    "\n",
    "## Due date: 1pm Tuesday 1 October 2019\n",
    "\n",
    "The assignment must be submitted on the DATA 201 and 422 Learn page and should be **your own pair** (or group of three if we are odd) **work**. Avoid plagiarism: if you are not sure what may constitute code plagiarism, read this http://web.science.mq.edu.au/~mtaylor/ponline/index.php?id=source-code-plagiarism. Remember, when in doubt **declare your sources**.  \n",
    "As a general rule, late submission are **highly** unsuggested. The pace of the course is very quick, and you don't want to be working on this too long, as you would have less time for other assignments. I suggest you to submit what you have ready by the time the assignment is due, even if it is not everything we required. For any particular problem, please contact [Thomas Li](thomas.li@canterbury.ac.nz) or [Giulio Dalla Riva](giulio.dallariva@canterbury.ac.nz) or TAs.\n",
    "\n",
    "\n",
    "## Instruction\n",
    "\n",
    "### Total: 20 marks.\n",
    "\n",
    "For this assignment you will work with data from the web. Your goal is to scrape it or request it, wrangle it, produce some plotting, in order to demonstrate that you are able to use the functions, plotting, and markdown format we have been learning.  \n",
    "You shall hand in your work as a jupyter R notebook comprehending the code, the plots and, **very important**, enough comments and explanations for us to understand what you did, how you did it, and why you did it. Remember: better comments, means better marks.  \n",
    "You can either modify this notebook or write a new one from scratch."
   ]
  },
  {
   "cell_type": "markdown",
   "metadata": {},
   "source": [
    "Do use the tidyverse syntax that's introduced in class and labs. If in doubt, refresh the lab material 1 to 7."
   ]
  },
  {
   "cell_type": "markdown",
   "metadata": {},
   "source": [
    "### Task (a): scrape it (5 marks)\n",
    "\n",
    "Identify a website page showing information you find interesting. The information should be presented across more than one page. Select one of this pages (the rest is for later) and using `rvest` (and the suit of `tidyverse` libraries we used so far, plus any other one you may need) get the html into R."
   ]
  },
  {
   "cell_type": "code",
   "execution_count": 472,
   "metadata": {},
   "outputs": [],
   "source": [
    "library(rvest)\n",
    "library(tidyverse)\n",
    "library(magrittr) # better handling of pipes\n",
    "library(purrr) # to work with lists and map functions\n",
    "library(glue) # to paste strings\n",
    "library(stringr) # to hand strings\n",
    "#IRdisplay::display_html('<iframe width=\"700\" height=\"315\" src=\"http://worldpopulationreview.com/countries/new-zealand-population/\" frameborder=\"0\" allow=\"autoplay; encrypted-media\" allowfullscreen></iframe>')"
   ]
  },
  {
   "cell_type": "code",
   "execution_count": 473,
   "metadata": {},
   "outputs": [
    {
     "data": {
      "text/html": [
       "<ol class=list-inline>\n",
       "\t<li>'Auckland'</li>\n",
       "\t<li>'Dannevirke'</li>\n",
       "\t<li>'Dargaville'</li>\n",
       "\t<li>'Gisborne'</li>\n",
       "\t<li>'Hamilton'</li>\n",
       "\t<li>'Hastings'</li>\n",
       "\t<li>'Kaitaia'</li>\n",
       "\t<li>'Levin'</li>\n",
       "\t<li>'Masterton'</li>\n",
       "\t<li>'Napier'</li>\n",
       "\t<li>'New Plymouth'</li>\n",
       "\t<li>'Paihia'</li>\n",
       "\t<li>'Palmerston North'</li>\n",
       "\t<li>'Paraparaumu'</li>\n",
       "\t<li>'Rotorua'</li>\n",
       "\t<li>'Taumarunui'</li>\n",
       "\t<li>'Taupō'</li>\n",
       "\t<li>'Tauranga'</li>\n",
       "\t<li>'Te Kuiti'</li>\n",
       "\t<li>'Thames'</li>\n",
       "\t<li>'Tokoroa'</li>\n",
       "\t<li>'Whanganui'</li>\n",
       "\t<li>'Wellington'</li>\n",
       "\t<li>'Whakatāne'</li>\n",
       "\t<li>'Whangārei'</li>\n",
       "\t<li>'Alexandra'</li>\n",
       "\t<li>'Ashburton'</li>\n",
       "\t<li>'Blenheim'</li>\n",
       "\t<li>'Christchurch'</li>\n",
       "\t<li>'Dunedin'</li>\n",
       "\t<li>'Gore'</li>\n",
       "\t<li>'Greymouth'</li>\n",
       "\t<li>'Hokitika'</li>\n",
       "\t<li>'Invercargill'</li>\n",
       "\t<li>'Kaikōura'</li>\n",
       "\t<li>'Motueka'</li>\n",
       "\t<li>'Nelson'</li>\n",
       "\t<li>'Oamaru'</li>\n",
       "\t<li>'Queenstown'</li>\n",
       "\t<li>'Reefton'</li>\n",
       "\t<li>'Timaru'</li>\n",
       "\t<li>'Wanaka'</li>\n",
       "\t<li>'Westport'</li>\n",
       "</ol>\n"
      ],
      "text/latex": [
       "\\begin{enumerate*}\n",
       "\\item 'Auckland'\n",
       "\\item 'Dannevirke'\n",
       "\\item 'Dargaville'\n",
       "\\item 'Gisborne'\n",
       "\\item 'Hamilton'\n",
       "\\item 'Hastings'\n",
       "\\item 'Kaitaia'\n",
       "\\item 'Levin'\n",
       "\\item 'Masterton'\n",
       "\\item 'Napier'\n",
       "\\item 'New Plymouth'\n",
       "\\item 'Paihia'\n",
       "\\item 'Palmerston North'\n",
       "\\item 'Paraparaumu'\n",
       "\\item 'Rotorua'\n",
       "\\item 'Taumarunui'\n",
       "\\item 'Taupō'\n",
       "\\item 'Tauranga'\n",
       "\\item 'Te Kuiti'\n",
       "\\item 'Thames'\n",
       "\\item 'Tokoroa'\n",
       "\\item 'Whanganui'\n",
       "\\item 'Wellington'\n",
       "\\item 'Whakatāne'\n",
       "\\item 'Whangārei'\n",
       "\\item 'Alexandra'\n",
       "\\item 'Ashburton'\n",
       "\\item 'Blenheim'\n",
       "\\item 'Christchurch'\n",
       "\\item 'Dunedin'\n",
       "\\item 'Gore'\n",
       "\\item 'Greymouth'\n",
       "\\item 'Hokitika'\n",
       "\\item 'Invercargill'\n",
       "\\item 'Kaikōura'\n",
       "\\item 'Motueka'\n",
       "\\item 'Nelson'\n",
       "\\item 'Oamaru'\n",
       "\\item 'Queenstown'\n",
       "\\item 'Reefton'\n",
       "\\item 'Timaru'\n",
       "\\item 'Wanaka'\n",
       "\\item 'Westport'\n",
       "\\end{enumerate*}\n"
      ],
      "text/markdown": [
       "1. 'Auckland'\n",
       "2. 'Dannevirke'\n",
       "3. 'Dargaville'\n",
       "4. 'Gisborne'\n",
       "5. 'Hamilton'\n",
       "6. 'Hastings'\n",
       "7. 'Kaitaia'\n",
       "8. 'Levin'\n",
       "9. 'Masterton'\n",
       "10. 'Napier'\n",
       "11. 'New Plymouth'\n",
       "12. 'Paihia'\n",
       "13. 'Palmerston North'\n",
       "14. 'Paraparaumu'\n",
       "15. 'Rotorua'\n",
       "16. 'Taumarunui'\n",
       "17. 'Taupō'\n",
       "18. 'Tauranga'\n",
       "19. 'Te Kuiti'\n",
       "20. 'Thames'\n",
       "21. 'Tokoroa'\n",
       "22. 'Whanganui'\n",
       "23. 'Wellington'\n",
       "24. 'Whakatāne'\n",
       "25. 'Whangārei'\n",
       "26. 'Alexandra'\n",
       "27. 'Ashburton'\n",
       "28. 'Blenheim'\n",
       "29. 'Christchurch'\n",
       "30. 'Dunedin'\n",
       "31. 'Gore'\n",
       "32. 'Greymouth'\n",
       "33. 'Hokitika'\n",
       "34. 'Invercargill'\n",
       "35. 'Kaikōura'\n",
       "36. 'Motueka'\n",
       "37. 'Nelson'\n",
       "38. 'Oamaru'\n",
       "39. 'Queenstown'\n",
       "40. 'Reefton'\n",
       "41. 'Timaru'\n",
       "42. 'Wanaka'\n",
       "43. 'Westport'\n",
       "\n",
       "\n"
      ],
      "text/plain": [
       " [1] \"Auckland\"         \"Dannevirke\"       \"Dargaville\"       \"Gisborne\"        \n",
       " [5] \"Hamilton\"         \"Hastings\"         \"Kaitaia\"          \"Levin\"           \n",
       " [9] \"Masterton\"        \"Napier\"           \"New Plymouth\"     \"Paihia\"          \n",
       "[13] \"Palmerston North\" \"Paraparaumu\"      \"Rotorua\"          \"Taumarunui\"      \n",
       "[17] \"Taupō\"            \"Tauranga\"         \"Te Kuiti\"         \"Thames\"          \n",
       "[21] \"Tokoroa\"          \"Whanganui\"        \"Wellington\"       \"Whakatāne\"       \n",
       "[25] \"Whangārei\"        \"Alexandra\"        \"Ashburton\"        \"Blenheim\"        \n",
       "[29] \"Christchurch\"     \"Dunedin\"          \"Gore\"             \"Greymouth\"       \n",
       "[33] \"Hokitika\"         \"Invercargill\"     \"Kaikōura\"         \"Motueka\"         \n",
       "[37] \"Nelson\"           \"Oamaru\"           \"Queenstown\"       \"Reefton\"         \n",
       "[41] \"Timaru\"           \"Wanaka\"           \"Westport\"        "
      ]
     },
     "metadata": {},
     "output_type": "display_data"
    }
   ],
   "source": [
    "#get a region name \n",
    "url_titles <- \"https://www.tvnz.co.nz/one-news/weather-forecast\" # this is the base url from where the scraping starts\n",
    "read_html(url_titles)%>%\n",
    "    html_nodes(\".locationSelectDropdownItems\")%>%\n",
    "    html_nodes(\"ul\")%>%\n",
    "    html_nodes(\"li\")%>%\n",
    "    html_text()"
   ]
  },
  {
   "cell_type": "code",
   "execution_count": 489,
   "metadata": {},
   "outputs": [
    {
     "data": {
      "text/html": [
       "'5°'"
      ],
      "text/latex": [
       "'5°'"
      ],
      "text/markdown": [
       "'5°'"
      ],
      "text/plain": [
       "[1] \"5°\""
      ]
     },
     "metadata": {},
     "output_type": "display_data"
    }
   ],
   "source": [
    "#get a current temperature of chistchurch for today \n",
    "read_html(\"https://www.tvnz.co.nz/one-news/weather-forecast.christchurch.html\")%>%\n",
    "           html_node(\".forecast.observation.active\")%>%\n",
    "           html_node(\".current\")%>%\n",
    "           html_text()"
   ]
  },
  {
   "cell_type": "code",
   "execution_count": 475,
   "metadata": {},
   "outputs": [
    {
     "data": {
      "text/html": [
       "'11°'"
      ],
      "text/latex": [
       "'11°'"
      ],
      "text/markdown": [
       "'11°'"
      ],
      "text/plain": [
       "[1] \"11°\""
      ]
     },
     "metadata": {},
     "output_type": "display_data"
    }
   ],
   "source": [
    "#get a maximum temperature of chistchurch for today\n",
    "read_html(\"https://www.tvnz.co.nz/one-news/weather-forecast.christchurch.html\")%>%\n",
    "    html_node(\".forecast.observation.active\")%>%\n",
    "    html_node(\".max\")%>%\n",
    "    html_text()\n",
    "\n",
    "\n",
    "\n",
    "\n"
   ]
  },
  {
   "cell_type": "code",
   "execution_count": 476,
   "metadata": {},
   "outputs": [
    {
     "data": {
      "text/html": [
       "'2°'"
      ],
      "text/latex": [
       "'2°'"
      ],
      "text/markdown": [
       "'2°'"
      ],
      "text/plain": [
       "[1] \"2°\""
      ]
     },
     "metadata": {},
     "output_type": "display_data"
    }
   ],
   "source": [
    "#get a minimum temperature of chistchurch for today\n",
    "read_html(\"https://www.tvnz.co.nz/one-news/weather-forecast.christchurch.html\")%>%\n",
    "    html_node(\".forecast.observation.active\")%>%\n",
    "    html_node(\".min\")%>%\n",
    "    html_text()\n",
    "\n",
    "\n",
    "\n"
   ]
  },
  {
   "cell_type": "code",
   "execution_count": 500,
   "metadata": {},
   "outputs": [
    {
     "data": {
      "text/html": [
       "'2°'"
      ],
      "text/latex": [
       "'2°'"
      ],
      "text/markdown": [
       "'2°'"
      ],
      "text/plain": [
       "[1] \"2°\""
      ]
     },
     "metadata": {},
     "output_type": "display_data"
    }
   ],
   "source": [
    "read_html(\"https://www.tvnz.co.nz/one-news/weather-forecast.christchurch.html\")%>%\n",
    "    html_node(\".forecast.observation.active\")%>%\n",
    "    html_node(\".min\")%>%\n",
    "    html_text()\n"
   ]
  },
  {
   "cell_type": "code",
   "execution_count": 515,
   "metadata": {},
   "outputs": [
    {
     "data": {
      "text/html": [
       "'//div[@data-id = \\'2019-10-01\\']'"
      ],
      "text/latex": [
       "'//div{[}@data-id = \\textbackslash{}'2019-10-01\\textbackslash{}'{]}'"
      ],
      "text/markdown": [
       "'//div[@data-id = \\'2019-10-01\\']'"
      ],
      "text/plain": [
       "[1] \"//div[@data-id = '2019-10-01']\""
      ]
     },
     "metadata": {},
     "output_type": "display_data"
    }
   ],
   "source": [
    "paste(\"//div[@data-id = \",Sys.Date(),\"]\",sep = \"'\")"
   ]
  },
  {
   "cell_type": "code",
   "execution_count": 528,
   "metadata": {},
   "outputs": [
    {
     "data": {
      "text/html": [
       "'13°'"
      ],
      "text/latex": [
       "'13°'"
      ],
      "text/markdown": [
       "'13°'"
      ],
      "text/plain": [
       "[1] \"13°\""
      ]
     },
     "metadata": {},
     "output_type": "display_data"
    }
   ],
   "source": [
    "#https://qiita.com/rmecab/items/9612f55097fa2f6701d8\n",
    "#http://cse.naro.affrc.go.jp/takezawa/r-tips/r/17.html\n",
    "#getting weather for tommorow\n",
    "read_html(\"https://www.tvnz.co.nz/one-news/weather-forecast.christchurch.html\")%>%\n",
    "    html_node(xpath = paste(\"//div[@data-id = \",Sys.Date()+1,\"]\",sep = \"'\"))%>%\n",
    "    html_node(\".max\")%>%\n",
    "    html_text()"
   ]
  },
  {
   "cell_type": "code",
   "execution_count": 539,
   "metadata": {},
   "outputs": [
    {
     "data": {
      "text/html": [
       "'3°'"
      ],
      "text/latex": [
       "'3°'"
      ],
      "text/markdown": [
       "'3°'"
      ],
      "text/plain": [
       "[1] \"3°\""
      ]
     },
     "metadata": {},
     "output_type": "display_data"
    }
   ],
   "source": [
    "#https://qiita.com/rmecab/items/9612f55097fa2f6701d8\n",
    "#http://cse.naro.affrc.go.jp/takezawa/r-tips/r/17.html\n",
    "#getting weather for tommorow\n",
    "read_html(\"https://www.tvnz.co.nz/one-news/weather-forecast.christchurch.html\")%>%\n",
    "    html_node(xpath = paste(\"//div[@data-id = \",Sys.Date()+1,\"]\",sep = \"'\"))%>%\n",
    "    html_node(\".min\")%>%\n",
    "    html_text()"
   ]
  },
  {
   "cell_type": "code",
   "execution_count": 542,
   "metadata": {},
   "outputs": [
    {
     "data": {
      "text/html": [
       "'11°'"
      ],
      "text/latex": [
       "'11°'"
      ],
      "text/markdown": [
       "'11°'"
      ],
      "text/plain": [
       "[1] \"11°\""
      ]
     },
     "metadata": {},
     "output_type": "display_data"
    }
   ],
   "source": [
    "#https://qiita.com/rmecab/items/9612f55097fa2f6701d8\n",
    "#http://cse.naro.affrc.go.jp/takezawa/r-tips/r/17.html\n",
    "#getting weather for the day after tomorrow\n",
    "read_html(\"https://www.tvnz.co.nz/one-news/weather-forecast.christchurch.html\")%>%\n",
    "    html_node(xpath = paste(\"//div[@data-id = \",Sys.Date()+2,\"]\",sep = \"'\"))%>%\n",
    "    html_node(\".max\")%>%\n",
    "    html_text()"
   ]
  },
  {
   "cell_type": "code",
   "execution_count": 544,
   "metadata": {},
   "outputs": [
    {
     "data": {
      "text/html": [
       "'0°'"
      ],
      "text/latex": [
       "'0°'"
      ],
      "text/markdown": [
       "'0°'"
      ],
      "text/plain": [
       "[1] \"0°\""
      ]
     },
     "metadata": {},
     "output_type": "display_data"
    }
   ],
   "source": [
    "#https://qiita.com/rmecab/items/9612f55097fa2f6701d8\n",
    "#http://cse.naro.affrc.go.jp/takezawa/r-tips/r/17.html\n",
    "#getting weather for tommorow\n",
    "read_html(\"https://www.tvnz.co.nz/one-news/weather-forecast.christchurch.html\")%>%\n",
    "    html_node(xpath = paste(\"//div[@data-id = \",Sys.Date()+2,\"]\",sep = \"'\"))%>%\n",
    "    html_node(\".min\")%>%\n",
    "    html_text()"
   ]
  },
  {
   "cell_type": "markdown",
   "metadata": {},
   "source": [
    "### Task (b): wrangle it (5 marks)\n",
    "\n",
    "\n",
    "Working on the page from task (a), transform the data you collected into relational data model (that is, one or more data frames). WARNING: you will need to think and motivate how you are doing this in terms of the **data model** you are trying to build; just throwing everything in a table is not enough."
   ]
  },
  {
   "cell_type": "code",
   "execution_count": 552,
   "metadata": {},
   "outputs": [],
   "source": [
    "get_weather <- function(place_name){\n",
    "    \n",
    "  #if place_name if not specified then it will get the location instead \n",
    "  url <- glue(\"https://www.tvnz.co.nz/one-news/weather-forecast.{place_name}.html\")\n",
    "  \n",
    "  list_of_regions <- \n",
    "    url_titles <- \"https://www.tvnz.co.nz/one-news/weather-forecast\" # this is the base url from where the scraping starts\n",
    "    \n",
    "read_html(url_titles)%>%\n",
    "    html_nodes(\".locationSelectDropdownItems\")%>%\n",
    "    html_nodes(\"ul\")%>%\n",
    "    html_nodes(\"li\")%>%\n",
    "    html_text()\n",
    "  \n",
    "  weather <- tibble(place = place_name,\n",
    "                       current_temp = read_html(url)%>%\n",
    "                       html_node(\".forecast.observation.active\") %>%\n",
    "                       html_node(\".current\")%>%\n",
    "                       html_text(),\n",
    "                    \n",
    "                       max_temp_today = read_html(url)%>%\n",
    "                       html_node(\".forecast.observation.active\")%>%\n",
    "                       html_node(\".max\")%>%\n",
    "                       html_text(),\n",
    "                       \n",
    "                       min_temp_toady = read_html(url)%>%\n",
    "                       html_node(\".forecast.observation.active\")%>%\n",
    "                       html_node(\".min\")%>%\n",
    "                       html_text(),\n",
    "                    \n",
    "                       max_temp_tomorrow = read_html(url)%>%\n",
    "                       html_node(xpath = paste(\"//div[@data-id = \",Sys.Date()+1,\"]\",sep = \"'\"))%>%\n",
    "                       html_node(\".max\")%>%\n",
    "                       html_text(),\n",
    "                    \n",
    "                       min_temp_tomorrow = read_html(url)%>%\n",
    "                       html_node(xpath = paste(\"//div[@data-id = \",Sys.Date()+1,\"]\",sep = \"'\"))%>%\n",
    "                       html_node(\".min\")%>%\n",
    "                       html_text(),\n",
    "                    \n",
    "                       max_temp_after_2days = read_html(url)%>%\n",
    "                       html_node(xpath = paste(\"//div[@data-id = \",Sys.Date()+2,\"]\",sep = \"'\"))%>%\n",
    "                       html_node(\".max\")%>%\n",
    "                       html_text(),\n",
    "                    \n",
    "                       min_temp_after_2days = read_html(url)%>%\n",
    "                       html_node(xpath = paste(\"//div[@data-id = \",Sys.Date()+2,\"]\",sep = \"'\"))%>%\n",
    "                       html_node(\".min\")%>%\n",
    "                       html_text(),\n",
    "                       \n",
    "                       max_temp_after_3days = read_html(url)%>%\n",
    "                       html_node(xpath = paste(\"//div[@data-id = \",Sys.Date()+3,\"]\",sep = \"'\"))%>%\n",
    "                       html_node(\".max\")%>%\n",
    "                       html_text(),\n",
    "                    \n",
    "                       min_temp_after_3days = read_html(url)%>%\n",
    "                       html_node(xpath = paste(\"//div[@data-id = \",Sys.Date()+3,\"]\",sep = \"'\"))%>%\n",
    "                       html_node(\".min\")%>%\n",
    "                       html_text(),\n",
    "                        \n",
    "                       \n",
    "                     ) \n",
    "  \n",
    "  return(weather)\n",
    "}"
   ]
  },
  {
   "cell_type": "code",
   "execution_count": 553,
   "metadata": {},
   "outputs": [
    {
     "data": {
      "text/html": [
       "<table>\n",
       "<caption>A tibble: 1 × 10</caption>\n",
       "<thead>\n",
       "\t<tr><th scope=col>place</th><th scope=col>current_temp</th><th scope=col>max_temp_today</th><th scope=col>min_temp_toady</th><th scope=col>max_temp_tomorrow</th><th scope=col>min_temp_tomorrow</th><th scope=col>max_temp_after_2days</th><th scope=col>min_temp_after_2days</th><th scope=col>max_temp_after_3days</th><th scope=col>min_temp_after_3days</th></tr>\n",
       "\t<tr><th scope=col>&lt;chr&gt;</th><th scope=col>&lt;chr&gt;</th><th scope=col>&lt;chr&gt;</th><th scope=col>&lt;chr&gt;</th><th scope=col>&lt;chr&gt;</th><th scope=col>&lt;chr&gt;</th><th scope=col>&lt;chr&gt;</th><th scope=col>&lt;chr&gt;</th><th scope=col>&lt;chr&gt;</th><th scope=col>&lt;chr&gt;</th></tr>\n",
       "</thead>\n",
       "<tbody>\n",
       "\t<tr><td>christchurch</td><td>5°</td><td>11°</td><td>2°</td><td>13°</td><td>3°</td><td>11°</td><td>0°</td><td>18°</td><td>6°</td></tr>\n",
       "</tbody>\n",
       "</table>\n"
      ],
      "text/latex": [
       "A tibble: 1 × 10\n",
       "\\begin{tabular}{r|llllllllll}\n",
       " place & current\\_temp & max\\_temp\\_today & min\\_temp\\_toady & max\\_temp\\_tomorrow & min\\_temp\\_tomorrow & max\\_temp\\_after\\_2days & min\\_temp\\_after\\_2days & max\\_temp\\_after\\_3days & min\\_temp\\_after\\_3days\\\\\n",
       " <chr> & <chr> & <chr> & <chr> & <chr> & <chr> & <chr> & <chr> & <chr> & <chr>\\\\\n",
       "\\hline\n",
       "\t christchurch & 5° & 11° & 2° & 13° & 3° & 11° & 0° & 18° & 6°\\\\\n",
       "\\end{tabular}\n"
      ],
      "text/markdown": [
       "\n",
       "A tibble: 1 × 10\n",
       "\n",
       "| place &lt;chr&gt; | current_temp &lt;chr&gt; | max_temp_today &lt;chr&gt; | min_temp_toady &lt;chr&gt; | max_temp_tomorrow &lt;chr&gt; | min_temp_tomorrow &lt;chr&gt; | max_temp_after_2days &lt;chr&gt; | min_temp_after_2days &lt;chr&gt; | max_temp_after_3days &lt;chr&gt; | min_temp_after_3days &lt;chr&gt; |\n",
       "|---|---|---|---|---|---|---|---|---|---|\n",
       "| christchurch | 5° | 11° | 2° | 13° | 3° | 11° | 0° | 18° | 6° |\n",
       "\n"
      ],
      "text/plain": [
       "  place        current_temp max_temp_today min_temp_toady max_temp_tomorrow\n",
       "1 christchurch 5°           11°            2°             13°              \n",
       "  min_temp_tomorrow max_temp_after_2days min_temp_after_2days\n",
       "1 3°                11°                  0°                  \n",
       "  max_temp_after_3days min_temp_after_3days\n",
       "1 18°                  6°                  "
      ]
     },
     "metadata": {},
     "output_type": "display_data"
    }
   ],
   "source": [
    "get_weather(\"christchurch\")"
   ]
  },
  {
   "cell_type": "markdown",
   "metadata": {},
   "source": [
    "### Task (c): automate it (5 marks)\n",
    "\n",
    "Now it's the time to scrape everything else in the website. Turn your code for tasks (a) and (b) into a function and using `purrr` (and its `map_` functions, possibly in combination with `possibly`) apply that function to all the pages you are interested in (as we have done in lab 6); the output of the task should be a relation dataset (i.e., one or more dataframes, and if more than one, explicit their relationships)."
   ]
  },
  {
   "cell_type": "code",
   "execution_count": 481,
   "metadata": {},
   "outputs": [],
   "source": [
    "get_weather <- function(place_name){\n",
    "    \n",
    "  #if place_name if not specified then it will get the location instead \n",
    "  url_title <- glue(\"https://www.tvnz.co.nz/one-news/weather-forecast.{place_name}.html\")\n",
    "  \n",
    "  weather <- tibble(place = place_name,\n",
    "                       current_temp = read_html(url_titles)%>%\n",
    "                       html_node(\".forecast.observation.active\") %>%\n",
    "                       html_node(\".current\")%>%\n",
    "                       html_text(),\n",
    "                    \n",
    "                       max_temp = read_html(url_titles)%>%\n",
    "                       html_node(\".forecast.observation.active\")%>%\n",
    "                       html_node(\".max\")%>%\n",
    "                       html_text(),\n",
    "                       \n",
    "                       min_temp = read_html(url_titles)%>%\n",
    "                       html_node(\".forecast.observation.active\")%>%\n",
    "                       html_node(\".min\")%>%\n",
    "                       html_text()\n",
    "                        \n",
    "                       \n",
    "                     ) \n",
    "  \n",
    "  return(weather)\n",
    "}"
   ]
  },
  {
   "cell_type": "code",
   "execution_count": null,
   "metadata": {},
   "outputs": [],
   "source": []
  },
  {
   "cell_type": "markdown",
   "metadata": {},
   "source": [
    "### Task (d): plot it (2 marks)\n",
    "\n",
    "Use graphics (via `ggplot`) to represent the data you collected in a meaningful way."
   ]
  },
  {
   "cell_type": "code",
   "execution_count": 482,
   "metadata": {},
   "outputs": [],
   "source": [
    "# your answer here"
   ]
  },
  {
   "cell_type": "markdown",
   "metadata": {},
   "source": [
    "### Task (e): APIs (2 marks)\n",
    "\n",
    "Identify a web service offering data through an API. Access the API using `httr` and collect the information you care about. Convert the data into a dataframe (or more than one). Represent it graphically in a meaningful way."
   ]
  },
  {
   "cell_type": "code",
   "execution_count": 483,
   "metadata": {},
   "outputs": [],
   "source": [
    "# your answer here"
   ]
  },
  {
   "cell_type": "markdown",
   "metadata": {},
   "source": [
    "### Comment, explain and present the work in a clear way (1 marks)"
   ]
  }
 ],
 "metadata": {
  "kernelspec": {
   "display_name": "R",
   "language": "R",
   "name": "ir"
  },
  "language_info": {
   "codemirror_mode": "r",
   "file_extension": ".r",
   "mimetype": "text/x-r-source",
   "name": "R",
   "pygments_lexer": "r",
   "version": "3.4.4"
  }
 },
 "nbformat": 4,
 "nbformat_minor": 4
}
