{
 "cells": [
  {
   "cell_type": "markdown",
   "metadata": {},
   "source": [
    "# Grouped Mutation"
   ]
  },
  {
   "cell_type": "markdown",
   "metadata": {},
   "source": [
    "We can use the variables within a dataframe to group together observation and operate on groups.\n",
    "\n",
    "The function we will use are `group_by`, to define the group, `mutate()`, to create new variable (we have already seen this one!), and `summarise()`, to reduce a dataframe compressing each group into one row."
   ]
  },
  {
   "cell_type": "code",
   "execution_count": 3,
   "metadata": {},
   "outputs": [
    {
     "name": "stderr",
     "output_type": "stream",
     "text": [
      "\n",
      "Attaching package: ‘skimr’\n",
      "\n",
      "The following object is masked from ‘package:stats’:\n",
      "\n",
      "    filter\n",
      "\n"
     ]
    }
   ],
   "source": [
    "library(tidyverse)\n",
    "library(singer)\n",
    "library(skimr)"
   ]
  },
  {
   "cell_type": "code",
   "execution_count": null,
   "metadata": {},
   "outputs": [],
   "source": []
  },
  {
   "cell_type": "markdown",
   "metadata": {},
   "source": [
    "Consider the usual `singer_locations` example (and let's get rid of the zero years). One of the variable is `year`. We can use it to group the dataframe."
   ]
  },
  {
   "cell_type": "code",
   "execution_count": 4,
   "metadata": {},
   "outputs": [
    {
     "data": {
      "text/html": [
       "<table>\n",
       "<caption>A grouped_df: 6 × 14</caption>\n",
       "<thead>\n",
       "\t<tr><th scope=col>track_id</th><th scope=col>title</th><th scope=col>song_id</th><th scope=col>release</th><th scope=col>artist_id</th><th scope=col>artist_name</th><th scope=col>year</th><th scope=col>duration</th><th scope=col>artist_hotttnesss</th><th scope=col>artist_familiarity</th><th scope=col>latitude</th><th scope=col>longitude</th><th scope=col>name</th><th scope=col>city</th></tr>\n",
       "\t<tr><th scope=col>&lt;chr&gt;</th><th scope=col>&lt;chr&gt;</th><th scope=col>&lt;chr&gt;</th><th scope=col>&lt;chr&gt;</th><th scope=col>&lt;chr&gt;</th><th scope=col>&lt;chr&gt;</th><th scope=col>&lt;int&gt;</th><th scope=col>&lt;dbl&gt;</th><th scope=col>&lt;dbl&gt;</th><th scope=col>&lt;dbl&gt;</th><th scope=col>&lt;dbl&gt;</th><th scope=col>&lt;dbl&gt;</th><th scope=col>&lt;chr&gt;</th><th scope=col>&lt;chr&gt;</th></tr>\n",
       "</thead>\n",
       "<tbody>\n",
       "\t<tr><td>TRWICRA128F42368DB</td><td>The Conversation (Cd)</td><td>SOSURTI12A81C22FB8</td><td>Even If It Kills Me</td><td>ARACDPV1187FB58DF4</td><td>Motion City Soundtrack        </td><td>2007</td><td>170.4485</td><td>0.6410183</td><td>0.8230522</td><td>      NA</td><td>       NA</td><td>NA           </td><td>NA          </td></tr>\n",
       "\t<tr><td>TRXJANY128F42246FC</td><td>Lonely Island        </td><td>SODESQP12A6D4F98EF</td><td>The Duke Of Earl   </td><td>ARYBUAO1187FB3F4EB</td><td>Gene Chandler                 </td><td>2004</td><td>106.5530</td><td>0.3937627</td><td>0.5700167</td><td>41.88415</td><td>-87.63241</td><td>Gene Chandler</td><td>Chicago, IL </td></tr>\n",
       "\t<tr><td>TRIKPCA128F424A553</td><td>Here's That Rainy Day</td><td>SOQUYQD12A8C131619</td><td>Imprompture        </td><td>AR4111G1187B9B58AB</td><td>Paul Horn                     </td><td>1998</td><td>527.5947</td><td>0.4306226</td><td>0.5039940</td><td>40.71455</td><td>-74.00712</td><td>Paul Horn    </td><td>New York, NY</td></tr>\n",
       "\t<tr><td>TRYEATD128F92F87C9</td><td><span style=white-space:pre-wrap>Rego Park Blues      </span></td><td>SOEZGRC12AB017F1AC</td><td><span style=white-space:pre-wrap>Still River        </span></td><td>ARQDZP31187B98D623</td><td>Ronnie Earl &amp; the Broadcasters</td><td>1995</td><td>695.1179</td><td>0.3622792</td><td>0.4773099</td><td><span style=white-space:pre-wrap>      NA</span></td><td><span style=white-space:pre-wrap>       NA</span></td><td><span style=white-space:pre-wrap>NA           </span></td><td><span style=white-space:pre-wrap>NA          </span></td></tr>\n",
       "\t<tr><td>TRBYYXH128F4264585</td><td>Games                </td><td>SOPIOCP12A8C13A322</td><td>Afro-Harping       </td><td>AR75GYU1187B9AE47A</td><td>Dorothy Ashby                 </td><td>1968</td><td>237.3220</td><td>0.4107520</td><td>0.5303468</td><td>42.33168</td><td>-83.04792</td><td>Dorothy Ashby</td><td>Detroit, MI </td></tr>\n",
       "\t<tr><td>TRKFFKR128F9303AE3</td><td>More Pipes           </td><td>SOHQSPY12AB0181325</td><td>Six Yanks          </td><td>ARCENE01187B9AF929</td><td>Barleyjuice                   </td><td>2006</td><td>192.9400</td><td>0.3762635</td><td>0.5412950</td><td>40.99471</td><td>-77.60454</td><td>Barleyjuice  </td><td>Pennsylvania</td></tr>\n",
       "</tbody>\n",
       "</table>\n"
      ],
      "text/latex": [
       "A grouped_df: 6 × 14\n",
       "\\begin{tabular}{r|llllllllllllll}\n",
       " track\\_id & title & song\\_id & release & artist\\_id & artist\\_name & year & duration & artist\\_hotttnesss & artist\\_familiarity & latitude & longitude & name & city\\\\\n",
       " <chr> & <chr> & <chr> & <chr> & <chr> & <chr> & <int> & <dbl> & <dbl> & <dbl> & <dbl> & <dbl> & <chr> & <chr>\\\\\n",
       "\\hline\n",
       "\t TRWICRA128F42368DB & The Conversation (Cd) & SOSURTI12A81C22FB8 & Even If It Kills Me & ARACDPV1187FB58DF4 & Motion City Soundtrack         & 2007 & 170.4485 & 0.6410183 & 0.8230522 &       NA &        NA & NA            & NA          \\\\\n",
       "\t TRXJANY128F42246FC & Lonely Island         & SODESQP12A6D4F98EF & The Duke Of Earl    & ARYBUAO1187FB3F4EB & Gene Chandler                  & 2004 & 106.5530 & 0.3937627 & 0.5700167 & 41.88415 & -87.63241 & Gene Chandler & Chicago, IL \\\\\n",
       "\t TRIKPCA128F424A553 & Here's That Rainy Day & SOQUYQD12A8C131619 & Imprompture         & AR4111G1187B9B58AB & Paul Horn                      & 1998 & 527.5947 & 0.4306226 & 0.5039940 & 40.71455 & -74.00712 & Paul Horn     & New York, NY\\\\\n",
       "\t TRYEATD128F92F87C9 & Rego Park Blues       & SOEZGRC12AB017F1AC & Still River         & ARQDZP31187B98D623 & Ronnie Earl \\& the Broadcasters & 1995 & 695.1179 & 0.3622792 & 0.4773099 &       NA &        NA & NA            & NA          \\\\\n",
       "\t TRBYYXH128F4264585 & Games                 & SOPIOCP12A8C13A322 & Afro-Harping        & AR75GYU1187B9AE47A & Dorothy Ashby                  & 1968 & 237.3220 & 0.4107520 & 0.5303468 & 42.33168 & -83.04792 & Dorothy Ashby & Detroit, MI \\\\\n",
       "\t TRKFFKR128F9303AE3 & More Pipes            & SOHQSPY12AB0181325 & Six Yanks           & ARCENE01187B9AF929 & Barleyjuice                    & 2006 & 192.9400 & 0.3762635 & 0.5412950 & 40.99471 & -77.60454 & Barleyjuice   & Pennsylvania\\\\\n",
       "\\end{tabular}\n"
      ],
      "text/markdown": [
       "\n",
       "A grouped_df: 6 × 14\n",
       "\n",
       "| track_id &lt;chr&gt; | title &lt;chr&gt; | song_id &lt;chr&gt; | release &lt;chr&gt; | artist_id &lt;chr&gt; | artist_name &lt;chr&gt; | year &lt;int&gt; | duration &lt;dbl&gt; | artist_hotttnesss &lt;dbl&gt; | artist_familiarity &lt;dbl&gt; | latitude &lt;dbl&gt; | longitude &lt;dbl&gt; | name &lt;chr&gt; | city &lt;chr&gt; |\n",
       "|---|---|---|---|---|---|---|---|---|---|---|---|---|---|\n",
       "| TRWICRA128F42368DB | The Conversation (Cd) | SOSURTI12A81C22FB8 | Even If It Kills Me | ARACDPV1187FB58DF4 | Motion City Soundtrack         | 2007 | 170.4485 | 0.6410183 | 0.8230522 |       NA |        NA | NA            | NA           |\n",
       "| TRXJANY128F42246FC | Lonely Island         | SODESQP12A6D4F98EF | The Duke Of Earl    | ARYBUAO1187FB3F4EB | Gene Chandler                  | 2004 | 106.5530 | 0.3937627 | 0.5700167 | 41.88415 | -87.63241 | Gene Chandler | Chicago, IL  |\n",
       "| TRIKPCA128F424A553 | Here's That Rainy Day | SOQUYQD12A8C131619 | Imprompture         | AR4111G1187B9B58AB | Paul Horn                      | 1998 | 527.5947 | 0.4306226 | 0.5039940 | 40.71455 | -74.00712 | Paul Horn     | New York, NY |\n",
       "| TRYEATD128F92F87C9 | Rego Park Blues       | SOEZGRC12AB017F1AC | Still River         | ARQDZP31187B98D623 | Ronnie Earl &amp; the Broadcasters | 1995 | 695.1179 | 0.3622792 | 0.4773099 |       NA |        NA | NA            | NA           |\n",
       "| TRBYYXH128F4264585 | Games                 | SOPIOCP12A8C13A322 | Afro-Harping        | AR75GYU1187B9AE47A | Dorothy Ashby                  | 1968 | 237.3220 | 0.4107520 | 0.5303468 | 42.33168 | -83.04792 | Dorothy Ashby | Detroit, MI  |\n",
       "| TRKFFKR128F9303AE3 | More Pipes            | SOHQSPY12AB0181325 | Six Yanks           | ARCENE01187B9AF929 | Barleyjuice                    | 2006 | 192.9400 | 0.3762635 | 0.5412950 | 40.99471 | -77.60454 | Barleyjuice   | Pennsylvania |\n",
       "\n"
      ],
      "text/plain": [
       "  track_id           title                 song_id           \n",
       "1 TRWICRA128F42368DB The Conversation (Cd) SOSURTI12A81C22FB8\n",
       "2 TRXJANY128F42246FC Lonely Island         SODESQP12A6D4F98EF\n",
       "3 TRIKPCA128F424A553 Here's That Rainy Day SOQUYQD12A8C131619\n",
       "4 TRYEATD128F92F87C9 Rego Park Blues       SOEZGRC12AB017F1AC\n",
       "5 TRBYYXH128F4264585 Games                 SOPIOCP12A8C13A322\n",
       "6 TRKFFKR128F9303AE3 More Pipes            SOHQSPY12AB0181325\n",
       "  release             artist_id          artist_name                    year\n",
       "1 Even If It Kills Me ARACDPV1187FB58DF4 Motion City Soundtrack         2007\n",
       "2 The Duke Of Earl    ARYBUAO1187FB3F4EB Gene Chandler                  2004\n",
       "3 Imprompture         AR4111G1187B9B58AB Paul Horn                      1998\n",
       "4 Still River         ARQDZP31187B98D623 Ronnie Earl & the Broadcasters 1995\n",
       "5 Afro-Harping        AR75GYU1187B9AE47A Dorothy Ashby                  1968\n",
       "6 Six Yanks           ARCENE01187B9AF929 Barleyjuice                    2006\n",
       "  duration artist_hotttnesss artist_familiarity latitude longitude\n",
       "1 170.4485 0.6410183         0.8230522                NA        NA\n",
       "2 106.5530 0.3937627         0.5700167          41.88415 -87.63241\n",
       "3 527.5947 0.4306226         0.5039940          40.71455 -74.00712\n",
       "4 695.1179 0.3622792         0.4773099                NA        NA\n",
       "5 237.3220 0.4107520         0.5303468          42.33168 -83.04792\n",
       "6 192.9400 0.3762635         0.5412950          40.99471 -77.60454\n",
       "  name          city        \n",
       "1 NA            NA          \n",
       "2 Gene Chandler Chicago, IL \n",
       "3 Paul Horn     New York, NY\n",
       "4 NA            NA          \n",
       "5 Dorothy Ashby Detroit, MI \n",
       "6 Barleyjuice   Pennsylvania"
      ]
     },
     "metadata": {},
     "output_type": "display_data"
    }
   ],
   "source": [
    "sl <- singer_locations %>%\n",
    "  filter(year != 0)\n",
    "\n",
    "sl %>%\n",
    "  group_by(year) %>%\n",
    "  head()"
   ]
  },
  {
   "cell_type": "markdown",
   "metadata": {},
   "source": [
    "Wait, this is **exactly** the same output we get when we don't group. Well, yes. The grouping is almost invisible. We can notice it if we look at the `class()` of the dataframe"
   ]
  },
  {
   "cell_type": "code",
   "execution_count": 5,
   "metadata": {},
   "outputs": [
    {
     "data": {
      "text/html": [
       "<ol class=list-inline>\n",
       "\t<li>'tbl_df'</li>\n",
       "\t<li>'tbl'</li>\n",
       "\t<li>'data.frame'</li>\n",
       "</ol>\n"
      ],
      "text/latex": [
       "\\begin{enumerate*}\n",
       "\\item 'tbl\\_df'\n",
       "\\item 'tbl'\n",
       "\\item 'data.frame'\n",
       "\\end{enumerate*}\n"
      ],
      "text/markdown": [
       "1. 'tbl_df'\n",
       "2. 'tbl'\n",
       "3. 'data.frame'\n",
       "\n",
       "\n"
      ],
      "text/plain": [
       "[1] \"tbl_df\"     \"tbl\"        \"data.frame\""
      ]
     },
     "metadata": {},
     "output_type": "display_data"
    },
    {
     "data": {
      "text/html": [
       "<ol class=list-inline>\n",
       "\t<li>'grouped_df'</li>\n",
       "\t<li>'tbl_df'</li>\n",
       "\t<li>'tbl'</li>\n",
       "\t<li>'data.frame'</li>\n",
       "</ol>\n"
      ],
      "text/latex": [
       "\\begin{enumerate*}\n",
       "\\item 'grouped\\_df'\n",
       "\\item 'tbl\\_df'\n",
       "\\item 'tbl'\n",
       "\\item 'data.frame'\n",
       "\\end{enumerate*}\n"
      ],
      "text/markdown": [
       "1. 'grouped_df'\n",
       "2. 'tbl_df'\n",
       "3. 'tbl'\n",
       "4. 'data.frame'\n",
       "\n",
       "\n"
      ],
      "text/plain": [
       "[1] \"grouped_df\" \"tbl_df\"     \"tbl\"        \"data.frame\""
      ]
     },
     "metadata": {},
     "output_type": "display_data"
    }
   ],
   "source": [
    "sl %>% class()\n",
    "sl %>% group_by(year) %>% class()"
   ]
  },
  {
   "cell_type": "markdown",
   "metadata": {},
   "source": [
    "Yet, the grouping makes a lot of difference when we operate on the dataframe!  \n",
    "Let's use the function `summarise()` to see it."
   ]
  },
  {
   "cell_type": "code",
   "execution_count": 6,
   "metadata": {},
   "outputs": [
    {
     "data": {
      "text/html": [
       "<table>\n",
       "<caption>A tibble: 1 × 1</caption>\n",
       "<thead>\n",
       "\t<tr><th scope=col>median_hotttnesss</th></tr>\n",
       "\t<tr><th scope=col>&lt;dbl&gt;</th></tr>\n",
       "</thead>\n",
       "<tbody>\n",
       "\t<tr><td>0.4103622</td></tr>\n",
       "</tbody>\n",
       "</table>\n"
      ],
      "text/latex": [
       "A tibble: 1 × 1\n",
       "\\begin{tabular}{r|l}\n",
       " median\\_hotttnesss\\\\\n",
       " <dbl>\\\\\n",
       "\\hline\n",
       "\t 0.4103622\\\\\n",
       "\\end{tabular}\n"
      ],
      "text/markdown": [
       "\n",
       "A tibble: 1 × 1\n",
       "\n",
       "| median_hotttnesss &lt;dbl&gt; |\n",
       "|---|\n",
       "| 0.4103622 |\n",
       "\n"
      ],
      "text/plain": [
       "  median_hotttnesss\n",
       "1 0.4103622        "
      ]
     },
     "metadata": {},
     "output_type": "display_data"
    }
   ],
   "source": [
    "sl %>%\n",
    "  summarise(median_hotttnesss = median(artist_hotttnesss))"
   ]
  },
  {
   "cell_type": "markdown",
   "metadata": {},
   "source": [
    "The function `summarise()` took the full column of `artist_hotttnesss` and computed the mean. One column, on value. However, if we group:"
   ]
  },
  {
   "cell_type": "code",
   "execution_count": 7,
   "metadata": {},
   "outputs": [
    {
     "data": {
      "text/html": [
       "<table>\n",
       "<caption>A tibble: 6 × 2</caption>\n",
       "<thead>\n",
       "\t<tr><th scope=col>year</th><th scope=col>median_hotttnesss</th></tr>\n",
       "\t<tr><th scope=col>&lt;int&gt;</th><th scope=col>&lt;dbl&gt;</th></tr>\n",
       "</thead>\n",
       "<tbody>\n",
       "\t<tr><td>1922</td><td>0.3496206</td></tr>\n",
       "\t<tr><td>1926</td><td>0.3828469</td></tr>\n",
       "\t<tr><td>1927</td><td>0.3828469</td></tr>\n",
       "\t<tr><td>1929</td><td>0.3507879</td></tr>\n",
       "\t<tr><td>1937</td><td>0.3530357</td></tr>\n",
       "\t<tr><td>1940</td><td>0.3568980</td></tr>\n",
       "</tbody>\n",
       "</table>\n"
      ],
      "text/latex": [
       "A tibble: 6 × 2\n",
       "\\begin{tabular}{r|ll}\n",
       " year & median\\_hotttnesss\\\\\n",
       " <int> & <dbl>\\\\\n",
       "\\hline\n",
       "\t 1922 & 0.3496206\\\\\n",
       "\t 1926 & 0.3828469\\\\\n",
       "\t 1927 & 0.3828469\\\\\n",
       "\t 1929 & 0.3507879\\\\\n",
       "\t 1937 & 0.3530357\\\\\n",
       "\t 1940 & 0.3568980\\\\\n",
       "\\end{tabular}\n"
      ],
      "text/markdown": [
       "\n",
       "A tibble: 6 × 2\n",
       "\n",
       "| year &lt;int&gt; | median_hotttnesss &lt;dbl&gt; |\n",
       "|---|---|\n",
       "| 1922 | 0.3496206 |\n",
       "| 1926 | 0.3828469 |\n",
       "| 1927 | 0.3828469 |\n",
       "| 1929 | 0.3507879 |\n",
       "| 1937 | 0.3530357 |\n",
       "| 1940 | 0.3568980 |\n",
       "\n"
      ],
      "text/plain": [
       "  year median_hotttnesss\n",
       "1 1922 0.3496206        \n",
       "2 1926 0.3828469        \n",
       "3 1927 0.3828469        \n",
       "4 1929 0.3507879        \n",
       "5 1937 0.3530357        \n",
       "6 1940 0.3568980        "
      ]
     },
     "metadata": {},
     "output_type": "display_data"
    }
   ],
   "source": [
    "sl %>%\n",
    "  group_by(year) %>%\n",
    "  summarise(median_hotttnesss = median(artist_hotttnesss)) %>%\n",
    "  head()"
   ]
  },
  {
   "cell_type": "markdown",
   "metadata": {},
   "source": [
    "Now we have one median for each year! Neat! We can use it to do some plotting:"
   ]
  },
  {
   "cell_type": "code",
   "execution_count": 8,
   "metadata": {},
   "outputs": [
    {
     "data": {
      "image/png": "[encoded data removed]",
      "text/plain": [
       "plot without title"
      ]
     },
     "metadata": {},
     "output_type": "display_data"
    }
   ],
   "source": [
    "sl %>%\n",
    "  group_by(year) %>%\n",
    "  summarise(median_hotttnesss = median(artist_hotttnesss)) %>%\n",
    "  ggplot(aes(x = year, y = median_hotttnesss)) +\n",
    "  geom_point() + theme_minimal()"
   ]
  },
  {
   "cell_type": "markdown",
   "metadata": {},
   "source": [
    "Without the grouping, we would have plotted many points for every year (one for each song in that year).\n",
    "\n",
    "Arguably, it is easier to see a possible trend in the previous plot than in the following."
   ]
  },
  {
   "cell_type": "code",
   "execution_count": 9,
   "metadata": {},
   "outputs": [
    {
     "data": {
      "image/png": "[encoded data removed]",
      "text/plain": [
       "plot without title"
      ]
     },
     "metadata": {},
     "output_type": "display_data"
    }
   ],
   "source": [
    "sl %>%\n",
    "  ggplot(aes(x = year, y = artist_hotttnesss)) +\n",
    "  geom_point() + theme_minimal()"
   ]
  },
  {
   "cell_type": "markdown",
   "metadata": {},
   "source": [
    "## Your turn!"
   ]
  },
  {
   "cell_type": "markdown",
   "metadata": {},
   "source": [
    "Compute the median song duration for each city and find the city with shortest and longest songs.  \n",
    "You will need to use `group_by()`, yet you can modify the code we just used."
   ]
  },
  {
   "cell_type": "code",
   "execution_count": null,
   "metadata": {},
   "outputs": [],
   "source": [
    "# your code here."
   ]
  },
  {
   "cell_type": "markdown",
   "metadata": {},
   "source": [
    "## Challenge 1: your turn!\n",
    "\n",
    "- Produce two new variables that are the rounding of latitude and longitude (you decide the rounding).  \n",
    "- Group artists by the new rounded latitude and longitude. \n",
    "- Use `tally()` to count how many rows fall in each group\n",
    "- Arrange by `n`umber of songs in each group"
   ]
  },
  {
   "cell_type": "code",
   "execution_count": null,
   "metadata": {},
   "outputs": [],
   "source": [
    "# your code here.\n",
    "# proposed solution (don't look at them yet!) at the end of the document."
   ]
  },
  {
   "cell_type": "markdown",
   "metadata": {},
   "source": [
    "# Wide, Long, Tidy, Groupy"
   ]
  },
  {
   "cell_type": "markdown",
   "metadata": {},
   "source": [
    "Dataframes can have differen shape: some are longer, some are wider, some are messy, some are tidy.  \n",
    "\n",
    "Consider for examples the two following dataframes."
   ]
  },
  {
   "cell_type": "markdown",
   "metadata": {},
   "source": [
    "The dataframes will contain information about the best band in certain decades for a certain musical style.  \n",
    "The choice is mine ;-)"
   ]
  },
  {
   "cell_type": "code",
   "execution_count": 10,
   "metadata": {},
   "outputs": [
    {
     "data": {
      "text/html": [
       "<table>\n",
       "<caption>A tibble: 6 × 3</caption>\n",
       "<thead>\n",
       "\t<tr><th scope=col>Style</th><th scope=col>Decade</th><th scope=col>Band</th></tr>\n",
       "\t<tr><th scope=col>&lt;chr&gt;</th><th scope=col>&lt;dbl&gt;</th><th scope=col>&lt;chr&gt;</th></tr>\n",
       "</thead>\n",
       "<tbody>\n",
       "\t<tr><td>punk </td><td>1980</td><td>Ramones   </td></tr>\n",
       "\t<tr><td>punk </td><td>1990</td><td>Pennywise </td></tr>\n",
       "\t<tr><td>punk </td><td>2000</td><td>Black Flag</td></tr>\n",
       "\t<tr><td>metal</td><td>1980</td><td>Metallica </td></tr>\n",
       "\t<tr><td>metal</td><td>1990</td><td>Sepultura </td></tr>\n",
       "\t<tr><td>metal</td><td>2000</td><td>Gojira    </td></tr>\n",
       "</tbody>\n",
       "</table>\n"
      ],
      "text/latex": [
       "A tibble: 6 × 3\n",
       "\\begin{tabular}{r|lll}\n",
       " Style & Decade & Band\\\\\n",
       " <chr> & <dbl> & <chr>\\\\\n",
       "\\hline\n",
       "\t punk  & 1980 & Ramones   \\\\\n",
       "\t punk  & 1990 & Pennywise \\\\\n",
       "\t punk  & 2000 & Black Flag\\\\\n",
       "\t metal & 1980 & Metallica \\\\\n",
       "\t metal & 1990 & Sepultura \\\\\n",
       "\t metal & 2000 & Gojira    \\\\\n",
       "\\end{tabular}\n"
      ],
      "text/markdown": [
       "\n",
       "A tibble: 6 × 3\n",
       "\n",
       "| Style &lt;chr&gt; | Decade &lt;dbl&gt; | Band &lt;chr&gt; |\n",
       "|---|---|---|\n",
       "| punk  | 1980 | Ramones    |\n",
       "| punk  | 1990 | Pennywise  |\n",
       "| punk  | 2000 | Black Flag |\n",
       "| metal | 1980 | Metallica  |\n",
       "| metal | 1990 | Sepultura  |\n",
       "| metal | 2000 | Gojira     |\n",
       "\n"
      ],
      "text/plain": [
       "  Style Decade Band      \n",
       "1 punk  1980   Ramones   \n",
       "2 punk  1990   Pennywise \n",
       "3 punk  2000   Black Flag\n",
       "4 metal 1980   Metallica \n",
       "5 metal 1990   Sepultura \n",
       "6 metal 2000   Gojira    "
      ]
     },
     "metadata": {},
     "output_type": "display_data"
    },
    {
     "data": {
      "text/html": [
       "<table>\n",
       "<caption>A tibble: 2 × 4</caption>\n",
       "<thead>\n",
       "\t<tr><th scope=col>Style</th><th scope=col>1980</th><th scope=col>1990</th><th scope=col>2000</th></tr>\n",
       "\t<tr><th scope=col>&lt;chr&gt;</th><th scope=col>&lt;chr&gt;</th><th scope=col>&lt;chr&gt;</th><th scope=col>&lt;chr&gt;</th></tr>\n",
       "</thead>\n",
       "<tbody>\n",
       "\t<tr><td>punk </td><td>Ramones  </td><td>Pennywise</td><td>Black Flag</td></tr>\n",
       "\t<tr><td>metal</td><td>Metallica</td><td>Sepultura</td><td>Gojira    </td></tr>\n",
       "</tbody>\n",
       "</table>\n"
      ],
      "text/latex": [
       "A tibble: 2 × 4\n",
       "\\begin{tabular}{r|llll}\n",
       " Style & 1980 & 1990 & 2000\\\\\n",
       " <chr> & <chr> & <chr> & <chr>\\\\\n",
       "\\hline\n",
       "\t punk  & Ramones   & Pennywise & Black Flag\\\\\n",
       "\t metal & Metallica & Sepultura & Gojira    \\\\\n",
       "\\end{tabular}\n"
      ],
      "text/markdown": [
       "\n",
       "A tibble: 2 × 4\n",
       "\n",
       "| Style &lt;chr&gt; | 1980 &lt;chr&gt; | 1990 &lt;chr&gt; | 2000 &lt;chr&gt; |\n",
       "|---|---|---|---|\n",
       "| punk  | Ramones   | Pennywise | Black Flag |\n",
       "| metal | Metallica | Sepultura | Gojira     |\n",
       "\n"
      ],
      "text/plain": [
       "  Style 1980      1990      2000      \n",
       "1 punk  Ramones   Pennywise Black Flag\n",
       "2 metal Metallica Sepultura Gojira    "
      ]
     },
     "metadata": {},
     "output_type": "display_data"
    }
   ],
   "source": [
    "long_df <- tibble(\n",
    "  Style = c(\"punk\",\"punk\",\"punk\",\"metal\",\"metal\",\"metal\"),\n",
    "  Decade = c(1980,1990,2000,1980,1990,2000),\n",
    "  Band = c(\"Ramones\",\"Pennywise\",\"Black Flag\",\"Metallica\",\"Sepultura\",\"Gojira\")\n",
    ")\n",
    "wide_df <- tibble(\n",
    "  Style = c(\"punk\",\"metal\"),\n",
    "  `1980` = c(\"Ramones\",\"Metallica\"),\n",
    "  `1990` = c(\"Pennywise\",\"Sepultura\"),\n",
    "  `2000` = c(\"Black Flag\",\"Gojira\")\n",
    ")\n",
    "long_df\n",
    "wide_df"
   ]
  },
  {
   "cell_type": "markdown",
   "metadata": {},
   "source": [
    "## Reflect:\n",
    "Do the two dataframe contain the same information?\n",
    "  \n",
    "    \n",
    "     \n",
    "     \n",
    "     \n",
    "> your answer here"
   ]
  },
  {
   "cell_type": "markdown",
   "metadata": {},
   "source": [
    "In fact, we can go from one shape to the other of that dataframe without loosing information.\n",
    "\n",
    "To go from the long (many rows) to the wide (many columns) format we use `spread()`."
   ]
  },
  {
   "cell_type": "code",
   "execution_count": 11,
   "metadata": {},
   "outputs": [
    {
     "data": {
      "text/html": [
       "<table>\n",
       "<caption>A tibble: 2 × 4</caption>\n",
       "<thead>\n",
       "\t<tr><th scope=col>Style</th><th scope=col>1980</th><th scope=col>1990</th><th scope=col>2000</th></tr>\n",
       "\t<tr><th scope=col>&lt;chr&gt;</th><th scope=col>&lt;chr&gt;</th><th scope=col>&lt;chr&gt;</th><th scope=col>&lt;chr&gt;</th></tr>\n",
       "</thead>\n",
       "<tbody>\n",
       "\t<tr><td>metal</td><td>Metallica</td><td>Sepultura</td><td>Gojira    </td></tr>\n",
       "\t<tr><td>punk </td><td>Ramones  </td><td>Pennywise</td><td>Black Flag</td></tr>\n",
       "</tbody>\n",
       "</table>\n"
      ],
      "text/latex": [
       "A tibble: 2 × 4\n",
       "\\begin{tabular}{r|llll}\n",
       " Style & 1980 & 1990 & 2000\\\\\n",
       " <chr> & <chr> & <chr> & <chr>\\\\\n",
       "\\hline\n",
       "\t metal & Metallica & Sepultura & Gojira    \\\\\n",
       "\t punk  & Ramones   & Pennywise & Black Flag\\\\\n",
       "\\end{tabular}\n"
      ],
      "text/markdown": [
       "\n",
       "A tibble: 2 × 4\n",
       "\n",
       "| Style &lt;chr&gt; | 1980 &lt;chr&gt; | 1990 &lt;chr&gt; | 2000 &lt;chr&gt; |\n",
       "|---|---|---|---|\n",
       "| metal | Metallica | Sepultura | Gojira     |\n",
       "| punk  | Ramones   | Pennywise | Black Flag |\n",
       "\n"
      ],
      "text/plain": [
       "  Style 1980      1990      2000      \n",
       "1 metal Metallica Sepultura Gojira    \n",
       "2 punk  Ramones   Pennywise Black Flag"
      ]
     },
     "metadata": {},
     "output_type": "display_data"
    }
   ],
   "source": [
    "long_df %>%\n",
    "  spread(key = Decade,\n",
    "         value = Band)"
   ]
  },
  {
   "cell_type": "code",
   "execution_count": 12,
   "metadata": {},
   "outputs": [
    {
     "data": {
      "text/html": [
       "<table>\n",
       "<caption>A tibble: 6 × 3</caption>\n",
       "<thead>\n",
       "\t<tr><th scope=col>Style</th><th scope=col>Decade</th><th scope=col>Band</th></tr>\n",
       "\t<tr><th scope=col>&lt;chr&gt;</th><th scope=col>&lt;chr&gt;</th><th scope=col>&lt;chr&gt;</th></tr>\n",
       "</thead>\n",
       "<tbody>\n",
       "\t<tr><td>punk </td><td>1980</td><td>Ramones   </td></tr>\n",
       "\t<tr><td>metal</td><td>1980</td><td>Metallica </td></tr>\n",
       "\t<tr><td>punk </td><td>1990</td><td>Pennywise </td></tr>\n",
       "\t<tr><td>metal</td><td>1990</td><td>Sepultura </td></tr>\n",
       "\t<tr><td>punk </td><td>2000</td><td>Black Flag</td></tr>\n",
       "\t<tr><td>metal</td><td>2000</td><td>Gojira    </td></tr>\n",
       "</tbody>\n",
       "</table>\n"
      ],
      "text/latex": [
       "A tibble: 6 × 3\n",
       "\\begin{tabular}{r|lll}\n",
       " Style & Decade & Band\\\\\n",
       " <chr> & <chr> & <chr>\\\\\n",
       "\\hline\n",
       "\t punk  & 1980 & Ramones   \\\\\n",
       "\t metal & 1980 & Metallica \\\\\n",
       "\t punk  & 1990 & Pennywise \\\\\n",
       "\t metal & 1990 & Sepultura \\\\\n",
       "\t punk  & 2000 & Black Flag\\\\\n",
       "\t metal & 2000 & Gojira    \\\\\n",
       "\\end{tabular}\n"
      ],
      "text/markdown": [
       "\n",
       "A tibble: 6 × 3\n",
       "\n",
       "| Style &lt;chr&gt; | Decade &lt;chr&gt; | Band &lt;chr&gt; |\n",
       "|---|---|---|\n",
       "| punk  | 1980 | Ramones    |\n",
       "| metal | 1980 | Metallica  |\n",
       "| punk  | 1990 | Pennywise  |\n",
       "| metal | 1990 | Sepultura  |\n",
       "| punk  | 2000 | Black Flag |\n",
       "| metal | 2000 | Gojira     |\n",
       "\n"
      ],
      "text/plain": [
       "  Style Decade Band      \n",
       "1 punk  1980   Ramones   \n",
       "2 metal 1980   Metallica \n",
       "3 punk  1990   Pennywise \n",
       "4 metal 1990   Sepultura \n",
       "5 punk  2000   Black Flag\n",
       "6 metal 2000   Gojira    "
      ]
     },
     "metadata": {},
     "output_type": "display_data"
    }
   ],
   "source": [
    "wide_df %>%\n",
    "  gather(key = Decade,\n",
    "         value = Band,\n",
    "         -Style)"
   ]
  },
  {
   "cell_type": "markdown",
   "metadata": {},
   "source": [
    "Yet, consider the following dataframe, where we added one metal band in the 1980s."
   ]
  },
  {
   "cell_type": "code",
   "execution_count": 14,
   "metadata": {},
   "outputs": [
    {
     "data": {
      "text/html": [
       "<table>\n",
       "<caption>A tibble: 7 × 3</caption>\n",
       "<thead>\n",
       "\t<tr><th scope=col>Style</th><th scope=col>Decade</th><th scope=col>Band</th></tr>\n",
       "\t<tr><th scope=col>&lt;chr&gt;</th><th scope=col>&lt;dbl&gt;</th><th scope=col>&lt;chr&gt;</th></tr>\n",
       "</thead>\n",
       "<tbody>\n",
       "\t<tr><td>punk </td><td>1980</td><td>Ramones   </td></tr>\n",
       "\t<tr><td>punk </td><td>1990</td><td>Pennywise </td></tr>\n",
       "\t<tr><td>punk </td><td>2000</td><td>Black Flag</td></tr>\n",
       "\t<tr><td>metal</td><td>1980</td><td>Metallica </td></tr>\n",
       "\t<tr><td>metal</td><td>1990</td><td>Sepultura </td></tr>\n",
       "\t<tr><td>metal</td><td>2000</td><td>Gojira    </td></tr>\n",
       "\t<tr><td>metal</td><td>1980</td><td>Megadeth  </td></tr>\n",
       "</tbody>\n",
       "</table>\n"
      ],
      "text/latex": [
       "A tibble: 7 × 3\n",
       "\\begin{tabular}{r|lll}\n",
       " Style & Decade & Band\\\\\n",
       " <chr> & <dbl> & <chr>\\\\\n",
       "\\hline\n",
       "\t punk  & 1980 & Ramones   \\\\\n",
       "\t punk  & 1990 & Pennywise \\\\\n",
       "\t punk  & 2000 & Black Flag\\\\\n",
       "\t metal & 1980 & Metallica \\\\\n",
       "\t metal & 1990 & Sepultura \\\\\n",
       "\t metal & 2000 & Gojira    \\\\\n",
       "\t metal & 1980 & Megadeth  \\\\\n",
       "\\end{tabular}\n"
      ],
      "text/markdown": [
       "\n",
       "A tibble: 7 × 3\n",
       "\n",
       "| Style &lt;chr&gt; | Decade &lt;dbl&gt; | Band &lt;chr&gt; |\n",
       "|---|---|---|\n",
       "| punk  | 1980 | Ramones    |\n",
       "| punk  | 1990 | Pennywise  |\n",
       "| punk  | 2000 | Black Flag |\n",
       "| metal | 1980 | Metallica  |\n",
       "| metal | 1990 | Sepultura  |\n",
       "| metal | 2000 | Gojira     |\n",
       "| metal | 1980 | Megadeth   |\n",
       "\n"
      ],
      "text/plain": [
       "  Style Decade Band      \n",
       "1 punk  1980   Ramones   \n",
       "2 punk  1990   Pennywise \n",
       "3 punk  2000   Black Flag\n",
       "4 metal 1980   Metallica \n",
       "5 metal 1990   Sepultura \n",
       "6 metal 2000   Gojira    \n",
       "7 metal 1980   Megadeth  "
      ]
     },
     "metadata": {},
     "output_type": "display_data"
    }
   ],
   "source": [
    "long_df_2 <- long_df %>%\n",
    " add_row(\n",
    "   Style = \"metal\", Decade = 1980, Band = \"Megadeth\"\n",
    " )\n",
    "long_df_2"
   ]
  },
  {
   "cell_type": "markdown",
   "metadata": {},
   "source": [
    "If we try to go back to the wide format:"
   ]
  },
  {
   "cell_type": "code",
   "execution_count": 13,
   "metadata": {},
   "outputs": [
    {
     "ename": "ERROR",
     "evalue": "Error in eval(lhs, parent, parent): object 'long_df_2' not found\n",
     "output_type": "error",
     "traceback": [
      "Error in eval(lhs, parent, parent): object 'long_df_2' not found\nTraceback:\n",
      "1. long_df_2 %>% spread(key = Decade, value = Band)",
      "2. eval(lhs, parent, parent)",
      "3. eval(lhs, parent, parent)"
     ]
    }
   ],
   "source": [
    "long_df_2 %>%\n",
    "  spread(key = Decade,\n",
    "         value = Band)"
   ]
  },
  {
   "cell_type": "markdown",
   "metadata": {},
   "source": [
    "We get an error: in the wide format there was space only for 1 band in Metal, 1980.  \n",
    "In the long format, we can have many.\n",
    "\n",
    "Think about the `Style` and `Decade` as the \"address\" of a `band`.  \n",
    "If every band has a unique \"address\", then we can go back and forth between long and wide formats.  \n",
    "\n",
    "In the following example, we will remove part of the \"address\": we will not be able to spread anymore."
   ]
  },
  {
   "cell_type": "code",
   "execution_count": 18,
   "metadata": {},
   "outputs": [
    {
     "ename": "ERROR",
     "evalue": "Each row of output must be identified by a unique combination of keys.\nKeys are shared for 6 rows:\n* 1, 4\n* 2, 5\n* 3, 6\nDo you need to create unique ID with tibble::rowid_to_column()?",
     "output_type": "error",
     "traceback": [
      "Each row of output must be identified by a unique combination of keys.\nKeys are shared for 6 rows:\n* 1, 4\n* 2, 5\n* 3, 6\nDo you need to create unique ID with tibble::rowid_to_column()?Traceback:\n",
      "1. long_df %>% select(-Style) %>% spread(key = Decade, value = Band)",
      "2. withVisible(eval(quote(`_fseq`(`_lhs`)), env, env))",
      "3. eval(quote(`_fseq`(`_lhs`)), env, env)",
      "4. eval(quote(`_fseq`(`_lhs`)), env, env)",
      "5. `_fseq`(`_lhs`)",
      "6. freduce(value, `_function_list`)",
      "7. withVisible(function_list[[k]](value))",
      "8. function_list[[k]](value)",
      "9. spread(., key = Decade, value = Band)",
      "10. spread.data.frame(., key = Decade, value = Band)",
      "11. abort(glue(\"Each row of output must be identified by a unique combination of keys.\", \n  .     \"\\nKeys are shared for {shared} rows:\", \"\\n{rows}\", \"Do you need to create unique ID with tibble::rowid_to_column()?\"))"
     ]
    }
   ],
   "source": [
    "long_df %>%\n",
    "  select(-Style) %>%\n",
    "  spread(key = Decade,\n",
    "         value = Band)"
   ]
  },
  {
   "cell_type": "markdown",
   "metadata": {},
   "source": [
    "## Messy data\n",
    "\n",
    "Long and Wide are two position in a more complicated spectru, The following data is arguably more long than wide, but it could also be \"longer\"."
   ]
  },
  {
   "cell_type": "code",
   "execution_count": 19,
   "metadata": {},
   "outputs": [
    {
     "data": {
      "text/html": [
       "<table>\n",
       "<caption>A tibble: 7 × 4</caption>\n",
       "<thead>\n",
       "\t<tr><th scope=col>Style</th><th scope=col>Decade</th><th scope=col>Band</th><th scope=col>Albums_in_Decade</th></tr>\n",
       "\t<tr><th scope=col>&lt;chr&gt;</th><th scope=col>&lt;dbl&gt;</th><th scope=col>&lt;chr&gt;</th><th scope=col>&lt;dbl&gt;</th></tr>\n",
       "</thead>\n",
       "<tbody>\n",
       "\t<tr><td>punk </td><td>1980</td><td>Ramones   </td><td>7</td></tr>\n",
       "\t<tr><td>punk </td><td>1990</td><td>Pennywise </td><td>5</td></tr>\n",
       "\t<tr><td>punk </td><td>2000</td><td>Black Flag</td><td>1</td></tr>\n",
       "\t<tr><td>metal</td><td>1980</td><td>Metallica </td><td>4</td></tr>\n",
       "\t<tr><td>metal</td><td>1990</td><td>Sepultura </td><td>4</td></tr>\n",
       "\t<tr><td>metal</td><td>2000</td><td>Gojira    </td><td>4</td></tr>\n",
       "\t<tr><td>metal</td><td>1980</td><td>Megadeth  </td><td>3</td></tr>\n",
       "</tbody>\n",
       "</table>\n"
      ],
      "text/latex": [
       "A tibble: 7 × 4\n",
       "\\begin{tabular}{r|llll}\n",
       " Style & Decade & Band & Albums\\_in\\_Decade\\\\\n",
       " <chr> & <dbl> & <chr> & <dbl>\\\\\n",
       "\\hline\n",
       "\t punk  & 1980 & Ramones    & 7\\\\\n",
       "\t punk  & 1990 & Pennywise  & 5\\\\\n",
       "\t punk  & 2000 & Black Flag & 1\\\\\n",
       "\t metal & 1980 & Metallica  & 4\\\\\n",
       "\t metal & 1990 & Sepultura  & 4\\\\\n",
       "\t metal & 2000 & Gojira     & 4\\\\\n",
       "\t metal & 1980 & Megadeth   & 3\\\\\n",
       "\\end{tabular}\n"
      ],
      "text/markdown": [
       "\n",
       "A tibble: 7 × 4\n",
       "\n",
       "| Style &lt;chr&gt; | Decade &lt;dbl&gt; | Band &lt;chr&gt; | Albums_in_Decade &lt;dbl&gt; |\n",
       "|---|---|---|---|\n",
       "| punk  | 1980 | Ramones    | 7 |\n",
       "| punk  | 1990 | Pennywise  | 5 |\n",
       "| punk  | 2000 | Black Flag | 1 |\n",
       "| metal | 1980 | Metallica  | 4 |\n",
       "| metal | 1990 | Sepultura  | 4 |\n",
       "| metal | 2000 | Gojira     | 4 |\n",
       "| metal | 1980 | Megadeth   | 3 |\n",
       "\n"
      ],
      "text/plain": [
       "  Style Decade Band       Albums_in_Decade\n",
       "1 punk  1980   Ramones    7               \n",
       "2 punk  1990   Pennywise  5               \n",
       "3 punk  2000   Black Flag 1               \n",
       "4 metal 1980   Metallica  4               \n",
       "5 metal 1990   Sepultura  4               \n",
       "6 metal 2000   Gojira     4               \n",
       "7 metal 1980   Megadeth   3               "
      ]
     },
     "metadata": {},
     "output_type": "display_data"
    },
    {
     "data": {
      "text/html": [
       "<table>\n",
       "<caption>A tibble: 6 × 4</caption>\n",
       "<thead>\n",
       "\t<tr><th scope=col>Style</th><th scope=col>Decade</th><th scope=col>Band</th><th scope=col>Albums_in_Decade</th></tr>\n",
       "\t<tr><th scope=col>&lt;chr&gt;</th><th scope=col>&lt;dbl&gt;</th><th scope=col>&lt;chr&gt;</th><th scope=col>&lt;dbl&gt;</th></tr>\n",
       "</thead>\n",
       "<tbody>\n",
       "\t<tr><td>punk </td><td>1980</td><td>Ramones   </td><td>7</td></tr>\n",
       "\t<tr><td>punk </td><td>1990</td><td>Pennywise </td><td>5</td></tr>\n",
       "\t<tr><td>punk </td><td>2000</td><td>Black Flag</td><td>1</td></tr>\n",
       "\t<tr><td>metal</td><td>1980</td><td>Metallica </td><td>4</td></tr>\n",
       "\t<tr><td>metal</td><td>1990</td><td>Sepultura </td><td>4</td></tr>\n",
       "\t<tr><td>metal</td><td>2000</td><td>Gojira    </td><td>4</td></tr>\n",
       "</tbody>\n",
       "</table>\n"
      ],
      "text/latex": [
       "A tibble: 6 × 4\n",
       "\\begin{tabular}{r|llll}\n",
       " Style & Decade & Band & Albums\\_in\\_Decade\\\\\n",
       " <chr> & <dbl> & <chr> & <dbl>\\\\\n",
       "\\hline\n",
       "\t punk  & 1980 & Ramones    & 7\\\\\n",
       "\t punk  & 1990 & Pennywise  & 5\\\\\n",
       "\t punk  & 2000 & Black Flag & 1\\\\\n",
       "\t metal & 1980 & Metallica  & 4\\\\\n",
       "\t metal & 1990 & Sepultura  & 4\\\\\n",
       "\t metal & 2000 & Gojira     & 4\\\\\n",
       "\\end{tabular}\n"
      ],
      "text/markdown": [
       "\n",
       "A tibble: 6 × 4\n",
       "\n",
       "| Style &lt;chr&gt; | Decade &lt;dbl&gt; | Band &lt;chr&gt; | Albums_in_Decade &lt;dbl&gt; |\n",
       "|---|---|---|---|\n",
       "| punk  | 1980 | Ramones    | 7 |\n",
       "| punk  | 1990 | Pennywise  | 5 |\n",
       "| punk  | 2000 | Black Flag | 1 |\n",
       "| metal | 1980 | Metallica  | 4 |\n",
       "| metal | 1990 | Sepultura  | 4 |\n",
       "| metal | 2000 | Gojira     | 4 |\n",
       "\n"
      ],
      "text/plain": [
       "  Style Decade Band       Albums_in_Decade\n",
       "1 punk  1980   Ramones    7               \n",
       "2 punk  1990   Pennywise  5               \n",
       "3 punk  2000   Black Flag 1               \n",
       "4 metal 1980   Metallica  4               \n",
       "5 metal 1990   Sepultura  4               \n",
       "6 metal 2000   Gojira     4               "
      ]
     },
     "metadata": {},
     "output_type": "display_data"
    }
   ],
   "source": [
    "long_df_rank_2 <- long_df_2 %>%\n",
    "  mutate(Albums_in_Decade = c(7,5,1,4,4,4,3))\n",
    "long_df_rank_2\n",
    "\n",
    "long_df_rank <- long_df_rank_2 %>%\n",
    "  filter(Band != \"Megadeth\")\n",
    "long_df_rank"
   ]
  },
  {
   "cell_type": "markdown",
   "metadata": {},
   "source": [
    "Once again, we can not simply go from this long format to the wide format."
   ]
  },
  {
   "cell_type": "code",
   "execution_count": 20,
   "metadata": {},
   "outputs": [
    {
     "data": {
      "text/html": [
       "<table>\n",
       "<caption>A tibble: 4 × 5</caption>\n",
       "<thead>\n",
       "\t<tr><th scope=col>Style</th><th scope=col>Albums_in_Decade</th><th scope=col>1980</th><th scope=col>1990</th><th scope=col>2000</th></tr>\n",
       "\t<tr><th scope=col>&lt;chr&gt;</th><th scope=col>&lt;dbl&gt;</th><th scope=col>&lt;chr&gt;</th><th scope=col>&lt;chr&gt;</th><th scope=col>&lt;chr&gt;</th></tr>\n",
       "</thead>\n",
       "<tbody>\n",
       "\t<tr><td>metal</td><td>4</td><td>Metallica</td><td>Sepultura</td><td>Gojira    </td></tr>\n",
       "\t<tr><td>punk </td><td>1</td><td>NA       </td><td>NA       </td><td>Black Flag</td></tr>\n",
       "\t<tr><td>punk </td><td>5</td><td>NA       </td><td>Pennywise</td><td>NA        </td></tr>\n",
       "\t<tr><td>punk </td><td>7</td><td>Ramones  </td><td>NA       </td><td>NA        </td></tr>\n",
       "</tbody>\n",
       "</table>\n"
      ],
      "text/latex": [
       "A tibble: 4 × 5\n",
       "\\begin{tabular}{r|lllll}\n",
       " Style & Albums\\_in\\_Decade & 1980 & 1990 & 2000\\\\\n",
       " <chr> & <dbl> & <chr> & <chr> & <chr>\\\\\n",
       "\\hline\n",
       "\t metal & 4 & Metallica & Sepultura & Gojira    \\\\\n",
       "\t punk  & 1 & NA        & NA        & Black Flag\\\\\n",
       "\t punk  & 5 & NA        & Pennywise & NA        \\\\\n",
       "\t punk  & 7 & Ramones   & NA        & NA        \\\\\n",
       "\\end{tabular}\n"
      ],
      "text/markdown": [
       "\n",
       "A tibble: 4 × 5\n",
       "\n",
       "| Style &lt;chr&gt; | Albums_in_Decade &lt;dbl&gt; | 1980 &lt;chr&gt; | 1990 &lt;chr&gt; | 2000 &lt;chr&gt; |\n",
       "|---|---|---|---|---|\n",
       "| metal | 4 | Metallica | Sepultura | Gojira     |\n",
       "| punk  | 1 | NA        | NA        | Black Flag |\n",
       "| punk  | 5 | NA        | Pennywise | NA         |\n",
       "| punk  | 7 | Ramones   | NA        | NA         |\n",
       "\n"
      ],
      "text/plain": [
       "  Style Albums_in_Decade 1980      1990      2000      \n",
       "1 metal 4                Metallica Sepultura Gojira    \n",
       "2 punk  1                NA        NA        Black Flag\n",
       "3 punk  5                NA        Pennywise NA        \n",
       "4 punk  7                Ramones   NA        NA        "
      ]
     },
     "metadata": {},
     "output_type": "display_data"
    }
   ],
   "source": [
    "long_df_rank %>%\n",
    "  spread(key = Decade,\n",
    "         value = Band)"
   ]
  },
  {
   "cell_type": "markdown",
   "metadata": {},
   "source": [
    "Nope, this is not at all what we wanted.  \n",
    "The information is still there, but we also had to introduce a lot of `NA`s. Moreover, the format is not consistent (some rows have 1 band, 1 row has 4 bands, which happen to have the same number of albums...)\n",
    "\n",
    "To express the same information, we would probably need to use two separate wide dataframes: one for the bands, one for the rankings."
   ]
  },
  {
   "cell_type": "code",
   "execution_count": 17,
   "metadata": {},
   "outputs": [
    {
     "ename": "ERROR",
     "evalue": "Error in eval(lhs, parent, parent): object 'long_df_rank' not found\n",
     "output_type": "error",
     "traceback": [
      "Error in eval(lhs, parent, parent): object 'long_df_rank' not found\nTraceback:\n",
      "1. long_df_rank %>% select(-Albums_in_Decade) %>% spread(key = Decade, \n .     value = Band)",
      "2. eval(lhs, parent, parent)",
      "3. eval(lhs, parent, parent)"
     ]
    }
   ],
   "source": [
    "long_df_rank %>%\n",
    "  select(-Albums_in_Decade) %>%\n",
    "  spread(key = Decade,\n",
    "         value = Band)"
   ]
  },
  {
   "cell_type": "code",
   "execution_count": 16,
   "metadata": {},
   "outputs": [
    {
     "ename": "ERROR",
     "evalue": "Error in eval(lhs, parent, parent): object 'long_df_rank' not found\n",
     "output_type": "error",
     "traceback": [
      "Error in eval(lhs, parent, parent): object 'long_df_rank' not found\nTraceback:\n",
      "1. long_df_rank %>% select(-Band) %>% spread(key = Decade, value = Albums_in_Decade)",
      "2. eval(lhs, parent, parent)",
      "3. eval(lhs, parent, parent)"
     ]
    }
   ],
   "source": [
    "long_df_rank %>%\n",
    "  select(-Band) %>%\n",
    "  spread(key = Decade,\n",
    "         value = Albums_in_Decade)"
   ]
  },
  {
   "cell_type": "markdown",
   "metadata": {},
   "source": [
    "Notice that in the above two cells, the roles of `Albums_in_Decade` and `Band` switch.  \n",
    "\n",
    "Dealing with two tables (or dataframes) is more complicated: for one thing, we need to remind what *links* exist between the two tables (in this case: one expresses the name band, the other the associated ranking of that band). **Relational** databases have ways of making those links explicit, but simple tabular data (as dataframes) doesn't. Thus, we need to be more strict about how we represent data in dataframes."
   ]
  },
  {
   "cell_type": "markdown",
   "metadata": {},
   "source": [
    "There's another way data can be messy, and it is by being TOO long:"
   ]
  },
  {
   "cell_type": "code",
   "execution_count": 15,
   "metadata": {},
   "outputs": [
    {
     "name": "stderr",
     "output_type": "stream",
     "text": [
      "Warning message:\n",
      "“`data_frame()` is deprecated, use `tibble()`.\n",
      "\u001b[90mThis warning is displayed once per session.\u001b[39m”"
     ]
    },
    {
     "data": {
      "text/html": [
       "<table>\n",
       "<caption>A tibble: 12 × 4</caption>\n",
       "<thead>\n",
       "\t<tr><th scope=col>Style</th><th scope=col>Decade</th><th scope=col>Information</th><th scope=col>Value</th></tr>\n",
       "\t<tr><th scope=col>&lt;chr&gt;</th><th scope=col>&lt;dbl&gt;</th><th scope=col>&lt;chr&gt;</th><th scope=col>&lt;chr&gt;</th></tr>\n",
       "</thead>\n",
       "<tbody>\n",
       "\t<tr><td>punk </td><td>1980</td><td>Band            </td><td>Ramones   </td></tr>\n",
       "\t<tr><td>punk </td><td>1980</td><td>Albums_in_Decade</td><td>7         </td></tr>\n",
       "\t<tr><td>metal</td><td>1980</td><td>Band            </td><td>Metallica </td></tr>\n",
       "\t<tr><td>metal</td><td>1980</td><td>Albums_in_Decade</td><td>4         </td></tr>\n",
       "\t<tr><td>punk </td><td>1990</td><td>Band            </td><td>Pennywise </td></tr>\n",
       "\t<tr><td>punk </td><td>1990</td><td>Albums_in_Decade</td><td>5         </td></tr>\n",
       "\t<tr><td>metal</td><td>1990</td><td>Band            </td><td>Sepultura </td></tr>\n",
       "\t<tr><td>metal</td><td>1990</td><td>Albums_in_Decade</td><td>4         </td></tr>\n",
       "\t<tr><td>punk </td><td>2000</td><td>Band            </td><td>Black Flag</td></tr>\n",
       "\t<tr><td>punk </td><td>2000</td><td>Albums_in_Decade</td><td>1         </td></tr>\n",
       "\t<tr><td>metal</td><td>2000</td><td>Band            </td><td>Gojira    </td></tr>\n",
       "\t<tr><td>metal</td><td>2000</td><td>Albums_in_Decade</td><td>4         </td></tr>\n",
       "</tbody>\n",
       "</table>\n"
      ],
      "text/latex": [
       "A tibble: 12 × 4\n",
       "\\begin{tabular}{r|llll}\n",
       " Style & Decade & Information & Value\\\\\n",
       " <chr> & <dbl> & <chr> & <chr>\\\\\n",
       "\\hline\n",
       "\t punk  & 1980 & Band             & Ramones   \\\\\n",
       "\t punk  & 1980 & Albums\\_in\\_Decade & 7         \\\\\n",
       "\t metal & 1980 & Band             & Metallica \\\\\n",
       "\t metal & 1980 & Albums\\_in\\_Decade & 4         \\\\\n",
       "\t punk  & 1990 & Band             & Pennywise \\\\\n",
       "\t punk  & 1990 & Albums\\_in\\_Decade & 5         \\\\\n",
       "\t metal & 1990 & Band             & Sepultura \\\\\n",
       "\t metal & 1990 & Albums\\_in\\_Decade & 4         \\\\\n",
       "\t punk  & 2000 & Band             & Black Flag\\\\\n",
       "\t punk  & 2000 & Albums\\_in\\_Decade & 1         \\\\\n",
       "\t metal & 2000 & Band             & Gojira    \\\\\n",
       "\t metal & 2000 & Albums\\_in\\_Decade & 4         \\\\\n",
       "\\end{tabular}\n"
      ],
      "text/markdown": [
       "\n",
       "A tibble: 12 × 4\n",
       "\n",
       "| Style &lt;chr&gt; | Decade &lt;dbl&gt; | Information &lt;chr&gt; | Value &lt;chr&gt; |\n",
       "|---|---|---|---|\n",
       "| punk  | 1980 | Band             | Ramones    |\n",
       "| punk  | 1980 | Albums_in_Decade | 7          |\n",
       "| metal | 1980 | Band             | Metallica  |\n",
       "| metal | 1980 | Albums_in_Decade | 4          |\n",
       "| punk  | 1990 | Band             | Pennywise  |\n",
       "| punk  | 1990 | Albums_in_Decade | 5          |\n",
       "| metal | 1990 | Band             | Sepultura  |\n",
       "| metal | 1990 | Albums_in_Decade | 4          |\n",
       "| punk  | 2000 | Band             | Black Flag |\n",
       "| punk  | 2000 | Albums_in_Decade | 1          |\n",
       "| metal | 2000 | Band             | Gojira     |\n",
       "| metal | 2000 | Albums_in_Decade | 4          |\n",
       "\n"
      ],
      "text/plain": [
       "   Style Decade Information      Value     \n",
       "1  punk  1980   Band             Ramones   \n",
       "2  punk  1980   Albums_in_Decade 7         \n",
       "3  metal 1980   Band             Metallica \n",
       "4  metal 1980   Albums_in_Decade 4         \n",
       "5  punk  1990   Band             Pennywise \n",
       "6  punk  1990   Albums_in_Decade 5         \n",
       "7  metal 1990   Band             Sepultura \n",
       "8  metal 1990   Albums_in_Decade 4         \n",
       "9  punk  2000   Band             Black Flag\n",
       "10 punk  2000   Albums_in_Decade 1         \n",
       "11 metal 2000   Band             Gojira    \n",
       "12 metal 2000   Albums_in_Decade 4         "
      ]
     },
     "metadata": {},
     "output_type": "display_data"
    }
   ],
   "source": [
    "messy_df_rank <- data_frame(\n",
    "  Style = rep(c(\"punk\",\"punk\",\"metal\",\"metal\"),3),\n",
    "  Decade = c(rep(1980,4),rep(1990,4),rep(2000,4)),\n",
    "  Information = rep(c(\"Band\",\"Albums_in_Decade\"),6),\n",
    "  Value = c(\"Ramones\",7,\"Metallica\",4,\"Pennywise\",5,\"Sepultura\",4,\"Black Flag\",1,\"Gojira\",4)\n",
    ")\n",
    "messy_df_rank"
   ]
  },
  {
   "cell_type": "markdown",
   "metadata": {},
   "source": [
    "A number of issue are at play in `messy_df_rank`: Most notably, the `typeof()` the `Value` is not uniform. R silently changed the numeric values into characters (and we can't do much math with that!). Moreover, let's consider the next one where we add one \"row\" (actually, two)."
   ]
  },
  {
   "cell_type": "code",
   "execution_count": 21,
   "metadata": {},
   "outputs": [
    {
     "data": {
      "text/html": [
       "<table>\n",
       "<caption>A tibble: 14 × 4</caption>\n",
       "<thead>\n",
       "\t<tr><th scope=col>Style</th><th scope=col>Decade</th><th scope=col>Information</th><th scope=col>Value</th></tr>\n",
       "\t<tr><th scope=col>&lt;chr&gt;</th><th scope=col>&lt;dbl&gt;</th><th scope=col>&lt;chr&gt;</th><th scope=col>&lt;chr&gt;</th></tr>\n",
       "</thead>\n",
       "<tbody>\n",
       "\t<tr><td>punk </td><td>1980</td><td>Band            </td><td>Ramones   </td></tr>\n",
       "\t<tr><td>punk </td><td>1980</td><td>Albums_in_Decade</td><td>7         </td></tr>\n",
       "\t<tr><td>metal</td><td>1980</td><td>Band            </td><td>Metallica </td></tr>\n",
       "\t<tr><td>metal</td><td>1980</td><td>Albums_in_Decade</td><td>4         </td></tr>\n",
       "\t<tr><td>punk </td><td>1990</td><td>Band            </td><td>Pennywise </td></tr>\n",
       "\t<tr><td>punk </td><td>1990</td><td>Albums_in_Decade</td><td>5         </td></tr>\n",
       "\t<tr><td>metal</td><td>1990</td><td>Band            </td><td>Sepultura </td></tr>\n",
       "\t<tr><td>metal</td><td>1990</td><td>Albums_in_Decade</td><td>4         </td></tr>\n",
       "\t<tr><td>punk </td><td>2000</td><td>Band            </td><td>Black Flag</td></tr>\n",
       "\t<tr><td>punk </td><td>2000</td><td>Albums_in_Decade</td><td>1         </td></tr>\n",
       "\t<tr><td>metal</td><td>2000</td><td>Band            </td><td>Gojira    </td></tr>\n",
       "\t<tr><td>metal</td><td>2000</td><td>Albums_in_Decade</td><td>4         </td></tr>\n",
       "\t<tr><td>metal</td><td>1980</td><td>Band            </td><td>Megadeth  </td></tr>\n",
       "\t<tr><td>metal</td><td>1980</td><td>Albums_in_Decade</td><td>3         </td></tr>\n",
       "</tbody>\n",
       "</table>\n"
      ],
      "text/latex": [
       "A tibble: 14 × 4\n",
       "\\begin{tabular}{r|llll}\n",
       " Style & Decade & Information & Value\\\\\n",
       " <chr> & <dbl> & <chr> & <chr>\\\\\n",
       "\\hline\n",
       "\t punk  & 1980 & Band             & Ramones   \\\\\n",
       "\t punk  & 1980 & Albums\\_in\\_Decade & 7         \\\\\n",
       "\t metal & 1980 & Band             & Metallica \\\\\n",
       "\t metal & 1980 & Albums\\_in\\_Decade & 4         \\\\\n",
       "\t punk  & 1990 & Band             & Pennywise \\\\\n",
       "\t punk  & 1990 & Albums\\_in\\_Decade & 5         \\\\\n",
       "\t metal & 1990 & Band             & Sepultura \\\\\n",
       "\t metal & 1990 & Albums\\_in\\_Decade & 4         \\\\\n",
       "\t punk  & 2000 & Band             & Black Flag\\\\\n",
       "\t punk  & 2000 & Albums\\_in\\_Decade & 1         \\\\\n",
       "\t metal & 2000 & Band             & Gojira    \\\\\n",
       "\t metal & 2000 & Albums\\_in\\_Decade & 4         \\\\\n",
       "\t metal & 1980 & Band             & Megadeth  \\\\\n",
       "\t metal & 1980 & Albums\\_in\\_Decade & 3         \\\\\n",
       "\\end{tabular}\n"
      ],
      "text/markdown": [
       "\n",
       "A tibble: 14 × 4\n",
       "\n",
       "| Style &lt;chr&gt; | Decade &lt;dbl&gt; | Information &lt;chr&gt; | Value &lt;chr&gt; |\n",
       "|---|---|---|---|\n",
       "| punk  | 1980 | Band             | Ramones    |\n",
       "| punk  | 1980 | Albums_in_Decade | 7          |\n",
       "| metal | 1980 | Band             | Metallica  |\n",
       "| metal | 1980 | Albums_in_Decade | 4          |\n",
       "| punk  | 1990 | Band             | Pennywise  |\n",
       "| punk  | 1990 | Albums_in_Decade | 5          |\n",
       "| metal | 1990 | Band             | Sepultura  |\n",
       "| metal | 1990 | Albums_in_Decade | 4          |\n",
       "| punk  | 2000 | Band             | Black Flag |\n",
       "| punk  | 2000 | Albums_in_Decade | 1          |\n",
       "| metal | 2000 | Band             | Gojira     |\n",
       "| metal | 2000 | Albums_in_Decade | 4          |\n",
       "| metal | 1980 | Band             | Megadeth   |\n",
       "| metal | 1980 | Albums_in_Decade | 3          |\n",
       "\n"
      ],
      "text/plain": [
       "   Style Decade Information      Value     \n",
       "1  punk  1980   Band             Ramones   \n",
       "2  punk  1980   Albums_in_Decade 7         \n",
       "3  metal 1980   Band             Metallica \n",
       "4  metal 1980   Albums_in_Decade 4         \n",
       "5  punk  1990   Band             Pennywise \n",
       "6  punk  1990   Albums_in_Decade 5         \n",
       "7  metal 1990   Band             Sepultura \n",
       "8  metal 1990   Albums_in_Decade 4         \n",
       "9  punk  2000   Band             Black Flag\n",
       "10 punk  2000   Albums_in_Decade 1         \n",
       "11 metal 2000   Band             Gojira    \n",
       "12 metal 2000   Albums_in_Decade 4         \n",
       "13 metal 1980   Band             Megadeth  \n",
       "14 metal 1980   Albums_in_Decade 3         "
      ]
     },
     "metadata": {},
     "output_type": "display_data"
    }
   ],
   "source": [
    "messy_df_rank_2 <- messy_df_rank %>%\n",
    " add_row(\n",
    "   Style = \"metal\", Decade = 1980, Information = \"Band\", Value = \"Megadeth\"\n",
    " ) %>%\n",
    " add_row(\n",
    "   Style = \"metal\", Decade = 1980, Information = \"Albums_in_Decade\", Value = 3\n",
    " )\n",
    "\n",
    "messy_df_rank_2"
   ]
  },
  {
   "cell_type": "markdown",
   "metadata": {},
   "source": [
    "In `long_df_rank` and `long_df_rank_2`, we could always associate a band with its ranking even if the rows where shuffled around or arranged in any other way:"
   ]
  },
  {
   "cell_type": "code",
   "execution_count": null,
   "metadata": {},
   "outputs": [],
   "source": [
    "long_df_rank_2 %>%\n",
    "  sample_frac(1)"
   ]
  },
  {
   "cell_type": "markdown",
   "metadata": {},
   "source": [
    "With a little bit more work, we could do that also for `messy_df_rank`. That is because there was only ONE band for each decade and style."
   ]
  },
  {
   "cell_type": "code",
   "execution_count": null,
   "metadata": {},
   "outputs": [],
   "source": [
    "messy_df_rank %>%\n",
    "  sample_frac(1)"
   ]
  },
  {
   "cell_type": "markdown",
   "metadata": {},
   "source": [
    "Yet, this is not possible anymore for `messy_df_rank_2`:"
   ]
  },
  {
   "cell_type": "code",
   "execution_count": null,
   "metadata": {},
   "outputs": [],
   "source": [
    "messy_df_rank_2 %>%\n",
    "  sample_frac(1)"
   ]
  },
  {
   "cell_type": "markdown",
   "metadata": {},
   "source": [
    "We now have two different MyRanking values (a 7 and a 8), both referring to a 1980 metal observation. Who got the 7 and who the 8?"
   ]
  },
  {
   "cell_type": "markdown",
   "metadata": {},
   "source": [
    "## Wrangling: Your Turn\n",
    "\n",
    "Consider the following dataframe in long format from `singer`"
   ]
  },
  {
   "cell_type": "code",
   "execution_count": 22,
   "metadata": {},
   "outputs": [
    {
     "data": {
      "text/html": [
       "<table>\n",
       "<caption>A tibble: 22 × 3</caption>\n",
       "<thead>\n",
       "\t<tr><th scope=col>title</th><th scope=col>artist_name</th><th scope=col>year</th></tr>\n",
       "\t<tr><th scope=col>&lt;chr&gt;</th><th scope=col>&lt;chr&gt;</th><th scope=col>&lt;int&gt;</th></tr>\n",
       "</thead>\n",
       "<tbody>\n",
       "\t<tr><td>Corduroy                                      </td><td>Pearl Jam      </td><td>1994</td></tr>\n",
       "\t<tr><td>Grievance                                     </td><td>Pearl Jam      </td><td>2000</td></tr>\n",
       "\t<tr><td>Stupidmop                                     </td><td>Pearl Jam      </td><td>1994</td></tr>\n",
       "\t<tr><td>Present Tense                                 </td><td>Pearl Jam      </td><td>1996</td></tr>\n",
       "\t<tr><td>MFC                                           </td><td>Pearl Jam      </td><td>1998</td></tr>\n",
       "\t<tr><td>Lukin                                         </td><td>Pearl Jam      </td><td>1996</td></tr>\n",
       "\t<tr><td>It's Lulu                                     </td><td>The Boo Radleys</td><td>1995</td></tr>\n",
       "\t<tr><td>Sparrow                                       </td><td>The Boo Radleys</td><td>1992</td></tr>\n",
       "\t<tr><td>Martin_ Doom! It's Seven O'Clock              </td><td>The Boo Radleys</td><td>1995</td></tr>\n",
       "\t<tr><td>Leaves And Sand                               </td><td>The Boo Radleys</td><td>1993</td></tr>\n",
       "\t<tr><td>High as Monkeys                               </td><td>The Boo Radleys</td><td>1998</td></tr>\n",
       "\t<tr><td>Comb Your Hair                                </td><td>The Boo Radleys</td><td>1998</td></tr>\n",
       "\t<tr><td>Butterfly McQueen                             </td><td>The Boo Radleys</td><td>1993</td></tr>\n",
       "\t<tr><td>Mine Again                                    </td><td>Mariah Carey   </td><td>2005</td></tr>\n",
       "\t<tr><td>Don't Forget About Us                         </td><td>Mariah Carey   </td><td>2005</td></tr>\n",
       "\t<tr><td>Babydoll                                      </td><td>Mariah Carey   </td><td>1997</td></tr>\n",
       "\t<tr><td>Don't Forget About Us                         </td><td>Mariah Carey   </td><td>2005</td></tr>\n",
       "\t<tr><td>Vision Of Love                                </td><td>Mariah Carey   </td><td>1990</td></tr>\n",
       "\t<tr><td>My One and Only Love                          </td><td>Carly Simon    </td><td>2005</td></tr>\n",
       "\t<tr><td>It Was So Easy  (LP Version)                  </td><td>Carly Simon    </td><td>1972</td></tr>\n",
       "\t<tr><td>I've Got A Crush On You                       </td><td>Carly Simon    </td><td>1994</td></tr>\n",
       "\t<tr><td>Manha De Carnaval (Theme from \"Black Orpheus\")</td><td>Carly Simon    </td><td>2007</td></tr>\n",
       "</tbody>\n",
       "</table>\n"
      ],
      "text/latex": [
       "A tibble: 22 × 3\n",
       "\\begin{tabular}{r|lll}\n",
       " title & artist\\_name & year\\\\\n",
       " <chr> & <chr> & <int>\\\\\n",
       "\\hline\n",
       "\t Corduroy                                       & Pearl Jam       & 1994\\\\\n",
       "\t Grievance                                      & Pearl Jam       & 2000\\\\\n",
       "\t Stupidmop                                      & Pearl Jam       & 1994\\\\\n",
       "\t Present Tense                                  & Pearl Jam       & 1996\\\\\n",
       "\t MFC                                            & Pearl Jam       & 1998\\\\\n",
       "\t Lukin                                          & Pearl Jam       & 1996\\\\\n",
       "\t It's Lulu                                      & The Boo Radleys & 1995\\\\\n",
       "\t Sparrow                                        & The Boo Radleys & 1992\\\\\n",
       "\t Martin\\_ Doom! It's Seven O'Clock               & The Boo Radleys & 1995\\\\\n",
       "\t Leaves And Sand                                & The Boo Radleys & 1993\\\\\n",
       "\t High as Monkeys                                & The Boo Radleys & 1998\\\\\n",
       "\t Comb Your Hair                                 & The Boo Radleys & 1998\\\\\n",
       "\t Butterfly McQueen                              & The Boo Radleys & 1993\\\\\n",
       "\t Mine Again                                     & Mariah Carey    & 2005\\\\\n",
       "\t Don't Forget About Us                          & Mariah Carey    & 2005\\\\\n",
       "\t Babydoll                                       & Mariah Carey    & 1997\\\\\n",
       "\t Don't Forget About Us                          & Mariah Carey    & 2005\\\\\n",
       "\t Vision Of Love                                 & Mariah Carey    & 1990\\\\\n",
       "\t My One and Only Love                           & Carly Simon     & 2005\\\\\n",
       "\t It Was So Easy  (LP Version)                   & Carly Simon     & 1972\\\\\n",
       "\t I've Got A Crush On You                        & Carly Simon     & 1994\\\\\n",
       "\t Manha De Carnaval (Theme from \"Black Orpheus\") & Carly Simon     & 2007\\\\\n",
       "\\end{tabular}\n"
      ],
      "text/markdown": [
       "\n",
       "A tibble: 22 × 3\n",
       "\n",
       "| title &lt;chr&gt; | artist_name &lt;chr&gt; | year &lt;int&gt; |\n",
       "|---|---|---|\n",
       "| Corduroy                                       | Pearl Jam       | 1994 |\n",
       "| Grievance                                      | Pearl Jam       | 2000 |\n",
       "| Stupidmop                                      | Pearl Jam       | 1994 |\n",
       "| Present Tense                                  | Pearl Jam       | 1996 |\n",
       "| MFC                                            | Pearl Jam       | 1998 |\n",
       "| Lukin                                          | Pearl Jam       | 1996 |\n",
       "| It's Lulu                                      | The Boo Radleys | 1995 |\n",
       "| Sparrow                                        | The Boo Radleys | 1992 |\n",
       "| Martin_ Doom! It's Seven O'Clock               | The Boo Radleys | 1995 |\n",
       "| Leaves And Sand                                | The Boo Radleys | 1993 |\n",
       "| High as Monkeys                                | The Boo Radleys | 1998 |\n",
       "| Comb Your Hair                                 | The Boo Radleys | 1998 |\n",
       "| Butterfly McQueen                              | The Boo Radleys | 1993 |\n",
       "| Mine Again                                     | Mariah Carey    | 2005 |\n",
       "| Don't Forget About Us                          | Mariah Carey    | 2005 |\n",
       "| Babydoll                                       | Mariah Carey    | 1997 |\n",
       "| Don't Forget About Us                          | Mariah Carey    | 2005 |\n",
       "| Vision Of Love                                 | Mariah Carey    | 1990 |\n",
       "| My One and Only Love                           | Carly Simon     | 2005 |\n",
       "| It Was So Easy  (LP Version)                   | Carly Simon     | 1972 |\n",
       "| I've Got A Crush On You                        | Carly Simon     | 1994 |\n",
       "| Manha De Carnaval (Theme from \"Black Orpheus\") | Carly Simon     | 2007 |\n",
       "\n"
      ],
      "text/plain": [
       "   title                                          artist_name     year\n",
       "1  Corduroy                                       Pearl Jam       1994\n",
       "2  Grievance                                      Pearl Jam       2000\n",
       "3  Stupidmop                                      Pearl Jam       1994\n",
       "4  Present Tense                                  Pearl Jam       1996\n",
       "5  MFC                                            Pearl Jam       1998\n",
       "6  Lukin                                          Pearl Jam       1996\n",
       "7  It's Lulu                                      The Boo Radleys 1995\n",
       "8  Sparrow                                        The Boo Radleys 1992\n",
       "9  Martin_ Doom! It's Seven O'Clock               The Boo Radleys 1995\n",
       "10 Leaves And Sand                                The Boo Radleys 1993\n",
       "11 High as Monkeys                                The Boo Radleys 1998\n",
       "12 Comb Your Hair                                 The Boo Radleys 1998\n",
       "13 Butterfly McQueen                              The Boo Radleys 1993\n",
       "14 Mine Again                                     Mariah Carey    2005\n",
       "15 Don't Forget About Us                          Mariah Carey    2005\n",
       "16 Babydoll                                       Mariah Carey    1997\n",
       "17 Don't Forget About Us                          Mariah Carey    2005\n",
       "18 Vision Of Love                                 Mariah Carey    1990\n",
       "19 My One and Only Love                           Carly Simon     2005\n",
       "20 It Was So Easy  (LP Version)                   Carly Simon     1972\n",
       "21 I've Got A Crush On You                        Carly Simon     1994\n",
       "22 Manha De Carnaval (Theme from \"Black Orpheus\") Carly Simon     2007"
      ]
     },
     "metadata": {},
     "output_type": "display_data"
    }
   ],
   "source": [
    "songs"
   ]
  },
  {
   "cell_type": "markdown",
   "metadata": {},
   "source": [
    "Conver `songs` in a wide format and then back."
   ]
  },
  {
   "cell_type": "markdown",
   "metadata": {},
   "source": [
    "## Tidy data"
   ]
  },
  {
   "cell_type": "markdown",
   "metadata": {},
   "source": [
    "The concept of Tidy Data tries to implements some constraints to prevent common errors.\n",
    "\n",
    "> Tidy data is a standard way of mapping the meaning of a dataset to its structure. A dataset is messy or tidy depending on how rows, columns and tables are matched up with observations, variables and types. In tidy data:\n",
    ">\n",
    ">  -  Each variable forms [one, and only one] column.\n",
    ">  -  Each observation forms a row.\n",
    ">  -  Each type of observation (observational unit) forms a dataframe (table).\n",
    "\n",
    "(from https://tidyr.tidyverse.org/articles/tidy-data.html#tidy-data <- Go and read that chapter!)"
   ]
  },
  {
   "cell_type": "markdown",
   "metadata": {},
   "source": [
    "Thus, the first thing we need to decide in our example is: what is the observational unit.  \n",
    "There's not only one possible answer, but we can provide at least one."
   ]
  },
  {
   "cell_type": "code",
   "execution_count": null,
   "metadata": {},
   "outputs": [],
   "source": [
    "wide_df"
   ]
  },
  {
   "cell_type": "markdown",
   "metadata": {},
   "source": [
    "Every decade we observe, for two different styles, what was my favourite band and what was the my band ranking.  \n",
    "\n",
    "Thus, we can identify the decade as the observational unit.\n",
    "\n",
    "In that case, in the `wide_df` each of the two rows correspond to three different observations. And that's not tidy."
   ]
  },
  {
   "cell_type": "code",
   "execution_count": null,
   "metadata": {},
   "outputs": [],
   "source": [
    "long_df"
   ]
  },
  {
   "cell_type": "markdown",
   "metadata": {},
   "source": [
    "The `long_df` is better. Yet, my taste is to have the variable identifying the main observational unit on the leftmost position."
   ]
  },
  {
   "cell_type": "code",
   "execution_count": null,
   "metadata": {},
   "outputs": [],
   "source": [
    "long_df <- long_df %>%\n",
    "  select(Decade, Style, Band)\n",
    "long_df"
   ]
  },
  {
   "cell_type": "markdown",
   "metadata": {},
   "source": [
    "Notice that `long_df_rank` is still tidy: each row correspond to an observation, each column form on (and only one) column, and we have only one observational unit."
   ]
  },
  {
   "cell_type": "code",
   "execution_count": null,
   "metadata": {},
   "outputs": [],
   "source": [
    "long_df_rank"
   ]
  },
  {
   "cell_type": "markdown",
   "metadata": {},
   "source": [
    "## Reflection\n",
    "\n",
    "Consider the `singer_locations` dataframe. What is the observational unit in that case?"
   ]
  },
  {
   "cell_type": "code",
   "execution_count": null,
   "metadata": {},
   "outputs": [],
   "source": [
    "library(singer)\n",
    "library(skimr)\n",
    "singer_locations %>%\n",
    "  skim() %>% kable()"
   ]
  },
  {
   "cell_type": "markdown",
   "metadata": {},
   "source": [
    "## Avoiding trouble"
   ]
  },
  {
   "cell_type": "markdown",
   "metadata": {},
   "source": [
    "The five most common things that make data messy are:\n",
    "\n",
    "\n",
    "\n",
    " 1.   Column headers are values, not variable names.\n",
    "\n",
    " 2.   Multiple variables are stored in one column.\n",
    "\n",
    " 3.   Variables are stored in both rows and columns.\n",
    "\n",
    " 4.   Multiple types of observational units are stored in the same table.\n",
    "\n",
    " 5.   A single observational unit is stored in multiple tables.\n",
    "\n",
    "(from https://tidyr.tidyverse.org/articles/tidy-data.html#sec:tidying)"
   ]
  },
  {
   "cell_type": "markdown",
   "metadata": {},
   "source": [
    "We saw an violation of `1` in `wide_df`: the years (1980, 1990, 2000) are values, not variable names. We solved it making the dataframe longer.\n",
    "\n",
    "We saw a violation of `1` in `messy_df_rank` and `messy_df_rank_2`: two different variables were stored in the same column. `long_df_rank` and `long_df_rank_2` contain the same information of their messy counterpart but avoid this mistake."
   ]
  },
  {
   "cell_type": "markdown",
   "metadata": {},
   "source": [
    "### Challenge reflection\n",
    "\n",
    "Is singer locations tidy or not? If not, what can you do to make it tidyer?"
   ]
  },
  {
   "cell_type": "markdown",
   "metadata": {},
   "source": [
    "# Join together!"
   ]
  },
  {
   "cell_type": "markdown",
   "metadata": {},
   "source": [
    "As we have seen, a tidy dataframe can not contain all the information we need about our problem.  \n",
    "\n",
    "No worries! We can join two or more dataframes together!\n",
    "\n",
    "In the lab we'll only see a little bit of this, in the next lecture Thomas will go in details."
   ]
  },
  {
   "cell_type": "markdown",
   "metadata": {},
   "source": [
    "Let's go back to one of the tiny examples we saw in lecture 2. The one with John playing the Guitar."
   ]
  },
  {
   "cell_type": "code",
   "execution_count": null,
   "metadata": {},
   "outputs": [],
   "source": [
    "\"instruments\"\n",
    "band_instruments\n",
    "\"members\"\n",
    "band_members"
   ]
  },
  {
   "cell_type": "markdown",
   "metadata": {},
   "source": [
    "We want to know who plays the bass in the Beatles.  \n",
    "We can do it in two different ways:  \n",
    "\n",
    "1) we first look at `band_members`, find who plays in the Beatles, remember those names; then, with those names in mind we look at the `band_instruments` and see what those musicians play.  \n",
    "2) we first look at `band_instruments`, find who plays the bass, remember those names; then, with those names in mind we look at the `band_members` and see in which band those musicians play.\n",
    "\n",
    "In this particular case the second one is easier (why?). But, the important thing is that one column allows us to bridge one table with the other."
   ]
  },
  {
   "cell_type": "markdown",
   "metadata": {},
   "source": [
    "There are many ways of doing this in R. Now we see one based on `join`ing (_glueing_) the tables together.  \n",
    "Observe what `left_join` does:"
   ]
  },
  {
   "cell_type": "code",
   "execution_count": null,
   "metadata": {},
   "outputs": [],
   "source": [
    "band_members %>%\n",
    " left_join(band_instruments, by = \"name\")"
   ]
  },
  {
   "cell_type": "markdown",
   "metadata": {},
   "source": [
    "This is not exactly what we did in 1), but almost. For any of the name in `band_members` we went to the instruments table and look up what they play. One of the band members name is not in the instruments table, so we indicate with `NA` that we don't have that information. Compare it with `right_join()`, where we first look at the band_instruments table (the dataframe which is written on the right of the join function) and then go back to the members table."
   ]
  },
  {
   "cell_type": "code",
   "execution_count": null,
   "metadata": {},
   "outputs": [],
   "source": [
    "band_members %>%\n",
    " full_join(band_instruments, by = \"name\")"
   ]
  },
  {
   "cell_type": "markdown",
   "metadata": {},
   "source": [
    "## Reflection\n",
    "\n",
    "Can you replicate the functioning of `right_join()` with a `left_join()` changing something else?\n",
    "\n",
    "> your answer here."
   ]
  },
  {
   "cell_type": "markdown",
   "metadata": {},
   "source": [
    "There are many other \"versions\" of `_join()`: you can find theme here: https://dplyr.tidyverse.org/reference/join.html\n",
    "\n",
    "Take a look and try them on band_members and instruments."
   ]
  },
  {
   "cell_type": "markdown",
   "metadata": {},
   "source": [
    "## Challenge 2: your turn!"
   ]
  },
  {
   "cell_type": "markdown",
   "metadata": {},
   "source": [
    "Consider the two following dataframes from `singer`."
   ]
  },
  {
   "cell_type": "code",
   "execution_count": null,
   "metadata": {},
   "outputs": [],
   "source": [
    "locations %>%\n",
    "  glimpse()\n",
    "songs %>%\n",
    "  glimpse()"
   ]
  },
  {
   "cell_type": "markdown",
   "metadata": {},
   "source": [
    "They have some variable in common (which ones?) and some not in common (which ones?). Use `anti_join()` to find which songs are not present in the `locations` dataframe."
   ]
  },
  {
   "cell_type": "code",
   "execution_count": null,
   "metadata": {},
   "outputs": [],
   "source": [
    "# your code here"
   ]
  },
  {
   "cell_type": "markdown",
   "metadata": {},
   "source": [
    "Now use one of the join operator and a `top_n()` to find the release with the oldest song."
   ]
  },
  {
   "cell_type": "code",
   "execution_count": null,
   "metadata": {},
   "outputs": [],
   "source": [
    "# your code here"
   ]
  },
  {
   "cell_type": "markdown",
   "metadata": {},
   "source": [
    "#### WARNING\n",
    "\n",
    "If you keep scrolling, you'll find solutions (one example of solutions) for challenges 1 and 2. Try FIRST to solve them by your own, and only after scroll down!\n",
    "\n",
    "- .\n",
    "- .\n",
    "- .\n",
    "- .\n",
    "- .\n",
    "- .\n",
    "- .\n",
    "- .\n",
    "- .\n",
    "- .\n",
    "- .\n",
    "- .\n",
    "- .\n",
    "- .\n",
    "- .\n",
    "- .\n",
    "- .\n",
    "- .\n",
    "- .\n",
    "- .\n",
    "- .\n",
    "- .\n",
    "- .\n",
    "- .\n",
    "- .\n",
    "- .\n",
    "- .\n",
    "- .\n",
    "- .\n",
    "- .\n",
    "- .\n",
    "- .\n",
    "- .\n",
    "- .\n",
    "- .\n",
    "- .\n",
    "- .\n",
    "- .\n",
    "- .\n",
    "- .\n",
    "- .\n",
    "- .\n",
    "- .\n",
    "- .\n",
    "- .\n",
    "- .\n",
    "- .\n",
    "- .\n",
    "- .\n",
    "- .\n",
    "- .\n",
    "- .\n",
    "- .\n",
    "- .\n",
    "- .\n",
    "- .\n",
    "- .\n",
    "- .\n",
    "- .\n",
    "- .\n",
    "- .\n",
    "- .\n",
    "- .\n",
    "- .\n",
    "- .\n",
    "- .\n",
    "- .\n",
    "- .\n",
    "- .\n",
    "- .\n",
    "- .\n",
    "- .\n",
    "- .\n",
    "- .\n",
    "- .\n",
    "- .\n",
    "- .\n",
    "- .\n",
    "- .\n",
    "- .\n",
    "- .\n",
    "- .\n",
    "- .\n",
    "- .\n",
    "- .\n",
    "- .\n",
    "- .\n",
    "- .\n",
    "- .\n",
    "- .\n",
    "- .\n",
    "- .\n",
    "- .\n",
    "- .\n",
    "- .\n",
    "- .\n",
    "- .\n",
    "- .\n",
    "- .\n",
    "- .\n",
    "- .\n",
    "- .\n",
    "- .\n",
    "- .\n",
    "- .\n",
    "- .\n",
    "- .\n",
    "- .\n",
    "- .\n",
    "- .\n",
    "- .\n",
    "- .\n",
    "- .\n",
    "- .\n",
    "- .\n",
    "- .\n",
    "- .\n",
    "- .\n",
    "- .\n",
    "- .\n",
    "- .\n",
    "- .\n",
    "- .\n",
    "- .\n",
    "- .\n",
    "- .\n",
    "- .\n",
    "- .\n",
    "- .\n",
    "- .\n",
    "- .\n",
    "- .\n",
    "- .\n",
    "- .\n",
    "- .\n",
    "- .\n",
    "- .\n",
    "- .\n",
    "- .\n",
    "- .\n",
    "- .\n",
    "- .\n",
    "- .\n",
    "- ."
   ]
  },
  {
   "cell_type": "markdown",
   "metadata": {},
   "source": [
    "## Solution to Challenge 1"
   ]
  },
  {
   "cell_type": "code",
   "execution_count": null,
   "metadata": {},
   "outputs": [],
   "source": [
    "singer_locations %>% \n",
    "  mutate(lat = latitude %>% round(digits = 0), # round latitude\n",
    "         long = longitude %>% round(digits = 0)) %>% # round longitude\n",
    "  group_by(lat,long) %>% # group by lat and long\n",
    "  filter(!is.na(lat), !is.na(long)) %>% # filter out cities with no information about lat and long\n",
    "  tally() %>% # tally up\n",
    "  arrange(desc(n)) # arrange"
   ]
  },
  {
   "cell_type": "markdown",
   "metadata": {},
   "source": [
    "## Solution to Challenge 2"
   ]
  },
  {
   "cell_type": "code",
   "execution_count": null,
   "metadata": {},
   "outputs": [],
   "source": [
    "songs %>%\n",
    "  anti_join(locations, # with anti_join we preserve only those rows wich values ARE NOT present in both datasets\n",
    "            by = c(\"title\",\"artist_name\")) # we use 2 variables (title and artist_name) to ensure to capture unique combinations"
   ]
  },
  {
   "cell_type": "code",
   "execution_count": null,
   "metadata": {},
   "outputs": [],
   "source": [
    "locations %>%\n",
    "  inner_join(songs, # with inner_join we preserve only those rows wich values ARE present in both datasets\n",
    "             by=c(\"title\",\"artist_name\")) %>% # we use 2 variables (title and artist_name) to ensure to capture unique combinations\n",
    "  top_n(1,desc(year)) # we need to specify \"desc()\" to be sure not to get the most recent release"
   ]
  },
  {
   "cell_type": "code",
   "execution_count": null,
   "metadata": {},
   "outputs": [],
   "source": []
  }
 ],
 "metadata": {
  "kernelspec": {
   "display_name": "R",
   "language": "R",
   "name": "ir"
  },
  "language_info": {
   "codemirror_mode": "r",
   "file_extension": ".r",
   "mimetype": "text/x-r-source",
   "name": "R",
   "pygments_lexer": "r",
   "version": "3.4.4"
  }
 },
 "nbformat": 4,
 "nbformat_minor": 4
}
